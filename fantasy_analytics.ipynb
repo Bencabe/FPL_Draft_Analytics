{
 "cells": [
  {
   "cell_type": "markdown",
   "metadata": {},
   "source": [
    "## Using API"
   ]
  },
  {
   "cell_type": "code",
   "execution_count": 20,
   "metadata": {},
   "outputs": [],
   "source": [
    "import requests\n",
    "from bs4 import BeautifulSoup\n",
    "session = requests.session()"
   ]
  },
  {
   "cell_type": "code",
   "execution_count": 21,
   "metadata": {},
   "outputs": [],
   "source": [
    "league_info = session.get('https://draft.premierleague.com/api/draft/72933/choices')"
   ]
  },
  {
   "cell_type": "code",
   "execution_count": 22,
   "metadata": {},
   "outputs": [],
   "source": [
    "player_info = session.get('https://draft.premierleague.com/api/bootstrap-static')"
   ]
  },
  {
   "cell_type": "code",
   "execution_count": 23,
   "metadata": {},
   "outputs": [],
   "source": [
    "import json\n",
    "parsed_player_json = json.loads(player_info.text)\n",
    "parsed_league_json = json.loads(league_info.text)"
   ]
  },
  {
   "cell_type": "code",
   "execution_count": 24,
   "metadata": {},
   "outputs": [
    {
     "data": {
      "text/plain": "[{'average_entry_score': None,\n  'deadline_time': '2019-08-09T18:00:00Z',\n  'id': 1,\n  'name': 'Gameweek 1',\n  'finished': True,\n  'highest_scoring_entry': None,\n  'waivers_time': '2019-08-08T18:00:00Z'},\n {'average_entry_score': None,\n  'deadline_time': '2019-08-17T10:30:00Z',\n  'id': 2,\n  'name': 'Gameweek 2',\n  'finished': True,\n  'highest_scoring_entry': None,\n  'waivers_time': '2019-08-16T10:30:00Z'},\n {'average_entry_score': None,\n  'deadline_time': '2019-08-23T18:00:00Z',\n  'id': 3,\n  'name': 'Gameweek 3',\n  'finished': True,\n  'highest_scoring_entry': None,\n  'waivers_time': '2019-08-22T18:00:00Z'},\n {'average_entry_score': None,\n  'deadline_time': '2019-08-31T10:30:00Z',\n  'id': 4,\n  'name': 'Gameweek 4',\n  'finished': True,\n  'highest_scoring_entry': None,\n  'waivers_time': '2019-08-30T10:30:00Z'},\n {'average_entry_score': None,\n  'deadline_time': '2019-09-14T10:30:00Z',\n  'id': 5,\n  'name': 'Gameweek 5',\n  'finished': True,\n  'highest_scoring_entry': None,\n  'waivers_time': '2019-09-13T10:30:00Z'},\n {'average_entry_score': None,\n  'deadline_time': '2019-09-20T18:00:00Z',\n  'id': 6,\n  'name': 'Gameweek 6',\n  'finished': True,\n  'highest_scoring_entry': None,\n  'waivers_time': '2019-09-19T18:00:00Z'},\n {'average_entry_score': None,\n  'deadline_time': '2019-09-28T10:30:00Z',\n  'id': 7,\n  'name': 'Gameweek 7',\n  'finished': True,\n  'highest_scoring_entry': None,\n  'waivers_time': '2019-09-27T10:30:00Z'},\n {'average_entry_score': None,\n  'deadline_time': '2019-10-05T10:30:00Z',\n  'id': 8,\n  'name': 'Gameweek 8',\n  'finished': True,\n  'highest_scoring_entry': None,\n  'waivers_time': '2019-10-04T10:30:00Z'},\n {'average_entry_score': None,\n  'deadline_time': '2019-10-19T10:30:00Z',\n  'id': 9,\n  'name': 'Gameweek 9',\n  'finished': True,\n  'highest_scoring_entry': None,\n  'waivers_time': '2019-10-18T10:30:00Z'},\n {'average_entry_score': None,\n  'deadline_time': '2019-10-25T18:00:00Z',\n  'id': 10,\n  'name': 'Gameweek 10',\n  'finished': True,\n  'highest_scoring_entry': None,\n  'waivers_time': '2019-10-24T18:00:00Z'},\n {'average_entry_score': None,\n  'deadline_time': '2019-11-02T11:30:00Z',\n  'id': 11,\n  'name': 'Gameweek 11',\n  'finished': True,\n  'highest_scoring_entry': None,\n  'waivers_time': '2019-11-01T11:30:00Z'},\n {'average_entry_score': None,\n  'deadline_time': '2019-11-08T19:00:00Z',\n  'id': 12,\n  'name': 'Gameweek 12',\n  'finished': True,\n  'highest_scoring_entry': None,\n  'waivers_time': '2019-11-07T19:00:00Z'},\n {'average_entry_score': None,\n  'deadline_time': '2019-11-23T11:30:00Z',\n  'id': 13,\n  'name': 'Gameweek 13',\n  'finished': True,\n  'highest_scoring_entry': None,\n  'waivers_time': '2019-11-22T11:30:00Z'},\n {'average_entry_score': None,\n  'deadline_time': '2019-11-30T11:30:00Z',\n  'id': 14,\n  'name': 'Gameweek 14',\n  'finished': True,\n  'highest_scoring_entry': None,\n  'waivers_time': '2019-11-29T11:30:00Z'},\n {'average_entry_score': None,\n  'deadline_time': '2019-12-03T18:30:00Z',\n  'id': 15,\n  'name': 'Gameweek 15',\n  'finished': True,\n  'highest_scoring_entry': None,\n  'waivers_time': '2019-12-02T18:30:00Z'},\n {'average_entry_score': None,\n  'deadline_time': '2019-12-07T11:30:00Z',\n  'id': 16,\n  'name': 'Gameweek 16',\n  'finished': True,\n  'highest_scoring_entry': None,\n  'waivers_time': '2019-12-06T11:30:00Z'},\n {'average_entry_score': None,\n  'deadline_time': '2019-12-14T11:30:00Z',\n  'id': 17,\n  'name': 'Gameweek 17',\n  'finished': True,\n  'highest_scoring_entry': None,\n  'waivers_time': '2019-12-13T11:30:00Z'},\n {'average_entry_score': None,\n  'deadline_time': '2019-12-21T11:30:00Z',\n  'id': 18,\n  'name': 'Gameweek 18',\n  'finished': True,\n  'highest_scoring_entry': None,\n  'waivers_time': '2019-12-20T11:30:00Z'},\n {'average_entry_score': None,\n  'deadline_time': '2019-12-26T11:30:00Z',\n  'id': 19,\n  'name': 'Gameweek 19',\n  'finished': True,\n  'highest_scoring_entry': None,\n  'waivers_time': '2019-12-25T11:30:00Z'},\n {'average_entry_score': None,\n  'deadline_time': '2019-12-28T11:30:00Z',\n  'id': 20,\n  'name': 'Gameweek 20',\n  'finished': True,\n  'highest_scoring_entry': None,\n  'waivers_time': '2019-12-28T00:30:00Z'},\n {'average_entry_score': None,\n  'deadline_time': '2020-01-01T11:30:00Z',\n  'id': 21,\n  'name': 'Gameweek 21',\n  'finished': True,\n  'highest_scoring_entry': None,\n  'waivers_time': '2019-12-31T11:30:00Z'},\n {'average_entry_score': None,\n  'deadline_time': '2020-01-10T19:00:00Z',\n  'id': 22,\n  'name': 'Gameweek 22',\n  'finished': True,\n  'highest_scoring_entry': None,\n  'waivers_time': '2020-01-09T19:00:00Z'},\n {'average_entry_score': None,\n  'deadline_time': '2020-01-18T11:30:00Z',\n  'id': 23,\n  'name': 'Gameweek 23',\n  'finished': True,\n  'highest_scoring_entry': None,\n  'waivers_time': '2020-01-17T11:30:00Z'},\n {'average_entry_score': None,\n  'deadline_time': '2020-01-21T18:30:00Z',\n  'id': 24,\n  'name': 'Gameweek 24',\n  'finished': True,\n  'highest_scoring_entry': None,\n  'waivers_time': '2020-01-20T18:30:00Z'},\n {'average_entry_score': None,\n  'deadline_time': '2020-02-01T11:30:00Z',\n  'id': 25,\n  'name': 'Gameweek 25',\n  'finished': True,\n  'highest_scoring_entry': None,\n  'waivers_time': '2020-01-31T11:30:00Z'},\n {'average_entry_score': None,\n  'deadline_time': '2020-02-08T11:30:00Z',\n  'id': 26,\n  'name': 'Gameweek 26',\n  'finished': False,\n  'highest_scoring_entry': None,\n  'waivers_time': '2020-02-07T11:30:00Z'},\n {'average_entry_score': None,\n  'deadline_time': '2020-02-22T11:30:00Z',\n  'id': 27,\n  'name': 'Gameweek 27',\n  'finished': False,\n  'highest_scoring_entry': None,\n  'waivers_time': '2020-02-21T11:30:00Z'},\n {'average_entry_score': None,\n  'deadline_time': '2020-02-28T19:00:00Z',\n  'id': 28,\n  'name': 'Gameweek 28',\n  'finished': False,\n  'highest_scoring_entry': None,\n  'waivers_time': '2020-02-27T19:00:00Z'},\n {'average_entry_score': None,\n  'deadline_time': '2020-03-07T11:30:00Z',\n  'id': 29,\n  'name': 'Gameweek 29',\n  'finished': False,\n  'highest_scoring_entry': None,\n  'waivers_time': '2020-03-06T11:30:00Z'},\n {'average_entry_score': None,\n  'deadline_time': '2020-03-14T11:30:00Z',\n  'id': 30,\n  'name': 'Gameweek 30',\n  'finished': False,\n  'highest_scoring_entry': None,\n  'waivers_time': '2020-03-13T11:30:00Z'},\n {'average_entry_score': None,\n  'deadline_time': '2020-03-20T19:00:00Z',\n  'id': 31,\n  'name': 'Gameweek 31',\n  'finished': False,\n  'highest_scoring_entry': None,\n  'waivers_time': '2020-03-19T19:00:00Z'},\n {'average_entry_score': None,\n  'deadline_time': '2020-04-04T13:00:00Z',\n  'id': 32,\n  'name': 'Gameweek 32',\n  'finished': False,\n  'highest_scoring_entry': None,\n  'waivers_time': '2020-04-03T13:00:00Z'},\n {'average_entry_score': None,\n  'deadline_time': '2020-04-11T13:00:00Z',\n  'id': 33,\n  'name': 'Gameweek 33',\n  'finished': False,\n  'highest_scoring_entry': None,\n  'waivers_time': '2020-04-10T13:00:00Z'},\n {'average_entry_score': None,\n  'deadline_time': '2020-04-18T13:00:00Z',\n  'id': 34,\n  'name': 'Gameweek 34',\n  'finished': False,\n  'highest_scoring_entry': None,\n  'waivers_time': '2020-04-17T13:00:00Z'},\n {'average_entry_score': None,\n  'deadline_time': '2020-04-25T13:00:00Z',\n  'id': 35,\n  'name': 'Gameweek 35',\n  'finished': False,\n  'highest_scoring_entry': None,\n  'waivers_time': '2020-04-24T13:00:00Z'},\n {'average_entry_score': None,\n  'deadline_time': '2020-05-02T13:00:00Z',\n  'id': 36,\n  'name': 'Gameweek 36',\n  'finished': False,\n  'highest_scoring_entry': None,\n  'waivers_time': '2020-05-01T13:00:00Z'},\n {'average_entry_score': None,\n  'deadline_time': '2020-05-09T13:00:00Z',\n  'id': 37,\n  'name': 'Gameweek 37',\n  'finished': False,\n  'highest_scoring_entry': None,\n  'waivers_time': '2020-05-08T13:00:00Z'},\n {'average_entry_score': None,\n  'deadline_time': '2020-05-17T13:00:00Z',\n  'id': 38,\n  'name': 'Gameweek 38',\n  'finished': False,\n  'highest_scoring_entry': None,\n  'waivers_time': '2020-05-16T13:00:00Z'}]"
     },
     "execution_count": 24,
     "metadata": {},
     "output_type": "execute_result"
    }
   ],
   "source": [
    "parsed_player_json['events']['data']"
   ]
  },
  {
   "cell_type": "code",
   "execution_count": 25,
   "metadata": {},
   "outputs": [
    {
     "data": {
      "text/plain": "None, 'status': 'a'},\n  {'element': 486, 'in_accepted_trade': False, 'owner': None, 'status': 'a'},\n  {'element': 39, 'in_accepted_trade': False, 'owner': None, 'status': 'a'},\n  {'element': 388, 'in_accepted_trade': False, 'owner': None, 'status': 'a'},\n  {'element': 301, 'in_accepted_trade': False, 'owner': None, 'status': 'a'},\n  {'element': 429, 'in_accepted_trade': False, 'owner': None, 'status': 'a'},\n  {'element': 307, 'in_accepted_trade': False, 'owner': None, 'status': 'a'},\n  {'element': 408, 'in_accepted_trade': False, 'owner': None, 'status': 'a'},\n  {'element': 230, 'in_accepted_trade': False, 'owner': None, 'status': 'a'},\n  {'element': 406, 'in_accepted_trade': False, 'owner': None, 'status': 'a'},\n  {'element': 376, 'in_accepted_trade': False, 'owner': None, 'status': 'a'},\n  {'element': 70, 'in_accepted_trade': False, 'owner': None, 'status': 'a'},\n  {'element': 427, 'in_accepted_trade': False, 'owner': None, 'status': 'a'},\n  {'element': 202, 'in_accepted_trade': False, 'owner': None, 'status': 'a'},\n  {'element': 156, 'in_accepted_trade': False, 'owner': None, 'status': 'a'},\n  {'element': 382, 'in_accepted_trade': False, 'owner': None, 'status': 'a'},\n  {'element': 494, 'in_accepted_trade': False, 'owner': None, 'status': 'a'},\n  {'element': 361, 'in_accepted_trade': False, 'owner': None, 'status': 'a'},\n  {'element': 491, 'in_accepted_trade': False, 'owner': None, 'status': 'a'},\n  {'element': 443, 'in_accepted_trade': False, 'owner': None, 'status': 'a'},\n  {'element': 315, 'in_accepted_trade': False, 'owner': None, 'status': 'a'},\n  {'element': 433, 'in_accepted_trade': False, 'owner': None, 'status': 'a'},\n  {'element': 235, 'in_accepted_trade': False, 'owner': None, 'status': 'a'},\n  {'element': 35, 'in_accepted_trade': False, 'owner': None, 'status': 'a'},\n  {'element': 141, 'in_accepted_trade': False, 'owner': None, 'status': 'a'},\n  {'element': 385, 'in_accepted_trade': False, 'owner': None, 'status': 'a'},\n  {'element': 65, 'in_accepted_trade': False, 'owner': None, 'status': 'a'},\n  {'element': 416, 'in_accepted_trade': False, 'owner': None, 'status': 'a'},\n  {'element': 250, 'in_accepted_trade': False, 'owner': None, 'status': 'a'},\n  {'element': 60, 'in_accepted_trade': False, 'owner': None, 'status': 'a'},\n  {'element': 492, 'in_accepted_trade': False, 'owner': None, 'status': 'a'},\n  {'element': 52, 'in_accepted_trade': False, 'owner': None, 'status': 'a'},\n  {'element': 73, 'in_accepted_trade': False, 'owner': None, 'status': 'a'},\n  {'element': 469, 'in_accepted_trade': False, 'owner': None, 'status': 'a'},\n  {'element': 442, 'in_accepted_trade': False, 'owner': None, 'status': 'a'},\n  {'element': 312, 'in_accepted_trade': False, 'owner': None, 'status': 'a'},\n  {'element': 251, 'in_accepted_trade': False, 'owner': None, 'status': 'a'},\n  {'element': 476, 'in_accepted_trade': False, 'owner': None, 'status': 'a'},\n  {'element': 276, 'in_accepted_trade': False, 'owner': None, 'status': 'a'},\n  {'element': 8, 'in_accepted_trade': False, 'owner': None, 'status': 'a'},\n  {'element': 336, 'in_accepted_trade': False, 'owner': None, 'status': 'a'},\n  {'element': 63, 'in_accepted_trade': False, 'owner': None, 'status': 'a'},\n  {'element': 495, 'in_accepted_trade': False, 'owner': None, 'status': 'a'},\n  {'element': 21, 'in_accepted_trade': False, 'owner': None, 'status': 'a'},\n  {'element': 438, 'in_accepted_trade': False, 'owner': None, 'status': 'a'},\n  {'element': 96, 'in_accepted_trade': False, 'owner': None, 'status': 'a'},\n  {'element': 502, 'in_accepted_trade': False, 'owner': None, 'status': 'a'},\n  {'element': 503, 'in_accepted_trade': False, 'owner': None, 'status': 'a'},\n  {'element': 504, 'in_accepted_trade': False, 'owner': None, 'status': 'a'},\n  {'element': 506, 'in_accepted_trade': False, 'owner': None, 'status': 'a'},\n  {'element': 507, 'in_accepted_trade': False, 'owner': None, 'status': 'a'},\n  {'element': 508, 'in_accepted_trade': False, 'owner': None, 'status': 'a'},\n  {'element': 509, 'in_accepted_trade': False, 'owner': None, 'status': 'a'},\n  {'element': 510, 'in_accepted_trade': False, 'owner': None, 'status': 'a'},\n  {'element': 511, 'in_accepted_trade': False, 'owner': None, 'status': 'a'},\n  {'element': 512, 'in_accepted_trade': False, 'owner': None, 'status': 'a'},\n  {'element': 513, 'in_accepted_trade': False, 'owner': None, 'status': 'a'},\n  {'element': 514, 'in_accepted_trade': False, 'owner': None, 'status': 'a'},\n  {'element': 515, 'in_accepted_trade': False, 'owner': None, 'status': 'a'},\n  {'element': 516, 'in_accepted_trade': False, 'owner': None, 'status': 'a'},\n  {'element': 517, 'in_accepted_trade': False, 'owner': None, 'status': 'a'},\n  {'element': 518, 'in_accepted_trade': False, 'owner': None, 'status': 'a'},\n  {'element': 519, 'in_accepted_trade': False, 'owner': None, 'status': 'a'},\n  {'element': 520, 'in_accepted_trade': False, 'owner': None, 'status': 'a'},\n  {'element': 521, 'in_accepted_trade': False, 'owner': None, 'status': 'a'},\n  {'element': 522, 'in_accepted_trade': False, 'owner': None, 'status': 'a'},\n  {'element': 523, 'in_accepted_trade': False, 'owner': None, 'status': 'a'},\n  {'element': 525, 'in_accepted_trade': False, 'owner': None, 'status': 'a'},\n  {'element': 526, 'in_accepted_trade': False, 'owner': None, 'status': 'a'},\n  {'element': 527, 'in_accepted_trade': False, 'owner': None, 'status': 'a'},\n  {'element': 528, 'in_accepted_trade': False, 'owner': None, 'status': 'a'},\n  {'element': 529, 'in_accepted_trade': False, 'owner': None, 'status': 'a'},\n  {'element': 530, 'in_accepted_trade': False, 'owner': None, 'status': 'a'},\n  {'element': 531, 'in_accepted_trade': False, 'owner': None, 'status': 'a'},\n  {'element': 532, 'in_accepted_trade': False, 'owner': None, 'status': 'a'},\n  {'element': 533, 'in_accepted_trade': False, 'owner': None, 'status': 'a'},\n  {'element': 534, 'in_accepted_trade': False, 'owner': None, 'status': 'a'},\n  {'element': 535, 'in_accepted_trade': False, 'owner': None, 'status': 'a'},\n  {'element': 536, 'in_accepted_trade': False, 'owner': None, 'status': 'a'},\n  {'element': 537, 'in_accepted_trade': False, 'owner': None, 'status': 'a'},\n  {'element': 538, 'in_accepted_trade': False, 'owner': None, 'status': 'a'},\n  {'element': 539, 'in_accepted_trade': False, 'owner': None, 'status': 'a'},\n  {'element': 540, 'in_accepted_trade': False, 'owner': None, 'status': 'a'},\n  {'element': 541, 'in_accepted_trade': False, 'owner': None, 'status': 'a'},\n  {'element': 542, 'in_accepted_trade': False, 'owner': None, 'status': 'a'},\n  {'element': 543, 'in_accepted_trade': False, 'owner': None, 'status': 'a'},\n  {'element': 544, 'in_accepted_trade': False, 'owner': None, 'status': 'a'},\n  {'element': 545, 'in_accepted_trade': False, 'owner': None, 'status': 'a'},\n  {'element': 546, 'in_accepted_trade': False, 'owner': None, 'status': 'a'},\n  {'element': 547, 'in_accepted_trade': False, 'owner': None, 'status': 'a'},\n  {'element': 548, 'in_accepted_trade': False, 'owner': None, 'status': 'a'},\n  {'element': 549, 'in_accepted_trade': False, 'owner': None, 'status': 'a'},\n  {'element': 550, 'in_accepted_trade': False, 'owner': None, 'status': 'a'},\n  {'element': 551, 'in_accepted_trade': False, 'owner': None, 'status': 'a'},\n  {'element': 552, 'in_accepted_trade': False, 'owner': None, 'status': 'a'},\n  {'element': 553, 'in_accepted_trade': False, 'owner': None, 'status': 'a'},\n  {'element': 554, 'in_accepted_trade': False, 'owner': None, 'status': 'a'},\n  {'element': 555, 'in_accepted_trade': False, 'owner': None, 'status': 'a'},\n  {'element': 556, 'in_accepted_trade': False, 'owner': None, 'status': 'a'},\n  {'element': 557, 'in_accepted_trade': False, 'owner': None, 'status': 'a'},\n  {'element': 558, 'in_accepted_trade': False, 'owner': None, 'status': 'a'},\n  {'element': 559, 'in_accepted_trade': False, 'owner': None, 'status': 'a'},\n  {'element': 560, 'in_accepted_trade': False, 'owner': None, 'status': 'a'},\n  {'element': 561, 'in_accepted_trade': False, 'owner': None, 'status': 'a'},\n  {'element': 562, 'in_accepted_trade': False, 'owner': None, 'status': 'a'},\n  {'element': 563, 'in_accepted_trade': False, 'owner': None, 'status': 'a'},\n  {'element': 564, 'in_accepted_trade': False, 'owner': None, 'status': 'a'},\n  {'element': 565, 'in_accepted_trade': False, 'owner': None, 'status': 'a'},\n  {'element': 566, 'in_accepted_trade': False, 'owner': None, 'status': 'a'},\n  {'element': 567, 'in_accepted_trade': False, 'owner': None, 'status': 'a'},\n  {'element': 568, 'in_accepted_trade': False, 'owner': None, 'status': 'a'},\n  {'element': 569, 'in_accepted_trade': False, 'owner': None, 'status': 'a'},\n  {'element': 570, 'in_accepted_trade': False, 'owner': None, 'status': 'a'},\n  {'element': 571, 'in_accepted_trade': False, 'owner': None, 'status': 'a'},\n  {'element': 572, 'in_accepted_trade': False, 'owner': None, 'status': 'a'},\n  {'element': 573, 'in_accepted_trade': False, 'owner': None, 'status': 'a'},\n  {'element': 574, 'in_accepted_trade': False, 'owner': None, 'status': 'a'},\n  {'element': 575, 'in_accepted_trade': False, 'owner': None, 'status': 'a'},\n  {'element': 576, 'in_accepted_trade': False, 'owner': None, 'status': 'a'},\n  {'element': 577, 'in_accepted_trade': False, 'owner': None, 'status': 'a'},\n  {'element': 578, 'in_accepted_trade': False, 'owner': None, 'status': 'a'},\n  {'element': 579, 'in_accepted_trade': False, 'owner': None, 'status': 'a'},\n  {'element': 580, 'in_accepted_trade': False, 'owner': None, 'status': 'a'},\n  {'element': 581, 'in_accepted_trade': False, 'owner': None, 'status': 'a'},\n  {'element': 582, 'in_accepted_trade': False, 'owner': None, 'status': 'a'},\n  {'element': 583, 'in_accepted_trade': False, 'owner': None, 'status': 'a'},\n  {'element': 584, 'in_accepted_trade': False, 'owner': None, 'status': 'a'},\n  {'element': 585, 'in_accepted_trade': False, 'owner': None, 'status': 'a'},\n  {'element': 586, 'in_accepted_trade': False, 'owner': None, 'status': 'a'},\n  {'element': 587, 'in_accepted_trade': False, 'owner': None, 'status': 'a'},\n  {'element': 588, 'in_accepted_trade': False, 'owner': None, 'status': 'a'},\n  {'element': 590, 'in_accepted_trade': False, 'owner': None, 'status': 'a'},\n  {'element': 591, 'in_accepted_trade': False, 'owner': None, 'status': 'a'},\n  {'element': 592, 'in_accepted_trade': False, 'owner': None, 'status': 'a'},\n  {'element': 593, 'in_accepted_trade': False, 'owner': None, 'status': 'a'},\n  {'element': 594, 'in_accepted_trade': False, 'owner': None, 'status': 'a'},\n  {'element': 595, 'in_accepted_trade': False, 'owner': None, 'status': 'a'},\n  {'element': 596, 'in_accepted_trade': False, 'owner': None, 'status': 'a'},\n  {'element': 597, 'in_accepted_trade': False, 'owner': None, 'status': 'a'},\n  {'element': 598, 'in_accepted_trade': False, 'owner': None, 'status': 'a'},\n  {'element': 599, 'in_accepted_trade': False, 'owner': None, 'status': 'a'},\n  {'element': 600, 'in_accepted_trade': False, 'owner': None, 'status': 'a'},\n  {'element': 601, 'in_accepted_trade': False, 'owner': None, 'status': 'a'},\n  {'element': 602, 'in_accepted_trade': False, 'owner': None, 'status': 'a'},\n  {'element': 603, 'in_accepted_trade': False, 'owner': None, 'status': 'a'},\n  {'element': 604, 'in_accepted_trade': False, 'owner': None, 'status': 'a'},\n  {'element': 605, 'in_accepted_trade': False, 'owner': None, 'status': 'a'},\n  {'element': 606, 'in_accepted_trade': False, 'owner': None, 'status': 'a'},\n  {'element': 607, 'in_accepted_trade': False, 'owner': None, 'status': 'a'},\n  {'element': 608, 'in_accepted_trade': False, 'owner': None, 'status': 'a'},\n  {'element': 609, 'in_accepted_trade': False, 'owner': None, 'status': 'a'},\n  {'element': 610, 'in_accepted_trade': False, 'owner': None, 'status': 'a'},\n  {'element': 611, 'in_accepted_trade': False, 'owner': None, 'status': 'a'},\n  {'element': 612, 'in_accepted_trade': False, 'owner': None, 'status': 'a'},\n  {'element': 613, 'in_accepted_trade': False, 'owner': None, 'status': 'a'},\n  {'element': 614, 'in_accepted_trade': False, 'owner': None, 'status': 'a'},\n  {'element': 616, 'in_accepted_trade': False, 'owner': None, 'status': 'a'},\n  {'element': 617, 'in_accepted_trade': False, 'owner': None, 'status': 'a'},\n  {'element': 619, 'in_accepted_trade': False, 'owner': None, 'status': 'a'},\n  {'element': 620, 'in_accepted_trade': False, 'owner': None, 'status': 'a'},\n  {'element': 621, 'in_accepted_trade': False, 'owner': None, 'status': 'a'},\n  {'element': 622, 'in_accepted_trade': False, 'owner': None, 'status': 'a'},\n  {'element': 623, 'in_accepted_trade': False, 'owner': None, 'status': 'a'},\n  {'element': 624, 'in_accepted_trade': False, 'owner': None, 'status': 'a'},\n  {'element': 625, 'in_accepted_trade': False, 'owner': None, 'status': 'a'},\n  {'element': 169, 'in_accepted_trade': False, 'owner': 333932, 'status': 'o'},\n  {'element': 397, 'in_accepted_trade': False, 'owner': 297336, 'status': 'o'},\n  {'element': 220, 'in_accepted_trade': False, 'owner': 333932, 'status': 'o'},\n  {'element': 389, 'in_accepted_trade': False, 'owner': 336116, 'status': 'o'},\n  {'element': 211, 'in_accepted_trade': False, 'owner': 300296, 'status': 'o'},\n  {'element': 163, 'in_accepted_trade': False, 'owner': 297336, 'status': 'o'},\n  {'element': 341, 'in_accepted_trade': False, 'owner': 300296, 'status': 'o'},\n  {'element': 411, 'in_accepted_trade': False, 'owner': 339264, 'status': 'o'},\n  {'element': 104, 'in_accepted_trade': False, 'owner': 300296, 'status': 'o'},\n  {'element': 363, 'in_accepted_trade': False, 'owner': 299717, 'status': 'o'},\n  {'element': 303, 'in_accepted_trade': False, 'owner': 297336, 'status': 'o'},\n  {'element': 112, 'in_accepted_trade': False, 'owner': 297336, 'status': 'o'},\n  {'element': 82, 'in_accepted_trade': False, 'owner': 336116, 'status': 'o'},\n  {'element': 236, 'in_accepted_trade': False, 'owner': 297336, 'status': 'o'},\n  {'element': 11, 'in_accepted_trade': False, 'owner': 297336, 'status': 'o'},\n  {'element': 332, 'in_accepted_trade': False, 'owner': 336116, 'status': 'o'},\n  {'element': 199, 'in_accepted_trade': False, 'owner': 297336, 'status': 'o'},\n  {'element': 280, 'in_accepted_trade': False, 'owner': 297336, 'status': 'o'},\n  {'element': 204, 'in_accepted_trade': False, 'owner': 333932, 'status': 'o'},\n  {'element': 12, 'in_accepted_trade': False, 'owner': 333932, 'status': 'o'},\n  {'element': 90, 'in_accepted_trade': False, 'owner': 299717, 'status': 'o'},\n  {'element': 186, 'in_accepted_trade': False, 'owner': 333932, 'status': 'o'},\n  {'element': 216, 'in_accepted_trade': False, 'owner': 339264, 'status': 'o'},\n  {'element': 293, 'in_accepted_trade': False, 'owner': 299717, 'status': 'o'},\n  {'element': 123, 'in_accepted_trade': False, 'owner': 336116, 'status': 'o'},\n  {'element': 66, 'in_accepted_trade': False, 'owner': 336116, 'status': 'o'},\n  {'element': 130, 'in_accepted_trade': False, 'owner': 333932, 'status': 'o'},\n  {'element': 14, 'in_accepted_trade': False, 'owner': 299717, 'status': 'o'},\n  {'element': 337, 'in_accepted_trade': False, 'owner': 297336, 'status': 'o'},\n  {'element': 134, 'in_accepted_trade': False, 'owner': 300296, 'status': 'o'},\n  {'element': 296, 'in_accepted_trade': False, 'owner': 297336, 'status': 'o'},\n  {'element': 42, 'in_accepted_trade': False, 'owner': 297336, 'status': 'o'},\n  {'element': 314, 'in_accepted_trade': False, 'owner': 297336, 'status': 'o'},\n  {'element': 343, 'in_accepted_trade': False, 'owner': 339264, 'status': 'o'},\n  {'element': 401, 'in_accepted_trade': False, 'owner': 300296, 'status': 'o'},\n  {'element': 405, 'in_accepted_trade': False, 'owner': 299717, 'status': 'o'},\n  {'element': 188, 'in_accepted_trade': False, 'owner': 336116, 'status': 'o'},\n  {'element': 364, 'in_accepted_trade': False, 'owner': 300296, 'status': 'o'},\n  {'element': 346, 'in_accepted_trade': False, 'owner': 297336, 'status': 'o'},\n  {'element': 184, 'in_accepted_trade': False, 'owner': 339264, 'status': 'o'},\n  {'element': 2, 'in_accepted_trade': False, 'owner': 299717, 'status': 'o'},\n  {'element': 92, 'in_accepted_trade': False, 'owner': 297336, 'status': 'o'},\n  {'element': 142, 'in_accepted_trade': False, 'owner': 339264, 'status': 'o'},\n  {'element': 391, 'in_accepted_trade': False, 'owner': 336116, 'status': 'o'},\n  {'element': 167, 'in_accepted_trade': False, 'owner': 333932, 'status': 'o'},\n  {'element': 409, 'in_accepted_trade': False, 'owner': 300296, 'status': 'o'},\n  {'element': 103, 'in_accepted_trade': False, 'owner': 297336, 'status': 'o'},\n  {'element': 205, 'in_accepted_trade': False, 'owner': 300296, 'status': 'o'},\n  {'element': 218, 'in_accepted_trade': False, 'owner': 300296, 'status': 'o'},\n  {'element': 457, 'in_accepted_trade': False, 'owner': 299717, 'status': 'o'},\n  {'element': 215, 'in_accepted_trade': False, 'owner': 336116, 'status': 'o'},\n  {'element': 297, 'in_accepted_trade': False, 'owner': 339264, 'status': 'o'},\n  {'element': 345, 'in_accepted_trade': False, 'owner': 339264, 'status': 'o'},\n  {'element': 106, 'in_accepted_trade': False, 'owner': 336116, 'status': 'o'},\n  {'element': 110, 'in_accepted_trade': False, 'owner': 336116, 'status': 'o'},\n  {'element': 193, 'in_accepted_trade': False, 'owner': 339264, 'status': 'o'},\n  {'element': 149, 'in_accepted_trade': False, 'owner': 333932, 'status': 'o'},\n  {'element': 160, 'in_accepted_trade': False, 'owner': 336116, 'status': 'o'},\n  {'element': 29, 'in_accepted_trade': False, 'owner': 333932, 'status': 'o'},\n  {'element': 190, 'in_accepted_trade': False, 'owner': 299717, 'status': 'o'},\n  {'element': 192, 'in_accepted_trade': False, 'owner': 299717, 'status': 'o'},\n  {'element': 213, 'in_accepted_trade': False, 'owner': 339264, 'status': 'o'},\n  {'element': 182, 'in_accepted_trade': False, 'owner': 299717, 'status': 'o'},\n  {'element': 203, 'in_accepted_trade': False, 'owner': 333932, 'status': 'o'},\n  {'element': 240, 'in_accepted_trade': False, 'owner': 336116, 'status': 'o'},\n  {'element': 299, 'in_accepted_trade': False, 'owner': 333932, 'status': 'o'},\n  {'element': 417, 'in_accepted_trade': False, 'owner': 333932, 'status': 'o'},\n  {'element': 448, 'in_accepted_trade': False, 'owner': 333932, 'status': 'o'},\n  {'element': 267, 'in_accepted_trade': False, 'owner': 333932, 'status': 'o'},\n  {'element': 183, 'in_accepted_trade': False, 'owner': 300296, 'status': 'o'},\n  {'element': 185, 'in_accepted_trade': False, 'owner': 339264, 'status': 'o'},\n  {'element': 470, 'in_accepted_trade': False, 'owner': 300296, 'status': 'o'},\n  {'element': 172, 'in_accepted_trade': False, 'owner': 336116, 'status': 'o'},\n  {'element': 162, 'in_accepted_trade': False, 'owner': 300296, 'status': 'o'},\n  {'element': 460, 'in_accepted_trade': False, 'owner': 339264, 'status': 'o'},\n  {'element': 432, 'in_accepted_trade': False, 'owner': 300296, 'status': 'o'},\n  {'element': 148, 'in_accepted_trade': False, 'owner': 339264, 'status': 'o'},\n  {'element': 463, 'in_accepted_trade': False, 'owner': 299717, 'status': 'o'},\n  {'element': 487, 'in_accepted_trade': False, 'owner': 300296, 'status': 'o'},\n  {'element': 173, 'in_accepted_trade': False, 'owner': 299717, 'status': 'o'},\n  {'element': 212, 'in_accepted_trade': False, 'owner': 336116, 'status': 'o'},\n  {'element': 151, 'in_accepted_trade': False, 'owner': 336116, 'status': 'o'},\n  {'element': 122, 'in_accepted_trade': False, 'owner': 333932, 'status': 'o'},\n  {'element': 165, 'in_accepted_trade': False, 'owner': 339264, 'status': 'o'},\n  {'element': 501, 'in_accepted_trade': False, 'owner': 339264, 'status': 'o'},\n  {'element': 505, 'in_accepted_trade': False, 'owner': 299717, 'status': 'o'},\n  {'element': 524, 'in_accepted_trade': False, 'owner': 339264, 'status': 'o'},\n  {'element': 589, 'in_accepted_trade': False, 'owner': 300296, 'status': 'o'},\n  {'element': 615, 'in_accepted_trade': False, 'owner': 299717, 'status': 'o'},\n  {'element': 618,\n   'in_accepted_trade': False,\n   'owner': 299717,\n   'status': 'o'}]}"
     },
     "execution_count": 25,
     "metadata": {},
     "output_type": "execute_result"
    }
   ],
   "source": [
    "parsed_league_json"
   ]
  },
  {
   "cell_type": "code",
   "execution_count": 26,
   "metadata": {},
   "outputs": [
    {
     "name": "stdout",
     "output_type": "stream",
     "text": "{'id': 299, 'assists': 3, 'bonus': 12, 'bps': 425, 'clean_sheets': 8, 'creativity': '307.3', 'goals_conceded': 20, 'goals_scored': 4, 'ict_index': '103.7', 'influence': '383.8', 'minutes': 1966, 'own_goals': 0, 'penalties_missed': 0, 'penalties_saved': 0, 'red_cards': 0, 'saves': 0, 'threat': '343.0', 'yellow_cards': 4, 'added': '2019-06-20T16:48:00.189169Z', 'chance_of_playing_next_round': 100, 'chance_of_playing_this_round': 100, 'code': 153723, 'draft_rank': 612, 'dreamteam_count': 0, 'ep_next': None, 'ep_this': None, 'event_points': 7, 'first_name': 'John', 'form': '3.0', 'in_dreamteam': False, 'news': '', 'news_added': '2019-12-29T18:30:20.904666Z', 'news_return': None, 'news_updated': None, 'points_per_game': '4.6', 'second_name': 'Lundstram', 'squad_number': None, 'status': 'a', 'total_points': 115, 'web_name': 'Lundstram', 'element_type': 2, 'team': 15}\n"
    }
   ],
   "source": [
    "# iterate over players to get name of player with a particular id\n",
    "for el in parsed_player_json['elements']:\n",
    "    #if el['id']==169:\n",
    "    if el['web_name']=='Lundstram':\n",
    "        print(el)"
   ]
  },
  {
   "cell_type": "code",
   "execution_count": 27,
   "metadata": {},
   "outputs": [],
   "source": [
    "# create a list of dictionaries with team ids associated with all the players owned by that team in the league\n",
    "li = []\n",
    "current = {}\n",
    "i = 0\n",
    "for el in parsed_league_json['element_status']:\n",
    "    if el['status'] == 'o':\n",
    "        current[el['owner']] = el['element']\n",
    "        i += 1\n",
    "        li.append(current)\n",
    "        current = {}\n",
    "    "
   ]
  },
  {
   "cell_type": "code",
   "execution_count": 28,
   "metadata": {},
   "outputs": [
    {
     "data": {
      "text/plain": "90"
     },
     "execution_count": 28,
     "metadata": {},
     "output_type": "execute_result"
    }
   ],
   "source": [
    "len(li)"
   ]
  },
  {
   "cell_type": "code",
   "execution_count": 29,
   "metadata": {},
   "outputs": [
    {
     "data": {
      "text/plain": "[{333932: 169},\n {297336: 397},\n {333932: 220},\n {336116: 389},\n {300296: 211},\n {297336: 163},\n {300296: 341},\n {339264: 411},\n {300296: 104},\n {299717: 363},\n {297336: 303},\n {297336: 112},\n {336116: 82},\n {297336: 236},\n {297336: 11},\n {336116: 332},\n {297336: 199},\n {297336: 280},\n {333932: 204},\n {333932: 12},\n {299717: 90},\n {333932: 186},\n {339264: 216},\n {299717: 293},\n {336116: 123},\n {336116: 66},\n {333932: 130},\n {299717: 14},\n {297336: 337},\n {300296: 134},\n {297336: 296},\n {297336: 42},\n {297336: 314},\n {339264: 343},\n {300296: 401},\n {299717: 405},\n {336116: 188},\n {300296: 364},\n {297336: 346},\n {339264: 184},\n {299717: 2},\n {297336: 92},\n {339264: 142},\n {336116: 391},\n {333932: 167},\n {300296: 409},\n {297336: 103},\n {300296: 205},\n {300296: 218},\n {299717: 457},\n {336116: 215},\n {339264: 297},\n {339264: 345},\n {336116: 106},\n {336116: 110},\n {339264: 193},\n {333932: 149},\n {336116: 160},\n {333932: 29},\n {299717: 190},\n {299717: 192},\n {339264: 213},\n {299717: 182},\n {333932: 203},\n {336116: 240},\n {333932: 299},\n {333932: 417},\n {333932: 448},\n {333932: 267},\n {300296: 183},\n {339264: 185},\n {300296: 470},\n {336116: 172},\n {300296: 162},\n {339264: 460},\n {300296: 432},\n {339264: 148},\n {299717: 463},\n {300296: 487},\n {299717: 173},\n {336116: 212},\n {336116: 151},\n {333932: 122},\n {339264: 165},\n {339264: 501},\n {299717: 505},\n {339264: 524},\n {300296: 589},\n {299717: 615},\n {299717: 618}]"
     },
     "execution_count": 29,
     "metadata": {},
     "output_type": "execute_result"
    }
   ],
   "source": [
    "li"
   ]
  },
  {
   "cell_type": "code",
   "execution_count": 30,
   "metadata": {},
   "outputs": [],
   "source": [
    "# now I need a dictionary of team names associated with team id's in the league\n",
    "\n",
    "teams = {}\n",
    "for el in parsed_league_json['choices']:\n",
    "    if el['entry'] not in teams.keys():\n",
    "        teams[el['entry']] = el['entry_name']"
   ]
  },
  {
   "cell_type": "code",
   "execution_count": 31,
   "metadata": {},
   "outputs": [
    {
     "name": "stdout",
     "output_type": "stream",
     "text": "Stored 'teams' (dict)\n"
    }
   ],
   "source": [
    "teams\n",
    "%store teams"
   ]
  },
  {
   "cell_type": "code",
   "execution_count": 32,
   "metadata": {},
   "outputs": [],
   "source": [
    "# I will now create a dataframe of all the players in the league this week, the team they are currently in and the score they have achieved\n",
    "import pandas as pd"
   ]
  },
  {
   "cell_type": "code",
   "execution_count": 33,
   "metadata": {},
   "outputs": [],
   "source": [
    "current_players = pd.DataFrame()\n",
    "team_id = []\n",
    "player_id = []\n",
    "team_name = []\n",
    "round_score = []\n",
    "player_name = []\n",
    "for el in li:\n",
    "    for key,value in el.items():\n",
    "        team_id.append(key)\n",
    "        player_id.append(value)\n",
    "        team_name.append(teams[key])\n",
    "        for item in parsed_player_json['elements']:\n",
    "            if item['id']==value:\n",
    "                player_name.append(item['web_name'])\n",
    "                round_score.append(item['event_points'])\n",
    "        \n",
    "    "
   ]
  },
  {
   "cell_type": "code",
   "execution_count": 34,
   "metadata": {},
   "outputs": [],
   "source": [
    "current_players['team_id'] = team_id\n",
    "current_players['player_id'] = player_id\n",
    "current_players['team_name'] = team_name\n",
    "current_players['round_score'] = round_score\n",
    "current_players['player_name'] = player_name"
   ]
  },
  {
   "cell_type": "code",
   "execution_count": 35,
   "metadata": {},
   "outputs": [
    {
     "data": {
      "text/html": "<div>\n<style scoped>\n    .dataframe tbody tr th:only-of-type {\n        vertical-align: middle;\n    }\n\n    .dataframe tbody tr th {\n        vertical-align: top;\n    }\n\n    .dataframe thead th {\n        text-align: right;\n    }\n</style>\n<table border=\"1\" class=\"dataframe\">\n  <thead>\n    <tr style=\"text-align: right;\">\n      <th></th>\n      <th>team_id</th>\n      <th>player_id</th>\n      <th>team_name</th>\n      <th>round_score</th>\n      <th>player_name</th>\n    </tr>\n  </thead>\n  <tbody>\n    <tr>\n      <td>0</td>\n      <td>333932</td>\n      <td>169</td>\n      <td>All the Smallings</td>\n      <td>7</td>\n      <td>Schmeichel</td>\n    </tr>\n    <tr>\n      <td>1</td>\n      <td>297336</td>\n      <td>397</td>\n      <td>Childish Gbaminos</td>\n      <td>0</td>\n      <td>Noble</td>\n    </tr>\n    <tr>\n      <td>2</td>\n      <td>333932</td>\n      <td>220</td>\n      <td>All the Smallings</td>\n      <td>0</td>\n      <td>David Silva</td>\n    </tr>\n    <tr>\n      <td>3</td>\n      <td>336116</td>\n      <td>389</td>\n      <td>Stop Crying Lampard</td>\n      <td>0</td>\n      <td>Fabianski</td>\n    </tr>\n    <tr>\n      <td>4</td>\n      <td>300296</td>\n      <td>211</td>\n      <td>Ducks of Bethlehem</td>\n      <td>0</td>\n      <td>Agüero</td>\n    </tr>\n  </tbody>\n</table>\n</div>",
      "text/plain": "   team_id  player_id            team_name  round_score  player_name\n0   333932        169    All the Smallings            7   Schmeichel\n1   297336        397    Childish Gbaminos            0        Noble\n2   333932        220    All the Smallings            0  David Silva\n3   336116        389  Stop Crying Lampard            0    Fabianski\n4   300296        211   Ducks of Bethlehem            0       Agüero"
     },
     "execution_count": 35,
     "metadata": {},
     "output_type": "execute_result"
    }
   ],
   "source": [
    "current_players.head()"
   ]
  },
  {
   "cell_type": "code",
   "execution_count": 36,
   "metadata": {},
   "outputs": [
    {
     "data": {
      "text/html": "<div>\n<style scoped>\n    .dataframe tbody tr th:only-of-type {\n        vertical-align: middle;\n    }\n\n    .dataframe tbody tr th {\n        vertical-align: top;\n    }\n\n    .dataframe thead th {\n        text-align: right;\n    }\n</style>\n<table border=\"1\" class=\"dataframe\">\n  <thead>\n    <tr style=\"text-align: right;\">\n      <th></th>\n      <th>team_id</th>\n      <th>player_id</th>\n      <th>team_name</th>\n      <th>round_score</th>\n      <th>player_name</th>\n    </tr>\n  </thead>\n  <tbody>\n    <tr>\n      <td>0</td>\n      <td>333932</td>\n      <td>169</td>\n      <td>All the Smallings</td>\n      <td>7</td>\n      <td>Schmeichel</td>\n    </tr>\n    <tr>\n      <td>2</td>\n      <td>333932</td>\n      <td>220</td>\n      <td>All the Smallings</td>\n      <td>0</td>\n      <td>David Silva</td>\n    </tr>\n    <tr>\n      <td>18</td>\n      <td>333932</td>\n      <td>204</td>\n      <td>All the Smallings</td>\n      <td>0</td>\n      <td>Walker</td>\n    </tr>\n    <tr>\n      <td>19</td>\n      <td>333932</td>\n      <td>12</td>\n      <td>All the Smallings</td>\n      <td>9</td>\n      <td>Lacazette</td>\n    </tr>\n    <tr>\n      <td>21</td>\n      <td>333932</td>\n      <td>186</td>\n      <td>All the Smallings</td>\n      <td>0</td>\n      <td>Matip</td>\n    </tr>\n    <tr>\n      <td>26</td>\n      <td>333932</td>\n      <td>130</td>\n      <td>All the Smallings</td>\n      <td>2</td>\n      <td>Ayew</td>\n    </tr>\n    <tr>\n      <td>44</td>\n      <td>333932</td>\n      <td>167</td>\n      <td>All the Smallings</td>\n      <td>2</td>\n      <td>Vardy</td>\n    </tr>\n    <tr>\n      <td>56</td>\n      <td>333932</td>\n      <td>149</td>\n      <td>All the Smallings</td>\n      <td>2</td>\n      <td>Pickford</td>\n    </tr>\n    <tr>\n      <td>58</td>\n      <td>333932</td>\n      <td>29</td>\n      <td>All the Smallings</td>\n      <td>6</td>\n      <td>Grealish</td>\n    </tr>\n    <tr>\n      <td>63</td>\n      <td>333932</td>\n      <td>203</td>\n      <td>All the Smallings</td>\n      <td>0</td>\n      <td>Laporte</td>\n    </tr>\n    <tr>\n      <td>65</td>\n      <td>333932</td>\n      <td>299</td>\n      <td>All the Smallings</td>\n      <td>7</td>\n      <td>Lundstram</td>\n    </tr>\n    <tr>\n      <td>66</td>\n      <td>333932</td>\n      <td>417</td>\n      <td>All the Smallings</td>\n      <td>1</td>\n      <td>Traoré</td>\n    </tr>\n    <tr>\n      <td>67</td>\n      <td>333932</td>\n      <td>448</td>\n      <td>All the Smallings</td>\n      <td>3</td>\n      <td>Tielemans</td>\n    </tr>\n    <tr>\n      <td>68</td>\n      <td>333932</td>\n      <td>267</td>\n      <td>All the Smallings</td>\n      <td>3</td>\n      <td>Pérez</td>\n    </tr>\n    <tr>\n      <td>82</td>\n      <td>333932</td>\n      <td>122</td>\n      <td>All the Smallings</td>\n      <td>10</td>\n      <td>Wan-Bissaka</td>\n    </tr>\n  </tbody>\n</table>\n</div>",
      "text/plain": "    team_id  player_id          team_name  round_score  player_name\n0    333932        169  All the Smallings            7   Schmeichel\n2    333932        220  All the Smallings            0  David Silva\n18   333932        204  All the Smallings            0       Walker\n19   333932         12  All the Smallings            9    Lacazette\n21   333932        186  All the Smallings            0        Matip\n26   333932        130  All the Smallings            2         Ayew\n44   333932        167  All the Smallings            2        Vardy\n56   333932        149  All the Smallings            2     Pickford\n58   333932         29  All the Smallings            6     Grealish\n63   333932        203  All the Smallings            0      Laporte\n65   333932        299  All the Smallings            7    Lundstram\n66   333932        417  All the Smallings            1       Traoré\n67   333932        448  All the Smallings            3    Tielemans\n68   333932        267  All the Smallings            3        Pérez\n82   333932        122  All the Smallings           10  Wan-Bissaka"
     },
     "execution_count": 36,
     "metadata": {},
     "output_type": "execute_result"
    }
   ],
   "source": [
    "current_players[current_players['team_name'] == 'All the Smallings']"
   ]
  },
  {
   "cell_type": "code",
   "execution_count": 37,
   "metadata": {},
   "outputs": [
    {
     "data": {
      "text/plain": "[{'average_entry_score': None,\n  'deadline_time': '2019-08-09T18:00:00Z',\n  'id': 1,\n  'name': 'Gameweek 1',\n  'finished': True,\n  'highest_scoring_entry': None,\n  'waivers_time': '2019-08-08T18:00:00Z'},\n {'average_entry_score': None,\n  'deadline_time': '2019-08-17T10:30:00Z',\n  'id': 2,\n  'name': 'Gameweek 2',\n  'finished': True,\n  'highest_scoring_entry': None,\n  'waivers_time': '2019-08-16T10:30:00Z'},\n {'average_entry_score': None,\n  'deadline_time': '2019-08-23T18:00:00Z',\n  'id': 3,\n  'name': 'Gameweek 3',\n  'finished': True,\n  'highest_scoring_entry': None,\n  'waivers_time': '2019-08-22T18:00:00Z'},\n {'average_entry_score': None,\n  'deadline_time': '2019-08-31T10:30:00Z',\n  'id': 4,\n  'name': 'Gameweek 4',\n  'finished': True,\n  'highest_scoring_entry': None,\n  'waivers_time': '2019-08-30T10:30:00Z'},\n {'average_entry_score': None,\n  'deadline_time': '2019-09-14T10:30:00Z',\n  'id': 5,\n  'name': 'Gameweek 5',\n  'finished': True,\n  'highest_scoring_entry': None,\n  'waivers_time': '2019-09-13T10:30:00Z'},\n {'average_entry_score': None,\n  'deadline_time': '2019-09-20T18:00:00Z',\n  'id': 6,\n  'name': 'Gameweek 6',\n  'finished': True,\n  'highest_scoring_entry': None,\n  'waivers_time': '2019-09-19T18:00:00Z'},\n {'average_entry_score': None,\n  'deadline_time': '2019-09-28T10:30:00Z',\n  'id': 7,\n  'name': 'Gameweek 7',\n  'finished': True,\n  'highest_scoring_entry': None,\n  'waivers_time': '2019-09-27T10:30:00Z'},\n {'average_entry_score': None,\n  'deadline_time': '2019-10-05T10:30:00Z',\n  'id': 8,\n  'name': 'Gameweek 8',\n  'finished': True,\n  'highest_scoring_entry': None,\n  'waivers_time': '2019-10-04T10:30:00Z'},\n {'average_entry_score': None,\n  'deadline_time': '2019-10-19T10:30:00Z',\n  'id': 9,\n  'name': 'Gameweek 9',\n  'finished': True,\n  'highest_scoring_entry': None,\n  'waivers_time': '2019-10-18T10:30:00Z'},\n {'average_entry_score': None,\n  'deadline_time': '2019-10-25T18:00:00Z',\n  'id': 10,\n  'name': 'Gameweek 10',\n  'finished': True,\n  'highest_scoring_entry': None,\n  'waivers_time': '2019-10-24T18:00:00Z'},\n {'average_entry_score': None,\n  'deadline_time': '2019-11-02T11:30:00Z',\n  'id': 11,\n  'name': 'Gameweek 11',\n  'finished': True,\n  'highest_scoring_entry': None,\n  'waivers_time': '2019-11-01T11:30:00Z'},\n {'average_entry_score': None,\n  'deadline_time': '2019-11-08T19:00:00Z',\n  'id': 12,\n  'name': 'Gameweek 12',\n  'finished': True,\n  'highest_scoring_entry': None,\n  'waivers_time': '2019-11-07T19:00:00Z'},\n {'average_entry_score': None,\n  'deadline_time': '2019-11-23T11:30:00Z',\n  'id': 13,\n  'name': 'Gameweek 13',\n  'finished': True,\n  'highest_scoring_entry': None,\n  'waivers_time': '2019-11-22T11:30:00Z'},\n {'average_entry_score': None,\n  'deadline_time': '2019-11-30T11:30:00Z',\n  'id': 14,\n  'name': 'Gameweek 14',\n  'finished': True,\n  'highest_scoring_entry': None,\n  'waivers_time': '2019-11-29T11:30:00Z'},\n {'average_entry_score': None,\n  'deadline_time': '2019-12-03T18:30:00Z',\n  'id': 15,\n  'name': 'Gameweek 15',\n  'finished': True,\n  'highest_scoring_entry': None,\n  'waivers_time': '2019-12-02T18:30:00Z'},\n {'average_entry_score': None,\n  'deadline_time': '2019-12-07T11:30:00Z',\n  'id': 16,\n  'name': 'Gameweek 16',\n  'finished': True,\n  'highest_scoring_entry': None,\n  'waivers_time': '2019-12-06T11:30:00Z'},\n {'average_entry_score': None,\n  'deadline_time': '2019-12-14T11:30:00Z',\n  'id': 17,\n  'name': 'Gameweek 17',\n  'finished': True,\n  'highest_scoring_entry': None,\n  'waivers_time': '2019-12-13T11:30:00Z'},\n {'average_entry_score': None,\n  'deadline_time': '2019-12-21T11:30:00Z',\n  'id': 18,\n  'name': 'Gameweek 18',\n  'finished': True,\n  'highest_scoring_entry': None,\n  'waivers_time': '2019-12-20T11:30:00Z'},\n {'average_entry_score': None,\n  'deadline_time': '2019-12-26T11:30:00Z',\n  'id': 19,\n  'name': 'Gameweek 19',\n  'finished': True,\n  'highest_scoring_entry': None,\n  'waivers_time': '2019-12-25T11:30:00Z'},\n {'average_entry_score': None,\n  'deadline_time': '2019-12-28T11:30:00Z',\n  'id': 20,\n  'name': 'Gameweek 20',\n  'finished': True,\n  'highest_scoring_entry': None,\n  'waivers_time': '2019-12-28T00:30:00Z'},\n {'average_entry_score': None,\n  'deadline_time': '2020-01-01T11:30:00Z',\n  'id': 21,\n  'name': 'Gameweek 21',\n  'finished': True,\n  'highest_scoring_entry': None,\n  'waivers_time': '2019-12-31T11:30:00Z'},\n {'average_entry_score': None,\n  'deadline_time': '2020-01-10T19:00:00Z',\n  'id': 22,\n  'name': 'Gameweek 22',\n  'finished': True,\n  'highest_scoring_entry': None,\n  'waivers_time': '2020-01-09T19:00:00Z'},\n {'average_entry_score': None,\n  'deadline_time': '2020-01-18T11:30:00Z',\n  'id': 23,\n  'name': 'Gameweek 23',\n  'finished': True,\n  'highest_scoring_entry': None,\n  'waivers_time': '2020-01-17T11:30:00Z'},\n {'average_entry_score': None,\n  'deadline_time': '2020-01-21T18:30:00Z',\n  'id': 24,\n  'name': 'Gameweek 24',\n  'finished': True,\n  'highest_scoring_entry': None,\n  'waivers_time': '2020-01-20T18:30:00Z'},\n {'average_entry_score': None,\n  'deadline_time': '2020-02-01T11:30:00Z',\n  'id': 25,\n  'name': 'Gameweek 25',\n  'finished': True,\n  'highest_scoring_entry': None,\n  'waivers_time': '2020-01-31T11:30:00Z'},\n {'average_entry_score': None,\n  'deadline_time': '2020-02-08T11:30:00Z',\n  'id': 26,\n  'name': 'Gameweek 26',\n  'finished': False,\n  'highest_scoring_entry': None,\n  'waivers_time': '2020-02-07T11:30:00Z'},\n {'average_entry_score': None,\n  'deadline_time': '2020-02-22T11:30:00Z',\n  'id': 27,\n  'name': 'Gameweek 27',\n  'finished': False,\n  'highest_scoring_entry': None,\n  'waivers_time': '2020-02-21T11:30:00Z'},\n {'average_entry_score': None,\n  'deadline_time': '2020-02-28T19:00:00Z',\n  'id': 28,\n  'name': 'Gameweek 28',\n  'finished': False,\n  'highest_scoring_entry': None,\n  'waivers_time': '2020-02-27T19:00:00Z'},\n {'average_entry_score': None,\n  'deadline_time': '2020-03-07T11:30:00Z',\n  'id': 29,\n  'name': 'Gameweek 29',\n  'finished': False,\n  'highest_scoring_entry': None,\n  'waivers_time': '2020-03-06T11:30:00Z'},\n {'average_entry_score': None,\n  'deadline_time': '2020-03-14T11:30:00Z',\n  'id': 30,\n  'name': 'Gameweek 30',\n  'finished': False,\n  'highest_scoring_entry': None,\n  'waivers_time': '2020-03-13T11:30:00Z'},\n {'average_entry_score': None,\n  'deadline_time': '2020-03-20T19:00:00Z',\n  'id': 31,\n  'name': 'Gameweek 31',\n  'finished': False,\n  'highest_scoring_entry': None,\n  'waivers_time': '2020-03-19T19:00:00Z'},\n {'average_entry_score': None,\n  'deadline_time': '2020-04-04T13:00:00Z',\n  'id': 32,\n  'name': 'Gameweek 32',\n  'finished': False,\n  'highest_scoring_entry': None,\n  'waivers_time': '2020-04-03T13:00:00Z'},\n {'average_entry_score': None,\n  'deadline_time': '2020-04-11T13:00:00Z',\n  'id': 33,\n  'name': 'Gameweek 33',\n  'finished': False,\n  'highest_scoring_entry': None,\n  'waivers_time': '2020-04-10T13:00:00Z'},\n {'average_entry_score': None,\n  'deadline_time': '2020-04-18T13:00:00Z',\n  'id': 34,\n  'name': 'Gameweek 34',\n  'finished': False,\n  'highest_scoring_entry': None,\n  'waivers_time': '2020-04-17T13:00:00Z'},\n {'average_entry_score': None,\n  'deadline_time': '2020-04-25T13:00:00Z',\n  'id': 35,\n  'name': 'Gameweek 35',\n  'finished': False,\n  'highest_scoring_entry': None,\n  'waivers_time': '2020-04-24T13:00:00Z'},\n {'average_entry_score': None,\n  'deadline_time': '2020-05-02T13:00:00Z',\n  'id': 36,\n  'name': 'Gameweek 36',\n  'finished': False,\n  'highest_scoring_entry': None,\n  'waivers_time': '2020-05-01T13:00:00Z'},\n {'average_entry_score': None,\n  'deadline_time': '2020-05-09T13:00:00Z',\n  'id': 37,\n  'name': 'Gameweek 37',\n  'finished': False,\n  'highest_scoring_entry': None,\n  'waivers_time': '2020-05-08T13:00:00Z'},\n {'average_entry_score': None,\n  'deadline_time': '2020-05-17T13:00:00Z',\n  'id': 38,\n  'name': 'Gameweek 38',\n  'finished': False,\n  'highest_scoring_entry': None,\n  'waivers_time': '2020-05-16T13:00:00Z'}]"
     },
     "execution_count": 37,
     "metadata": {},
     "output_type": "execute_result"
    }
   ],
   "source": [
    "parsed_player_json['events']['data']"
   ]
  },
  {
   "cell_type": "code",
   "execution_count": 38,
   "metadata": {},
   "outputs": [],
   "source": [
    "# I will add a gameweek and deadline date to the dataframe.\n",
    "# The gameweek and player_id will become a composite primary key in my database later\n",
    "\n",
    "gameweeks = pd.DataFrame()\n",
    "names = []\n",
    "deadlines = []\n",
    "finished = []\n",
    "gameweek = []\n",
    "i = 1\n",
    "\n",
    "for el in parsed_player_json['events']['data']:\n",
    "    names.append(el['name'])\n",
    "    deadlines.append(el['deadline_time'])\n",
    "    finished.append(el['finished'])\n",
    "    gameweek.append(i)\n",
    "    i += 1\n",
    "\n",
    "gameweeks['gameweek'] = gameweek\n",
    "gameweeks['name'] = names\n",
    "gameweeks['deadline'] = deadlines\n",
    "gameweeks['finished'] = finished\n",
    "gameweeks['gameweek'] = gameweek"
   ]
  },
  {
   "cell_type": "code",
   "execution_count": 39,
   "metadata": {},
   "outputs": [
    {
     "data": {
      "text/html": "<div>\n<style scoped>\n    .dataframe tbody tr th:only-of-type {\n        vertical-align: middle;\n    }\n\n    .dataframe tbody tr th {\n        vertical-align: top;\n    }\n\n    .dataframe thead th {\n        text-align: right;\n    }\n</style>\n<table border=\"1\" class=\"dataframe\">\n  <thead>\n    <tr style=\"text-align: right;\">\n      <th></th>\n      <th>gameweek</th>\n      <th>name</th>\n      <th>deadline</th>\n      <th>finished</th>\n    </tr>\n  </thead>\n  <tbody>\n    <tr>\n      <td>0</td>\n      <td>1</td>\n      <td>Gameweek 1</td>\n      <td>2019-08-09T18:00:00Z</td>\n      <td>True</td>\n    </tr>\n    <tr>\n      <td>1</td>\n      <td>2</td>\n      <td>Gameweek 2</td>\n      <td>2019-08-17T10:30:00Z</td>\n      <td>True</td>\n    </tr>\n    <tr>\n      <td>2</td>\n      <td>3</td>\n      <td>Gameweek 3</td>\n      <td>2019-08-23T18:00:00Z</td>\n      <td>True</td>\n    </tr>\n    <tr>\n      <td>3</td>\n      <td>4</td>\n      <td>Gameweek 4</td>\n      <td>2019-08-31T10:30:00Z</td>\n      <td>True</td>\n    </tr>\n    <tr>\n      <td>4</td>\n      <td>5</td>\n      <td>Gameweek 5</td>\n      <td>2019-09-14T10:30:00Z</td>\n      <td>True</td>\n    </tr>\n    <tr>\n      <td>5</td>\n      <td>6</td>\n      <td>Gameweek 6</td>\n      <td>2019-09-20T18:00:00Z</td>\n      <td>True</td>\n    </tr>\n    <tr>\n      <td>6</td>\n      <td>7</td>\n      <td>Gameweek 7</td>\n      <td>2019-09-28T10:30:00Z</td>\n      <td>True</td>\n    </tr>\n    <tr>\n      <td>7</td>\n      <td>8</td>\n      <td>Gameweek 8</td>\n      <td>2019-10-05T10:30:00Z</td>\n      <td>True</td>\n    </tr>\n    <tr>\n      <td>8</td>\n      <td>9</td>\n      <td>Gameweek 9</td>\n      <td>2019-10-19T10:30:00Z</td>\n      <td>True</td>\n    </tr>\n    <tr>\n      <td>9</td>\n      <td>10</td>\n      <td>Gameweek 10</td>\n      <td>2019-10-25T18:00:00Z</td>\n      <td>True</td>\n    </tr>\n    <tr>\n      <td>10</td>\n      <td>11</td>\n      <td>Gameweek 11</td>\n      <td>2019-11-02T11:30:00Z</td>\n      <td>True</td>\n    </tr>\n    <tr>\n      <td>11</td>\n      <td>12</td>\n      <td>Gameweek 12</td>\n      <td>2019-11-08T19:00:00Z</td>\n      <td>True</td>\n    </tr>\n    <tr>\n      <td>12</td>\n      <td>13</td>\n      <td>Gameweek 13</td>\n      <td>2019-11-23T11:30:00Z</td>\n      <td>True</td>\n    </tr>\n    <tr>\n      <td>13</td>\n      <td>14</td>\n      <td>Gameweek 14</td>\n      <td>2019-11-30T11:30:00Z</td>\n      <td>True</td>\n    </tr>\n    <tr>\n      <td>14</td>\n      <td>15</td>\n      <td>Gameweek 15</td>\n      <td>2019-12-03T18:30:00Z</td>\n      <td>True</td>\n    </tr>\n    <tr>\n      <td>15</td>\n      <td>16</td>\n      <td>Gameweek 16</td>\n      <td>2019-12-07T11:30:00Z</td>\n      <td>True</td>\n    </tr>\n    <tr>\n      <td>16</td>\n      <td>17</td>\n      <td>Gameweek 17</td>\n      <td>2019-12-14T11:30:00Z</td>\n      <td>True</td>\n    </tr>\n    <tr>\n      <td>17</td>\n      <td>18</td>\n      <td>Gameweek 18</td>\n      <td>2019-12-21T11:30:00Z</td>\n      <td>True</td>\n    </tr>\n    <tr>\n      <td>18</td>\n      <td>19</td>\n      <td>Gameweek 19</td>\n      <td>2019-12-26T11:30:00Z</td>\n      <td>True</td>\n    </tr>\n    <tr>\n      <td>19</td>\n      <td>20</td>\n      <td>Gameweek 20</td>\n      <td>2019-12-28T11:30:00Z</td>\n      <td>True</td>\n    </tr>\n    <tr>\n      <td>20</td>\n      <td>21</td>\n      <td>Gameweek 21</td>\n      <td>2020-01-01T11:30:00Z</td>\n      <td>True</td>\n    </tr>\n    <tr>\n      <td>21</td>\n      <td>22</td>\n      <td>Gameweek 22</td>\n      <td>2020-01-10T19:00:00Z</td>\n      <td>True</td>\n    </tr>\n    <tr>\n      <td>22</td>\n      <td>23</td>\n      <td>Gameweek 23</td>\n      <td>2020-01-18T11:30:00Z</td>\n      <td>True</td>\n    </tr>\n    <tr>\n      <td>23</td>\n      <td>24</td>\n      <td>Gameweek 24</td>\n      <td>2020-01-21T18:30:00Z</td>\n      <td>True</td>\n    </tr>\n    <tr>\n      <td>24</td>\n      <td>25</td>\n      <td>Gameweek 25</td>\n      <td>2020-02-01T11:30:00Z</td>\n      <td>True</td>\n    </tr>\n    <tr>\n      <td>25</td>\n      <td>26</td>\n      <td>Gameweek 26</td>\n      <td>2020-02-08T11:30:00Z</td>\n      <td>False</td>\n    </tr>\n    <tr>\n      <td>26</td>\n      <td>27</td>\n      <td>Gameweek 27</td>\n      <td>2020-02-22T11:30:00Z</td>\n      <td>False</td>\n    </tr>\n    <tr>\n      <td>27</td>\n      <td>28</td>\n      <td>Gameweek 28</td>\n      <td>2020-02-28T19:00:00Z</td>\n      <td>False</td>\n    </tr>\n    <tr>\n      <td>28</td>\n      <td>29</td>\n      <td>Gameweek 29</td>\n      <td>2020-03-07T11:30:00Z</td>\n      <td>False</td>\n    </tr>\n    <tr>\n      <td>29</td>\n      <td>30</td>\n      <td>Gameweek 30</td>\n      <td>2020-03-14T11:30:00Z</td>\n      <td>False</td>\n    </tr>\n    <tr>\n      <td>30</td>\n      <td>31</td>\n      <td>Gameweek 31</td>\n      <td>2020-03-20T19:00:00Z</td>\n      <td>False</td>\n    </tr>\n    <tr>\n      <td>31</td>\n      <td>32</td>\n      <td>Gameweek 32</td>\n      <td>2020-04-04T13:00:00Z</td>\n      <td>False</td>\n    </tr>\n    <tr>\n      <td>32</td>\n      <td>33</td>\n      <td>Gameweek 33</td>\n      <td>2020-04-11T13:00:00Z</td>\n      <td>False</td>\n    </tr>\n    <tr>\n      <td>33</td>\n      <td>34</td>\n      <td>Gameweek 34</td>\n      <td>2020-04-18T13:00:00Z</td>\n      <td>False</td>\n    </tr>\n    <tr>\n      <td>34</td>\n      <td>35</td>\n      <td>Gameweek 35</td>\n      <td>2020-04-25T13:00:00Z</td>\n      <td>False</td>\n    </tr>\n    <tr>\n      <td>35</td>\n      <td>36</td>\n      <td>Gameweek 36</td>\n      <td>2020-05-02T13:00:00Z</td>\n      <td>False</td>\n    </tr>\n    <tr>\n      <td>36</td>\n      <td>37</td>\n      <td>Gameweek 37</td>\n      <td>2020-05-09T13:00:00Z</td>\n      <td>False</td>\n    </tr>\n    <tr>\n      <td>37</td>\n      <td>38</td>\n      <td>Gameweek 38</td>\n      <td>2020-05-17T13:00:00Z</td>\n      <td>False</td>\n    </tr>\n  </tbody>\n</table>\n</div>",
      "text/plain": "    gameweek         name              deadline  finished\n0          1   Gameweek 1  2019-08-09T18:00:00Z      True\n1          2   Gameweek 2  2019-08-17T10:30:00Z      True\n2          3   Gameweek 3  2019-08-23T18:00:00Z      True\n3          4   Gameweek 4  2019-08-31T10:30:00Z      True\n4          5   Gameweek 5  2019-09-14T10:30:00Z      True\n5          6   Gameweek 6  2019-09-20T18:00:00Z      True\n6          7   Gameweek 7  2019-09-28T10:30:00Z      True\n7          8   Gameweek 8  2019-10-05T10:30:00Z      True\n8          9   Gameweek 9  2019-10-19T10:30:00Z      True\n9         10  Gameweek 10  2019-10-25T18:00:00Z      True\n10        11  Gameweek 11  2019-11-02T11:30:00Z      True\n11        12  Gameweek 12  2019-11-08T19:00:00Z      True\n12        13  Gameweek 13  2019-11-23T11:30:00Z      True\n13        14  Gameweek 14  2019-11-30T11:30:00Z      True\n14        15  Gameweek 15  2019-12-03T18:30:00Z      True\n15        16  Gameweek 16  2019-12-07T11:30:00Z      True\n16        17  Gameweek 17  2019-12-14T11:30:00Z      True\n17        18  Gameweek 18  2019-12-21T11:30:00Z      True\n18        19  Gameweek 19  2019-12-26T11:30:00Z      True\n19        20  Gameweek 20  2019-12-28T11:30:00Z      True\n20        21  Gameweek 21  2020-01-01T11:30:00Z      True\n21        22  Gameweek 22  2020-01-10T19:00:00Z      True\n22        23  Gameweek 23  2020-01-18T11:30:00Z      True\n23        24  Gameweek 24  2020-01-21T18:30:00Z      True\n24        25  Gameweek 25  2020-02-01T11:30:00Z      True\n25        26  Gameweek 26  2020-02-08T11:30:00Z     False\n26        27  Gameweek 27  2020-02-22T11:30:00Z     False\n27        28  Gameweek 28  2020-02-28T19:00:00Z     False\n28        29  Gameweek 29  2020-03-07T11:30:00Z     False\n29        30  Gameweek 30  2020-03-14T11:30:00Z     False\n30        31  Gameweek 31  2020-03-20T19:00:00Z     False\n31        32  Gameweek 32  2020-04-04T13:00:00Z     False\n32        33  Gameweek 33  2020-04-11T13:00:00Z     False\n33        34  Gameweek 34  2020-04-18T13:00:00Z     False\n34        35  Gameweek 35  2020-04-25T13:00:00Z     False\n35        36  Gameweek 36  2020-05-02T13:00:00Z     False\n36        37  Gameweek 37  2020-05-09T13:00:00Z     False\n37        38  Gameweek 38  2020-05-17T13:00:00Z     False"
     },
     "execution_count": 39,
     "metadata": {},
     "output_type": "execute_result"
    }
   ],
   "source": [
    "gameweeks.head(38)"
   ]
  },
  {
   "cell_type": "code",
   "execution_count": 40,
   "metadata": {},
   "outputs": [
    {
     "name": "stdout",
     "output_type": "stream",
     "text": "<class 'pandas.core.frame.DataFrame'>\nRangeIndex: 38 entries, 0 to 37\nData columns (total 4 columns):\ngameweek    38 non-null int64\nname        38 non-null object\ndeadline    38 non-null object\nfinished    38 non-null bool\ndtypes: bool(1), int64(1), object(2)\nmemory usage: 1.1+ KB\n"
    }
   ],
   "source": [
    "gameweeks.info()"
   ]
  },
  {
   "cell_type": "code",
   "execution_count": 41,
   "metadata": {},
   "outputs": [],
   "source": [
    "gameweeks['deadline'] = pd.to_datetime(gameweeks.deadline)"
   ]
  },
  {
   "cell_type": "code",
   "execution_count": 42,
   "metadata": {},
   "outputs": [
    {
     "name": "stdout",
     "output_type": "stream",
     "text": "<class 'pandas.core.frame.DataFrame'>\nRangeIndex: 38 entries, 0 to 37\nData columns (total 4 columns):\ngameweek    38 non-null int64\nname        38 non-null object\ndeadline    38 non-null datetime64[ns, UTC]\nfinished    38 non-null bool\ndtypes: bool(1), datetime64[ns, UTC](1), int64(1), object(1)\nmemory usage: 1.1+ KB\n"
    }
   ],
   "source": [
    "gameweeks.info()"
   ]
  },
  {
   "cell_type": "code",
   "execution_count": 43,
   "metadata": {},
   "outputs": [],
   "source": [
    "import datetime\n",
    "import pytz\n",
    "current_date = datetime.datetime.now(pytz.timezone('GMT'))"
   ]
  },
  {
   "cell_type": "code",
   "execution_count": 44,
   "metadata": {},
   "outputs": [
    {
     "name": "stdout",
     "output_type": "stream",
     "text": "2019-08-09 18:00:00+00:00\n2019-08-17 10:30:00+00:00\n2019-08-23 18:00:00+00:00\n2019-08-31 10:30:00+00:00\n2019-09-14 10:30:00+00:00\n2019-09-20 18:00:00+00:00\n2019-09-28 10:30:00+00:00\n2019-10-05 10:30:00+00:00\n2019-10-19 10:30:00+00:00\n2019-10-25 18:00:00+00:00\n2019-11-02 11:30:00+00:00\n2019-11-08 19:00:00+00:00\n2019-11-23 11:30:00+00:00\n2019-11-30 11:30:00+00:00\n2019-12-03 18:30:00+00:00\n2019-12-07 11:30:00+00:00\n2019-12-14 11:30:00+00:00\n2019-12-21 11:30:00+00:00\n2019-12-26 11:30:00+00:00\n2019-12-28 11:30:00+00:00\n2020-01-01 11:30:00+00:00\n2020-01-10 19:00:00+00:00\n2020-01-18 11:30:00+00:00\n2020-01-21 18:30:00+00:00\n2020-02-01 11:30:00+00:00\n2020-02-08 11:30:00+00:00\n"
    }
   ],
   "source": [
    "for el in gameweeks['deadline']:\n",
    "    if el < current_date:\n",
    "        print(el)"
   ]
  },
  {
   "cell_type": "code",
   "execution_count": 45,
   "metadata": {},
   "outputs": [
    {
     "data": {
      "text/html": "<div>\n<style scoped>\n    .dataframe tbody tr th:only-of-type {\n        vertical-align: middle;\n    }\n\n    .dataframe tbody tr th {\n        vertical-align: top;\n    }\n\n    .dataframe thead th {\n        text-align: right;\n    }\n</style>\n<table border=\"1\" class=\"dataframe\">\n  <thead>\n    <tr style=\"text-align: right;\">\n      <th></th>\n      <th>gameweek</th>\n      <th>name</th>\n      <th>deadline</th>\n      <th>finished</th>\n    </tr>\n  </thead>\n  <tbody>\n    <tr>\n      <td>0</td>\n      <td>1</td>\n      <td>Gameweek 1</td>\n      <td>2019-08-09 18:00:00+00:00</td>\n      <td>True</td>\n    </tr>\n    <tr>\n      <td>1</td>\n      <td>2</td>\n      <td>Gameweek 2</td>\n      <td>2019-08-17 10:30:00+00:00</td>\n      <td>True</td>\n    </tr>\n    <tr>\n      <td>2</td>\n      <td>3</td>\n      <td>Gameweek 3</td>\n      <td>2019-08-23 18:00:00+00:00</td>\n      <td>True</td>\n    </tr>\n    <tr>\n      <td>3</td>\n      <td>4</td>\n      <td>Gameweek 4</td>\n      <td>2019-08-31 10:30:00+00:00</td>\n      <td>True</td>\n    </tr>\n    <tr>\n      <td>4</td>\n      <td>5</td>\n      <td>Gameweek 5</td>\n      <td>2019-09-14 10:30:00+00:00</td>\n      <td>True</td>\n    </tr>\n    <tr>\n      <td>5</td>\n      <td>6</td>\n      <td>Gameweek 6</td>\n      <td>2019-09-20 18:00:00+00:00</td>\n      <td>True</td>\n    </tr>\n    <tr>\n      <td>6</td>\n      <td>7</td>\n      <td>Gameweek 7</td>\n      <td>2019-09-28 10:30:00+00:00</td>\n      <td>True</td>\n    </tr>\n    <tr>\n      <td>7</td>\n      <td>8</td>\n      <td>Gameweek 8</td>\n      <td>2019-10-05 10:30:00+00:00</td>\n      <td>True</td>\n    </tr>\n    <tr>\n      <td>8</td>\n      <td>9</td>\n      <td>Gameweek 9</td>\n      <td>2019-10-19 10:30:00+00:00</td>\n      <td>True</td>\n    </tr>\n    <tr>\n      <td>9</td>\n      <td>10</td>\n      <td>Gameweek 10</td>\n      <td>2019-10-25 18:00:00+00:00</td>\n      <td>True</td>\n    </tr>\n    <tr>\n      <td>10</td>\n      <td>11</td>\n      <td>Gameweek 11</td>\n      <td>2019-11-02 11:30:00+00:00</td>\n      <td>True</td>\n    </tr>\n    <tr>\n      <td>11</td>\n      <td>12</td>\n      <td>Gameweek 12</td>\n      <td>2019-11-08 19:00:00+00:00</td>\n      <td>True</td>\n    </tr>\n    <tr>\n      <td>12</td>\n      <td>13</td>\n      <td>Gameweek 13</td>\n      <td>2019-11-23 11:30:00+00:00</td>\n      <td>True</td>\n    </tr>\n    <tr>\n      <td>13</td>\n      <td>14</td>\n      <td>Gameweek 14</td>\n      <td>2019-11-30 11:30:00+00:00</td>\n      <td>True</td>\n    </tr>\n    <tr>\n      <td>14</td>\n      <td>15</td>\n      <td>Gameweek 15</td>\n      <td>2019-12-03 18:30:00+00:00</td>\n      <td>True</td>\n    </tr>\n    <tr>\n      <td>15</td>\n      <td>16</td>\n      <td>Gameweek 16</td>\n      <td>2019-12-07 11:30:00+00:00</td>\n      <td>True</td>\n    </tr>\n    <tr>\n      <td>16</td>\n      <td>17</td>\n      <td>Gameweek 17</td>\n      <td>2019-12-14 11:30:00+00:00</td>\n      <td>True</td>\n    </tr>\n    <tr>\n      <td>17</td>\n      <td>18</td>\n      <td>Gameweek 18</td>\n      <td>2019-12-21 11:30:00+00:00</td>\n      <td>True</td>\n    </tr>\n    <tr>\n      <td>18</td>\n      <td>19</td>\n      <td>Gameweek 19</td>\n      <td>2019-12-26 11:30:00+00:00</td>\n      <td>True</td>\n    </tr>\n    <tr>\n      <td>19</td>\n      <td>20</td>\n      <td>Gameweek 20</td>\n      <td>2019-12-28 11:30:00+00:00</td>\n      <td>True</td>\n    </tr>\n    <tr>\n      <td>20</td>\n      <td>21</td>\n      <td>Gameweek 21</td>\n      <td>2020-01-01 11:30:00+00:00</td>\n      <td>True</td>\n    </tr>\n    <tr>\n      <td>21</td>\n      <td>22</td>\n      <td>Gameweek 22</td>\n      <td>2020-01-10 19:00:00+00:00</td>\n      <td>True</td>\n    </tr>\n    <tr>\n      <td>22</td>\n      <td>23</td>\n      <td>Gameweek 23</td>\n      <td>2020-01-18 11:30:00+00:00</td>\n      <td>True</td>\n    </tr>\n    <tr>\n      <td>23</td>\n      <td>24</td>\n      <td>Gameweek 24</td>\n      <td>2020-01-21 18:30:00+00:00</td>\n      <td>True</td>\n    </tr>\n    <tr>\n      <td>24</td>\n      <td>25</td>\n      <td>Gameweek 25</td>\n      <td>2020-02-01 11:30:00+00:00</td>\n      <td>True</td>\n    </tr>\n    <tr>\n      <td>25</td>\n      <td>26</td>\n      <td>Gameweek 26</td>\n      <td>2020-02-08 11:30:00+00:00</td>\n      <td>False</td>\n    </tr>\n    <tr>\n      <td>26</td>\n      <td>27</td>\n      <td>Gameweek 27</td>\n      <td>2020-02-22 11:30:00+00:00</td>\n      <td>False</td>\n    </tr>\n    <tr>\n      <td>27</td>\n      <td>28</td>\n      <td>Gameweek 28</td>\n      <td>2020-02-28 19:00:00+00:00</td>\n      <td>False</td>\n    </tr>\n  </tbody>\n</table>\n</div>",
      "text/plain": "    gameweek         name                  deadline  finished\n0          1   Gameweek 1 2019-08-09 18:00:00+00:00      True\n1          2   Gameweek 2 2019-08-17 10:30:00+00:00      True\n2          3   Gameweek 3 2019-08-23 18:00:00+00:00      True\n3          4   Gameweek 4 2019-08-31 10:30:00+00:00      True\n4          5   Gameweek 5 2019-09-14 10:30:00+00:00      True\n5          6   Gameweek 6 2019-09-20 18:00:00+00:00      True\n6          7   Gameweek 7 2019-09-28 10:30:00+00:00      True\n7          8   Gameweek 8 2019-10-05 10:30:00+00:00      True\n8          9   Gameweek 9 2019-10-19 10:30:00+00:00      True\n9         10  Gameweek 10 2019-10-25 18:00:00+00:00      True\n10        11  Gameweek 11 2019-11-02 11:30:00+00:00      True\n11        12  Gameweek 12 2019-11-08 19:00:00+00:00      True\n12        13  Gameweek 13 2019-11-23 11:30:00+00:00      True\n13        14  Gameweek 14 2019-11-30 11:30:00+00:00      True\n14        15  Gameweek 15 2019-12-03 18:30:00+00:00      True\n15        16  Gameweek 16 2019-12-07 11:30:00+00:00      True\n16        17  Gameweek 17 2019-12-14 11:30:00+00:00      True\n17        18  Gameweek 18 2019-12-21 11:30:00+00:00      True\n18        19  Gameweek 19 2019-12-26 11:30:00+00:00      True\n19        20  Gameweek 20 2019-12-28 11:30:00+00:00      True\n20        21  Gameweek 21 2020-01-01 11:30:00+00:00      True\n21        22  Gameweek 22 2020-01-10 19:00:00+00:00      True\n22        23  Gameweek 23 2020-01-18 11:30:00+00:00      True\n23        24  Gameweek 24 2020-01-21 18:30:00+00:00      True\n24        25  Gameweek 25 2020-02-01 11:30:00+00:00      True\n25        26  Gameweek 26 2020-02-08 11:30:00+00:00     False\n26        27  Gameweek 27 2020-02-22 11:30:00+00:00     False\n27        28  Gameweek 28 2020-02-28 19:00:00+00:00     False"
     },
     "execution_count": 45,
     "metadata": {},
     "output_type": "execute_result"
    }
   ],
   "source": [
    "gameweeks.head(28)"
   ]
  },
  {
   "cell_type": "code",
   "execution_count": 46,
   "metadata": {},
   "outputs": [],
   "source": [
    "# getting current gameweek for players dataframe\n",
    "# when the last gameweek has finished but the next gameweek hasn't started the script will scrape the data and add it to the database\n",
    "\n",
    "i = 0\n",
    "current_gameweek_list = []\n",
    "\n",
    "for el in gameweeks['deadline']:\n",
    "    if current_date > el and current_date < gameweeks['deadline'][i+1]:\n",
    "        #create a list the same length as the players dataframe with current gameweek \n",
    "        current_gameweek_var = gameweeks['gameweek'][i]\n",
    "        for i in range(len(current_players['team_id'])):\n",
    "            current_gameweek_list.append(current_gameweek_var)\n",
    "    i += 1\n",
    "\n",
    "current_players['gameweek'] = current_gameweek_list"
   ]
  },
  {
   "cell_type": "code",
   "execution_count": 47,
   "metadata": {},
   "outputs": [
    {
     "data": {
      "text/html": "<div>\n<style scoped>\n    .dataframe tbody tr th:only-of-type {\n        vertical-align: middle;\n    }\n\n    .dataframe tbody tr th {\n        vertical-align: top;\n    }\n\n    .dataframe thead th {\n        text-align: right;\n    }\n</style>\n<table border=\"1\" class=\"dataframe\">\n  <thead>\n    <tr style=\"text-align: right;\">\n      <th></th>\n      <th>team_id</th>\n      <th>player_id</th>\n      <th>team_name</th>\n      <th>round_score</th>\n      <th>player_name</th>\n      <th>gameweek</th>\n    </tr>\n  </thead>\n  <tbody>\n    <tr>\n      <td>0</td>\n      <td>333932</td>\n      <td>169</td>\n      <td>All the Smallings</td>\n      <td>7</td>\n      <td>Schmeichel</td>\n      <td>26</td>\n    </tr>\n    <tr>\n      <td>1</td>\n      <td>297336</td>\n      <td>397</td>\n      <td>Childish Gbaminos</td>\n      <td>0</td>\n      <td>Noble</td>\n      <td>26</td>\n    </tr>\n    <tr>\n      <td>2</td>\n      <td>333932</td>\n      <td>220</td>\n      <td>All the Smallings</td>\n      <td>0</td>\n      <td>David Silva</td>\n      <td>26</td>\n    </tr>\n    <tr>\n      <td>3</td>\n      <td>336116</td>\n      <td>389</td>\n      <td>Stop Crying Lampard</td>\n      <td>0</td>\n      <td>Fabianski</td>\n      <td>26</td>\n    </tr>\n    <tr>\n      <td>4</td>\n      <td>300296</td>\n      <td>211</td>\n      <td>Ducks of Bethlehem</td>\n      <td>0</td>\n      <td>Agüero</td>\n      <td>26</td>\n    </tr>\n  </tbody>\n</table>\n</div>",
      "text/plain": "   team_id  player_id            team_name  round_score  player_name  gameweek\n0   333932        169    All the Smallings            7   Schmeichel        26\n1   297336        397    Childish Gbaminos            0        Noble        26\n2   333932        220    All the Smallings            0  David Silva        26\n3   336116        389  Stop Crying Lampard            0    Fabianski        26\n4   300296        211   Ducks of Bethlehem            0       Agüero        26"
     },
     "execution_count": 47,
     "metadata": {},
     "output_type": "execute_result"
    }
   ],
   "source": [
    "current_players.head()"
   ]
  },
  {
   "cell_type": "code",
   "execution_count": 36,
   "metadata": {},
   "outputs": [],
   "source": [
    "import pymysql"
   ]
  },
  {
   "cell_type": "code",
   "execution_count": 37,
   "metadata": {},
   "outputs": [],
   "source": [
    "connection = pymysql.connect(host='localhost',\n",
    "                             user='root',\n",
    "                             password='password',\n",
    "                             db='fantasy_football')"
   ]
  },
  {
   "cell_type": "code",
   "execution_count": 38,
   "metadata": {},
   "outputs": [],
   "source": [
    "cursor = connection.cursor()"
   ]
  },
  {
   "cell_type": "code",
   "execution_count": 39,
   "metadata": {},
   "outputs": [
    {
     "name": "stdout",
     "output_type": "stream",
     "text": "<class 'pandas.core.frame.DataFrame'>\nRangeIndex: 38 entries, 0 to 37\nData columns (total 4 columns):\ngameweek    38 non-null int64\nname        38 non-null object\ndeadline    38 non-null datetime64[ns, UTC]\nfinished    38 non-null bool\ndtypes: bool(1), datetime64[ns, UTC](1), int64(1), object(1)\nmemory usage: 1.1+ KB\n"
    }
   ],
   "source": [
    "gameweeks.info()"
   ]
  },
  {
   "cell_type": "code",
   "execution_count": 40,
   "metadata": {},
   "outputs": [],
   "source": [
    "# had trouble adding gameweeks dataframe to database so switched some data types to strings. These columns work as strings anyway\n",
    "\n",
    "import numpy as np\n",
    "gameweeks['gameweek'] = gameweeks['gameweek'].astype(str)\n",
    "gameweeks['finished'] = gameweeks['finished'].astype(str)"
   ]
  },
  {
   "cell_type": "code",
   "execution_count": 41,
   "metadata": {},
   "outputs": [],
   "source": [
    "# remove gameweek table data so that updated data can be put in\n",
    "cursor.execute(\"DELETE FROM `gameweeks` WHERE `gameweek` < 100\")\n",
    "connection.commit()"
   ]
  },
  {
   "cell_type": "code",
   "execution_count": 42,
   "metadata": {},
   "outputs": [],
   "source": [
    "# Create a new record template\n",
    "insert_gameweeks_sql = \"INSERT INTO `gameweeks` (`gameweek`, `name`, `deadline`, `finished`) VALUES (%s, %s, %s, %s)\"\n",
    "\n",
    "\n",
    "# update gameweeks dataframe in database\n",
    "for i in range(len(gameweeks['gameweek'])):\n",
    "    gameweek = gameweeks['gameweek'][i]\n",
    "    name = gameweeks['name'][i]\n",
    "    deadline = gameweeks['deadline'][i]\n",
    "    finished = gameweeks['finished'][i]\n",
    "    cursor.execute(insert_gameweeks_sql, (gameweek,name,deadline.to_pydatetime(),finished))\n",
    "    \n",
    "    \n",
    "\n",
    "# the connection is not autocommited by default. So we must commit to save our changes.\n",
    "connection.commit()"
   ]
  },
  {
   "cell_type": "code",
   "execution_count": 43,
   "metadata": {},
   "outputs": [
    {
     "name": "stdout",
     "output_type": "stream",
     "text": "<class 'pandas.core.frame.DataFrame'>\nRangeIndex: 90 entries, 0 to 89\nData columns (total 6 columns):\nteam_id        90 non-null int64\nplayer_id      90 non-null int64\nteam_name      90 non-null object\nround_score    90 non-null int64\nplayer_name    90 non-null object\ngameweek       90 non-null int64\ndtypes: int64(4), object(2)\nmemory usage: 4.3+ KB\n"
    }
   ],
   "source": [
    "current_players.info()"
   ]
  },
  {
   "cell_type": "code",
   "execution_count": 44,
   "metadata": {},
   "outputs": [],
   "source": [
    "# again for some reason sql can't interpret int64 data type so I will switch it them to string for moving to sql table\n",
    "\n",
    "current_players['team_id'] = current_players['team_id'].astype(str)\n",
    "current_players['player_id'] = current_players['player_id'].astype(str)\n",
    "current_players['round_score'] = current_players['round_score'].astype(str)\n",
    "current_players['gameweek'] = current_players['gameweek'].astype(str)\n"
   ]
  },
  {
   "cell_type": "code",
   "execution_count": 48,
   "metadata": {},
   "outputs": [],
   "source": [
    "url = \"https://draft.premierleague.com/api/entry/\" + str(333932)+ \"/event/\"+ str(current_gameweek_var)\n",
    "player_gameweek = session.get(url)\n",
    "parsed_player_gameweek = json.loads(player_gameweek.text)"
   ]
  },
  {
   "cell_type": "code",
   "execution_count": 49,
   "metadata": {},
   "outputs": [
    {
     "data": {
      "text/plain": "{'picks': [{'element': 169,\n   'position': 1,\n   'is_captain': False,\n   'is_vice_captain': False,\n   'multiplier': 1},\n  {'element': 204,\n   'position': 2,\n   'is_captain': False,\n   'is_vice_captain': False,\n   'multiplier': 1},\n  {'element': 122,\n   'position': 3,\n   'is_captain': False,\n   'is_vice_captain': False,\n   'multiplier': 1},\n  {'element': 299,\n   'position': 4,\n   'is_captain': False,\n   'is_vice_captain': False,\n   'multiplier': 1},\n  {'element': 29,\n   'position': 5,\n   'is_captain': False,\n   'is_vice_captain': False,\n   'multiplier': 1},\n  {'element': 417,\n   'position': 6,\n   'is_captain': False,\n   'is_vice_captain': False,\n   'multiplier': 1},\n  {'element': 448,\n   'position': 7,\n   'is_captain': False,\n   'is_vice_captain': False,\n   'multiplier': 1},\n  {'element': 220,\n   'position': 8,\n   'is_captain': False,\n   'is_vice_captain': False,\n   'multiplier': 1},\n  {'element': 12,\n   'position': 9,\n   'is_captain': False,\n   'is_vice_captain': False,\n   'multiplier': 1},\n  {'element': 130,\n   'position': 10,\n   'is_captain': False,\n   'is_vice_captain': False,\n   'multiplier': 1},\n  {'element': 167,\n   'position': 11,\n   'is_captain': False,\n   'is_vice_captain': False,\n   'multiplier': 1},\n  {'element': 149,\n   'position': 12,\n   'is_captain': False,\n   'is_vice_captain': False,\n   'multiplier': 1},\n  {'element': 267,\n   'position': 13,\n   'is_captain': False,\n   'is_vice_captain': False,\n   'multiplier': 1},\n  {'element': 203,\n   'position': 14,\n   'is_captain': False,\n   'is_vice_captain': False,\n   'multiplier': 1},\n  {'element': 186,\n   'position': 15,\n   'is_captain': False,\n   'is_vice_captain': False,\n   'multiplier': 1}],\n 'entry_history': {},\n 'subs': []}"
     },
     "execution_count": 49,
     "metadata": {},
     "output_type": "execute_result"
    }
   ],
   "source": [
    "parsed_player_gameweek"
   ]
  },
  {
   "cell_type": "code",
   "execution_count": 45,
   "metadata": {},
   "outputs": [],
   "source": [
    "# if the current gameweek has finished all of the data will be added to the database\n",
    "i = 0\n",
    "\n",
    "# new record template players\n",
    "insert_players_sql = \"INSERT INTO `weekly_player_score` (`team_id`, `player_id`, `team_name`,`round_score`,`player_name`,`gameweek`) VALUES (%s, %s, %s, %s, %s, %s)\"\n",
    "\n",
    "# using current gameweek to get index of dataframe\n",
    "# dataframe indexed at 0 so subtracting 1\n",
    "if gameweeks['finished'][current_gameweek_var - 1] == True:\n",
    "    for i in range(len(current_players['team_id'])):\n",
    "        # I realise creating the variables isn't necessary but I think it helps readability\n",
    "        team = current_players['team_id'][i]\n",
    "        player_id = current_players['player_id'][i]\n",
    "        team_name = current_players['team_name'][i]\n",
    "        round_score = current_players['round_score'][i]\n",
    "        player_name = current_players['player_name'][i]\n",
    "        gameweek = current_players['gameweek'][i]\n",
    "        cursor.execute(insert_players_sql, (team,player_id ,team_name,round_score,player_name,gameweek))\n",
    "        connection.commit()\n",
    "        "
   ]
  },
  {
   "cell_type": "code",
   "execution_count": 46,
   "metadata": {},
   "outputs": [],
   "source": [
    "connection.close()"
   ]
  },
  {
   "cell_type": "code",
   "execution_count": 47,
   "metadata": {},
   "outputs": [
    {
     "data": {
      "text/plain": "False"
     },
     "execution_count": 47,
     "metadata": {},
     "output_type": "execute_result"
    }
   ],
   "source": [
    "gameweeks['finished'][current_gameweek_var - 1] == True"
   ]
  },
  {
   "cell_type": "code",
   "execution_count": 48,
   "metadata": {},
   "outputs": [
    {
     "name": "stdout",
     "output_type": "stream",
     "text": "Stored 'current_players' (DataFrame)\n"
    }
   ],
   "source": [
    "# storing variables for use in another notebook\n",
    "\n",
    "%store current_players\n",
    "%store gameweeks"
   ]
  },
  {
   "cell_type": "code",
   "execution_count": 49,
   "metadata": {},
   "outputs": [
    {
     "name": "stdout",
     "output_type": "stream",
     "text": "Stored 'gameweeks' (DataFrame)\n"
    }
   ],
   "source": [
    "%store gameweeks"
   ]
  },
  {
   "cell_type": "code",
   "execution_count": null,
   "metadata": {},
   "outputs": [],
   "source": []
  }
 ],
 "metadata": {
  "kernelspec": {
   "display_name": "Python 3",
   "language": "python",
   "name": "python3"
  },
  "language_info": {
   "codemirror_mode": {
    "name": "ipython",
    "version": 3
   },
   "file_extension": ".py",
   "mimetype": "text/x-python",
   "name": "python",
   "nbconvert_exporter": "python",
   "pygments_lexer": "ipython3",
   "version": "3.7.4-final"
  }
 },
 "nbformat": 4,
 "nbformat_minor": 2
}