{
 "nbformat": 4,
 "nbformat_minor": 2,
 "metadata": {
  "language_info": {
   "name": "python",
   "codemirror_mode": {
    "name": "ipython",
    "version": 3
   },
   "version": "3.7.4-final"
  },
  "orig_nbformat": 2,
  "file_extension": ".py",
  "mimetype": "text/x-python",
  "name": "python",
  "npconvert_exporter": "python",
  "pygments_lexer": "ipython3",
  "version": 3,
  "kernelspec": {
   "name": "python3",
   "display_name": "Python 3"
  }
 },
 "cells": [
  {
   "cell_type": "code",
   "execution_count": 2,
   "metadata": {},
   "outputs": [],
   "source": [
    "import requests\n",
    "import pandas as pd\n",
    "import json\n",
    "from bs4 import BeautifulSoup\n",
    "session = requests.session()"
   ]
  },
  {
   "cell_type": "code",
   "execution_count": 3,
   "metadata": {},
   "outputs": [],
   "source": [
    "%store -r current_players\n",
    "%store -r gameweeks"
   ]
  },
  {
   "cell_type": "code",
   "execution_count": 4,
   "metadata": {},
   "outputs": [
    {
     "data": {
      "text/html": "<div>\n<style scoped>\n    .dataframe tbody tr th:only-of-type {\n        vertical-align: middle;\n    }\n\n    .dataframe tbody tr th {\n        vertical-align: top;\n    }\n\n    .dataframe thead th {\n        text-align: right;\n    }\n</style>\n<table border=\"1\" class=\"dataframe\">\n  <thead>\n    <tr style=\"text-align: right;\">\n      <th></th>\n      <th>team_id</th>\n      <th>player_id</th>\n      <th>team_name</th>\n      <th>round_score</th>\n      <th>player_name</th>\n      <th>gameweek</th>\n    </tr>\n  </thead>\n  <tbody>\n    <tr>\n      <td>0</td>\n      <td>333932</td>\n      <td>169</td>\n      <td>All the Smallings</td>\n      <td>0</td>\n      <td>Schmeichel</td>\n      <td>26</td>\n    </tr>\n    <tr>\n      <td>1</td>\n      <td>297336</td>\n      <td>397</td>\n      <td>Childish Gbaminos</td>\n      <td>0</td>\n      <td>Noble</td>\n      <td>26</td>\n    </tr>\n    <tr>\n      <td>2</td>\n      <td>333932</td>\n      <td>220</td>\n      <td>All the Smallings</td>\n      <td>0</td>\n      <td>David Silva</td>\n      <td>26</td>\n    </tr>\n    <tr>\n      <td>3</td>\n      <td>336116</td>\n      <td>389</td>\n      <td>Stop Crying Lampard</td>\n      <td>0</td>\n      <td>Fabianski</td>\n      <td>26</td>\n    </tr>\n    <tr>\n      <td>4</td>\n      <td>300296</td>\n      <td>211</td>\n      <td>Ducks of Bethlehem</td>\n      <td>0</td>\n      <td>Agüero</td>\n      <td>26</td>\n    </tr>\n    <tr>\n      <td>...</td>\n      <td>...</td>\n      <td>...</td>\n      <td>...</td>\n      <td>...</td>\n      <td>...</td>\n      <td>...</td>\n    </tr>\n    <tr>\n      <td>85</td>\n      <td>299717</td>\n      <td>505</td>\n      <td>Obi-Wan Iwobi</td>\n      <td>0</td>\n      <td>James</td>\n      <td>26</td>\n    </tr>\n    <tr>\n      <td>86</td>\n      <td>339264</td>\n      <td>524</td>\n      <td>Neuer Gonna Give You</td>\n      <td>0</td>\n      <td>Sarr</td>\n      <td>26</td>\n    </tr>\n    <tr>\n      <td>87</td>\n      <td>300296</td>\n      <td>589</td>\n      <td>Ducks of Bethlehem</td>\n      <td>0</td>\n      <td>Minamino</td>\n      <td>26</td>\n    </tr>\n    <tr>\n      <td>88</td>\n      <td>299717</td>\n      <td>615</td>\n      <td>Obi-Wan Iwobi</td>\n      <td>0</td>\n      <td>Bergwijn</td>\n      <td>26</td>\n    </tr>\n    <tr>\n      <td>89</td>\n      <td>299717</td>\n      <td>618</td>\n      <td>Obi-Wan Iwobi</td>\n      <td>0</td>\n      <td>Fernandes</td>\n      <td>26</td>\n    </tr>\n  </tbody>\n</table>\n<p>90 rows × 6 columns</p>\n</div>",
      "text/plain": "   team_id player_id             team_name round_score  player_name gameweek\n0   333932       169     All the Smallings           0   Schmeichel       26\n1   297336       397     Childish Gbaminos           0        Noble       26\n2   333932       220     All the Smallings           0  David Silva       26\n3   336116       389   Stop Crying Lampard           0    Fabianski       26\n4   300296       211    Ducks of Bethlehem           0       Agüero       26\n..     ...       ...                   ...         ...          ...      ...\n85  299717       505         Obi-Wan Iwobi           0        James       26\n86  339264       524  Neuer Gonna Give You           0         Sarr       26\n87  300296       589    Ducks of Bethlehem           0     Minamino       26\n88  299717       615         Obi-Wan Iwobi           0     Bergwijn       26\n89  299717       618         Obi-Wan Iwobi           0    Fernandes       26\n\n[90 rows x 6 columns]"
     },
     "execution_count": 4,
     "metadata": {},
     "output_type": "execute_result"
    }
   ],
   "source": [
    "current_players"
   ]
  },
  {
   "cell_type": "code",
   "execution_count": 5,
   "metadata": {},
   "outputs": [
    {
     "data": {
      "text/plain": "'333932'"
     },
     "execution_count": 5,
     "metadata": {},
     "output_type": "execute_result"
    }
   ],
   "source": [
    "gameweek = 26\n",
    "current_players[\"team_id\"][0]"
   ]
  },
  {
   "cell_type": "code",
   "execution_count": 6,
   "metadata": {},
   "outputs": [],
   "source": [
    "# make list of all team ids in the league\n",
    "team_ids = []\n",
    "for i in range(len(current_players)):\n",
    "    if current_players[\"team_id\"][i] not in team_ids:\n",
    "        team_ids.append(current_players[\"team_id\"][i])"
   ]
  },
  {
   "cell_type": "code",
   "execution_count": 7,
   "metadata": {},
   "outputs": [
    {
     "data": {
      "text/plain": "['333932', '297336', '336116', '300296', '339264', '299717']"
     },
     "execution_count": 7,
     "metadata": {},
     "output_type": "execute_result"
    }
   ],
   "source": [
    "team_ids"
   ]
  },
  {
   "cell_type": "code",
   "execution_count": 8,
   "metadata": {},
   "outputs": [],
   "source": [
    "league_info = session.get(\"https://draft.premierleague.com/api/entry/333932/event/1\")"
   ]
  },
  {
   "cell_type": "code",
   "execution_count": 9,
   "metadata": {},
   "outputs": [],
   "source": [
    "parsed_player_gameweek = json.loads(league_info.text)"
   ]
  },
  {
   "cell_type": "code",
   "execution_count": 10,
   "metadata": {},
   "outputs": [
    {
     "data": {
      "text/plain": "{'picks': [{'element': 149,\n   'position': 1,\n   'is_captain': False,\n   'is_vice_captain': False,\n   'multiplier': 1},\n  {'element': 204,\n   'position': 2,\n   'is_captain': False,\n   'is_vice_captain': False,\n   'multiplier': 1},\n  {'element': 122,\n   'position': 3,\n   'is_captain': False,\n   'is_vice_captain': False,\n   'multiplier': 1},\n  {'element': 334,\n   'position': 4,\n   'is_captain': False,\n   'is_vice_captain': False,\n   'multiplier': 1},\n  {'element': 346,\n   'position': 5,\n   'is_captain': False,\n   'is_vice_captain': False,\n   'multiplier': 1},\n  {'element': 267,\n   'position': 6,\n   'is_captain': False,\n   'is_vice_captain': False,\n   'multiplier': 1},\n  {'element': 448,\n   'position': 7,\n   'is_captain': False,\n   'is_vice_captain': False,\n   'multiplier': 1},\n  {'element': 134,\n   'position': 8,\n   'is_captain': False,\n   'is_vice_captain': False,\n   'multiplier': 1},\n  {'element': 113,\n   'position': 9,\n   'is_captain': False,\n   'is_vice_captain': False,\n   'multiplier': 1},\n  {'element': 339,\n   'position': 10,\n   'is_captain': False,\n   'is_vice_captain': False,\n   'multiplier': 1},\n  {'element': 167,\n   'position': 11,\n   'is_captain': False,\n   'is_vice_captain': False,\n   'multiplier': 1},\n  {'element': 169,\n   'position': 12,\n   'is_captain': False,\n   'is_vice_captain': False,\n   'multiplier': 1},\n  {'element': 3,\n   'position': 13,\n   'is_captain': False,\n   'is_vice_captain': False,\n   'multiplier': 1},\n  {'element': 12,\n   'position': 14,\n   'is_captain': False,\n   'is_vice_captain': False,\n   'multiplier': 1},\n  {'element': 186,\n   'position': 15,\n   'is_captain': False,\n   'is_vice_captain': False,\n   'multiplier': 1}],\n 'entry_history': {},\n 'subs': [{'element_in': 122, 'element_out': 186, 'event': 1},\n  {'element_in': 113, 'element_out': 12, 'event': 1}]}"
     },
     "execution_count": 10,
     "metadata": {},
     "output_type": "execute_result"
    }
   ],
   "source": [
    "# investigate json structure\n",
    "parsed_player_gameweek"
   ]
  },
  {
   "cell_type": "code",
   "execution_count": 11,
   "metadata": {},
   "outputs": [
    {
     "ename": "SyntaxError",
     "evalue": "invalid syntax (<ipython-input-11-bee491808d89>, line 2)",
     "output_type": "error",
     "traceback": [
      "\u001b[0;36m  File \u001b[0;32m\"<ipython-input-11-bee491808d89>\"\u001b[0;36m, line \u001b[0;32m2\u001b[0m\n\u001b[0;31m    for i in parsed_player_gameweek[\"subs\"][i][\"element_in\"]\u001b[0m\n\u001b[0m                                                            ^\u001b[0m\n\u001b[0;31mSyntaxError\u001b[0m\u001b[0;31m:\u001b[0m invalid syntax\n"
     ]
    }
   ],
   "source": [
    "# This is one player id in this team this week\n",
    "for i in parsed_player_gameweek[\"subs\"][i][\"element_in\"]\n",
    "if 267 in parsed_player_gameweek[\"subs\"][0][\"element_in\"]:\n",
    "    print(\"yes\")"
   ]
  },
  {
   "cell_type": "code",
   "execution_count": 12,
   "metadata": {},
   "outputs": [
    {
     "data": {
      "text/plain": "[{'element': 149,\n  'position': 1,\n  'is_captain': False,\n  'is_vice_captain': False,\n  'multiplier': 1},\n {'element': 204,\n  'position': 2,\n  'is_captain': False,\n  'is_vice_captain': False,\n  'multiplier': 1},\n {'element': 122,\n  'position': 3,\n  'is_captain': False,\n  'is_vice_captain': False,\n  'multiplier': 1},\n {'element': 334,\n  'position': 4,\n  'is_captain': False,\n  'is_vice_captain': False,\n  'multiplier': 1},\n {'element': 346,\n  'position': 5,\n  'is_captain': False,\n  'is_vice_captain': False,\n  'multiplier': 1},\n {'element': 267,\n  'position': 6,\n  'is_captain': False,\n  'is_vice_captain': False,\n  'multiplier': 1},\n {'element': 448,\n  'position': 7,\n  'is_captain': False,\n  'is_vice_captain': False,\n  'multiplier': 1},\n {'element': 134,\n  'position': 8,\n  'is_captain': False,\n  'is_vice_captain': False,\n  'multiplier': 1},\n {'element': 113,\n  'position': 9,\n  'is_captain': False,\n  'is_vice_captain': False,\n  'multiplier': 1},\n {'element': 339,\n  'position': 10,\n  'is_captain': False,\n  'is_vice_captain': False,\n  'multiplier': 1},\n {'element': 167,\n  'position': 11,\n  'is_captain': False,\n  'is_vice_captain': False,\n  'multiplier': 1},\n {'element': 169,\n  'position': 12,\n  'is_captain': False,\n  'is_vice_captain': False,\n  'multiplier': 1},\n {'element': 3,\n  'position': 13,\n  'is_captain': False,\n  'is_vice_captain': False,\n  'multiplier': 1},\n {'element': 12,\n  'position': 14,\n  'is_captain': False,\n  'is_vice_captain': False,\n  'multiplier': 1},\n {'element': 186,\n  'position': 15,\n  'is_captain': False,\n  'is_vice_captain': False,\n  'multiplier': 1}]"
     },
     "execution_count": 12,
     "metadata": {},
     "output_type": "execute_result"
    }
   ],
   "source": [
    "parsed_player_gameweek[\"picks\"]"
   ]
  },
  {
   "cell_type": "code",
   "execution_count": 14,
   "metadata": {},
   "outputs": [
    {
     "name": "stdout",
     "output_type": "stream",
     "text": "122\n113\n"
    }
   ],
   "source": [
    "for item in parsed_player_gameweek[\"subs\"]:\n",
    "    print(item[\"element_in\"])"
   ]
  },
  {
   "cell_type": "code",
   "execution_count": 16,
   "metadata": {},
   "outputs": [],
   "source": [
    "def player_gameweek(team_id,weeks):\n",
    "    # Will return the players in a team during all requested weeks. Expects as arguments a team id from fantasy draft premier league and the number of weeks you want data from.\n",
    "    player_df = pd.DataFrame()\n",
    "\n",
    "\n",
    "    for i in range(1,weeks+1):\n",
    "        url = \"https://draft.premierleague.com/api/entry/\" + str(team_id)+ \"/event/\"+ str(i)\n",
    "        print(i)\n",
    "        player_gameweek = session.get(url)\n",
    "        parsed_player_gameweek = json.loads(player_gameweek.text)\n",
    "        players = []\n",
    "        gameweek = []\n",
    "        team_ids = []\n",
    "        subbed_in = []\n",
    "        subbed_out = []\n",
    "        subbed = []\n",
    "        position = []\n",
    "\n",
    "        temp_df = pd.DataFrame()\n",
    "        for item in parsed_player_gameweek[\"subs\"]:\n",
    "            subbed_in.append(item[\"element_in\"])\n",
    "            subbed_out.append(item[\"element_out\"])\n",
    "        for el in parsed_player_gameweek['picks']:\n",
    "            team_ids.append(team_id)\n",
    "            players.append(el[\"element\"])\n",
    "            position.append(el[\"position\"])\n",
    "            gameweek.append(i)\n",
    "            if el[\"element\"] in subbed_in:\n",
    "                subbed.append(\"Subbed In\")\n",
    "            elif el[\"element\"] in subbed_out:\n",
    "                subbed.append(\"Subbed Out\")\n",
    "            else:\n",
    "                subbed.append(\"N/A\")\n",
    "\n",
    "            \n",
    "                    \n",
    "            \n",
    "\n",
    "        temp_df[\"team_id\"] = team_ids\n",
    "        temp_df[\"gameweek\"] = gameweek \n",
    "        temp_df[\"player_id\"] = players\n",
    "        temp_df[\"position\"] = position\n",
    "        temp_df[\"subbed\"] = subbed\n",
    "\n",
    "        player_df = player_df.append(temp_df)\n",
    "\n",
    "    return player_df\n",
    "\n",
    "\n",
    "\n",
    "    \n",
    "    \n",
    "\n"
   ]
  },
  {
   "cell_type": "code",
   "execution_count": 17,
   "metadata": {},
   "outputs": [
    {
     "name": "stdout",
     "output_type": "stream",
     "text": "1\n2\n3\n4\n5\n6\n7\n8\n9\n10\n11\n12\n13\n14\n15\n16\n17\n18\n19\n20\n21\n22\n23\n24\n25\n"
    },
    {
     "data": {
      "text/html": "<div>\n<style scoped>\n    .dataframe tbody tr th:only-of-type {\n        vertical-align: middle;\n    }\n\n    .dataframe tbody tr th {\n        vertical-align: top;\n    }\n\n    .dataframe thead th {\n        text-align: right;\n    }\n</style>\n<table border=\"1\" class=\"dataframe\">\n  <thead>\n    <tr style=\"text-align: right;\">\n      <th></th>\n      <th>team_id</th>\n      <th>gameweek</th>\n      <th>player_id</th>\n      <th>position</th>\n      <th>subbed</th>\n    </tr>\n  </thead>\n  <tbody>\n    <tr>\n      <td>0</td>\n      <td>333932</td>\n      <td>1</td>\n      <td>149</td>\n      <td>1</td>\n      <td>N/A</td>\n    </tr>\n    <tr>\n      <td>1</td>\n      <td>333932</td>\n      <td>1</td>\n      <td>204</td>\n      <td>2</td>\n      <td>N/A</td>\n    </tr>\n    <tr>\n      <td>2</td>\n      <td>333932</td>\n      <td>1</td>\n      <td>122</td>\n      <td>3</td>\n      <td>Subbed In</td>\n    </tr>\n    <tr>\n      <td>3</td>\n      <td>333932</td>\n      <td>1</td>\n      <td>334</td>\n      <td>4</td>\n      <td>N/A</td>\n    </tr>\n    <tr>\n      <td>4</td>\n      <td>333932</td>\n      <td>1</td>\n      <td>346</td>\n      <td>5</td>\n      <td>N/A</td>\n    </tr>\n    <tr>\n      <td>...</td>\n      <td>...</td>\n      <td>...</td>\n      <td>...</td>\n      <td>...</td>\n      <td>...</td>\n    </tr>\n    <tr>\n      <td>10</td>\n      <td>333932</td>\n      <td>25</td>\n      <td>12</td>\n      <td>11</td>\n      <td>N/A</td>\n    </tr>\n    <tr>\n      <td>11</td>\n      <td>333932</td>\n      <td>25</td>\n      <td>149</td>\n      <td>12</td>\n      <td>N/A</td>\n    </tr>\n    <tr>\n      <td>12</td>\n      <td>333932</td>\n      <td>25</td>\n      <td>220</td>\n      <td>13</td>\n      <td>Subbed Out</td>\n    </tr>\n    <tr>\n      <td>13</td>\n      <td>333932</td>\n      <td>25</td>\n      <td>203</td>\n      <td>14</td>\n      <td>N/A</td>\n    </tr>\n    <tr>\n      <td>14</td>\n      <td>333932</td>\n      <td>25</td>\n      <td>186</td>\n      <td>15</td>\n      <td>N/A</td>\n    </tr>\n  </tbody>\n</table>\n<p>375 rows × 5 columns</p>\n</div>",
      "text/plain": "    team_id  gameweek  player_id  position      subbed\n0    333932         1        149         1         N/A\n1    333932         1        204         2         N/A\n2    333932         1        122         3   Subbed In\n3    333932         1        334         4         N/A\n4    333932         1        346         5         N/A\n..      ...       ...        ...       ...         ...\n10   333932        25         12        11         N/A\n11   333932        25        149        12         N/A\n12   333932        25        220        13  Subbed Out\n13   333932        25        203        14         N/A\n14   333932        25        186        15         N/A\n\n[375 rows x 5 columns]"
     },
     "execution_count": 17,
     "metadata": {},
     "output_type": "execute_result"
    }
   ],
   "source": [
    "player_gameweek(333932,25)"
   ]
  },
  {
   "cell_type": "code",
   "execution_count": 18,
   "metadata": {},
   "outputs": [
    {
     "name": "stdout",
     "output_type": "stream",
     "text": "1\n2\n3\n4\n5\n6\n7\n8\n9\n10\n11\n12\n13\n14\n15\n16\n17\n18\n19\n20\n21\n22\n23\n24\n25\n1\n2\n3\n4\n5\n6\n7\n8\n9\n10\n11\n12\n13\n14\n15\n16\n17\n18\n19\n20\n21\n22\n23\n24\n25\n1\n2\n3\n4\n5\n6\n7\n8\n9\n10\n11\n12\n13\n14\n15\n16\n17\n18\n19\n20\n21\n22\n23\n24\n25\n1\n2\n3\n4\n5\n6\n7\n8\n9\n10\n11\n12\n13\n14\n15\n16\n17\n18\n19\n20\n21\n22\n23\n24\n25\n1\n2\n3\n4\n5\n6\n7\n8\n9\n10\n11\n12\n13\n14\n15\n16\n17\n18\n19\n20\n21\n22\n23\n24\n25\n1\n2\n3\n4\n5\n6\n7\n8\n9\n10\n11\n12\n13\n14\n15\n16\n17\n18\n19\n20\n21\n22\n23\n24\n25\n"
    }
   ],
   "source": [
    "all_players_df = pd.DataFrame()\n",
    "for team in team_ids:\n",
    "    all_players_df = all_players_df.append(player_gameweek(team,25))"
   ]
  },
  {
   "cell_type": "code",
   "execution_count": 19,
   "metadata": {},
   "outputs": [
    {
     "data": {
      "text/html": "<div>\n<style scoped>\n    .dataframe tbody tr th:only-of-type {\n        vertical-align: middle;\n    }\n\n    .dataframe tbody tr th {\n        vertical-align: top;\n    }\n\n    .dataframe thead th {\n        text-align: right;\n    }\n</style>\n<table border=\"1\" class=\"dataframe\">\n  <thead>\n    <tr style=\"text-align: right;\">\n      <th></th>\n      <th>team_id</th>\n      <th>gameweek</th>\n      <th>player_id</th>\n      <th>position</th>\n      <th>subbed</th>\n    </tr>\n  </thead>\n  <tbody>\n    <tr>\n      <td>0</td>\n      <td>333932</td>\n      <td>1</td>\n      <td>149</td>\n      <td>1</td>\n      <td>N/A</td>\n    </tr>\n    <tr>\n      <td>1</td>\n      <td>333932</td>\n      <td>1</td>\n      <td>204</td>\n      <td>2</td>\n      <td>N/A</td>\n    </tr>\n    <tr>\n      <td>2</td>\n      <td>333932</td>\n      <td>1</td>\n      <td>122</td>\n      <td>3</td>\n      <td>Subbed In</td>\n    </tr>\n    <tr>\n      <td>3</td>\n      <td>333932</td>\n      <td>1</td>\n      <td>334</td>\n      <td>4</td>\n      <td>N/A</td>\n    </tr>\n    <tr>\n      <td>4</td>\n      <td>333932</td>\n      <td>1</td>\n      <td>346</td>\n      <td>5</td>\n      <td>N/A</td>\n    </tr>\n    <tr>\n      <td>...</td>\n      <td>...</td>\n      <td>...</td>\n      <td>...</td>\n      <td>...</td>\n      <td>...</td>\n    </tr>\n    <tr>\n      <td>10</td>\n      <td>299717</td>\n      <td>25</td>\n      <td>363</td>\n      <td>11</td>\n      <td>N/A</td>\n    </tr>\n    <tr>\n      <td>11</td>\n      <td>299717</td>\n      <td>25</td>\n      <td>14</td>\n      <td>12</td>\n      <td>N/A</td>\n    </tr>\n    <tr>\n      <td>12</td>\n      <td>299717</td>\n      <td>25</td>\n      <td>522</td>\n      <td>13</td>\n      <td>N/A</td>\n    </tr>\n    <tr>\n      <td>13</td>\n      <td>299717</td>\n      <td>25</td>\n      <td>505</td>\n      <td>14</td>\n      <td>N/A</td>\n    </tr>\n    <tr>\n      <td>14</td>\n      <td>299717</td>\n      <td>25</td>\n      <td>477</td>\n      <td>15</td>\n      <td>N/A</td>\n    </tr>\n  </tbody>\n</table>\n<p>2250 rows × 5 columns</p>\n</div>",
      "text/plain": "   team_id  gameweek  player_id  position     subbed\n0   333932         1        149         1        N/A\n1   333932         1        204         2        N/A\n2   333932         1        122         3  Subbed In\n3   333932         1        334         4        N/A\n4   333932         1        346         5        N/A\n..     ...       ...        ...       ...        ...\n10  299717        25        363        11        N/A\n11  299717        25         14        12        N/A\n12  299717        25        522        13        N/A\n13  299717        25        505        14        N/A\n14  299717        25        477        15        N/A\n\n[2250 rows x 5 columns]"
     },
     "execution_count": 19,
     "metadata": {},
     "output_type": "execute_result"
    }
   ],
   "source": [
    "all_players_df"
   ]
  },
  {
   "cell_type": "code",
   "execution_count": 17,
   "metadata": {},
   "outputs": [],
   "source": [
    "# There are API endpoints with player scores for each week but each week is a different url. I will start by checking the layout of these pages"
   ]
  },
  {
   "cell_type": "code",
   "execution_count": 19,
   "metadata": {},
   "outputs": [
    {
     "data": {
      "text/plain": "2250"
     },
     "execution_count": 19,
     "metadata": {},
     "output_type": "execute_result"
    }
   ],
   "source": [
    "# 6 teams in the league, 15 players per week, 25 weeks\n",
    "6*15*25"
   ]
  },
  {
   "cell_type": "code",
   "execution_count": 20,
   "metadata": {},
   "outputs": [],
   "source": [
    "\n",
    "player_scores_gameweek1 = session.get(\"https://fantasy.premierleague.com/api/event/1/live\")"
   ]
  },
  {
   "cell_type": "code",
   "execution_count": 21,
   "metadata": {},
   "outputs": [],
   "source": [
    "player_scores_gameweek1_json = json.loads(player_scores_gameweek1.text)"
   ]
  },
  {
   "cell_type": "code",
   "execution_count": 22,
   "metadata": {},
   "outputs": [
    {
     "data": {
      "text/plain": "': 8,\n    'in_dreamteam': False},\n   'explain': [{'fixture': 2,\n     'stats': [{'identifier': 'minutes', 'points': 1, 'value': 8},\n      {'identifier': 'goals_scored', 'points': 4, 'value': 1},\n      {'identifier': 'bonus', 'points': 3, 'value': 3}]}]},\n  {'id': 303,\n   'stats': {'minutes': 62,\n    'goals_scored': 0,\n    'assists': 0,\n    'clean_sheets': 0,\n    'goals_conceded': 1,\n    'own_goals': 0,\n    'penalties_saved': 0,\n    'penalties_missed': 0,\n    'yellow_cards': 0,\n    'red_cards': 0,\n    'saves': 0,\n    'bonus': 0,\n    'bps': 0,\n    'influence': '2.0',\n    'creativity': '5.3',\n    'threat': '8.0',\n    'ict_index': '1.5',\n    'total_points': 2,\n    'in_dreamteam': False},\n   'explain': [{'fixture': 2,\n     'stats': [{'identifier': 'minutes', 'points': 2, 'value': 62}]}]},\n  {'id': 312,\n   'stats': {'minutes': 0,\n    'goals_scored': 0,\n    'assists': 0,\n    'clean_sheets': 0,\n    'goals_conceded': 0,\n    'own_goals': 0,\n    'penalties_saved': 0,\n    'penalties_missed': 0,\n    'yellow_cards': 0,\n    'red_cards': 0,\n    'saves': 0,\n    'bonus': 0,\n    'bps': 0,\n    'influence': '0.0',\n    'creativity': '0.0',\n    'threat': '0.0',\n    'ict_index': '0.0',\n    'total_points': 0,\n    'in_dreamteam': False},\n   'explain': [{'fixture': 3,\n     'stats': [{'identifier': 'minutes', 'points': 0, 'value': 0}]}]},\n  {'id': 313,\n   'stats': {'minutes': 65,\n    'goals_scored': 0,\n    'assists': 0,\n    'clean_sheets': 0,\n    'goals_conceded': 1,\n    'own_goals': 0,\n    'penalties_saved': 0,\n    'penalties_missed': 0,\n    'yellow_cards': 0,\n    'red_cards': 0,\n    'saves': 0,\n    'bonus': 0,\n    'bps': 8,\n    'influence': '4.8',\n    'creativity': '11.0',\n    'threat': '0.0',\n    'ict_index': '1.6',\n    'total_points': 2,\n    'in_dreamteam': False},\n   'explain': [{'fixture': 3,\n     'stats': [{'identifier': 'minutes', 'points': 2, 'value': 65}]}]},\n  {'id': 314,\n   'stats': {'minutes': 24,\n    'goals_scored': 0,\n    'assists': 0,\n    'clean_sheets': 0,\n    'goals_conceded': 2,\n    'own_goals': 0,\n    'penalties_saved': 0,\n    'penalties_missed': 0,\n    'yellow_cards': 0,\n    'red_cards': 0,\n    'saves': 0,\n    'bonus': 0,\n    'bps': 0,\n    'influence': '0.0',\n    'creativity': '0.4',\n    'threat': '4.0',\n    'ict_index': '0.4',\n    'total_points': 1,\n    'in_dreamteam': False},\n   'explain': [{'fixture': 3,\n     'stats': [{'identifier': 'minutes', 'points': 1, 'value': 24}]}]},\n  {'id': 315,\n   'stats': {'minutes': 0,\n    'goals_scored': 0,\n    'assists': 0,\n    'clean_sheets': 0,\n    'goals_conceded': 0,\n    'own_goals': 0,\n    'penalties_saved': 0,\n    'penalties_missed': 0,\n    'yellow_cards': 0,\n    'red_cards': 0,\n    'saves': 0,\n    'bonus': 0,\n    'bps': 0,\n    'influence': '0.0',\n    'creativity': '0.0',\n    'threat': '0.0',\n    'ict_index': '0.0',\n    'total_points': 0,\n    'in_dreamteam': False},\n   'explain': [{'fixture': 3,\n     'stats': [{'identifier': 'minutes', 'points': 0, 'value': 0}]}]},\n  {'id': 316,\n   'stats': {'minutes': 0,\n    'goals_scored': 0,\n    'assists': 0,\n    'clean_sheets': 0,\n    'goals_conceded': 0,\n    'own_goals': 0,\n    'penalties_saved': 0,\n    'penalties_missed': 0,\n    'yellow_cards': 0,\n    'red_cards': 0,\n    'saves': 0,\n    'bonus': 0,\n    'bps': 0,\n    'influence': '0.0',\n    'creativity': '0.0',\n    'threat': '0.0',\n    'ict_index': '0.0',\n    'total_points': 0,\n    'in_dreamteam': False},\n   'explain': [{'fixture': 3,\n     'stats': [{'identifier': 'minutes', 'points': 0, 'value': 0}]}]},\n  {'id': 338,\n   'stats': {'minutes': 90,\n    'goals_scored': 2,\n    'assists': 0,\n    'clean_sheets': 0,\n    'goals_conceded': 1,\n    'own_goals': 0,\n    'penalties_saved': 0,\n    'penalties_missed': 0,\n    'yellow_cards': 0,\n    'red_cards': 0,\n    'saves': 0,\n    'bonus': 3,\n    'bps': 50,\n    'influence': '64.2',\n    'creativity': '24.1',\n    'threat': '95.0',\n    'ict_index': '18.3',\n    'total_points': 13,\n    'in_dreamteam': True},\n   'explain': [{'fixture': 6,\n     'stats': [{'identifier': 'minutes', 'points': 2, 'value': 90},\n      {'identifier': 'goals_scored', 'points': 8, 'value': 2},\n      {'identifier': 'bonus', 'points': 3, 'value': 3}]}]},\n  {'id': 339,\n   'stats': {'minutes': 0,\n    'goals_scored': 0,\n    'assists': 0,\n    'clean_sheets': 0,\n    'goals_conceded': 0,\n    'own_goals': 0,\n    'penalties_saved': 0,\n    'penalties_missed': 0,\n    'yellow_cards': 0,\n    'red_cards': 0,\n    'saves': 0,\n    'bonus': 0,\n    'bps': 0,\n    'influence': '0.0',\n    'creativity': '0.0',\n    'threat': '0.0',\n    'ict_index': '0.0',\n    'total_points': 0,\n    'in_dreamteam': False},\n   'explain': [{'fixture': 6,\n     'stats': [{'identifier': 'minutes', 'points': 0, 'value': 0}]}]},\n  {'id': 362,\n   'stats': {'minutes': 90,\n    'goals_scored': 0,\n    'assists': 0,\n    'clean_sheets': 0,\n    'goals_conceded': 3,\n    'own_goals': 0,\n    'penalties_saved': 0,\n    'penalties_missed': 0,\n    'yellow_cards': 0,\n    'red_cards': 0,\n    'saves': 0,\n    'bonus': 0,\n    'bps': 6,\n    'influence': '7.6',\n    'creativity': '14.5',\n    'threat': '9.0',\n    'ict_index': '3.1',\n    'total_points': 2,\n    'in_dreamteam': False},\n   'explain': [{'fixture': 7,\n     'stats': [{'identifier': 'minutes', 'points': 2, 'value': 90}]}]},\n  {'id': 363,\n   'stats': {'minutes': 45,\n    'goals_scored': 0,\n    'assists': 0,\n    'clean_sheets': 0,\n    'goals_conceded': 1,\n    'own_goals': 0,\n    'penalties_saved': 0,\n    'penalties_missed': 0,\n    'yellow_cards': 0,\n    'red_cards': 0,\n    'saves': 0,\n    'bonus': 0,\n    'bps': 1,\n    'influence': '0.0',\n    'creativity': '5.5',\n    'threat': '3.0',\n    'ict_index': '0.6',\n    'total_points': 1,\n    'in_dreamteam': False},\n   'explain': [{'fixture': 7,\n     'stats': [{'identifier': 'minutes', 'points': 1, 'value': 45}]}]},\n  {'id': 364,\n   'stats': {'minutes': 74,\n    'goals_scored': 0,\n    'assists': 0,\n    'clean_sheets': 0,\n    'goals_conceded': 2,\n    'own_goals': 0,\n    'penalties_saved': 0,\n    'penalties_missed': 0,\n    'yellow_cards': 0,\n    'red_cards': 0,\n    'saves': 0,\n    'bonus': 0,\n    'bps': 3,\n    'influence': '1.4',\n    'creativity': '2.5',\n    'threat': '17.0',\n    'ict_index': '2.1',\n    'total_points': 2,\n    'in_dreamteam': False},\n   'explain': [{'fixture': 7,\n     'stats': [{'identifier': 'minutes', 'points': 2, 'value': 74}]}]},\n  {'id': 365,\n   'stats': {'minutes': 15,\n    'goals_scored': 0,\n    'assists': 0,\n    'clean_sheets': 0,\n    'goals_conceded': 1,\n    'own_goals': 0,\n    'penalties_saved': 0,\n    'penalties_missed': 0,\n    'yellow_cards': 0,\n    'red_cards': 0,\n    'saves': 0,\n    'bonus': 0,\n    'bps': 1,\n    'influence': '0.0',\n    'creativity': '0.0',\n    'threat': '0.0',\n    'ict_index': '0.0',\n    'total_points': 1,\n    'in_dreamteam': False},\n   'explain': [{'fixture': 7,\n     'stats': [{'identifier': 'minutes', 'points': 1, 'value': 15}]}]},\n  {'id': 385,\n   'stats': {'minutes': 0,\n    'goals_scored': 0,\n    'assists': 0,\n    'clean_sheets': 0,\n    'goals_conceded': 0,\n    'own_goals': 0,\n    'penalties_saved': 0,\n    'penalties_missed': 0,\n    'yellow_cards': 0,\n    'red_cards': 0,\n    'saves': 0,\n    'bonus': 0,\n    'bps': 0,\n    'influence': '0.0',\n    'creativity': '0.0',\n    'threat': '0.0',\n    'ict_index': '0.0',\n    'total_points': 0,\n    'in_dreamteam': False},\n   'explain': [{'fixture': 8,\n     'stats': [{'identifier': 'minutes', 'points': 0, 'value': 0}]}]},\n  {'id': 386,\n   'stats': {'minutes': 24,\n    'goals_scored': 0,\n    'assists': 0,\n    'clean_sheets': 0,\n    'goals_conceded': 3,\n    'own_goals': 0,\n    'penalties_saved': 0,\n    'penalties_missed': 0,\n    'yellow_cards': 0,\n    'red_cards': 0,\n    'saves': 0,\n    'bonus': 0,\n    'bps': -2,\n    'influence': '1.6',\n    'creativity': '1.0',\n    'threat': '18.0',\n    'ict_index': '2.1',\n    'total_points': 1,\n    'in_dreamteam': False},\n   'explain': [{'fixture': 8,\n     'stats': [{'identifier': 'minutes', 'points': 1, 'value': 24}]}]},\n  {'id': 387,\n   'stats': {'minutes': 0,\n    'goals_scored': 0,\n    'assists': 0,\n    'clean_sheets': 0,\n    'goals_conceded': 0,\n    'own_goals': 0,\n    'penalties_saved': 0,\n    'penalties_missed': 0,\n    'yellow_cards': 0,\n    'red_cards': 0,\n    'saves': 0,\n    'bonus': 0,\n    'bps': 0,\n    'influence': '0.0',\n    'creativity': '0.0',\n    'threat': '0.0',\n    'ict_index': '0.0',\n    'total_points': 0,\n    'in_dreamteam': False},\n   'explain': [{'fixture': 8,\n     'stats': [{'identifier': 'minutes', 'points': 0, 'value': 0}]}]},\n  {'id': 409,\n   'stats': {'minutes': 90,\n    'goals_scored': 0,\n    'assists': 0,\n    'clean_sheets': 1,\n    'goals_conceded': 0,\n    'own_goals': 0,\n    'penalties_saved': 0,\n    'penalties_missed': 0,\n    'yellow_cards': 0,\n    'red_cards': 0,\n    'saves': 0,\n    'bonus': 0,\n    'bps': 10,\n    'influence': '18.8',\n    'creativity': '12.2',\n    'threat': '30.0',\n    'ict_index': '6.1',\n    'total_points': 2,\n    'in_dreamteam': False},\n   'explain': [{'fixture': 5,\n     'stats': [{'identifier': 'minutes', 'points': 2, 'value': 90}]}]},\n  {'id': 410,\n   'stats': {'minutes': 75,\n    'goals_scored': 0,\n    'assists': 0,\n    'clean_sheets': 1,\n    'goals_conceded': 0,\n    'own_goals': 0,\n    'penalties_saved': 0,\n    'penalties_missed': 0,\n    'yellow_cards': 0,\n    'red_cards': 0,\n    'saves': 0,\n    'bonus': 0,\n    'bps': 4,\n    'influence': '1.6',\n    'creativity': '12.3',\n    'threat': '25.0',\n    'ict_index': '3.9',\n    'total_points': 2,\n    'in_dreamteam': False},\n   'explain': [{'fixture': 5,\n     'stats': [{'identifier': 'minutes', 'points': 2, 'value': 75}]}]},\n  {'id': 428,\n   'stats': {'minutes': 73,\n    'goals_scored': 0,\n    'assists': 0,\n    'clean_sheets': 0,\n    'goals_conceded': 1,\n    'own_goals': 0,\n    'penalties_saved': 0,\n    'penalties_missed': 0,\n    'yellow_cards': 0,\n    'red_cards': 0,\n    'saves': 0,\n    'bonus': 0,\n    'bps': 2,\n    'influence': '5.0',\n    'creativity': '1.1',\n    'threat': '17.0',\n    'ict_index': '2.3',\n    'total_points': 2,\n    'in_dreamteam': False},\n   'explain': [{'fixture': 6,\n     'stats': [{'identifier': 'minutes', 'points': 2, 'value': 73}]}]},\n  {'id': 434,\n   'stats': {'minutes': 7,\n    'goals_scored': 0,\n    'assists': 0,\n    'clean_sheets': 0,\n    'goals_conceded': 0,\n    'own_goals': 0,\n    'penalties_saved': 0,\n    'penalties_missed': 0,\n    'yellow_cards': 0,\n    'red_cards': 0,\n    'saves': 0,\n    'bonus': 0,\n    'bps': 3,\n    'influence': '0.0',\n    'creativity': '0.3',\n    'threat': '2.0',\n    'ict_index': '0.2',\n    'total_points': 1,\n    'in_dreamteam': False},\n   'explain': [{'fixture': 1,\n     'stats': [{'identifier': 'minutes', 'points': 1, 'value': 7}]}]},\n  {'id': 437,\n   'stats': {'minutes': 72,\n    'goals_scored': 0,\n    'assists': 0,\n    'clean_sheets': 0,\n    'goals_conceded': 2,\n    'own_goals': 0,\n    'penalties_saved': 0,\n    'penalties_missed': 0,\n    'yellow_cards': 0,\n    'red_cards': 0,\n    'saves': 0,\n    'bonus': 0,\n    'bps': -5,\n    'influence': '0.0',\n    'creativity': '1.8',\n    'threat': '21.0',\n    'ict_index': '1.6',\n    'total_points': 2,\n    'in_dreamteam': False},\n   'explain': [{'fixture': 3,\n     'stats': [{'identifier': 'minutes', 'points': 2, 'value': 72}]}]},\n  {'id': 451,\n   'stats': {'minutes': 6,\n    'goals_scored': 0,\n    'assists': 0,\n    'clean_sheets': 0,\n    'goals_conceded': 0,\n    'own_goals': 0,\n    'penalties_saved': 0,\n    'penalties_missed': 0,\n    'yellow_cards': 0,\n    'red_cards': 0,\n    'saves': 0,\n    'bonus': 0,\n    'bps': 2,\n    'influence': '0.0',\n    'creativity': '0.0',\n    'threat': '0.0',\n    'ict_index': '0.0',\n    'total_points': 1,\n    'in_dreamteam': False},\n   'explain': [{'fixture': 3,\n     'stats': [{'identifier': 'minutes', 'points': 1, 'value': 6}]}]},\n  {'id': 457,\n   'stats': {'minutes': 90,\n    'goals_scored': 0,\n    'assists': 0,\n    'clean_sheets': 0,\n    'goals_conceded': 5,\n    'own_goals': 0,\n    'penalties_saved': 0,\n    'penalties_missed': 0,\n    'yellow_cards': 0,\n    'red_cards': 0,\n    'saves': 0,\n    'bonus': 0,\n    'bps': 15,\n    'influence': '15.0',\n    'creativity': '7.8',\n    'threat': '17.0',\n    'ict_index': '4.0',\n    'total_points': 2,\n    'in_dreamteam': False},\n   'explain': [{'fixture': 8,\n     'stats': [{'identifier': 'minutes', 'points': 2, 'value': 90}]}]},\n  {'id': 460,\n   'stats': {'minutes': 65,\n    'goals_scored': 0,\n    'assists': 0,\n    'clean_sheets': 0,\n    'goals_conceded': 2,\n    'own_goals': 0,\n    'penalties_saved': 0,\n    'penalties_missed': 0,\n    'yellow_cards': 1,\n    'red_cards': 0,\n    'saves': 0,\n    'bonus': 0,\n    'bps': 1,\n    'influence': '0.0',\n    'creativity': '0.8',\n    'threat': '24.0',\n    'ict_index': '2.4',\n    'total_points': 1,\n    'in_dreamteam': False},\n   'explain': [{'fixture': 9,\n     'stats': [{'identifier': 'minutes', 'points': 2, 'value': 65},\n      {'identifier': 'yellow_cards', 'points': -1, 'value': 1}]}]},\n  {'id': 461,\n   'stats': {'minutes': 0,\n    'goals_scored': 0,\n    'assists': 0,\n    'clean_sheets': 0,\n    'goals_conceded': 0,\n    'own_goals': 0,\n    'penalties_saved': 0,\n    'penalties_missed': 0,\n    'yellow_cards': 0,\n    'red_cards': 0,\n    'saves': 0,\n    'bonus': 0,\n    'bps': 0,\n    'influence': '0.0',\n    'creativity': '0.0',\n    'threat': '0.0',\n    'ict_index': '0.0',\n    'total_points': 0,\n    'in_dreamteam': False},\n   'explain': [{'fixture': 9,\n     'stats': [{'identifier': 'minutes', 'points': 0, 'value': 0}]}]},\n  {'id': 464,\n   'stats': {'minutes': 0,\n    'goals_scored': 0,\n    'assists': 0,\n    'clean_sheets': 0,\n    'goals_conceded': 0,\n    'own_goals': 0,\n    'penalties_saved': 0,\n    'penalties_missed': 0,\n    'yellow_cards': 0,\n    'red_cards': 0,\n    'saves': 0,\n    'bonus': 0,\n    'bps': 0,\n    'influence': '0.0',\n    'creativity': '0.0',\n    'threat': '0.0',\n    'ict_index': '0.0',\n    'total_points': 0,\n    'in_dreamteam': False},\n   'explain': [{'fixture': 1,\n     'stats': [{'identifier': 'minutes', 'points': 0, 'value': 0}]}]},\n  {'id': 466,\n   'stats': {'minutes': 90,\n    'goals_scored': 0,\n    'assists': 0,\n    'clean_sheets': 0,\n    'goals_conceded': 1,\n    'own_goals': 0,\n    'penalties_saved': 0,\n    'penalties_missed': 0,\n    'yellow_cards': 0,\n    'red_cards': 0,\n    'saves': 0,\n    'bonus': 0,\n    'bps': 15,\n    'influence': '6.0',\n    'creativity': '2.5',\n    'threat': '24.0',\n    'ict_index': '3.3',\n    'total_points': 2,\n    'in_dreamteam': False},\n   'explain': [{'fixture': 10,\n     'stats': [{'identifier': 'minutes', 'points': 2, 'value': 90}]}]},\n  {'id': 468,\n   'stats': {'minutes': 64,\n    'goals_scored': 0,\n    'assists': 0,\n    'clean_sheets': 1,\n    'goals_conceded': 0,\n    'own_goals': 0,\n    'penalties_saved': 0,\n    'penalties_missed': 0,\n    'yellow_cards': 0,\n    'red_cards': 0,\n    'saves': 0,\n    'bonus': 0,\n    'bps': 8,\n    'influence': '9.0',\n    'creativity': '12.8',\n    'threat': '19.0',\n    'ict_index': '4.1',\n    'total_points': 2,\n    'in_dreamteam': False},\n   'explain': [{'fixture': 4,\n     'stats': [{'identifier': 'minutes', 'points': 2, 'value': 64}]}]},\n  {'id': 487,\n   'stats': {'minutes': 14,\n    'goals_scored': 0,\n    'assists': 0,\n    'clean_sheets': 0,\n    'goals_conceded': 0,\n    'own_goals': 0,\n    'penalties_saved': 0,\n    'penalties_missed': 0,\n    'yellow_cards': 0,\n    'red_cards': 0,\n    'saves': 0,\n    'bonus': 0,\n    'bps': -1,\n    'influence': '5.4',\n    'creativity': '0.0',\n    'threat': '0.0',\n    'ict_index': '0.5',\n    'total_points': 1,\n    'in_dreamteam': False},\n   'explain': [{'fixture': 5,\n     'stats': [{'identifier': 'minutes', 'points': 1, 'value': 14}]}]},\n  {'id': 496,\n   'stats': {'minutes': 21,\n    'goals_scored': 0,\n    'assists': 0,\n    'clean_sheets': 0,\n    'goals_conceded': 0,\n    'own_goals': 0,\n    'penalties_saved': 0,\n    'penalties_missed': 0,\n    'yellow_cards': 0,\n    'red_cards': 0,\n    'saves': 0,\n    'bonus': 0,\n    'bps': 4,\n    'influence': '1.0',\n    'creativity': '1.2',\n    'threat': '0.0',\n    'ict_index': '0.2',\n    'total_points': 1,\n    'in_dreamteam': False},\n   'explain': [{'fixture': 4,\n     'stats': [{'identifier': 'minutes', 'points': 1, 'value': 21}]}]},\n  {'id': 501,\n   'stats': {'minutes': 27,\n    'goals_scored': 0,\n    'assists': 0,\n    'clean_sheets': 0,\n    'goals_conceded': 0,\n    'own_goals': 0,\n    'penalties_saved': 0,\n    'penalties_missed': 0,\n    'yellow_cards': 0,\n    'red_cards': 0,\n    'saves': 0,\n    'bonus': 0,\n    'bps': 3,\n    'influence': '3.4',\n    'creativity': '1.4',\n    'threat': '4.0',\n    'ict_index': '0.9',\n    'total_points': 1,\n    'in_dreamteam': False},\n   'explain': [{'fixture': 2,\n     'stats': [{'identifier': 'minutes', 'points': 1, 'value': 27}]}]},\n  {'id': 502,\n   'stats': {'minutes': 26,\n    'goals_scored': 1,\n    'assists': 0,\n    'clean_sheets': 0,\n    'goals_conceded': 0,\n    'own_goals': 0,\n    'penalties_saved': 0,\n    'penalties_missed': 0,\n    'yellow_cards': 0,\n    'red_cards': 0,\n    'saves': 0,\n    'bonus': 1,\n    'bps': 27,\n    'influence': '34.2',\n    'creativity': '2.8',\n    'threat': '19.0',\n    'ict_index': '5.6',\n    'total_points': 6,\n    'in_dreamteam': False},\n   'explain': [{'fixture': 7,\n     'stats': [{'identifier': 'minutes', 'points': 1, 'value': 26},\n      {'identifier': 'goals_scored', 'points': 4, 'value': 1},\n      {'identifier': 'bonus', 'points': 1, 'value': 1}]}]},\n  {'id': 504,\n   'stats': {'minutes': 6,\n    'goals_scored': 0,\n    'assists': 0,\n    'clean_sheets': 0,\n    'goals_conceded': 0,\n    'own_goals': 0,\n    'penalties_saved': 0,\n    'penalties_missed': 0,\n    'yellow_cards': 0,\n    'red_cards': 0,\n    'saves': 0,\n    'bonus': 0,\n    'bps': 2,\n    'influence': '1.0',\n    'creativity': '0.5',\n    'threat': '0.0',\n    'ict_index': '0.2',\n    'total_points': 1,\n    'in_dreamteam': False},\n   'explain': [{'fixture': 10,\n     'stats': [{'identifier': 'minutes', 'points': 1, 'value': 6}]}]},\n  {'id': 509,\n   'stats': {'minutes': 0,\n    'goals_scored': 0,\n    'assists': 0,\n    'clean_sheets': 0,\n    'goals_conceded': 0,\n    'own_goals': 0,\n    'penalties_saved': 0,\n    'penalties_missed': 0,\n    'yellow_cards': 0,\n    'red_cards': 0,\n    'saves': 0,\n    'bonus': 0,\n    'bps': 0,\n    'influence': '0.0',\n    'creativity': '0.0',\n    'threat': '0.0',\n    'ict_index': '0.0',\n    'total_points': 0,\n    'in_dreamteam': False},\n   'explain': [{'fixture': 6,\n     'stats': [{'identifier': 'minutes', 'points': 0, 'value': 0}]}]},\n  {'id': 512,\n   'stats': {'minutes': 0,\n    'goals_scored': 0,\n    'assists': 0,\n    'clean_sheets': 0,\n    'goals_conceded': 0,\n    'own_goals': 0,\n    'penalties_saved': 0,\n    'penalties_missed': 0,\n    'yellow_cards': 0,\n    'red_cards': 0,\n    'saves': 0,\n    'bonus': 0,\n    'bps': 0,\n    'influence': '0.0',\n    'creativity': '0.0',\n    'threat': '0.0',\n    'ict_index': '0.0',\n    'total_points': 0,\n    'in_dreamteam': False},\n   'explain': [{'fixture': 7,\n     'stats': [{'identifier': 'minutes', 'points': 0, 'value': 0}]}]},\n  {'id': 514,\n   'stats': {'minutes': 0,\n    'goals_scored': 0,\n    'assists': 0,\n    'clean_sheets': 0,\n    'goals_conceded': 0,\n    'own_goals': 0,\n    'penalties_saved': 0,\n    'penalties_missed': 0,\n    'yellow_cards': 0,\n    'red_cards': 0,\n    'saves': 0,\n    'bonus': 0,\n    'bps': 0,\n    'influence': '0.0',\n    'creativity': '0.0',\n    'threat': '0.0',\n    'ict_index': '0.0',\n    'total_points': 0,\n    'in_dreamteam': False},\n   'explain': [{'fixture': 8,\n     'stats': [{'identifier': 'minutes', 'points': 0, 'value': 0}]}]},\n  {'id': 520,\n   'stats': {'minutes': 0,\n    'goals_scored': 0,\n    'assists': 0,\n    'clean_sheets': 0,\n    'goals_conceded': 0,\n    'own_goals': 0,\n    'penalties_saved': 0,\n    'penalties_missed': 0,\n    'yellow_cards': 0,\n    'red_cards': 0,\n    'saves': 0,\n    'bonus': 0,\n    'bps': 0,\n    'influence': '0.0',\n    'creativity': '0.0',\n    'threat': '0.0',\n    'ict_index': '0.0',\n    'total_points': 0,\n    'in_dreamteam': False},\n   'explain': [{'fixture': 10,\n     'stats': [{'identifier': 'minutes', 'points': 0, 'value': 0}]}]}]}"
     },
     "execution_count": 22,
     "metadata": {},
     "output_type": "execute_result"
    }
   ],
   "source": [
    "player_scores_gameweek1_json\n"
   ]
  },
  {
   "cell_type": "code",
   "execution_count": 23,
   "metadata": {},
   "outputs": [
    {
     "name": "stdout",
     "output_type": "stream",
     "text": "{'id': 346, 'stats': {'minutes': 87, 'goals_scored': 0, 'assists': 0, 'clean_sheets': 0, 'goals_conceded': 1, 'own_goals': 0, 'penalties_saved': 0, 'penalties_missed': 0, 'yellow_cards': 1, 'red_cards': 0, 'saves': 0, 'bonus': 0, 'bps': 15, 'influence': '11.6', 'creativity': '38.3', 'threat': '39.0', 'ict_index': '8.9', 'total_points': 1, 'in_dreamteam': False}, 'explain': [{'fixture': 6, 'stats': [{'identifier': 'minutes', 'points': 2, 'value': 87}, {'identifier': 'yellow_cards', 'points': -1, 'value': 1}]}]}\n"
    }
   ],
   "source": [
    "\n",
    "for item in player_scores_gameweek1_json['elements']:\n",
    "    if item['id'] == 346:\n",
    "        print(item)"
   ]
  },
  {
   "cell_type": "code",
   "execution_count": 24,
   "metadata": {},
   "outputs": [],
   "source": [
    "# I'll create a dictionary with the contents of each page so I don't end up sending a couple of thousand requests to their server\n",
    "\n",
    "all_weeks_dict = {}\n",
    "for i in range(1,26):\n",
    "    #remember I'm getting 25 weeks worth of data change this as necessary for yourself\n",
    "    url = \"https://fantasy.premierleague.com/api/event/\"+ str(i)+\"/live\"\n",
    "    player_scores_gameweek = session.get(url)\n",
    "    all_weeks_dict[i] = json.loads(player_scores_gameweek.text)\n",
    "    \n",
    "\n",
    "\n"
   ]
  },
  {
   "cell_type": "code",
   "execution_count": 25,
   "metadata": {},
   "outputs": [
    {
     "data": {
      "text/plain": "{'id': 14,\n 'stats': {'minutes': 90,\n  'goals_scored': 0,\n  'assists': 0,\n  'clean_sheets': 1,\n  'goals_conceded': 0,\n  'own_goals': 0,\n  'penalties_saved': 0,\n  'penalties_missed': 0,\n  'yellow_cards': 0,\n  'red_cards': 0,\n  'saves': 2,\n  'bonus': 1,\n  'bps': 27,\n  'influence': '18.0',\n  'creativity': '0.0',\n  'threat': '0.0',\n  'ict_index': '1.8',\n  'total_points': 7,\n  'in_dreamteam': False},\n 'explain': [{'fixture': 10,\n   'stats': [{'identifier': 'minutes', 'points': 2, 'value': 90},\n    {'identifier': 'clean_sheets', 'points': 4, 'value': 1},\n    {'identifier': 'bonus', 'points': 1, 'value': 1}]}]}"
     },
     "execution_count": 25,
     "metadata": {},
     "output_type": "execute_result"
    }
   ],
   "source": [
    "all_weeks_dict[1][\"elements\"][0]"
   ]
  },
  {
   "cell_type": "code",
   "execution_count": 26,
   "metadata": {},
   "outputs": [
    {
     "data": {
      "text/html": "<div>\n<style scoped>\n    .dataframe tbody tr th:only-of-type {\n        vertical-align: middle;\n    }\n\n    .dataframe tbody tr th {\n        vertical-align: top;\n    }\n\n    .dataframe thead th {\n        text-align: right;\n    }\n</style>\n<table border=\"1\" class=\"dataframe\">\n  <thead>\n    <tr style=\"text-align: right;\">\n      <th></th>\n      <th>team_id</th>\n      <th>gameweek</th>\n      <th>player_id</th>\n      <th>position</th>\n      <th>subbed</th>\n    </tr>\n  </thead>\n  <tbody>\n    <tr>\n      <td>0</td>\n      <td>333932</td>\n      <td>1</td>\n      <td>149</td>\n      <td>1</td>\n      <td>N/A</td>\n    </tr>\n    <tr>\n      <td>1</td>\n      <td>333932</td>\n      <td>1</td>\n      <td>204</td>\n      <td>2</td>\n      <td>N/A</td>\n    </tr>\n    <tr>\n      <td>2</td>\n      <td>333932</td>\n      <td>1</td>\n      <td>122</td>\n      <td>3</td>\n      <td>Subbed In</td>\n    </tr>\n    <tr>\n      <td>3</td>\n      <td>333932</td>\n      <td>1</td>\n      <td>334</td>\n      <td>4</td>\n      <td>N/A</td>\n    </tr>\n    <tr>\n      <td>4</td>\n      <td>333932</td>\n      <td>1</td>\n      <td>346</td>\n      <td>5</td>\n      <td>N/A</td>\n    </tr>\n    <tr>\n      <td>...</td>\n      <td>...</td>\n      <td>...</td>\n      <td>...</td>\n      <td>...</td>\n      <td>...</td>\n    </tr>\n    <tr>\n      <td>2245</td>\n      <td>299717</td>\n      <td>25</td>\n      <td>363</td>\n      <td>11</td>\n      <td>N/A</td>\n    </tr>\n    <tr>\n      <td>2246</td>\n      <td>299717</td>\n      <td>25</td>\n      <td>14</td>\n      <td>12</td>\n      <td>N/A</td>\n    </tr>\n    <tr>\n      <td>2247</td>\n      <td>299717</td>\n      <td>25</td>\n      <td>522</td>\n      <td>13</td>\n      <td>N/A</td>\n    </tr>\n    <tr>\n      <td>2248</td>\n      <td>299717</td>\n      <td>25</td>\n      <td>505</td>\n      <td>14</td>\n      <td>N/A</td>\n    </tr>\n    <tr>\n      <td>2249</td>\n      <td>299717</td>\n      <td>25</td>\n      <td>477</td>\n      <td>15</td>\n      <td>N/A</td>\n    </tr>\n  </tbody>\n</table>\n<p>2250 rows × 5 columns</p>\n</div>",
      "text/plain": "     team_id  gameweek  player_id  position     subbed\n0     333932         1        149         1        N/A\n1     333932         1        204         2        N/A\n2     333932         1        122         3  Subbed In\n3     333932         1        334         4        N/A\n4     333932         1        346         5        N/A\n...      ...       ...        ...       ...        ...\n2245  299717        25        363        11        N/A\n2246  299717        25         14        12        N/A\n2247  299717        25        522        13        N/A\n2248  299717        25        505        14        N/A\n2249  299717        25        477        15        N/A\n\n[2250 rows x 5 columns]"
     },
     "execution_count": 26,
     "metadata": {},
     "output_type": "execute_result"
    }
   ],
   "source": [
    "all_players_df.reset_index(drop=True)"
   ]
  },
  {
   "cell_type": "code",
   "execution_count": 27,
   "metadata": {},
   "outputs": [
    {
     "name": "stdout",
     "output_type": "stream",
     "text": "\n1\n0\n2\n2\n0\n0\n0\n0\n0\n2\n2\n0\n2\n1\n2\n1\n0\n2\n1\n0\n0\n1\n1\n1\n0\n0\n7\n1\n2\n0\n2\n0\n0\n1\n1\n0\n0\n0\n0\n10\n0\n14\n5\n1\n1\n5\n8\n6\n0\n1\n9\n2\n1\n1\n7\n0\n0\n2\n0\n1\n13\n0\n0\n0\n0\n2\n0\n3\n0\n0\n0\n0\n1\n3\n0\n6\n0\n0\n4\n8\n0\n3\n0\n0\n2\n0\n6\n0\n3\n0\n0\n4\n0\n0\n6\n0\n0\n0\n0\n2\n0\n2\n2\n0\n0\n3\n0\n0\n0\n0\n0\n0\n5\n6\n0\n0\n6\n0\n0\n0\n0\n0\n0\n0\n0\n0\n0\n0\n0\n0\n0\n0\n1\n0\n1\n0\n0\n0\n0\n0\n0\n0\n0\n0\n1\n1\n0\n0\n0\n1\n0\n9\n8\n0\n0\n0\n5\n0\n8\n0\n1\n1\n0\n0\n0\n0\n0\n14\n0\n6\n2\n0\n0\n0\n2\n1\n1\n0\n1\n1\n0\n6\n6\n7\n0\n0\n2\n2\n2\n2\n0\n2\n1\n8\n2\n2\n0\n2\n0\n0\n0\n6\n0\n0\n1\n0\n0\n0\n2\n2\n0\n2\n0\n0\n0\n0\n0\n2\n2\n0\n0\n0\n0\n2\n1\n0\n1\n6\n0\n5\n0\n6\n0\n11\n6\n8\n0\n6\n2\n1\n1\n2\n0\n10\n2\n0\n0\n2\n2\n1\n0\n0\n0\n2\n0\n1\n2\n0\n0\n0\n2\n12\n0\n0\n0\n1\n1\n0\n1\n0\n0\n0\n0\n4\n2\n1\n1\n2\n0\n0\n0\n7\n0\n2\n0\n0\n2\n0\n1\n0\n0\n2\n5\n7\n1\n1\n1\n0\n1\n0\n0\n0\n0\n7\n2\n1\n1\n9\n0\n9\n0\n5\n1\n0\n0\n0\n0\n0\n1\n0\n0\n0\n3\n2\n0\n0\n2\n1\n13\n2\n2\n0\n0\n1\n0\n0\n6\n0\n0\n0\n0\n2\n0\n0\n2\n3\n0\n0\n0\n3\n0\n0\n0\n0\n5\n2\n0\n1\n2\n0\n3\n0\n0\n9\n1\n3\n0\n0\n0\n2\n1\n1\n0\n1\n2\n2\n0\n6\n6\n10\n6\n2\n0\n0\n0\n0\n2\n11\n0\n0\n1\n2\n0\n0\n0\n0\n0\n2\n1\n0\n7\n1\n1\n2\n2\n0\n0\n5\n3\n0\n0\n6\n11\n1\n3\n3\n0\n1\n0\n0\n0\n6\n2\n0\n2\n0\n2\n0\n0\n2\n3\n1\n0\n0\n2\n0\n0\n3\n1\n0\n2\n3\n3\n3\n1\n0\n2\n3\n2\n2\n0\n0\n0\n6\n0\n0\n2\n1\n0\n7\n2\n1\n2\n0\n1\n0\n0\n0\n9\n2\n1\n2\n0\n0\n2\n0\n0\n1\n2\n1\n0\n1\n1\n2\n0\n0\n2\n0\n1\n2\n0\n2\n0\n0\n2\n0\n2\n1\n1\n1\n0\n0\n1\n1\n3\n9\n0\n0\n0\n3\n1\n1\n1\n0\n3\n0\n0\n0\n2\n0\n1\n2\n1\n0\n0\n2\n3\n3\n1\n0\n-2\n1\n0\n0\n0\n0\n0\n0\n0\n1\n0\n2\n1\n0\n0\n2\n1\n0\n0\n0\n0\n0\n2\n1\n2\n6\n0\n0\n5\n1\n0\n1\n0\n0\n0\n8\n0\n2\n1\n0\n7\n0\n9\n0\n0\n0\n1\n1\n1\n1\n0\n9\n0\n0\n0\n2\n0\n0\n2\n0\n0\n0\n0\n0\n7\n1\n2\n0\n0\n2\n2\n2\n0\n0\n2\n2\n2\n1\n1\n2\n1\n0\n1\n1\n1\n1\n0\n0\n0\n1\n1\n0\n4\n0\n0\n0\n0\n1\n2\n0\n2\n0\n0\n2\n1\n0\n7\n0\n0\n3\n0\n9\n0\n2\n0\n0\n3\n0\n0\n16\n0\n0\n0\n0\n0\n0\n8\n10\n0\n0\n2\n0\n0\n0\n0\n0\n0\n2\n3\n0\n0\n8\n0\n0\n0\n0\n0\n0\n0\n0\n0\n0\n0\n0\n0\n0\n0\n1\n0\n7\n0\n0\n0\n0\n0\n0\n0\n0\n0\n0\n2\n0\n0\n0\n1\n0\n6\n8\n0\n0\n0\n6\n0\n5\n0\n0\n0\n0\n0\n0\n0\n0\n6\n0\n1\n7\n0\n0\n0\n1\n1\n1\n0\n1\n0\n0\n-1\n0\n1\n0\n0\n6\n2\n19\n6\n0\n6\n0\n2\n1\n2\n1\n0\n1\n0\n0\n6\n0\n0\n6\n0\n0\n0\n1\n2\n0\n0\n0\n0\n0\n0\n0\n0\n2\n8\n0\n0\n0\n10\n1\n0\n0\n0\n0\n1\n0\n4\n0\n2\n1\n2\n0\n2\n-1\n-6\n-1\n-2\n-1\n1\n-2\n0\n0\n0\n1\n0\n1\n0\n0\n1\n0\n0\n6\n6\n0\n0\n7\n6\n0\n0\n2\n0\n0\n2\n0\n1\n1\n0\n0\n2\n8\n2\n0\n0\n1\n2\n0\n2\n0\n5\n1\n0\n1\n0\n-1\n0\n1\n1\n1\n1\n0\n0\n1\n0\n3\n0\n0\n0\n0\n-1\n2\n1\n0\n1\n1\n6\n0\n1\n-1\n0\n1\n0\n0\n1\n0\n0\n0\n0\n2\n5\n0\n0\n1\n0\n1\n1\n2\n0\n0\n1\n0\n0\n7\n0\n0\n0\n0\n1\n0\n0\n1\n3\n0\n0\n0\n0\n0\n0\n3\n0\n8\n6\n0\n1\n2\n2\n12\n0\n0\n0\n0\n2\n0\n0\n0\n5\n10\n2\n0\n0\n7\n2\n0\n5\n2\n1\n2\n2\n0\n0\n1\n0\n8\n9\n0\n1\n1\n3\n0\n0\n0\n0\n7\n5\n0\n0\n0\n0\n2\n9\n2\n0\n0\n11\n6\n0\n0\n3\n9\n1\n0\n8\n0\n6\n0\n1\n0\n6\n2\n0\n3\n0\n8\n0\n1\n20\n2\n1\n0\n1\n-1\n0\n0\n2\n6\n1\n2\n1\n1\n2\n0\n0\n2\n2\n2\n2\n0\n1\n0\n2\n0\n0\n2\n5\n2\n2\n1\n0\n2\n0\n1\n0\n0\n0\n2\n2\n2\n1\n0\n0\n1\n0\n0\n3\n1\n8\n9\n0\n2\n2\n0\n0\n1\n0\n1\n2\n0\n2\n0\n0\n2\n4\n2\n0\n20\n2\n0\n0\n0\n0\n0\n11\n1\n0\n0\n5\n2\n2\n2\n0\n2\n0\n0\n0\n2\n0\n0\n2\n3\n0\n0\n2\n1\n2\n0\n0\n0\n0\n1\n1\n0\n0\n0\n1\n0\n2\n0\n2\n1\n0\n0\n2\n5\n0\n0\n1\n0\n0\n1\n2\n1\n7\n0\n2\n0\n1\n1\n1\n0\n0\n7\n20\n0\n2\n1\n1\n5\n0\n9\n1\n0\n0\n2\n0\n1\n2\n0\n1\n0\n0\n0\n7\n0\n0\n1\n1\n0\n0\n0\n0\n2\n2\n2\n0\n0\n6\n2\n5\n0\n0\n2\n8\n0\n0\n0\n9\n0\n0\n0\n1\n0\n8\n0\n0\n0\n1\n0\n4\n0\n6\n0\n0\n0\n0\n2\n2\n0\n2\n0\n2\n0\n2\n0\n8\n0\n0\n2\n0\n1\n0\n3\n0\n0\n2\n0\n0\n2\n0\n0\n0\n1\n0\n0\n2\n3\n0\n0\n3\n0\n0\n0\n0\n0\n0\n3\n6\n0\n0\n9\n0\n0\n0\n0\n0\n0\n0\n0\n0\n0\n0\n0\n0\n0\n0\n1\n0\n2\n0\n0\n0\n0\n0\n0\n0\n0\n0\n7\n12\n0\n0\n0\n7\n0\n5\n6\n0\n0\n0\n12\n0\n6\n0\n1\n0\n1\n0\n1\n0\n0\n0\n0\n2\n2\n2\n0\n0\n2\n1\n0\n0\n1\n0\n0\n6\n2\n0\n0\n0\n6\n2\n6\n5\n0\n14\n1\n9\n7\n1\n0\n0\n2\n0\n14\n0\n2\n0\n2\n1\n0\n0\n1\n1\n0\n0\n0\n0\n0\n0\n0\n0\n1\n6\n1\n0\n0\n1\n7\n0\n1\n1\n0\n1\n0\n6\n0\n6\n6\n6\n0\n21\n1\n0\n2\n1\n1\n1\n0\n0\n2\n0\n2\n0\n2\n0\n1\n9\n0\n0\n0\n1\n1\n1\n1\n0\n0\n0\n0\n0\n0\n1\n1\n0\n7\n0\n0\n2\n2\n2\n0\n0\n1\n1\n0\n5\n0\n0\n6\n1\n1\n0\n0\n0\n0\n1\n6\n2\n2\n0\n6\n0\n2\n0\n0\n0\n0\n1\n8\n1\n1\n2\n2\n0\n0\n2\n1\n0\n0\n0\n0\n1\n1\n0\n2\n0\n2\n0\n3\n0\n2\n1\n0\n1\n5\n0\n0\n0\n0\n0\n1\n0\n0\n0\n0\n3\n0\n0\n3\n2\n0\n0\n0\n1\n0\n0\n2\n0\n1\n1\n0\n2\n2\n2\n2\n0\n0\n1\n0\n4\n0\n0\n0\n2\n2\n0\n1\n1\n2\n2\n0\n2\n1\n0\n1\n2\n0\n0\n1\n0\n9\n3\n0\n0\n4\n3\n0\n0\n0\n0\n2\n12\n1\n0\n2\n1\n0\n2\n2\n0\n0\n1\n2\n0\n0\n2\n1\n1\n2\n1\n0\n2\n0\n1\n0\n2\n1\n0\n2\n0\n2\n0\n0\n3\n2\n1\n0\n9\n0\n5\n0\n2\n2\n1\n2\n1\n0\n2\n2\n0\n9\n3\n2\n9\n0\n5\n0\n1\n0\n0\n2\n2\n1\n9\n2\n0\n0\n0\n2\n0\n0\n0\n2\n2\n1\n0\n0\n0\n2\n0\n0\n2\n4\n1\n9\n0\n2\n1\n0\n0\n0\n0\n2\n6\n0\n2\n0\n0\n2\n11\n2\n0\n9\n2\n0\n1\n0\n2\n0\n3\n0\n0\n0\n1\n7\n2\n3\n0\n3\n0\n0\n0\n0\n0\n0\n2\n0\n0\n0\n2\n3\n0\n0\n0\n0\n1\n0\n1\n1\n0\n0\n1\n0\n3\n0\n0\n1\n0\n0\n0\n8\n4\n0\n1\n0\n0\n0\n1\n7\n0\n13\n0\n1\n0\n1\n0\n1\n0\n5\n1\n6\n0\n2\n1\n6\n1\n0\n2\n1\n0\n0\n2\n1\n1\n2\n0\n2\n0\n0\n0\n0\n0\n0\n7\n2\n0\n0\n0\n0\n9\n1\n2\n1\n1\n2\n5\n12\n1\n0\n5\n2\n0\n0\n1\n2\n1\n0\n0\n1\n1\n2\n0\n0\n0\n0\n0\n2\n2\n7\n0\n0\n0\n0\n9\n0\n0\n6\n0\n2\n0\n2\n0\n6\n0\n0\n2\n0\n0\n1\n2\n0\n0\n2\n0\n0\n1\n0\n0\n0\n2\n0\n0\n3\n9\n0\n0\n3\n0\n0\n0\n1\n0\n0\n2\n3\n0\n0\n4\n0\n0\n0\n0\n0\n0\n0\n0\n0\n0\n0\n0\n0\n0\n0\n0\n1\n0\n0\n0\n0\n0\n0\n1\n0\n0\n1\n0\n1\n-1\n0\n0\n0\n6\n0\n1\n1\n0\n0\n1\n1\n0\n1\n0\n5\n12\n0\n6\n6\n0\n0\n0\n0\n0\n1\n5\n0\n0\n2\n1\n1\n0\n1\n0\n0\n2\n2\n1\n0\n0\n7\n2\n6\n5\n0\n8\n0\n5\n2\n2\n1\n0\n2\n0\n1\n0\n0\n0\n1\n0\n0\n0\n0\n2\n0\n1\n0\n0\n0\n0\n0\n0\n8\n4\n6\n0\n0\n1\n10\n0\n1\n1\n0\n1\n0\n2\n0\n2\n8\n2\n0\n2\n1\n0\n0\n1\n1\n1\n0\n0\n2\n0\n0\n0\n2\n0\n0\n4\n0\n6\n3\n0\n1\n0\n6\n7\n0\n0\n1\n0\n0\n0\n0\n1\n1\n0\n0\n2\n1\n2\n1\n0\n0\n1\n0\n1\n0\n6\n1\n0\n0\n0\n0\n1\n0\n0\n0\n6\n1\n0\n0\n0\n6\n0\n0\n0\n1\n0\n2\n1\n6\n4\n0\n0\n0\n9\n0\n0\n0\n0\n0\n0\n1\n0\n2\n0\n1\n0\n2\n0\n2\n0\n0\n2\n2\n0\n0\n0\n1\n0\n4\n0\n0\n0\n0\n-1\n1\n0\n1\n5\n0\n0\n0\n2\n0\n0\n0\n0\n6\n1\n0\n3\n5\n3\n7\n0\n0\n1\n0\n0\n3\n0\n0\n1\n2\n2\n0\n1\n2\n2\n0\n10\n2\n0\n2\n10\n0\n0\n0\n2\n9\n3\n0\n0\n1\n3\n0\n0\n0\n0\n8\n7\n1\n0\n0\n0\n9\n6\n2\n1\n0\n2\n2\n0\n0\n10\n0\n0\n2\n2\n0\n10\n0\n1\n0\n2\n2\n0\n8\n0\n5\n0\n0\n1\n2\n1\n0\n2\n0\n1\n0\n2\n2\n2\n2\n1\n0\n2\n2\n0\n2\n1\n2\n2\n0\n2\n0\n0\n0\n0\n2\n8\n0\n3\n1\n0\n1\n0\n2\n1\n0\n0\n3\n1\n2\n0\n0\n3\n0\n0\n0\n1\n1\n2\n2\n0\n2\n1\n0\n0\n2\n0\n11\n4\n0\n5\n0\n0\n2\n1\n0\n0\n8\n2\n0\n2\n1\n1\n1\n6\n1\n0\n0\n3\n8\n0\n2\n0\n2\n0\n0\n0\n1\n0\n1\n1\n1\n0\n0\n5\n10\n0\n3\n0\n0\n1\n0\n2\n0\n0\n0\n1\n1\n2\n0\n0\n0\n0\n0\n0\n2\n2\n0\n0\n1\n0\n0\n2\n2\n1\n2\n0\n8\n6\n0\n0\n0\n0\n2\n1\n12\n0\n2\n0\n2\n0\n0\n5\n1\n0\n0\n2\n0\n0\n8\n0\n7\n1\n0\n0\n2\n0\n0\n12\n5\n0\n0\n0\n0\n9\n1\n2\n1\n1\n1\n2\n8\n4\n0\n2\n2\n1\n0\n0\n2\n0\n0\n0\n1\n1\n1\n0\n0\n0\n0\n0\n0\n9\n0\n3\n0\n0\n0\n0\n9\n7\n0\n1\n0\n1\n0\n2\n0\n6\n0\n0\n3\n0\n2\n0\n2\n0\n0\n3\n0\n0\n11\n0\n0\n0\n2\n0\n0\n2\n1\n0\n0\n2\n0\n0\n0\n0\n1\n0\n2\n0\n0\n0\n2\n0\n0\n0\n0\n0\n0\n0\n0\n0\n0\n0\n0\n0\n0\n0\n1\n0\n0\n0\n0\n0\n0\n0\n0\n0\n0\n0\n0\n1\n2\n0\n0\n0\n0\n0\n9\n1\n0\n0\n-3\n1\n0\n0\n0\n5\n17\n0\n6\n6\n0\n0\n0\n0\n1\n1\n0\n0\n0\n0\n1\n1\n0\n2\n0\n1\n1\n1\n0\n0\n0\n7\n1\n8\n6\n0\n6\n1\n6\n2\n2\n1\n0\n2\n0\n0\n2\n0\n0\n2\n0\n0\n0\n0\n1\n0\n0\n0\n0\n0\n1\n0\n0\n1\n0\n1\n0\n0\n0\n1\n0\n6\n5\n5\n0\n0\n1\n0\n1\n1\n0\n0\n3\n0\n3\n0\n1\n1\n7\n0\n0\n1\n0\n1\n1\n1\n0\n0\n6\n0\n1\n0\n0\n1\n1\n1\n0\n0\n0\n1\n7\n0\n0\n0\n0\n0\n0\n0\n2\n2\n2\n0\n0\n1\n1\n0\n1\n0\n1\n0\n1\n6\n0\n0\n6\n5\n0\n8\n1\n1\n0\n1\n0\n0\n1\n0\n0\n1\n0\n1\n1\n1\n2\n0\n2\n0\n1\n0\n0\n0\n0\n0\n1\n6\n0\n2\n0\n1\n0\n1\n0\n1\n14\n6\n8\n3\n0\n0\n0\n1\n0\n0\n0\n0\n0\n1\n2\n2\n0\n1\n5\n0\n0\n0\n2\n0\n1\n1\n0\n3\n0\n0\n3\n2\n3\n2\n0\n0\n0\n0\n1\n8\n0\n0\n7\n2\n5\n0\n1\n2\n2\n0\n2\n2\n0\n2\n2\n0\n0\n0\n0\n3\n3\n0\n0\n4\n3\n0\n0\n0\n0\n0\n9\n3\n0\n0\n0\n1\n3\n2\n1\n0\n2\n7\n0\n10\n0\n2\n1\n2\n0\n0\n2\n0\n1\n0\n5\n2\n0\n2\n0\n0\n0\n0\n8\n2\n1\n0\n2\n0\n2\n0\n1\n3\n0\n2\n10\n0\n2\n3\n0\n13\n2\n2\n5\n0\n2\n0\n2\n0\n0\n0\n13\n1\n5\n7\n0\n2\n0\n1\n2\n0\n0\n2\n0\n2\n0\n0\n2\n0\n0\n6\n1\n0\n1\n4\n0\n2\n5\n1\n0\n1\n0\n2\n10\n0\n5\n0\n0\n2\n2\n0\n0\n2\n7\n0\n1\n0\n0\n4\n3\n4\n0\n0\n1\n0\n0\n3\n0\n0\n0\n0\n0\n0\n0\n1\n0\n1\n0\n0\n2\n1\n1\n1\n0\n2\n1\n0\n0\n0\n1\n0\n0\n0\n0\n0\n0\n0\n0\n0\n0\n0\n5\n12\n0\n0\n1\n0\n0\n2\n0\n0\n7\n0\n6\n7\n0\n0\n1\n0\n2\n1\n12\n0\n9\n1\n2\n1\n0\n11\n5\n0\n0\n5\n6\n1\n2\n0\n6\n2\n1\n0\n6\n0\n1\n2\n0\n0\n0\n0\n0\n7\n5\n1\n0\n0\n1\n2\n2\n1\n0\n2\n2\n0\n0\n5\n2\n4\n0\n0\n0\n1\n0\n0\n0\n0\n1\n0\n0\n3\n0\n2\n0\n0\n0\n0\n1\n0\n0\n3\n0\n8\n0\n2\n0\n2\n0\n0\n-1\n0\n1\n0\n1\n0\n0\n4\n0\n0\n1\n0\n0\n0\n2\n0\n0\n2\n2\n0\n0\n3\n0\n0\n0\n0\n0\n0\n0\n3\n0\n0\n1\n0\n0\n0\n1\n0\n0\n0\n0\n0\n10\n0\n0\n0\n0\n4\n0\n1\n0\n0\n0\n0\n0\n0\n0\n0\n0\n0\n0\n0\n1\n0\n0\n0\n8\n0\n1\n1\n0\n0\n0\n0\n0\n0\n0\n1\n1\n0\n0\n1\n0\n0\n0\n0\n0\n1\n2\n0\n0\n1\n6\n8\n1\n0\n4\n6\n1\n1\n1\n0\n0\n7\n0\n2\n2\n0\n2\n0\n2\n10\n17\n0\n0\n2\n0\n1\n1\n0\n0\n1\n0\n0\n0\n0\n8\n0\n0\n0\n0\n0\n0\n0\n0\n0\n1\n1\n0\n0\n0\n1\n0\n1\n1\n1\n0\n0\n1\n0\n1\n4\n1\n0\n2\n0\n2\n1\n2\n2\n7\n0\n0\n0\n1\n4\n0\n1\n0\n0\n1\n0\n1\n0\n1\n1\n2\n1\n0\n0\n0\n14\n6\n1\n0\n6\n0\n7\n0\n0\n10\n2\n2\n0\n0\n0\n0\n2\n2\n0\n0\n0\n0\n7\n1\n0\n1\n1\n0\n0\n2\n0\n0\n1\n0\n1\n0\n0\n0\n2\n1\n7\n0\n2\n4\n0\n0\n0\n2\n0\n0\n1\n0\n0\n0\n0\n0\n6\n0\n2\n2\n1\n0\n2\n2\n9\n4\n2\n0\n0\n0\n1\n0\n2\n0\n0\n0\n2\n2\n0\n0\n2\n2\n0\n0\n0\n5\n0\n1\n1\n0\n1\n2\n0\n2\n0\n2\n1\n2\n0\n1\n0\n2\n1\n0\n0\n11\n3\n3\n0\n6\n3\n3\n0\n8\n1\n0\n0\n2\n0\n0\n0\n1\n2\n2\n0\n1\n0\n2\n0\n0\n0\n0\n3\n2\n3\n0\n1\n0\n0\n2\n2\n0\n0\n7\n10\n0\n2\n1\n5\n1\n1\n1\n0\n2\n0\n1\n2\n2\n1\n0\n2\n0\n0\n0\n0\n2\n5\n4\n0\n9\n0\n2\n0\n1\n5\n0\n4\n8\n0\n0\n2\n0\n1\n3\n0\n9\n0\n0\n0\n5\n0\n0\n0\n10\n0\n15\n1\n0\n1\n0\n7\n2\n0\n0\n2\n0\n3\n0\n0\n6\n1\n0\n3\n3\n0\n0\n3\n0\n3\n3\n0\n0\n5\n0\n2\n2\n0\n2\n0\n0\n1\n4\n0\n1\n2\n2\n0\n5\n1\n2\n1\n2\n1\n0\n0\n2\n2\n0\n2\n0\n0\n0\n0\n0\n0\n0\n2\n0\n5\n0\n0\n2\n12\n2\n1\n0\n2\n0\n0\n1\n0\n7\n0\n0\n0\n1\n0\n0\n1\n0\n0\n0\n0\n0\n0\n0\n0\n13\n2\n0\n0\n0\n0\n0\n2\n0\n2\n9\n0\n2\n2\n0\n2\n1\n0\n0\n2\n6\n11\n2\n1\n0\n2\n0\n5\n1\n0\n0\n8\n0\n0\n2\n0\n9\n1\n1\n0\n2\n0\n0\n2\n1\n0\n0\n0\n0\n5\n2\n2\n0\n0\n1\n1\n0\n0\n0\n2\n2\n0\n1\n1\n1\n1\n0\n0\n0\n0\n2\n0\n0\n0\n1\n0\n0\n3\n0\n3\n0\n0\n0\n0\n1\n3\n0\n2\n0\n8\n0\n0\n0\n6\n0\n0\n0\n0\n2\n0\n3\n0\n0\n10\n0\n0\n2\n0\n0\n0\n2\n0\n0\n2\n2\n0\n0\n7\n0\n0\n0\n0\n0\n0\n0\n1\n0\n0\n2\n0\n0\n0\n1\n0\n0\n0\n0\n0\n2\n0\n0\n0\n0\n0\n0\n2\n0\n0\n0\n0\n0\n0\n0\n6\n0\n0\n0\n1\n1\n0\n0\n0\n2\n0\n0\n2\n0\n2\n1\n2\n0\n9\n0\n0\n0\n0\n0\n0\n0\n0\n0\n0\n2\n0\n0\n2\n0\n2\n1\n6\n-2\n0\n0\n6\n0\n0\n6\n0\n0\n7\n2\n0\n12\n6\n5\n0\n1\n3\n1\n1\n0\n4\n0\n2\n0\n0\n0\n0\n2\n0\n0\n2\n2\n1\n0\n0\n0\n0\n0\n0\n0\n0\n6\n6\n12\n0\n0\n6\n0\n1\n1\n1\n0\n0\n1\n0\n1\n1\n1\n0\n1\n0\n8\n0\n2\n2\n0\n1\n0\n0\n1\n1\n0\n1\n0\n0\n5\n0\n0\n0\n0\n1\n1\n1\n0\n0\n0\n0\n1\n0\n0\n1\n0\n1\n0\n0\n6\n6\n7\n1\n0\n0\n6\n0\n1\n4\n0\n2\n0\n1\n0\n0\n1\n0\n0\n0\n2\n0\n0\n2\n0\n0\n0\n0\n0\n2\n8\n6\n0\n6\n0\n1\n0\n1\n0\n0\n0\n0\n1\n0\n0\n0\n0\n5\n0\n2\n2\n2\n0\n0\n1\n2\n0\n2\n0\n0\n0\n0\n1\n1\n0\n0\n0\n0\n2\n0\n0\n2\n1\n0\n0\n0\n1\n0\n0\n1\n0\n2\n6\n0\n4\n0\n2\n2\n0\n0\n1\n0\n1\n2\n1\n0\n3\n2\n1\n0\n10\n5\n3\n0\n6\n2\n4\n0\n1\n0\n0\n0\n1\n10\n3\n0\n0\n0\n2\n0\n0\n0\n1\n0\n15\n0\n7\n2\n0\n0\n1\n8\n2\n0\n3\n3\n0\n6\n7\n9\n1\n3\n0\n0\n0\n0\n2\n0\n2\n2\n0\n1\n0\n2\n0\n0\n1\n3\n1\n0\n9\n0\n3\n0\n1\n2\n1\n2\n2\n0\n5\n1\n0\n2\n2\n2\n5\n0\n0\n0\n2\n0\n0\n1\n2\n1\n9\n2\n0\n1\n0\n2\n0\n0\n0\n1\n0\n2\n0\n0\n2\n0\n1\n0\n2\n0\n1\n2\n0\n1\n2\n0\n0\n2\n0\n3\n8\n0\n3\n0\n0\n11\n1\n0\n2\n2\n1\n0\n1\n0\n1\n9\n3\n0\n0\n0\n6\n8\n0\n1\n0\n1\n0\n0\n0\n1\n0\n1\n2\n3\n0\n0\n8\n2\n1\n0\n0\n8\n1\n0\n1\n0\n2\n0\n4\n0\n2\n0\n0\n0\n0\n0\n0\n0\n0\n0\n0\n0\n1\n2\n7\n0\n0\n0\n0\n0\n2\n0\n1\n1\n0\n1\n1\n0\n0\n0\n0\n0\n1\n5\n0\n4\n13\n0\n13\n0\n13\n2\n0\n0\n8\n0\n1\n1\n0\n9\n0\n5\n0\n2\n0\n2\n2\n1\n1\n0\n0\n0\n2\n1\n2\n0\n1\n1\n2\n12\n1\n0\n1\n2\n5\n1\n2\n9\n1\n0\n0\n1\n5\n2\n0\n0\n0\n0\n0\n0\n3\n0\n2\n0\n0\n0\n0\n0\n1\n0\n2\n0\n10\n0\n3\n0\n2\n0\n0\n6\n0\n2\n0\n2\n0\n0\n3\n0\n0\n1\n0\n0\n0\n2\n0\n0\n6\n6\n0\n0\n1\n0\n0\n0\n0\n0\n0\n0\n3\n0\n0\n3\n0\n0\n0\n0\n0\n0\n0\n0\n0\n1\n0\n0\n0\n0\n0\n0\n5\n2\n2\n0\n0\n0\n0\n0\n0\n0\n0\n0\n0\n0\n0\n0\n0\n0\n0\n0\n1\n0\n1\n1\n0\n0\n1\n0\n0\n0\n-1\n0\n0\n0\n0\n0\n0\n1\n0\n0\n1\n0\n3\n0\n5\n0\n0\n0\n8\n1\n0\n2\n0\n1\n1\n2\n2\n8\n0\n2\n0\n6\n1\n6\n5\n0\n1\n0\n0\n0\n0\n0\n0\n7\n0\n0\n1\n2\n2\n0\n0\n0\n0\n0\n0\n1\n0\n9\n2\n2\n0\n0\n1\n0\n1\n1\n4\n1\n0\n9\n0\n2\n14\n1\n0\n2\n0\n1\n0\n1\n4\n-1\n0\n0\n0\n11\n6\n0\n6\n0\n0\n6\n0\n0\n6\n6\n0\n5\n5\n0\n0\n0\n0\n7\n0\n0\n1\n0\n1\n0\n0\n1\n4\n1\n0\n0\n1\n1\n0\n1\n1\n0\n1\n0\n0\n0\n0\n3\n1\n1\n1\n1\n2\n0\n0\n0\n2\n1\n0\n0\n0\n1\n2\n8\n1\n6\n1\n0\n0\n0\n0\n0\n0\n0\n0\n0\n0\n0\n0\n2\n0\n2\n2\n2\n0\n1\n0\n6\n2\n1\n0\n0\n0\n0\n0\n2\n1\n0\n0\n0\n7\n0\n0\n5\n2\n0\n0\n0\n1\n0\n1\n2\n0\n2\n2\n0\n2\n0\n2\n2\n0\n0\n1\n0\n0\n2\n0\n0\n2\n3\n3\n0\n1\n3\n3\n0\n6\n2\n1\n2\n4\n0\n0\n1\n2\n9\n1\n0\n1\n0\n2\n0\n0\n0\n0\n13\n0\n8\n1\n0\n14\n0\n7\n0\n3\n0\n2\n1\n0\n4\n1\n2\n0\n2\n1\n0\n10\n0\n2\n0\n5\n2\n0\n0\n0\n2\n0\n0\n0\n2\n0\n0\n9\n4\n2\n2\n2\n2\n0\n2\n1\n0\n9\n0\n0\n2\n1\n2\n1\n0\n0\n0\n1\n0\n0\n0\n12\n0\n9\n8\n0\n0\n0\n8\n2\n0\n1\n2\n3\n0\n0\n0\n2\n1\n0\n2\n2\n0\n0\n1\n0\n2\n2\n0\n0\n5\n0\n2\n2\n0\n2\n0\n0\n2\n5\n0\n1\n2\n9\n0\n2\n0\n0\n2\n2\n0\n0\n0\n2\n1\n0\n2\n0\n1\n0\n0\n0\n12\n1\n0\n0\n2\n0\n0\n2\n0\n0\n1\n0\n2\n5\n1\n0\n1\n3\n0\n1\n0\n2\n1\n0\n0\n0\n0\n0\n0\n0\n0\n0\n0\n1\n1\n0\n12\n0\n0\n0\n1\n0\n0\n2\n0\n2\n2\n0\n0\n2\n1\n0\n1\n0\n0\n12\n13\n10\n2\n0\n0\n2\n0\n9\n0\n0\n0\n2\n1\n0\n2\n0\n8\n0\n2\n0\n16\n0\n2\n2\n1\n0\n0\n0\n0\n5\n13\n1\n0\n1\n2\n1\n2\n1\n0\n1\n2\n1\n0\n1\n8\n7\n1\n0\n0\n4\n0\n0\n0\n0\n0\n0\n0\n0\n2\n0\n3\n0\n0\n0\n0\n6\n1\n0\n2\n0\n8\n0\n5\n0\n2\n0\n0\n6\n0\n6\n0\n3\n0\n0\n3\n0\n0\n0\n0\n0\n0\n3\n0\n0\n3\n2\n0\n0\n2\n0\n0\n0\n0\n0\n0\n0\n6\n0\n0\n10\n0\n0\n0\n0\n0\n0\n0\n0\n0\n5\n0\n0\n0\n0\n0\n0\n0\n0\n1\n0\n0\n0\n0\n0\n0\n0\n0\n0\n0\n1\n2\n1\n0\n0\n2\n0\n0\n0\n0\n6\n7\n0\n0\n6\n0\n6\n6\n0\n6\n0\n0\n0\n0\n2\n2\n0\n2\n0\n0\n4\n0\n5\n0\n0\n2\n2\n1\n2\n2\n2\n5\n2\n2\n2\n2\n0\n3\n0\n1\n6\n7\n8\n0\n0\n0\n6\n5\n0\n1\n0\n8\n0\n0\n0\n-1\n2\n0\n0\n0\n0\n0\n0\n2\n0\n2\n2\n2\n0\n0\n0\n0\n2\n2\n2\n0\n0\n6\n0\n6\n6\n6\n0\n11\n0\n2\n0\n2\n2\n0\n0\n0\n0\n10\n1\n0\n1\n0\n1\n2\n0\n0\n1\n0\n1\n1\n1\n0\n0\n0\n6\n6\n0\n0\n6\n1\n8\n0\n0\n1\n0\n1\n0\n0\n0\n0\n0\n7\n0\n0\n0\n0\n0\n6\n8\n0\n2\n1\n1\n2\n1\n0\n2\n0\n2\n0\n0\n0\n2\n2\n2\n0\n0\n0\n0\n0\n0\n0\n0\n0\n0\n0\n0\n0\n0\n0\n0\n0\n0\n0\n0\n1\n0\n2\n0\n2\n0\n2\n0\n0\n2\n2\n0\n0\n0\n2\n0\n8\n0\n0\n0\n2\n1\n0\n0\n0\n3\n0\n0\n0\n2\n0\n7\n8\n0\n3\n0\n0\n3\n8\n3\n3\n0\n0\n1\n0\n3\n2\n0\n0\n8\n2\n0\n1\n0\n2\n2\n0\n1\n0\n3\n0\n1\n0\n0\n1\n0\n2\n1\n0\n0\n1\n4\n0\n0\n0\n0\n16\n6\n1\n3\n0\n0\n0\n2\n1\n2\n0\n10\n19\n0\n1\n1\n0\n4\n2\n2\n0\n2\n0\n2\n1\n5\n2\n0\n0\n0\n2\n0\n0\n0\n0\n2\n0\n0\n2\n2\n1\n5\n1\n1\n2\n1\n0\n1\n1\n0\n15\n2\n1\n2\n0\n1\n0\n1\n0\n0\n1\n2\n4\n2\n8\n0\n1\n0\n2\n4\n0\n0\n2\n0\n1\n0\n0\n2\n0\n1\n3\n0\n0\n1\n2\n0\n3\n3\n1\n0\n6\n0\n2\n1\n0\n10\n0\n0\n1\n2\n0\n0\n3\n0\n0\n2\n0\n0\n2\n2\n0\n0\n0\n2\n1\n0\n1\n1\n3\n0\n0\n0\n2\n0\n1\n2\n0\n0\n0\n0\n0\n0\n0\n0\n2\n1\n1\n0\n0\n2\n0\n0\n0\n1\n1\n0\n1\n0\n0\n0\n0\n0\n0\n0\n0\n0\n0\n0\n0\n1\n2\n0\n0\n1\n0\n0\n0\n0\n2\n1\n2\n0\n2\n9\n0\n0\n1\n0\n0\n2\n5\n1\n2\n4\n0\n5\n0\n2\n8\n1\n0\n9\n0\n0\n5\n0\n2\n0\n2\n0\n1\n0\n2\n2\n1\n0\n0\n0\n0\n5\n2\n2\n0\n1\n1\n9\n2\n1\n0\n1\n2\n0\n1\n1\n6\n2\n0\n0\n0\n1\n0\n0\n0\n0\n1\n0\n0\n1\n6\n0\n2\n0\n0\n0\n0\n7\n2\n0\n6\n0\n2\n0\n6\n0\n5\n0\n0\n0\n0\n2\n0\n1\n0\n0\n8\n0\n0\n1\n0\n0\n0\n3\n0\n0\n0\n11\n0\n0\n4\n0\n0\n0\n0\n0\n0\n0\n12\n0\n0\n2\n0\n0\n0\n0\n0\n0\n0\n0\n0\n0\n0\n0\n0\n0\n0\n0\n0\n0\n6\n0\n0\n0\n0\n0\n0\n0\n0\n0\n1\n0\n1\n0\n0\n0\n2\n0\n0\n0\n0\n2\n1\n0\n0\n1\n0\n6\n6\n0\n6\n7\n0\n0\n11\n5\n6\n9\n0\n0\n0\n1\n2\n2\n0\n0\n0\n2\n9\n6\n1\n0\n0\n1\n1\n1\n1\n0\n0\n0\n0\n0\n0\n0\n0\n0\n0\n2\n5\n6\n0\n0\n2\n0\n0\n0\n1\n0\n0\n0\n0\n0\n0\n0\n5\n1\n6\n8\n6\n6\n0\n0\n0\n0\n1\n1\n0\n0\n5\n0\n7\n6\n6\n0\n6\n0\n2\n0\n2\n10\n1\n0\n0\n0\n1\n0\n1\n1\n0\n0\n1\n0\n0\n11\n0\n6\n6\n5\n0\n0\n0\n0\n0\n0\n0\n0\n0\n0\n0\n0\n4\n1\n2\n0\n0\n0\n7\n0\n5\n0\n0\n0\n0\n0\n2\n0\n0\n0\n1\n1\n5\n8\n0\n2\n0\n6\n0\n0\n0\n2\n2\n0\n0\n1\n6\n0\n0\n0\n7\n0\n0\n0\n0\n0\n0\n0\n0\n0\n0\n0\n0\n0\n0\n0\n1\n3\n3\n0\n0\n1\n8\n1\n1\n0\n0\n0\n0\n0\n1\n0\n0\n0\n0\n2\n0\n0\n2\n2\n0\n0\n0\n1\n0\n2\n2\n0\n2\n1\n0\n2\n5\n3\n16\n0\n0\n0\n0\n1\n3\n0\n0\n2\n2\n0\n1\n0\n2\n2\n0\n3\n2\n0\n0\n2\n0\n0\n2\n0\n2\n5\n0\n1\n1\n1\n0\n0\n0\n0\n0\n0\n0\n0\n0\n0\n0\n0\n0\n0\n0\n5\n4\n0\n8\n2\n0\n1\n2\n8\n1\n2\n0\n2\n1\n1\n2\n0\n0\n0\n2\n0\n0\n2\n10\n0\n0\n3\n1\n3\n1\n4\n1\n0\n2\n10\n0\n2\n2\n0\n0\n3\n2\n4\n0\n2\n0\n2\n0\n0\n1\n-1\n1\n1\n2\n0\n0\n0\n1\n1\n0\n0\n2\n1\n3\n0\n0\n2\n1\n0\n0\n0\n0\n0\n0\n0\n0\n0\n0\n0\n0\n0\n2\n4\n0\n2\n0\n0\n2\n1\n0\n1\n0\n5\n0\n0\n1\n1\n1\n2\n0\n0\n0\n3\n1\n0\n2\n1\n5\n0\n0\n0\n0\n3\n0\n2\n0\n0\n0\n0\n0\n0\n0\n0\n2\n1\n1\n0\n0\n13\n0\n1\n0\n0\n0\n0\n2\n0\n0\n0\n0\n0\n0\n0\n0\n0\n0\n0\n0\n3\n0\n2\n1\n0\n0\n1\n0\n0\n1\n2\n1\n1\n0\n1\n2\n0\n0\n2\n0\n2\n2\n9\n0\n0\n0\n1\n6\n0\n2\n1\n0\n0\n2\n1\n0\n1\n0\n13\n1\n5\n0\n2\n0\n6\n2\n0\n1\n0\n0\n0\n7\n2\n2\n0\n1\n8\n0\n2\n1\n0\n2\n2\n1\n1\n8\n2\n2\n0\n0\n0\n2\n1\n0\n0\n0\n1\n0\n0\n0\n0\n3\n0\n2\n0\n0\n0\n0\n3\n10\n0\n1\n0\n2\n0\n6\n0\n0\n0\n0\n6\n0\n-3\n2\n2\n0\n0\n2\n0\n0\n2\n0\n0\n0\n7\n0\n0\n3\n3\n0\n0\n6\n0\n0\n0\n0\n0\n0\n1\n2\n0\n0\n2\n0\n0\n0\n0\n0\n0\n0\n0\n0\n0\n0\n0\n0\n0\n0\n0\n1\n0\n0\n1\n2\n0\n0\n0\n0\n0\n6\n0\n0\n6\n1\n0\n1\n0\n0\n0\n0\n2\n0\n0\n1\n0\n0\n0\n0\n2\n2\n2\n0\n2\n2\n1\n0\n0\n1\n1\n2\n1\n0\n0\n6\n2\n2\n2\n0\n0\n2\n6\n7\n0\n6\n0\n0\n2\n0\n0\n0\n0\n0\n7\n24\n6\n5\n0\n0\n0\n1\n1\n8\n0\n0\n0\n0\n0\n0\n2\n2\n0\n0\n0\n0\n0\n0\n-1\n0\n0\n0\n0\n0\n0\n0\n0\n0\n3\n2\n0\n2\n2\n0\n2\n6\n2\n0\n2\n0\n5\n0\n8\n6\n6\n0\n0\n0\n2\n2\n0\n1\n0\n0\n5\n0\n0\n2\n0\n2\n2\n1\n0\n0\n0\n0\n1\n0\n0\n0\n0\n1\n0\n0\n8\n1\n1\n1\n0\n1\n1\n0\n2\n0\n1\n0\n0\n0\n8\n0\n6\n2\n0\n0\n1\n0\n0\n0\n0\n6\n0\n0\n0\n9\n10\n0\n0\n0\n12\n0\n0\n1\n0\n0\n0\n0\n0\n0\n1\n0\n0\n0\n0\n0\n0\n0\n0\n2\n0\n0\n2\n1\n0\n0\n8\n6\n3\n0\n0\n0\n0\n1\n1\n4\n0\n0\n0\n1\n0\n0\n0\n2\n2\n0\n0\n0\n1\n0\n8\n1\n1\n2\n3\n0\n0\n2\n2\n2\n1\n0\n2\n0\n1\n1\n0\n0\n2\n2\n0\n2\n0\n2\n9\n0\n3\n3\n3\n1\n1\n0\n0\n1\n0\n1\n1\n0\n1\n0\n2\n0\n0\n0\n1\n3\n6\n0\n0\n1\n3\n0\n3\n3\n6\n0\n10\n5\n0\n1\n2\n0\n0\n2\n1\n1\n15\n0\n1\n1\n0\n2\n0\n4\n0\n0\n0\n0\n1\n2\n1\n0\n0\n2\n0\n1\n2\n1\n1\n2\n2\n0\n1\n1\n0\n2\n10\n8\n3\n0\n3\n0\n6\n0\n0\n1\n0\n1\n8\n1\n0\n1\n0\n1\n1\n0\n0\n0\n1\n2\n0\n0\n2\n6\n0\n5\n1\n1\n0\n8\n0\n2\n2\n0\n0\n1\n0\n5\n2\n0\n13\n0\n0\n2\n1\n0\n0\n1\n0\n0\n0\n0\n0\n2\n2\n0\n0\n0\n1\n3\n0\n2\n0\n1\n0\n0\n0\n1\n5\n1\n1\n0\n0\n0\n0\n1\n0\n0\n0\n2\n2\n0\n1\n1\n1\n0\n1\n0\n2\n1\n7\n2\n0\n0\n0\n0\n0\n0\n0\n0\n0\n0\n0\n0\n0\n0\n7\n1\n0\n0\n0\n0\n0\n1\n2\n0\n1\n0\n1\n2\n0\n0\n0\n4\n0\n7\n2\n0\n12\n1\n1\n0\n0\n6\n8\n0\n0\n1\n0\n0\n2\n0\n1\n8\n0\n0\n8\n0\n2\n5\n1\n0\n0\n0\n0\n11\n2\n1\n0\n2\n2\n2\n2\n0\n0\n5\n12\n0\n1\n2\n1\n0\n0\n0\n1\n0\n2\n0\n0\n0\n1\n0\n0\n0\n0\n1\n0\n6\n0\n0\n0\n0\n1\n2\n0\n2\n0\n3\n0\n3\n0\n3\n0\n0\n6\n0\n0\n6\n6\n0\n0\n3\n0\n0\n1\n0\n0\n0\n2\n0\n0\n1\n6\n0\n8\n2\n0\n0\n0\n0\n0\n0\n0\n1\n0\n0\n2\n0\n0\n0\n0\n0\n0\n0\n0\n0\n0\n0\n0\n0\n0\n0\n0\n1\n0\n0\n0\n0\n0\n0\n0\n0\n0\n1\n0\n0\n1\n6\n6\n0\n0\n0\n8\n0\n0\n0\n0\n1\n0\n0\n0\n1\n0\n0\n1\n0\n0\n0\n0\n0\n0\n1\n2\n0\n1\n0\n0\n0\n0\n10\n2\n0\n0\n2\n0\n1\n2\n1\n2\n0\n8\n0\n2\n2\n0\n2\n6\n8\n6\n8\n0\n0\n0\n6\n0\n1\n7\n0\n0\n0\n0\n6\n7\n1\n0\n0\n0\n0\n0\n0\n7\n1\n1\n0\n0\n1\n0\n0\n0\n0\n1\n1\n0\n1\n0\n0\n1\n1\n1\n0\n0\n0\n2\n0\n2\n2\n2\n0\n0\n0\n1\n0\n0\n1\n0\n1\n-1\n0\n0\n6\n1\n-2\n6\n8\n0\n0\n0\n0\n0\n0\n0\n1\n0\n1\n0\n0\n0\n2\n2\n2\n0\n2\n1\n2\n1\n2\n1\n0\n0\n0\n1\n0\n1\n0\n0\n0\n2\n4\n0\n6\n0\n2\n0\n0\n0\n2\n0\n1\n0\n0\n2\n0\n0\n0\n1\n0\n0\n0\n6\n0\n0\n5\n0\n0\n0\n0\n0\n0\n0\n1\n0\n3\n0\n0\n0\n1\n0\n1\n2\n1\n1\n0\n0\n0\n0\n2\n1\n0\n8\n0\n0\n3\n3\n0\n0\n1\n1\n0\n2\n0\n1\n0\n2\n0\n1\n1\n1\n0\n1\n2\n2\n7\n0\n0\n1\n0\n5\n1\n0\n0\n2\n5\n0\n2\n0\n1\n1\n0\n6\n7\n0\n2\n1\n0\n0\n2\n0\n1\n1\n0\n2\n5\n1\n0\n0\n2\n1\n3\n11\n0\n0\n5\n1\n0\n3\n3\n1\n0\n3\n14\n0\n6\n2\n0\n1\n3\n1\n0\n8\n0\n0\n0\n6\n2\n0\n6\n3\n0\n0\n0\n10\n2\n1\n0\n2\n1\n1\n7\n6\n2\n2\n1\n1\n0\n2\n1\n0\n2\n2\n2\n1\n0\n1\n0\n2\n0\n0\n0\n0\n9\n2\n3\n1\n0\n0\n0\n0\n0\n0\n6\n0\n1\n0\n0\n6\n1\n0\n1\n6\n2\n0\n1\n0\n1\n0\n2\n0\n10\n0\n1\n2\n0\n1\n0\n0\n1\n7\n0\n0\n0\n2\n0\n1\n0\n2\n3\n0\n1\n0\n0\n4\n0\n0\n2\n0\n1\n0\n0\n0\n1\n2\n1\n0\n0\n0\n0\n0\n2\n0\n2\n0\n11\n0\n2\n2\n2\n7\n0\n2\n0\n1\n2\n0\n2\n0\n0\n0\n0\n0\n0\n0\n0\n0\n0\n0\n0\n0\n0\n0\n9\n1\n0\n1\n1\n0\n0\n1\n2\n2\n2\n0\n2\n2\n0\n0\n0\n0\n0\n12\n0\n6\n2\n1\n8\n1\n0\n9\n0\n0\n0\n2\n0\n1\n1\n0\n9\n0\n0\n0\n8\n0\n12\n2\n0\n0\n0\n0\n0\n1\n2\n2\n0\n2\n1\n1\n7\n0\n0\n1\n2\n0\n2\n1\n5\n0\n0\n0\n1\n5\n0\n0\n0\n0\n1\n0\n0\n0\n0\n0\n9\n1\n3\n0\n0\n0\n0\n2\n2\n0\n3\n0\n3\n0\n2\n0\n6\n0\n0\n6\n0\n0\n2\n1\n0\n0\n3\n0\n0\n2\n0\n0\n0\n8\n0\n0\n2\n2\n0\n6\n1\n0\n0\n0\n0\n0\n0\n0\n2\n0\n0\n1\n0\n0\n0\n0\n0\n0\n0\n0\n0\n0\n0\n0\n0\n0\n0\n0\n0\n0\n5\n6\n15\n0\n0\n0\n0\n0\n0\n0\n1\n2\n0\n2\n8\n0\n0\n4\n0\n0\n0\n0\n0\n0\n0\n0\n-1\n1\n1\n0\n0\n1\n1\n0\n0\n0\n2\n11\n6\n0\n0\n0\n1\n0\n2\n1\n0\n0\n2\n1\n0\n0\n0\n0\n6\n1\n6\n6\n8\n8\n1\n12\n6\n7\n6\n0\n0\n0\n0\n2\n0\n0\n0\n0\n0\n0\n0\n1\n1\n0\n0\n0\n0\n0\n0\n1\n1\n0\n0\n0\n1\n0\n0\n0\n0\n1\n1\n0\n1\n1\n0\n1\n1\n1\n0\n1\n0\n6\n0\n5\n11\n0\n0\n0\n0\n2\n2\n0\n0\n0\n0\n1\n0\n1\n-1\n1\n0\n1\n2\n0\n0\n0\n5\n6\n1\n0\n11\n0\n6\n0\n0\n1\n0\n1\n0\n0\n1\n1\n0\n1\n0\n1\n0\n0\n2\n0\n0\n2\n2\n0\n2\n1\n0\n0\n1\n0\n1\n0\n0\n0\n6\n2\n0\n0\n1\n3\n0\n2\n1\n0\n0\n0\n0\n2\n0\n0\n0\n0\n0\n0\n0\n0\n0\n0\n0\n0\n0\n3\n0\n0\n3\n3\n0\n1\n1\n13\n0\n0\n0\n0\n0\n0\n0\n0\n8\n0\n0\n1\n2\n0\n0\n0\n1\n0\n1\n0\n1\n0\n2\n2\n1\n2\n1\n0\n0\n6\n2\n2\n0\n0\n1\n0\n2\n2\n0\n0\n5\n2\n0\n1\n0\n2\n1\n0\n7\n2\n0\n4\n1\n0\n0\n2\n0\n11\n0\n0\n0\n1\n6\n0\n0\n0\n6\n10\n8\n0\n0\n1\n0\n0\n3\n3\n3\n0\n1\n2\n0\n5\n0\n1\n2\n3\n6\n0\n2\n0\n1\n1\n1\n2\n0\n1\n2\n0\n0\n0\n13\n2\n0\n0\n1\n1\n2\n2\n8\n1\n0\n2\n10\n0\n1\n0\n0\n2\n2\n3\n2\n0\n3\n0\n3\n0\n0\n1\n0\n1\n2\n2\n1\n0\n0\n1\n0\n0\n0\n9\n1\n0\n0\n0\n2\n2\n0\n0\n8\n1\n0\n6\n0\n7\n16\n0\n0\n3\n0\n1\n6\n0\n2\n0\n0\n2\n2\n0\n0\n3\n0\n0\n0\n0\n1\n2\n2\n0\n0\n0\n3\n3\n0\n7\n0\n0\n0\n0\n0\n9\n1\n0\n2\n0\n0\n0\n0\n1\n0\n0\n0\n2\n0\n1\n2\n2\n5\n0\n6\n0\n2\n2\n0\n0\n1\n0\n0\n0\n0\n0\n0\n0\n0\n0\n0\n0\n0\n1\n0\n0\n2\n2\n0\n1\n0\n0\n0\n2\n0\n2\n2\n0\n1\n7\n0\n0\n0\n7\n0\n1\n0\n2\n2\n1\n0\n13\n0\n2\n1\n2\n0\n2\n0\n1\n2\n0\n9\n1\n1\n0\n2\n0\n1\n12\n0\n0\n0\n0\n0\n2\n1\n6\n0\n0\n1\n6\n5\n0\n0\n2\n2\n0\n1\n1\n1\n0\n0\n0\n0\n0\n1\n0\n1\n0\n0\n0\n0\n0\n0\n0\n2\n0\n3\n0\n0\n0\n1\n2\n0\n0\n6\n0\n3\n0\n5\n0\n4\n0\n0\n9\n0\n2\n0\n7\n0\n0\n2\n0\n0\n0\n0\n0\n0\n3\n0\n0\n3\n6\n0\n1\n2\n0\n0\n0\n0\n0\n0\n0\n6\n0\n0\n0\n0\n0\n0\n0\n0\n0\n0\n0\n0\n2\n0\n0\n0\n0\n0\n0\n0\n0\n2\n1\n2\n0\n0\n0\n0\n0\n-1\n0\n-1\n-1\n1\n2\n2\n0\n0\n2\n0\n1\n1\n0\n0\n1\n0\n0\n0\n0\n1\n1\n1\n0\n1\n0\n0\n0\n6\n12\n2\n0\n6\n0\n6\n0\n1\n0\n0\n0\n2\n12\n1\n6\n1\n0\n1\n6\n1\n1\n0\n1\n0\n6\n6\n6\n6\n0\n0\n0\n0\n2\n1\n0\n2\n1\n0\n0\n0\n6\n0\n0\n0\n0\n0\n0\n0\n0\n0\n2\n1\n0\n2\n0\n2\n0\n0\n0\n0\n1\n0\n8\n0\n6\n6\n6\n0\n6\n0\n2\n0\n2\n2\n0\n0\n0\n0\n0\n2\n2\n2\n0\n0\n2\n0\n0\n0\n7\n7\n0\n6\n0\n0\n0\n2\n2\n2\n2\n0\n0\n2\n0\n0\n2\n2\n2\n0\n0\n1\n2\n0\n6\n0\n6\n0\n0\n-1\n0\n0\n-1\n0\n0\n0\n0\n0\n0\n0\n0\n7\n0\n0\n0\n2\n2\n2\n2\n11\n6\n0\n2\n0\n0\n0\n0\n0\n0\n0\n0\n10\n0\n0\n0\n0\n0\n0\n2\n0\n0\n0\n0\n0\n0\n0\n0\n2\n0\n0\n2\n1\n0\n1\n2\n1\n6\n0\n0\n0\n0\n1\n0\n1\n2\n0\n0\n0\n2\n0\n0\n2\n2\n0\n0\n0\n1\n0\n1\n1\n0\n1\n0\n0\n2\n1\n2\n6\n0\n0\n8\n3\n9\n0\n2\n0\n2\n0\n0\n2\n0\n2\n7\n0\n10\n3\n3\n3\n3\n0\n0\n1\n0\n2\n1\n0\n0\n1\n0\n0\n0\n0\n2\n6\n3\n2\n1\n1\n0\n0\n3\n3\n0\n0\n0\n9\n0\n17\n0\n5\n1\n2\n1\n0\n8\n0\n0\n11\n1\n3\n1\n3\n3\n0\n0\n0\n2\n8\n2\n0\n0\n2\n2\n2\n2\n1\n0\n2\n2\n0\n2\n0\n0\n9\n3\n2\n2\n0\n9\n0\n1\n0\n0\n1\n2\n2\n2\n2\n1\n2\n0\n0\n0\n0\n0\n14\n6\n0\n0\n0\n3\n3\n1\n0\n2\n2\n0\n1\n0\n2\n2\n0\n0\n1\n0\n2\n6\n0\n2\n0\n0\n10\n2\n0\n1\n0\n0\n0\n1\n0\n0\n3\n1\n0\n0\n0\n3\n4\n0\n2\n0\n1\n0\n0\n0\n1\n1\n0\n1\n0\n0\n0\n0\n2\n1\n0\n0\n0\n10\n0\n1\n0\n6\n0\n2\n0\n1\n2\n1\n0\n0\n0\n0\n0\n0\n0\n0\n0\n0\n0\n0\n0\n0\n0\n0\n0\n0\n0\n0\n0\n0\n4\n4\n0\n0\n1\n0\n0\n2\n0\n2\n1\n1\n0\n2\n1\n0\n0\n0\n1\n1\n5\n1\n9\n1\n20\n10\n0\n12\n5\n0\n0\n0\n0\n1\n1\n0\n5\n0\n5\n0\n0\n0\n7\n2\n4\n0\n0\n0\n0\n2\n0\n0\n0\n4\n0\n2\n6\n0\n0\n2\n9\n0\n0\n7\n2\n1\n0\n0\n0\n1\n0\n0\n2\n0\n4\n0\n0\n0\n0\n0\n0\n2\n0\n2\n0\n0\n0\n0\n12\n0\n0\n2\n0\n2\n0\n3\n0\n2\n0\n0\n13\n0\n1\n0\n1\n0\n0\n8\n0\n0\n7\n0\n0\n0\n1\n0\n0\n14\n9\n0\n0\n2\n0\n0\n0\n0\n0\n0\n0\n3\n0\n0\n3\n0\n0\n0\n0\n0\n0\n0\n0\n0\n0\n0\n0\n0\n0\n0\n0\n2\n2\n2\n0\n0\n2\n0\n0\n0\n0\n0\n0\n0\n0\n0\n2\n0\n1\n3\n0\n0\n1\n0\n-2\n2\n0\n0\n1\n1\n0\n2\n0\n4\n2\n0\n2\n2\n0\n0\n0\n2\n2\n2\n0\n2\n0\n1\n0\n1\n0\n1\n0\n1\n2\n2\n0\n2\n0\n1\n1\n0\n1\n1\n1\n0\n6\n10\n15\n6\n0\n0\n0\n0\n5\n2\n0\n1\n0\n0\n0\n0\n1\n1\n0\n0\n1\n0\n0\n6\n0\n0\n9\n0\n0\n0\n6\n6\n0\n3\n6\n7\n0\n1\n3\n0\n2\n1\n2\n0\n2\n0\n1\n0\n6\n1\n2\n0\n0\n0\n5\n7\n0\n0\n0\n0\n6\n0\n0\n0\n6\n6\n0\n6\n0\n0\n0\n2\n2\n1\n1\n0\n8\n0\n0\n0\n1\n4\n1\n0\n0\n0\n1\n1\n2\n0\n6\n0\n0\n2\n0\n0\n2\n8\n0\n2\n0\n0\n0\n0\n0\n8\n0\n0\n0\n4\n1\n1\n4\n8\n1\n0\n1\n6\n0\n0\n0\n0\n0\n0\n0\n2\n0\n0\n0\n0\n0\n0\n5\n0\n0\n0\n0\n0\n0\n0\n0\n0\n2\n0\n0\n1\n2\n0\n0\n0\n10\n2\n0\n0\n0\n0\n0\n0\n1\n0\n0\n0\n0\n2\n0\n0\n2\n2\n0\n0\n0\n1\n0\n2\n2\n0\n2\n0\n0\n2\n9\n2\n2\n0\n0\n2\n1\n2\n2\n1\n0\n5\n0\n0\n0\n0\n1\n2\n0\n0\n0\n1\n1\n2\n0\n0\n2\n0\n2\n7\n0\n0\n0\n0\n0\n0\n2\n0\n7\n3\n3\n0\n1\n0\n1\n3\n3\n0\n0\n2\n2\n0\n1\n2\n2\n0\n0\n2\n0\n2\n0\n0\n1\n2\n2\n0\n2\n1\n0\n0\n0\n2\n3\n0\n0\n3\n1\n7\n0\n2\n0\n0\n3\n3\n0\n3\n0\n0\n10\n1\n2\n4\n0\n2\n0\n2\n0\n0\n0\n3\n1\n3\n3\n3\n2\n0\n0\n0\n0\n0\n2\n1\n0\n0\n0\n2\n3\n0\n0\n0\n2\n0\n5\n0\n2\n3\n0\n0\n1\n0\n1\n2\n0\n10\n0\n0\n2\n10\n0\n1\n0\n0\n0\n1\n0\n0\n1\n1\n1\n0\n0\n3\n2\n0\n4\n0\n2\n0\n0\n0\n2\n0\n0\n1\n0\n0\n0\n6\n1\n0\n1\n0\n2\n5\n1\n3\n0\n3\n0\n7\n0\n2\n2\n1\n5\n0\n0\n0\n0\n0\n0\n0\n0\n0\n0\n0\n0\n0\n0\n0\n0\n0\n0\n0\n0\n1\n6\n1\n1\n1\n0\n0\n0\n2\n1\n0\n1\n0\n0\n1\n0\n1\n1\n0\n0\n7\n0\n0\n0\n1\n7\n8\n0\n1\n2\n1\n13\n4\n0\n0\n1\n0\n0\n9\n0\n1\n0\n0\n2\n0\n7\n0\n0\n0\n0\n2\n0\n0\n0\n0\n0\n13\n0\n0\n1\n1\n2\n2\n2\n1\n0\n2\n1\n0\n2\n2\n4\n8\n0\n0\n1\n0\n2\n0\n0\n0\n0\n0\n1\n1\n0\n0\n0\n3\n0\n1\n0\n0\n0\n0\n10\n0\n0\n1\n0\n2\n0\n1\n0\n1\n0\n0\n9\n0\n6\n0\n1\n0\n0\n3\n0\n0\n1\n0\n0\n0\n6\n0\n2\n0\n2\n0\n2\n2\n0\n0\n0\n0\n0\n0\n0\n11\n0\n0\n4\n0\n0\n0\n0\n0\n0\n0\n0\n0\n0\n0\n0\n0\n0\n0\n0\n2\n1\n5\n8\n0\n0\n0\n0\n0\n0\n0\n1\n0\n0\n0\n2\n0\n0\n-1\n0\n0\n1\n0\n0\n2\n0\n0\n2\n2\n0\n5\n0\n10\n6\n6\n0\n5\n0\n0\n0\n1\n7\n-3\n0\n0\n0\n1\n0\n0\n0\n1\n0\n1\n6\n1\n0\n0\n0\n12\n1\n2\n2\n0\n2\n1\n7\n12\n8\n8\n0\n0\n6\n6\n0\n1\n6\n0\n9\n0\n0\n0\n0\n1\n0\n0\n0\n0\n1\n1\n4\n0\n1\n0\n0\n14\n1\n0\n0\n0\n4\n1\n0\n1\n2\n0\n2\n2\n2\n0\n1\n6\n6\n0\n0\n11\n6\n0\n0\n0\n2\n2\n0\n0\n0\n0\n6\n0\n0\n1\n1\n1\n0\n0\n0\n0\n0\n1\n0\n1\n0\n0\n0\n0\n0\n0\n1\n1\n1\n0\n0\n0\n1\n0\n2\n0\n1\n0\n0\n9\n0\n0\n6\n1\n0\n2\n0\n0\n0\n0\n0\n1\n0\n0\n0\n0\n1\n0\n1\n0\n1\n0\n0\n1\n0\n0\n0\n0\n1\n0\n0\n1\n0\n0\n0\n0\n0\n0\n0\n0\n0\n0\n1\n0\n0\n0\n0\n0\n0\n1\n0\n0\n2\n5\n0\n0\n0\n2\n2\n0\n0\n0\n0\n0\n0\n-1\n1\n0\n0\n0\n2\n1\n0\n2\n2\n0\n0\n0\n1\n0\n1\n1\n0\n3\n0\n0\n3\n2\n3\n2\n0\n0\n5\n1\n10\n2\n1\n0\n2\n0\n0\n1\n0\n2\n2\n0\n0\n0\n6\n3\n1\n0\n0\n2\n2\n2\n12\n0\n0\n0\n1\n0\n0\n1\n0\n16\n1\n12\n0\n0\n1\n2\n16\n5\n0\n0\n3\n7\n0\n3\n1\n0\n0\n2\n0\n0\n2\n0\n1\n2\n2\n2\n0\n1\n2\n0\n0\n0\n15\n2\n2\n0\n0\n2\n5\n0\n0\n1\n1\n2\n1\n0\n2\n0\n0\n1\n1\n13\n3\n0\n9\n0\n3\n0\n0\n2\n7\n1\n13\n2\n3\n1\n0\n0\n1\n0\n0\n1\n2\n0\n0\n0\n2\n2\n0\n1\n0\n4\n0\n3\n0\n4\n8\n0\n0\n2\n0\n2\n2\n1\n5\n0\n0\n2\n1\n0\n0\n0\n2\n0\n0\n0\n0\n2\n2\n1\n0\n0\n1\n2\n0\n6\n0\n2\n0\n0\n0\n2\n0\n1\n2\n0\n0\n0\n0\n9\n0\n0\n0\n10\n0\n1\n2\n2\n0\n0\n2\n0\n2\n2\n2\n2\n0\n0\n0\n0\n0\n0\n0\n0\n0\n1\n0\n0\n0\n0\n0\n0\n1\n0\n0\n0\n1\n2\n2\n1\n1\n0\n0\n0\n2\n0\n0\n0\n0\n0\n8\n0\n8\n1\n0\n0\n12\n0\n0\n0\n1\n2\n5\n1\n7\n9\n6\n4\n0\n0\n0\n1\n0\n0\n8\n0\n1\n0\n0\n1\n2\n2\n0\n0\n0\n9\n5\n1\n0\n0\n0\n0\n8\n1\n0\n1\n1\n6\n7\n5\n1\n0\n2\n2\n0\n9\n1\n2\n8\n0\n0\n0\n0\n1\n0\n0\n0\n0\n0\n0\n1\n0\n0\n0\n7\n0\n2\n0\n0\n0\n0\n6\n0\n0\n0\n1\n1\n0\n1\n0\n1\n0\n0\n8\n0\n1\n0\n7\n0\n0\n7\n0\n0\n10\n0\n0\n0\n1\n0\n15\n0\n1\n0\n2\n8\n0\n0\n0\n0\n0\n0\n0\n10\n0\n0\n3\n0\n0\n0\n0\n0\n0\n0\n0\n0\n0\n0\n0\n0\n0\n0\n0\n2\n0\n6\n8\n0\n0\n0\n0\n0\n0\n0\n0\n0\n0\n0\n0\n0\n1\n1\n0\n0\n1\n0\n0\n9\n0\n0\n2\n2\n0\n2\n0\n6\n5\n6\n0\n7\n0\n0\n0\n16\n1\n9\n0\n1\n0\n9\n2\n1\n0\n1\n0\n0\n1\n15\n1\n0\n0\n1\n6\n7\n0\n0\n1\n0\n6\n6\n6\n6\n0\n0\n0\n0\n0\n-2\n-3\n0\n1\n0\n0\n0\n5\n5\n0\n0\n1\n0\n0\n6\n0\n0\n9\n0\n0\n0\n6\n6\n0\n0\n6\n6\n0\n7\n6\n0\n7\n5\n6\n0\n1\n0\n0\n0\n0\n-1\n1\n0\n0\n0\n0\n5\n1\n7\n0\n0\n6\n0\n0\n1\n6\n1\n0\n1\n0\n0\n0\n1\n-2\n0\n0\n1\n7\n0\n0\n0\n6\n6\n9\n0\n6\n0\n6\n0\n7\n0\n0\n0\n0\n0\n0\n0\n0\n6\n1\n1\n0\n0\n0\n0\n0\n3\n0\n0\n0\n0\n1\n0\n2\n1\n1\n0\n1\n0\n0\n0\n0\n0\n0\n0\n1\n0\n0\n0\n0\n0\n0\n0\n6\n0\n0\n0\n0\n0\n0\n0\n0\n0\n0\n0\n0\n2\n0\n2\n2\n0\n0\n3\n0\n2\n1\n0\n0\n0\n4\n0\n0\n9\n0\n0\n0\n0\n6\n1\n0\n1\n5\n0\n0\n0\n0\n0\n5\n-2\n0\n3\n0\n0\n3\n3\n3\n1\n2\n0\n2\n1\n1\n2\n0\n0\n2\n1\n1\n1\n0\n2\n1\n0\n2\n7\n0\n8\n0\n0\n0\n2\n1\n1\n7\n0\n0\n0\n0\n0\n0\n0\n2\n16\n0\n8\n0\n1\n1\n3\n13\n3\n0\n0\n1\n2\n0\n2\n1\n0\n0\n2\n0\n0\n3\n0\n1\n3\n3\n3\n0\n3\n0\n0\n0\n0\n2\n3\n0\n0\n0\n1\n1\n1\n1\n1\n0\n3\n2\n0\n3\n0\n0\n2\n8\n2\n1\n0\n0\n0\n2\n0\n0\n2\n8\n0\n3\n6\n1\n3\n0\n0\n1\n0\n0\n2\n7\n0\n0\n0\n2\n1\n0\n2\n0\n1\n0\n18\n0\n2\n2\n0\n0\n1\n0\n2\n2\n0\n3\n0\n0\n1\n2\n0\n0\n0\n0\n0\n2\n0\n4\n1\n9\n0\n0\n0\n10\n1\n0\n1\n1\n10\n0\n0\n0\n0\n0\n1\n2\n0\n0\n0\n3\n2\n0\n1\n0\n2\n1\n0\n2\n0\n0\n0\n1\n0\n0\n0\n0\n1\n0\n0\n0\n0\n0\n0\n0\n0\n0\n0\n0\n0\n0\n0\n0\n0\n1\n0\n0\n0\n0\n3\n3\n1\n0\n0\n0\n2\n1\n10\n2\n2\n1\n0\n3\n2\n2\n1\n0\n6\n0\n0\n1\n0\n0\n1\n0\n0\n2\n0\n0\n2\n0\n0\n2\n2\n1\n11\n0\n2\n1\n0\n0\n1\n0\n0\n2\n0\n2\n0\n0\n2\n1\n2\n0\n0\n0\n5\n5\n0\n0\n0\n0\n0\n2\n2\n0\n0\n1\n2\n2\n2\n0\n0\n2\n2\n0\n4\n2\n0\n2\n0\n1\n0\n0\n0\n0\n0\n0\n0\n0\n0\n0\n0\n0\n0\n8\n0\n"
    }
   ],
   "source": [
    "id = []\n",
    "total_points = []\n",
    "gameweek = []\n",
    "for j in all_weeks_dict:\n",
    "        for x in all_weeks_dict[j]['elements']:\n",
    "                print(x['stats']['total_points'])\n",
    "                id.append(x[\"id\"])\n",
    "                total_points.append(x['stats']['total_points'])\n",
    "                gameweek.append(j)\n"
   ]
  },
  {
   "cell_type": "code",
   "execution_count": 28,
   "metadata": {},
   "outputs": [],
   "source": [
    "player_scores_df  = pd.DataFrame()"
   ]
  },
  {
   "cell_type": "code",
   "execution_count": 29,
   "metadata": {},
   "outputs": [],
   "source": [
    "player_scores_df['player_id'] = id\n",
    "player_scores_df['total_score'] = total_points\n",
    "player_scores_df['gameweek'] = gameweek"
   ]
  },
  {
   "cell_type": "code",
   "execution_count": 30,
   "metadata": {},
   "outputs": [
    {
     "data": {
      "text/html": "<div>\n<style scoped>\n    .dataframe tbody tr th:only-of-type {\n        vertical-align: middle;\n    }\n\n    .dataframe tbody tr th {\n        vertical-align: top;\n    }\n\n    .dataframe thead th {\n        text-align: right;\n    }\n</style>\n<table border=\"1\" class=\"dataframe\">\n  <thead>\n    <tr style=\"text-align: right;\">\n      <th></th>\n      <th>player_id</th>\n      <th>total_score</th>\n      <th>gameweek</th>\n    </tr>\n  </thead>\n  <tbody>\n    <tr>\n      <td>0</td>\n      <td>14</td>\n      <td>7</td>\n      <td>1</td>\n    </tr>\n    <tr>\n      <td>1</td>\n      <td>27</td>\n      <td>0</td>\n      <td>1</td>\n    </tr>\n    <tr>\n      <td>2</td>\n      <td>47</td>\n      <td>9</td>\n      <td>1</td>\n    </tr>\n    <tr>\n      <td>3</td>\n      <td>48</td>\n      <td>0</td>\n      <td>1</td>\n    </tr>\n    <tr>\n      <td>4</td>\n      <td>72</td>\n      <td>0</td>\n      <td>1</td>\n    </tr>\n    <tr>\n      <td>...</td>\n      <td>...</td>\n      <td>...</td>\n      <td>...</td>\n    </tr>\n    <tr>\n      <td>14106</td>\n      <td>581</td>\n      <td>0</td>\n      <td>25</td>\n    </tr>\n    <tr>\n      <td>14107</td>\n      <td>585</td>\n      <td>0</td>\n      <td>25</td>\n    </tr>\n    <tr>\n      <td>14108</td>\n      <td>592</td>\n      <td>0</td>\n      <td>25</td>\n    </tr>\n    <tr>\n      <td>14109</td>\n      <td>613</td>\n      <td>8</td>\n      <td>25</td>\n    </tr>\n    <tr>\n      <td>14110</td>\n      <td>622</td>\n      <td>0</td>\n      <td>25</td>\n    </tr>\n  </tbody>\n</table>\n<p>14111 rows × 3 columns</p>\n</div>",
      "text/plain": "       player_id  total_score  gameweek\n0             14            7         1\n1             27            0         1\n2             47            9         1\n3             48            0         1\n4             72            0         1\n...          ...          ...       ...\n14106        581            0        25\n14107        585            0        25\n14108        592            0        25\n14109        613            8        25\n14110        622            0        25\n\n[14111 rows x 3 columns]"
     },
     "execution_count": 30,
     "metadata": {},
     "output_type": "execute_result"
    }
   ],
   "source": [
    "player_scores_df"
   ]
  },
  {
   "cell_type": "code",
   "execution_count": 72,
   "metadata": {},
   "outputs": [],
   "source": [
    "all_players_df['round_score'] = round_score"
   ]
  },
  {
   "cell_type": "code",
   "execution_count": 73,
   "metadata": {},
   "outputs": [
    {
     "data": {
      "text/html": "<div>\n<style scoped>\n    .dataframe tbody tr th:only-of-type {\n        vertical-align: middle;\n    }\n\n    .dataframe tbody tr th {\n        vertical-align: top;\n    }\n\n    .dataframe thead th {\n        text-align: right;\n    }\n</style>\n<table border=\"1\" class=\"dataframe\">\n  <thead>\n    <tr style=\"text-align: right;\">\n      <th></th>\n      <th>team_id</th>\n      <th>gameweek</th>\n      <th>player_id</th>\n      <th>position</th>\n      <th>subbed</th>\n      <th>round_score</th>\n    </tr>\n  </thead>\n  <tbody>\n    <tr>\n      <td>0</td>\n      <td>333932</td>\n      <td>1</td>\n      <td>149</td>\n      <td>1</td>\n      <td>N/A</td>\n      <td>0</td>\n    </tr>\n    <tr>\n      <td>1</td>\n      <td>333932</td>\n      <td>1</td>\n      <td>204</td>\n      <td>2</td>\n      <td>N/A</td>\n      <td>0</td>\n    </tr>\n    <tr>\n      <td>2</td>\n      <td>333932</td>\n      <td>1</td>\n      <td>122</td>\n      <td>3</td>\n      <td>Subbed In</td>\n      <td>8</td>\n    </tr>\n    <tr>\n      <td>3</td>\n      <td>333932</td>\n      <td>1</td>\n      <td>334</td>\n      <td>4</td>\n      <td>N/A</td>\n      <td>0</td>\n    </tr>\n    <tr>\n      <td>4</td>\n      <td>333932</td>\n      <td>1</td>\n      <td>346</td>\n      <td>5</td>\n      <td>N/A</td>\n      <td>1</td>\n    </tr>\n    <tr>\n      <td>...</td>\n      <td>...</td>\n      <td>...</td>\n      <td>...</td>\n      <td>...</td>\n      <td>...</td>\n      <td>...</td>\n    </tr>\n    <tr>\n      <td>10</td>\n      <td>299717</td>\n      <td>25</td>\n      <td>363</td>\n      <td>11</td>\n      <td>N/A</td>\n      <td>5</td>\n    </tr>\n    <tr>\n      <td>11</td>\n      <td>299717</td>\n      <td>25</td>\n      <td>14</td>\n      <td>12</td>\n      <td>N/A</td>\n      <td>7</td>\n    </tr>\n    <tr>\n      <td>12</td>\n      <td>299717</td>\n      <td>25</td>\n      <td>522</td>\n      <td>13</td>\n      <td>N/A</td>\n      <td>0</td>\n    </tr>\n    <tr>\n      <td>13</td>\n      <td>299717</td>\n      <td>25</td>\n      <td>505</td>\n      <td>14</td>\n      <td>N/A</td>\n      <td>2</td>\n    </tr>\n    <tr>\n      <td>14</td>\n      <td>299717</td>\n      <td>25</td>\n      <td>477</td>\n      <td>15</td>\n      <td>N/A</td>\n      <td>0</td>\n    </tr>\n  </tbody>\n</table>\n<p>2250 rows × 6 columns</p>\n</div>",
      "text/plain": "   team_id  gameweek  player_id  position     subbed  round_score\n0   333932         1        149         1        N/A            0\n1   333932         1        204         2        N/A            0\n2   333932         1        122         3  Subbed In            8\n3   333932         1        334         4        N/A            0\n4   333932         1        346         5        N/A            1\n..     ...       ...        ...       ...        ...          ...\n10  299717        25        363        11        N/A            5\n11  299717        25         14        12        N/A            7\n12  299717        25        522        13        N/A            0\n13  299717        25        505        14        N/A            2\n14  299717        25        477        15        N/A            0\n\n[2250 rows x 6 columns]"
     },
     "execution_count": 73,
     "metadata": {},
     "output_type": "execute_result"
    }
   ],
   "source": [
    "all_players_df"
   ]
  },
  {
   "cell_type": "code",
   "execution_count": 74,
   "metadata": {},
   "outputs": [
    {
     "name": "stdout",
     "output_type": "stream",
     "text": "Stored 'all_players_df' (DataFrame)\n"
    }
   ],
   "source": [
    "%store all_players_df"
   ]
  },
  {
   "cell_type": "code",
   "execution_count": 75,
   "metadata": {},
   "outputs": [
    {
     "data": {
      "text/html": "<div>\n<style scoped>\n    .dataframe tbody tr th:only-of-type {\n        vertical-align: middle;\n    }\n\n    .dataframe tbody tr th {\n        vertical-align: top;\n    }\n\n    .dataframe thead th {\n        text-align: right;\n    }\n</style>\n<table border=\"1\" class=\"dataframe\">\n  <thead>\n    <tr style=\"text-align: right;\">\n      <th></th>\n      <th>team_id</th>\n      <th>player_id</th>\n      <th>team_name</th>\n      <th>round_score</th>\n      <th>player_name</th>\n      <th>gameweek</th>\n    </tr>\n  </thead>\n  <tbody>\n    <tr>\n      <td>0</td>\n      <td>333932</td>\n      <td>169</td>\n      <td>All the Smallings</td>\n      <td>0</td>\n      <td>Schmeichel</td>\n      <td>26</td>\n    </tr>\n    <tr>\n      <td>1</td>\n      <td>297336</td>\n      <td>397</td>\n      <td>Childish Gbaminos</td>\n      <td>0</td>\n      <td>Noble</td>\n      <td>26</td>\n    </tr>\n    <tr>\n      <td>2</td>\n      <td>333932</td>\n      <td>220</td>\n      <td>All the Smallings</td>\n      <td>0</td>\n      <td>David Silva</td>\n      <td>26</td>\n    </tr>\n    <tr>\n      <td>3</td>\n      <td>336116</td>\n      <td>389</td>\n      <td>Stop Crying Lampard</td>\n      <td>0</td>\n      <td>Fabianski</td>\n      <td>26</td>\n    </tr>\n    <tr>\n      <td>4</td>\n      <td>300296</td>\n      <td>211</td>\n      <td>Ducks of Bethlehem</td>\n      <td>0</td>\n      <td>Agüero</td>\n      <td>26</td>\n    </tr>\n    <tr>\n      <td>...</td>\n      <td>...</td>\n      <td>...</td>\n      <td>...</td>\n      <td>...</td>\n      <td>...</td>\n      <td>...</td>\n    </tr>\n    <tr>\n      <td>85</td>\n      <td>299717</td>\n      <td>505</td>\n      <td>Obi-Wan Iwobi</td>\n      <td>0</td>\n      <td>James</td>\n      <td>26</td>\n    </tr>\n    <tr>\n      <td>86</td>\n      <td>339264</td>\n      <td>524</td>\n      <td>Neuer Gonna Give You</td>\n      <td>0</td>\n      <td>Sarr</td>\n      <td>26</td>\n    </tr>\n    <tr>\n      <td>87</td>\n      <td>300296</td>\n      <td>589</td>\n      <td>Ducks of Bethlehem</td>\n      <td>0</td>\n      <td>Minamino</td>\n      <td>26</td>\n    </tr>\n    <tr>\n      <td>88</td>\n      <td>299717</td>\n      <td>615</td>\n      <td>Obi-Wan Iwobi</td>\n      <td>0</td>\n      <td>Bergwijn</td>\n      <td>26</td>\n    </tr>\n    <tr>\n      <td>89</td>\n      <td>299717</td>\n      <td>618</td>\n      <td>Obi-Wan Iwobi</td>\n      <td>0</td>\n      <td>Fernandes</td>\n      <td>26</td>\n    </tr>\n  </tbody>\n</table>\n<p>90 rows × 6 columns</p>\n</div>",
      "text/plain": "   team_id player_id             team_name round_score  player_name gameweek\n0   333932       169     All the Smallings           0   Schmeichel       26\n1   297336       397     Childish Gbaminos           0        Noble       26\n2   333932       220     All the Smallings           0  David Silva       26\n3   336116       389   Stop Crying Lampard           0    Fabianski       26\n4   300296       211    Ducks of Bethlehem           0       Agüero       26\n..     ...       ...                   ...         ...          ...      ...\n85  299717       505         Obi-Wan Iwobi           0        James       26\n86  339264       524  Neuer Gonna Give You           0         Sarr       26\n87  300296       589    Ducks of Bethlehem           0     Minamino       26\n88  299717       615         Obi-Wan Iwobi           0     Bergwijn       26\n89  299717       618         Obi-Wan Iwobi           0    Fernandes       26\n\n[90 rows x 6 columns]"
     },
     "execution_count": 75,
     "metadata": {},
     "output_type": "execute_result"
    }
   ],
   "source": [
    "current_players"
   ]
  },
  {
   "cell_type": "code",
   "execution_count": 32,
   "metadata": {},
   "outputs": [],
   "source": [
    "player_info = session.get(\"https://draft.premierleague.com/api/bootstrap-static\")\n",
    "player_info_json = json.loads(player_info.text)"
   ]
  },
  {
   "cell_type": "code",
   "execution_count": 33,
   "metadata": {},
   "outputs": [
    {
     "data": {
      "text/plain": "ank': 241,\n  'dreamteam_count': 0,\n  'ep_next': None,\n  'ep_this': None,\n  'event_points': 1,\n  'first_name': 'Ignacio',\n  'form': '1.0',\n  'in_dreamteam': False,\n  'news': '',\n  'news_added': None,\n  'news_return': None,\n  'news_updated': None,\n  'points_per_game': '1.0',\n  'second_name': 'Pussetto',\n  'squad_number': None,\n  'status': 'a',\n  'total_points': 4,\n  'web_name': 'Pussetto',\n  'element_type': 3,\n  'team': 18},\n {'id': 605,\n  'assists': 0,\n  'bonus': 0,\n  'bps': 27,\n  'clean_sheets': 0,\n  'creativity': '0.0',\n  'goals_conceded': 5,\n  'goals_scored': 0,\n  'ict_index': '4.9',\n  'influence': '49.6',\n  'minutes': 180,\n  'own_goals': 0,\n  'penalties_missed': 0,\n  'penalties_saved': 0,\n  'red_cards': 0,\n  'saves': 6,\n  'threat': '0.0',\n  'yellow_cards': 0,\n  'added': '2020-01-16T11:07:15.768495Z',\n  'chance_of_playing_next_round': None,\n  'chance_of_playing_this_round': None,\n  'code': 32259,\n  'draft_rank': 329,\n  'dreamteam_count': 0,\n  'ep_next': None,\n  'ep_this': None,\n  'event_points': 0,\n  'first_name': 'Darren',\n  'form': '0.6',\n  'in_dreamteam': False,\n  'news': '',\n  'news_added': None,\n  'news_return': None,\n  'news_updated': None,\n  'points_per_game': '1.5',\n  'second_name': 'Randolph',\n  'squad_number': None,\n  'status': 'a',\n  'total_points': 3,\n  'web_name': 'Randolph',\n  'element_type': 1,\n  'team': 19},\n {'id': 606,\n  'assists': 0,\n  'bonus': 0,\n  'bps': 0,\n  'clean_sheets': 0,\n  'creativity': '0.0',\n  'goals_conceded': 0,\n  'goals_scored': 0,\n  'ict_index': '0.0',\n  'influence': '0.0',\n  'minutes': 0,\n  'own_goals': 0,\n  'penalties_missed': 0,\n  'penalties_saved': 0,\n  'red_cards': 0,\n  'saves': 0,\n  'threat': '0.0',\n  'yellow_cards': 0,\n  'added': '2020-01-17T15:34:41.501734Z',\n  'chance_of_playing_next_round': 0,\n  'chance_of_playing_this_round': 0,\n  'code': 232351,\n  'draft_rank': 579,\n  'dreamteam_count': 0,\n  'ep_next': None,\n  'ep_this': None,\n  'event_points': 0,\n  'first_name': 'Ryan',\n  'form': '0.0',\n  'in_dreamteam': False,\n  'news': 'Joined Coventry City on loan until the end of the season on 31/1. - Expected back 01 Jul',\n  'news_added': '2020-01-31T20:30:19.344750Z',\n  'news_return': None,\n  'news_updated': None,\n  'points_per_game': '0.0',\n  'second_name': 'Giles',\n  'squad_number': None,\n  'status': 'n',\n  'total_points': 0,\n  'web_name': 'Giles',\n  'element_type': 2,\n  'team': 20},\n {'id': 607,\n  'assists': 0,\n  'bonus': 0,\n  'bps': 0,\n  'clean_sheets': 0,\n  'creativity': '0.0',\n  'goals_conceded': 0,\n  'goals_scored': 0,\n  'ict_index': '0.0',\n  'influence': '0.0',\n  'minutes': 0,\n  'own_goals': 0,\n  'penalties_missed': 0,\n  'penalties_saved': 0,\n  'red_cards': 0,\n  'saves': 0,\n  'threat': '0.0',\n  'yellow_cards': 0,\n  'added': '2020-01-18T20:40:51.410309Z',\n  'chance_of_playing_next_round': 0,\n  'chance_of_playing_this_round': 0,\n  'code': 234720,\n  'draft_rank': 331,\n  'dreamteam_count': 0,\n  'ep_next': None,\n  'ep_this': None,\n  'event_points': 0,\n  'first_name': 'Giovanni',\n  'form': '0.0',\n  'in_dreamteam': False,\n  'news': 'Joined Dartford on loan until the end of the season on 31/1. - Expected back 01 Jul',\n  'news_added': '2020-01-31T20:30:19.355699Z',\n  'news_return': None,\n  'news_updated': None,\n  'points_per_game': '0.0',\n  'second_name': 'McGregor',\n  'squad_number': None,\n  'status': 'n',\n  'total_points': 0,\n  'web_name': 'McGregor',\n  'element_type': 3,\n  'team': 7},\n {'id': 608,\n  'assists': 0,\n  'bonus': 0,\n  'bps': 0,\n  'clean_sheets': 0,\n  'creativity': '0.0',\n  'goals_conceded': 0,\n  'goals_scored': 0,\n  'ict_index': '0.0',\n  'influence': '0.0',\n  'minutes': 0,\n  'own_goals': 0,\n  'penalties_missed': 0,\n  'penalties_saved': 0,\n  'red_cards': 0,\n  'saves': 0,\n  'threat': '0.0',\n  'yellow_cards': 0,\n  'added': '2020-01-18T20:40:52.407813Z',\n  'chance_of_playing_next_round': None,\n  'chance_of_playing_this_round': None,\n  'code': 428610,\n  'draft_rank': 330,\n  'dreamteam_count': 0,\n  'ep_next': None,\n  'ep_this': None,\n  'event_points': 0,\n  'first_name': 'Bruno André',\n  'form': '0.0',\n  'in_dreamteam': False,\n  'news': '',\n  'news_added': None,\n  'news_return': None,\n  'news_updated': None,\n  'points_per_game': '0.0',\n  'second_name': 'Cavaco Jordao',\n  'squad_number': None,\n  'status': 'a',\n  'total_points': 0,\n  'web_name': 'Jordao',\n  'element_type': 3,\n  'team': 20},\n {'id': 609,\n  'assists': 0,\n  'bonus': 0,\n  'bps': 0,\n  'clean_sheets': 0,\n  'creativity': '0.0',\n  'goals_conceded': 0,\n  'goals_scored': 0,\n  'ict_index': '0.0',\n  'influence': '0.0',\n  'minutes': 0,\n  'own_goals': 0,\n  'penalties_missed': 0,\n  'penalties_saved': 0,\n  'red_cards': 0,\n  'saves': 0,\n  'threat': '0.0',\n  'yellow_cards': 0,\n  'added': '2020-01-21T23:12:12.749799Z',\n  'chance_of_playing_next_round': None,\n  'chance_of_playing_this_round': None,\n  'code': 156069,\n  'draft_rank': 581,\n  'dreamteam_count': 0,\n  'ep_next': None,\n  'ep_this': None,\n  'event_points': 0,\n  'first_name': 'Liam',\n  'form': '0.0',\n  'in_dreamteam': False,\n  'news': '',\n  'news_added': None,\n  'news_return': None,\n  'news_updated': None,\n  'points_per_game': '0.0',\n  'second_name': 'Gibson',\n  'squad_number': None,\n  'status': 'a',\n  'total_points': 0,\n  'web_name': 'Gibson',\n  'element_type': 2,\n  'team': 13},\n {'id': 610,\n  'assists': 0,\n  'bonus': 0,\n  'bps': 25,\n  'clean_sheets': 1,\n  'creativity': '54.2',\n  'goals_conceded': 4,\n  'goals_scored': 0,\n  'ict_index': '8.7',\n  'influence': '30.4',\n  'minutes': 180,\n  'own_goals': 0,\n  'penalties_missed': 0,\n  'penalties_saved': 0,\n  'red_cards': 0,\n  'saves': 0,\n  'threat': '2.0',\n  'yellow_cards': 1,\n  'added': '2020-01-22T15:19:46.301576Z',\n  'chance_of_playing_next_round': None,\n  'chance_of_playing_this_round': None,\n  'code': 126407,\n  'draft_rank': 244,\n  'dreamteam_count': 0,\n  'ep_next': None,\n  'ep_this': None,\n  'event_points': 2,\n  'first_name': 'Nabil',\n  'form': '2.0',\n  'in_dreamteam': False,\n  'news': '',\n  'news_added': None,\n  'news_return': None,\n  'news_updated': None,\n  'points_per_game': '2.0',\n  'second_name': 'Bentaleb',\n  'squad_number': None,\n  'status': 'a',\n  'total_points': 4,\n  'web_name': 'Bentaleb',\n  'element_type': 3,\n  'team': 13},\n {'id': 611,\n  'assists': 0,\n  'bonus': 0,\n  'bps': 0,\n  'clean_sheets': 0,\n  'creativity': '0.0',\n  'goals_conceded': 0,\n  'goals_scored': 0,\n  'ict_index': '0.0',\n  'influence': '0.0',\n  'minutes': 0,\n  'own_goals': 0,\n  'penalties_missed': 0,\n  'penalties_saved': 0,\n  'red_cards': 0,\n  'saves': 0,\n  'threat': '0.0',\n  'yellow_cards': 0,\n  'added': '2020-01-22T15:19:46.688906Z',\n  'chance_of_playing_next_round': None,\n  'chance_of_playing_this_round': None,\n  'code': 83427,\n  'draft_rank': 580,\n  'dreamteam_count': 0,\n  'ep_next': None,\n  'ep_this': None,\n  'event_points': 0,\n  'first_name': 'Jack',\n  'form': '0.0',\n  'in_dreamteam': False,\n  'news': '',\n  'news_added': None,\n  'news_return': None,\n  'news_updated': None,\n  'points_per_game': '0.0',\n  'second_name': 'Robinson',\n  'squad_number': None,\n  'status': 'a',\n  'total_points': 0,\n  'web_name': 'Jack Robinson',\n  'element_type': 2,\n  'team': 15},\n {'id': 612,\n  'assists': 0,\n  'bonus': 2,\n  'bps': 34,\n  'clean_sheets': 0,\n  'creativity': '47.9',\n  'goals_conceded': 4,\n  'goals_scored': 1,\n  'ict_index': '22.8',\n  'influence': '43.8',\n  'minutes': 172,\n  'own_goals': 0,\n  'penalties_missed': 0,\n  'penalties_saved': 0,\n  'red_cards': 0,\n  'saves': 0,\n  'threat': '136.0',\n  'yellow_cards': 0,\n  'added': '2020-01-28T11:35:54.086303Z',\n  'chance_of_playing_next_round': None,\n  'chance_of_playing_this_round': None,\n  'code': 217487,\n  'draft_rank': 83,\n  'dreamteam_count': 0,\n  'ep_next': None,\n  'ep_this': None,\n  'event_points': 2,\n  'first_name': 'Mbwana',\n  'form': '5.0',\n  'in_dreamteam': False,\n  'news': '',\n  'news_added': None,\n  'news_return': None,\n  'news_updated': None,\n  'points_per_game': '5.0',\n  'second_name': 'Samatta',\n  'squad_number': None,\n  'status': 'a',\n  'total_points': 10,\n  'web_name': 'Samatta',\n  'element_type': 4,\n  'team': 2},\n {'id': 613,\n  'assists': 0,\n  'bonus': 0,\n  'bps': 12,\n  'clean_sheets': 0,\n  'creativity': '21.8',\n  'goals_conceded': 2,\n  'goals_scored': 0,\n  'ict_index': '4.4',\n  'influence': '15.8',\n  'minutes': 109,\n  'own_goals': 0,\n  'penalties_missed': 0,\n  'penalties_saved': 0,\n  'red_cards': 0,\n  'saves': 0,\n  'threat': '6.0',\n  'yellow_cards': 0,\n  'added': '2020-01-28T11:35:55.752640Z',\n  'chance_of_playing_next_round': None,\n  'chance_of_playing_this_round': None,\n  'code': 116543,\n  'draft_rank': 90,\n  'dreamteam_count': 0,\n  'ep_next': None,\n  'ep_this': None,\n  'event_points': 2,\n  'first_name': 'Valentino',\n  'form': '1.5',\n  'in_dreamteam': False,\n  'news': '',\n  'news_added': None,\n  'news_return': None,\n  'news_updated': None,\n  'points_per_game': '1.5',\n  'second_name': 'Lazaro',\n  'squad_number': None,\n  'status': 'a',\n  'total_points': 3,\n  'web_name': 'Lazaro',\n  'element_type': 3,\n  'team': 13},\n {'id': 614,\n  'assists': 0,\n  'bonus': 0,\n  'bps': 0,\n  'clean_sheets': 0,\n  'creativity': '0.0',\n  'goals_conceded': 0,\n  'goals_scored': 0,\n  'ict_index': '0.0',\n  'influence': '0.0',\n  'minutes': 0,\n  'own_goals': 0,\n  'penalties_missed': 0,\n  'penalties_saved': 0,\n  'red_cards': 0,\n  'saves': 0,\n  'threat': '0.0',\n  'yellow_cards': 0,\n  'added': '2020-01-30T12:37:55.313713Z',\n  'chance_of_playing_next_round': 75,\n  'chance_of_playing_this_round': None,\n  'code': 92371,\n  'draft_rank': 246,\n  'dreamteam_count': 0,\n  'ep_next': None,\n  'ep_this': None,\n  'event_points': 0,\n  'first_name': 'Pablo',\n  'form': '0.0',\n  'in_dreamteam': False,\n  'news': 'Lack of match fitness - 75% chance of playing',\n  'news_added': '2020-02-14T10:30:20.035710Z',\n  'news_return': None,\n  'news_updated': None,\n  'points_per_game': '0.0',\n  'second_name': 'Marí',\n  'squad_number': None,\n  'status': 'd',\n  'total_points': 0,\n  'web_name': 'Marí',\n  'element_type': 2,\n  'team': 1},\n {'id': 615,\n  'assists': 0,\n  'bonus': 2,\n  'bps': 41,\n  'clean_sheets': 1,\n  'creativity': '44.0',\n  'goals_conceded': 2,\n  'goals_scored': 1,\n  'ict_index': '18.6',\n  'influence': '54.0',\n  'minutes': 159,\n  'own_goals': 0,\n  'penalties_missed': 0,\n  'penalties_saved': 0,\n  'red_cards': 0,\n  'saves': 0,\n  'threat': '88.0',\n  'yellow_cards': 0,\n  'added': '2020-01-30T12:37:57.078298Z',\n  'chance_of_playing_next_round': None,\n  'chance_of_playing_this_round': None,\n  'code': 194252,\n  'draft_rank': 22,\n  'dreamteam_count': 0,\n  'ep_next': None,\n  'ep_this': None,\n  'event_points': 2,\n  'first_name': 'Steven',\n  'form': '6.0',\n  'in_dreamteam': False,\n  'news': '',\n  'news_added': None,\n  'news_return': None,\n  'news_updated': None,\n  'points_per_game': '6.0',\n  'second_name': 'Bergwijn',\n  'squad_number': None,\n  'status': 'a',\n  'total_points': 12,\n  'web_name': 'Bergwijn',\n  'element_type': 3,\n  'team': 17},\n {'id': 616,\n  'assists': 0,\n  'bonus': 0,\n  'bps': 7,\n  'clean_sheets': 0,\n  'creativity': '12.0',\n  'goals_conceded': 3,\n  'goals_scored': 0,\n  'ict_index': '7.3',\n  'influence': '21.6',\n  'minutes': 84,\n  'own_goals': 0,\n  'penalties_missed': 0,\n  'penalties_saved': 0,\n  'red_cards': 0,\n  'saves': 0,\n  'threat': '39.0',\n  'yellow_cards': 0,\n  'added': '2020-01-30T12:37:58.086918Z',\n  'chance_of_playing_next_round': None,\n  'chance_of_playing_this_round': None,\n  'code': 215439,\n  'draft_rank': 243,\n  'dreamteam_count': 0,\n  'ep_next': None,\n  'ep_this': None,\n  'event_points': 0,\n  'first_name': 'Tomas',\n  'form': '1.0',\n  'in_dreamteam': False,\n  'news': '',\n  'news_added': None,\n  'news_return': None,\n  'news_updated': None,\n  'points_per_game': '2.0',\n  'second_name': 'Soucek',\n  'squad_number': None,\n  'status': 'a',\n  'total_points': 2,\n  'web_name': 'Soucek',\n  'element_type': 3,\n  'team': 19},\n {'id': 617,\n  'assists': 0,\n  'bonus': 0,\n  'bps': 0,\n  'clean_sheets': 0,\n  'creativity': '0.0',\n  'goals_conceded': 0,\n  'goals_scored': 0,\n  'ict_index': '0.0',\n  'influence': '0.0',\n  'minutes': 0,\n  'own_goals': 0,\n  'penalties_missed': 0,\n  'penalties_saved': 0,\n  'red_cards': 0,\n  'saves': 0,\n  'threat': '0.0',\n  'yellow_cards': 0,\n  'added': '2020-01-31T12:02:22.160815Z',\n  'chance_of_playing_next_round': None,\n  'chance_of_playing_this_round': None,\n  'code': 172782,\n  'draft_rank': 247,\n  'dreamteam_count': 0,\n  'ep_next': None,\n  'ep_this': None,\n  'event_points': 0,\n  'first_name': 'Josh',\n  'form': '0.0',\n  'in_dreamteam': False,\n  'news': '',\n  'news_added': None,\n  'news_return': None,\n  'news_updated': None,\n  'points_per_game': '0.0',\n  'second_name': 'Brownhill',\n  'squad_number': None,\n  'status': 'a',\n  'total_points': 0,\n  'web_name': 'Brownhill',\n  'element_type': 3,\n  'team': 5},\n {'id': 618,\n  'assists': 0,\n  'bonus': 0,\n  'bps': 2,\n  'clean_sheets': 1,\n  'creativity': '10.9',\n  'goals_conceded': 0,\n  'goals_scored': 0,\n  'ict_index': '6.4',\n  'influence': '23.4',\n  'minutes': 90,\n  'own_goals': 0,\n  'penalties_missed': 0,\n  'penalties_saved': 0,\n  'red_cards': 0,\n  'saves': 0,\n  'threat': '30.0',\n  'yellow_cards': 1,\n  'added': '2020-01-31T12:02:23.971356Z',\n  'chance_of_playing_next_round': None,\n  'chance_of_playing_this_round': None,\n  'code': 141746,\n  'draft_rank': 21,\n  'dreamteam_count': 0,\n  'ep_next': None,\n  'ep_this': None,\n  'event_points': 0,\n  'first_name': 'Bruno Miguel',\n  'form': '1.0',\n  'in_dreamteam': False,\n  'news': '',\n  'news_added': None,\n  'news_return': None,\n  'news_updated': None,\n  'points_per_game': '2.0',\n  'second_name': 'Borges Fernandes',\n  'squad_number': None,\n  'status': 'a',\n  'total_points': 2,\n  'web_name': 'Fernandes',\n  'element_type': 3,\n  'team': 12},\n {'id': 619,\n  'assists': 0,\n  'bonus': 0,\n  'bps': 16,\n  'clean_sheets': 1,\n  'creativity': '3.4',\n  'goals_conceded': 1,\n  'goals_scored': 0,\n  'ict_index': '3.1',\n  'influence': '16.6',\n  'minutes': 127,\n  'own_goals': 0,\n  'penalties_missed': 0,\n  'penalties_saved': 0,\n  'red_cards': 0,\n  'saves': 0,\n  'threat': '10.0',\n  'yellow_cards': 0,\n  'added': '2020-01-31T12:02:25.006377Z',\n  'chance_of_playing_next_round': None,\n  'chance_of_playing_this_round': None,\n  'code': 207189,\n  'draft_rank': 245,\n  'dreamteam_count': 0,\n  'ep_next': None,\n  'ep_this': None,\n  'event_points': 2,\n  'first_name': 'Sander',\n  'form': '2.5',\n  'in_dreamteam': False,\n  'news': '',\n  'news_added': None,\n  'news_return': None,\n  'news_updated': None,\n  'points_per_game': '2.5',\n  'second_name': 'Berge',\n  'squad_number': None,\n  'status': 'a',\n  'total_points': 5,\n  'web_name': 'Berge',\n  'element_type': 3,\n  'team': 15},\n {'id': 620,\n  'assists': 0,\n  'bonus': 0,\n  'bps': 7,\n  'clean_sheets': 0,\n  'creativity': '15.4',\n  'goals_conceded': 0,\n  'goals_scored': 0,\n  'ict_index': '4.0',\n  'influence': '6.4',\n  'minutes': 26,\n  'own_goals': 0,\n  'penalties_missed': 0,\n  'penalties_saved': 0,\n  'red_cards': 0,\n  'saves': 0,\n  'threat': '18.0',\n  'yellow_cards': 0,\n  'added': '2020-01-31T12:02:26.489165Z',\n  'chance_of_playing_next_round': None,\n  'chance_of_playing_this_round': None,\n  'code': 200600,\n  'draft_rank': 91,\n  'dreamteam_count': 0,\n  'ep_next': None,\n  'ep_this': None,\n  'event_points': 1,\n  'first_name': 'Daniel',\n  'form': '1.0',\n  'in_dreamteam': False,\n  'news': '',\n  'news_added': None,\n  'news_return': None,\n  'news_updated': None,\n  'points_per_game': '1.0',\n  'second_name': 'Castelo Podence',\n  'squad_number': None,\n  'status': 'a',\n  'total_points': 2,\n  'web_name': 'Podence',\n  'element_type': 3,\n  'team': 20},\n {'id': 621,\n  'assists': 0,\n  'bonus': 0,\n  'bps': 0,\n  'clean_sheets': 0,\n  'creativity': '0.0',\n  'goals_conceded': 0,\n  'goals_scored': 0,\n  'ict_index': '0.0',\n  'influence': '0.0',\n  'minutes': 0,\n  'own_goals': 0,\n  'penalties_missed': 0,\n  'penalties_saved': 0,\n  'red_cards': 0,\n  'saves': 0,\n  'threat': '0.0',\n  'yellow_cards': 0,\n  'added': '2020-01-31T22:56:42.186790Z',\n  'chance_of_playing_next_round': None,\n  'chance_of_playing_this_round': None,\n  'code': 147612,\n  'draft_rank': 248,\n  'dreamteam_count': 0,\n  'ep_next': None,\n  'ep_this': None,\n  'event_points': 0,\n  'first_name': 'Richairo',\n  'form': '0.0',\n  'in_dreamteam': False,\n  'news': '',\n  'news_added': None,\n  'news_return': None,\n  'news_updated': None,\n  'points_per_game': '0.0',\n  'second_name': 'Zivkovic',\n  'squad_number': None,\n  'status': 'a',\n  'total_points': 0,\n  'web_name': 'Zivkovic',\n  'element_type': 4,\n  'team': 15},\n {'id': 622,\n  'assists': 0,\n  'bonus': 0,\n  'bps': 2,\n  'clean_sheets': 0,\n  'creativity': '0.3',\n  'goals_conceded': 1,\n  'goals_scored': 0,\n  'ict_index': '0.0',\n  'influence': '0.0',\n  'minutes': 7,\n  'own_goals': 0,\n  'penalties_missed': 0,\n  'penalties_saved': 0,\n  'red_cards': 0,\n  'saves': 0,\n  'threat': '0.0',\n  'yellow_cards': 0,\n  'added': '2020-02-03T14:08:06.390935Z',\n  'chance_of_playing_next_round': None,\n  'chance_of_playing_this_round': None,\n  'code': 83091,\n  'draft_rank': 93,\n  'dreamteam_count': 0,\n  'ep_next': None,\n  'ep_this': None,\n  'event_points': 1,\n  'first_name': 'Borja',\n  'form': '1.0',\n  'in_dreamteam': False,\n  'news': '',\n  'news_added': None,\n  'news_return': None,\n  'news_updated': None,\n  'points_per_game': '1.0',\n  'second_name': 'González Tomás',\n  'squad_number': None,\n  'status': 'a',\n  'total_points': 1,\n  'web_name': 'Bastón',\n  'element_type': 4,\n  'team': 2},\n {'id': 623,\n  'assists': 0,\n  'bonus': 0,\n  'bps': 0,\n  'clean_sheets': 0,\n  'creativity': '0.0',\n  'goals_conceded': 0,\n  'goals_scored': 0,\n  'ict_index': '0.0',\n  'influence': '0.0',\n  'minutes': 0,\n  'own_goals': 0,\n  'penalties_missed': 0,\n  'penalties_saved': 0,\n  'red_cards': 0,\n  'saves': 0,\n  'threat': '0.0',\n  'yellow_cards': 0,\n  'added': '2020-02-03T14:08:08.171977Z',\n  'chance_of_playing_next_round': None,\n  'chance_of_playing_this_round': None,\n  'code': 58498,\n  'draft_rank': 53,\n  'dreamteam_count': 0,\n  'ep_next': None,\n  'ep_this': None,\n  'event_points': 0,\n  'first_name': 'Odion',\n  'form': '0.0',\n  'in_dreamteam': False,\n  'news': '',\n  'news_added': None,\n  'news_return': None,\n  'news_updated': None,\n  'points_per_game': '0.0',\n  'second_name': 'Ighalo',\n  'squad_number': None,\n  'status': 'a',\n  'total_points': 0,\n  'web_name': 'Ighalo',\n  'element_type': 4,\n  'team': 12},\n {'id': 624,\n  'assists': 0,\n  'bonus': 0,\n  'bps': 0,\n  'clean_sheets': 0,\n  'creativity': '0.0',\n  'goals_conceded': 0,\n  'goals_scored': 0,\n  'ict_index': '0.0',\n  'influence': '0.0',\n  'minutes': 0,\n  'own_goals': 0,\n  'penalties_missed': 0,\n  'penalties_saved': 0,\n  'red_cards': 0,\n  'saves': 0,\n  'threat': '0.0',\n  'yellow_cards': 0,\n  'added': '2020-02-03T14:08:08.999092Z',\n  'chance_of_playing_next_round': None,\n  'chance_of_playing_this_round': None,\n  'code': 222786,\n  'draft_rank': 326,\n  'dreamteam_count': 0,\n  'ep_next': None,\n  'ep_this': None,\n  'event_points': 0,\n  'first_name': 'Panagiotis',\n  'form': '0.0',\n  'in_dreamteam': False,\n  'news': '',\n  'news_added': None,\n  'news_return': None,\n  'news_updated': None,\n  'points_per_game': '0.0',\n  'second_name': 'Retsos',\n  'squad_number': None,\n  'status': 'a',\n  'total_points': 0,\n  'web_name': 'Retsos',\n  'element_type': 2,\n  'team': 15},\n {'id': 625,\n  'assists': 0,\n  'bonus': 0,\n  'bps': 0,\n  'clean_sheets': 0,\n  'creativity': '0.0',\n  'goals_conceded': 0,\n  'goals_scored': 0,\n  'ict_index': '0.0',\n  'influence': '0.0',\n  'minutes': 0,\n  'own_goals': 0,\n  'penalties_missed': 0,\n  'penalties_saved': 0,\n  'red_cards': 0,\n  'saves': 0,\n  'threat': '0.0',\n  'yellow_cards': 0,\n  'added': '2020-02-03T14:08:10.599831Z',\n  'chance_of_playing_next_round': None,\n  'chance_of_playing_this_round': None,\n  'code': 178186,\n  'draft_rank': 52,\n  'dreamteam_count': 0,\n  'ep_next': None,\n  'ep_this': None,\n  'event_points': 0,\n  'first_name': 'Jarrod',\n  'form': '0.0',\n  'in_dreamteam': False,\n  'news': '',\n  'news_added': None,\n  'news_return': None,\n  'news_updated': None,\n  'points_per_game': '0.0',\n  'second_name': 'Bowen',\n  'squad_number': None,\n  'status': 'a',\n  'total_points': 0,\n  'web_name': 'Bowen',\n  'element_type': 3,\n  'team': 19}]"
     },
     "execution_count": 33,
     "metadata": {},
     "output_type": "execute_result"
    }
   ],
   "source": [
    "player_info_json['elements']"
   ]
  },
  {
   "cell_type": "code",
   "execution_count": 85,
   "metadata": {},
   "outputs": [
    {
     "name": "stdout",
     "output_type": "stream",
     "text": "0\n100\n200\n300\n400\n500\n600\n700\n800\n900\n1000\n1100\n1200\n1300\n1400\n1500\n1600\n1700\n1800\n1900\n2000\n2100\n2200\n"
    }
   ],
   "source": [
    "player_names = []\n",
    "\n",
    "for i in range(len(all_players_df)):\n",
    "    if i % 100 == 0:\n",
    "        print(len(player_names))\n",
    "    for el in player_info_json['elements']:\n",
    "        if all_players_df['player_id'].iloc[i]  == el['id']:\n",
    "            player_names.append(el['first_name'] + \" \" + el['second_name'])"
   ]
  },
  {
   "cell_type": "code",
   "execution_count": 86,
   "metadata": {},
   "outputs": [],
   "source": [
    "all_players_df[\"player_name\"] = player_names"
   ]
  },
  {
   "cell_type": "code",
   "execution_count": 87,
   "metadata": {},
   "outputs": [
    {
     "data": {
      "text/html": "<div>\n<style scoped>\n    .dataframe tbody tr th:only-of-type {\n        vertical-align: middle;\n    }\n\n    .dataframe tbody tr th {\n        vertical-align: top;\n    }\n\n    .dataframe thead th {\n        text-align: right;\n    }\n</style>\n<table border=\"1\" class=\"dataframe\">\n  <thead>\n    <tr style=\"text-align: right;\">\n      <th></th>\n      <th>team_id</th>\n      <th>gameweek</th>\n      <th>player_id</th>\n      <th>position</th>\n      <th>subbed</th>\n      <th>player_name</th>\n    </tr>\n  </thead>\n  <tbody>\n    <tr>\n      <td>0</td>\n      <td>333932</td>\n      <td>1</td>\n      <td>149</td>\n      <td>1</td>\n      <td>N/A</td>\n      <td>Jordan Pickford</td>\n    </tr>\n    <tr>\n      <td>1</td>\n      <td>333932</td>\n      <td>1</td>\n      <td>204</td>\n      <td>2</td>\n      <td>N/A</td>\n      <td>Kyle Walker</td>\n    </tr>\n    <tr>\n      <td>2</td>\n      <td>333932</td>\n      <td>1</td>\n      <td>122</td>\n      <td>3</td>\n      <td>Subbed In</td>\n      <td>Aaron Wan-Bissaka</td>\n    </tr>\n    <tr>\n      <td>3</td>\n      <td>333932</td>\n      <td>1</td>\n      <td>334</td>\n      <td>4</td>\n      <td>N/A</td>\n      <td>Davinson Sánchez</td>\n    </tr>\n    <tr>\n      <td>4</td>\n      <td>333932</td>\n      <td>1</td>\n      <td>346</td>\n      <td>5</td>\n      <td>N/A</td>\n      <td>Lucas Rodrigues Moura da Silva</td>\n    </tr>\n    <tr>\n      <td>5</td>\n      <td>333932</td>\n      <td>1</td>\n      <td>267</td>\n      <td>6</td>\n      <td>N/A</td>\n      <td>Ayoze Pérez</td>\n    </tr>\n    <tr>\n      <td>6</td>\n      <td>333932</td>\n      <td>1</td>\n      <td>448</td>\n      <td>7</td>\n      <td>N/A</td>\n      <td>Youri Tielemans</td>\n    </tr>\n    <tr>\n      <td>7</td>\n      <td>333932</td>\n      <td>1</td>\n      <td>134</td>\n      <td>8</td>\n      <td>N/A</td>\n      <td>Wilfried Zaha</td>\n    </tr>\n    <tr>\n      <td>8</td>\n      <td>333932</td>\n      <td>1</td>\n      <td>113</td>\n      <td>9</td>\n      <td>Subbed In</td>\n      <td>Pedro Rodríguez Ledesma</td>\n    </tr>\n    <tr>\n      <td>9</td>\n      <td>333932</td>\n      <td>1</td>\n      <td>339</td>\n      <td>10</td>\n      <td>N/A</td>\n      <td>Harry Kane</td>\n    </tr>\n    <tr>\n      <td>10</td>\n      <td>333932</td>\n      <td>1</td>\n      <td>167</td>\n      <td>11</td>\n      <td>N/A</td>\n      <td>Jamie Vardy</td>\n    </tr>\n    <tr>\n      <td>11</td>\n      <td>333932</td>\n      <td>1</td>\n      <td>169</td>\n      <td>12</td>\n      <td>N/A</td>\n      <td>Kasper Schmeichel</td>\n    </tr>\n    <tr>\n      <td>12</td>\n      <td>333932</td>\n      <td>1</td>\n      <td>3</td>\n      <td>13</td>\n      <td>N/A</td>\n      <td>Sead Kolasinac</td>\n    </tr>\n    <tr>\n      <td>13</td>\n      <td>333932</td>\n      <td>1</td>\n      <td>12</td>\n      <td>14</td>\n      <td>Subbed Out</td>\n      <td>Alexandre Lacazette</td>\n    </tr>\n    <tr>\n      <td>14</td>\n      <td>333932</td>\n      <td>1</td>\n      <td>186</td>\n      <td>15</td>\n      <td>Subbed Out</td>\n      <td>Joel Matip</td>\n    </tr>\n    <tr>\n      <td>0</td>\n      <td>333932</td>\n      <td>2</td>\n      <td>149</td>\n      <td>1</td>\n      <td>N/A</td>\n      <td>Jordan Pickford</td>\n    </tr>\n    <tr>\n      <td>1</td>\n      <td>333932</td>\n      <td>2</td>\n      <td>204</td>\n      <td>2</td>\n      <td>N/A</td>\n      <td>Kyle Walker</td>\n    </tr>\n    <tr>\n      <td>2</td>\n      <td>333932</td>\n      <td>2</td>\n      <td>334</td>\n      <td>3</td>\n      <td>N/A</td>\n      <td>Davinson Sánchez</td>\n    </tr>\n    <tr>\n      <td>3</td>\n      <td>333932</td>\n      <td>2</td>\n      <td>122</td>\n      <td>4</td>\n      <td>N/A</td>\n      <td>Aaron Wan-Bissaka</td>\n    </tr>\n    <tr>\n      <td>4</td>\n      <td>333932</td>\n      <td>2</td>\n      <td>113</td>\n      <td>5</td>\n      <td>N/A</td>\n      <td>Pedro Rodríguez Ledesma</td>\n    </tr>\n  </tbody>\n</table>\n</div>",
      "text/plain": "   team_id  gameweek  player_id  position      subbed  \\\n0   333932         1        149         1         N/A   \n1   333932         1        204         2         N/A   \n2   333932         1        122         3   Subbed In   \n3   333932         1        334         4         N/A   \n4   333932         1        346         5         N/A   \n5   333932         1        267         6         N/A   \n6   333932         1        448         7         N/A   \n7   333932         1        134         8         N/A   \n8   333932         1        113         9   Subbed In   \n9   333932         1        339        10         N/A   \n10  333932         1        167        11         N/A   \n11  333932         1        169        12         N/A   \n12  333932         1          3        13         N/A   \n13  333932         1         12        14  Subbed Out   \n14  333932         1        186        15  Subbed Out   \n0   333932         2        149         1         N/A   \n1   333932         2        204         2         N/A   \n2   333932         2        334         3         N/A   \n3   333932         2        122         4         N/A   \n4   333932         2        113         5         N/A   \n\n                       player_name  \n0                  Jordan Pickford  \n1                      Kyle Walker  \n2                Aaron Wan-Bissaka  \n3                 Davinson Sánchez  \n4   Lucas Rodrigues Moura da Silva  \n5                      Ayoze Pérez  \n6                  Youri Tielemans  \n7                    Wilfried Zaha  \n8          Pedro Rodríguez Ledesma  \n9                       Harry Kane  \n10                     Jamie Vardy  \n11               Kasper Schmeichel  \n12                  Sead Kolasinac  \n13             Alexandre Lacazette  \n14                      Joel Matip  \n0                  Jordan Pickford  \n1                      Kyle Walker  \n2                 Davinson Sánchez  \n3                Aaron Wan-Bissaka  \n4          Pedro Rodríguez Ledesma  "
     },
     "execution_count": 87,
     "metadata": {},
     "output_type": "execute_result"
    }
   ],
   "source": [
    "all_players_df.head(20)"
   ]
  },
  {
   "cell_type": "code",
   "execution_count": null,
   "metadata": {},
   "outputs": [],
   "source": [
    "# fantastic the \"fantasy\" and \"draft\" API's have slightly different player id's. perfect. I haven't found the endpoint to get player scores by week with a draft api so I will need another solution "
   ]
  },
  {
   "cell_type": "code",
   "execution_count": 37,
   "metadata": {},
   "outputs": [],
   "source": [
    "draft_player_info = session.get(\"https://draft.premierleague.com/api/bootstrap-static\")\n",
    "draft_info_json = json.loads(draft_player_info.text)\n",
    "fantasy_player_info = session.get(\"https://fantasy.premierleague.com/api/bootstrap-static/\")\n",
    "fantasy_info_json = json.loads(fantasy_player_info.text)"
   ]
  },
  {
   "cell_type": "code",
   "execution_count": 82,
   "metadata": {},
   "outputs": [
    {
     "data": {
      "text/plain": "{'chance_of_playing_next_round': 100,\n 'chance_of_playing_this_round': 100,\n 'code': 103914,\n 'cost_change_event': 0,\n 'cost_change_event_fall': 0,\n 'cost_change_start': -3,\n 'cost_change_start_fall': 3,\n 'dreamteam_count': 0,\n 'element_type': 2,\n 'ep_next': '4.0',\n 'ep_this': '4.5',\n 'event_points': 2,\n 'first_name': 'Charlie',\n 'form': '4.0',\n 'id': 87,\n 'in_dreamteam': False,\n 'news': '',\n 'news_added': '2020-02-13T14:30:21.040866Z',\n 'now_cost': 42,\n 'photo': '103914.jpg',\n 'points_per_game': '3.0',\n 'second_name': 'Taylor',\n 'selected_by_percent': '1.1',\n 'special': False,\n 'squad_number': None,\n 'status': 'a',\n 'team': 5,\n 'team_code': 90,\n 'total_points': 42,\n 'transfers_in': 100588,\n 'transfers_in_event': 5699,\n 'transfers_out': 122379,\n 'transfers_out_event': 835,\n 'value_form': '1.0',\n 'value_season': '10.0',\n 'web_name': 'Taylor',\n 'minutes': 1105,\n 'goals_scored': 0,\n 'assists': 0,\n 'clean_sheets': 5,\n 'goals_conceded': 10,\n 'own_goals': 0,\n 'penalties_saved': 0,\n 'penalties_missed': 0,\n 'yellow_cards': 2,\n 'red_cards': 0,\n 'saves': 0,\n 'bonus': 2,\n 'bps': 201,\n 'influence': '194.0',\n 'creativity': '164.1',\n 'threat': '13.0',\n 'ict_index': '37.3'}"
     },
     "execution_count": 82,
     "metadata": {},
     "output_type": "execute_result"
    }
   ],
   "source": [
    "fantasy_info_json['elements'][133]"
   ]
  },
  {
   "cell_type": "code",
   "execution_count": 38,
   "metadata": {},
   "outputs": [
    {
     "data": {
      "text/plain": "{'id': 134,\n 'assists': 5,\n 'bonus': 4,\n 'bps': 262,\n 'clean_sheets': 5,\n 'creativity': '427.7',\n 'goals_conceded': 32,\n 'goals_scored': 3,\n 'ict_index': '160.6',\n 'influence': '439.2',\n 'minutes': 2275,\n 'own_goals': 0,\n 'penalties_missed': 0,\n 'penalties_saved': 0,\n 'red_cards': 0,\n 'saves': 0,\n 'threat': '737.0',\n 'yellow_cards': 3,\n 'added': '2019-06-20T16:47:59.990498Z',\n 'chance_of_playing_next_round': 100,\n 'chance_of_playing_this_round': 100,\n 'code': 82403,\n 'draft_rank': 40,\n 'dreamteam_count': 0,\n 'ep_next': None,\n 'ep_this': None,\n 'event_points': 5,\n 'first_name': 'Wilfried',\n 'form': '3.5',\n 'in_dreamteam': False,\n 'news': '',\n 'news_added': '2020-01-06T01:00:17.820409Z',\n 'news_return': None,\n 'news_updated': None,\n 'points_per_game': '3.3',\n 'second_name': 'Zaha',\n 'squad_number': None,\n 'status': 'a',\n 'total_points': 87,\n 'web_name': 'Zaha',\n 'element_type': 3,\n 'team': 7}"
     },
     "execution_count": 38,
     "metadata": {},
     "output_type": "execute_result"
    }
   ],
   "source": [
    "draft_info_json['elements'][133]"
   ]
  },
  {
   "cell_type": "code",
   "execution_count": 39,
   "metadata": {},
   "outputs": [
    {
     "data": {
      "text/plain": "'Hart'"
     },
     "execution_count": 39,
     "metadata": {},
     "output_type": "execute_result"
    }
   ],
   "source": [
    "fantasy_info_json['elements'][140]['web_name']"
   ]
  },
  {
   "cell_type": "code",
   "execution_count": 99,
   "metadata": {},
   "outputs": [
    {
     "data": {
      "text/plain": "{'chance_of_playing_next_round': 100,\n 'chance_of_playing_this_round': 100,\n 'code': 69140,\n 'cost_change_event': 0,\n 'cost_change_event_fall': 0,\n 'cost_change_start': -4,\n 'cost_change_start_fall': 4,\n 'dreamteam_count': 0,\n 'element_type': 2,\n 'ep_next': '5.3',\n 'ep_this': '5.3',\n 'event_points': 6,\n 'first_name': 'Shkodran',\n 'form': '4.8',\n 'id': 1,\n 'in_dreamteam': False,\n 'news': '',\n 'news_added': '2020-01-27T22:30:15.833744Z',\n 'now_cost': 51,\n 'photo': '69140.jpg',\n 'points_per_game': '3.6',\n 'second_name': 'Mustafi',\n 'selected_by_percent': '0.3',\n 'special': False,\n 'squad_number': None,\n 'status': 'a',\n 'team': 1,\n 'team_code': 3,\n 'total_points': 25,\n 'transfers_in': 10828,\n 'transfers_in_event': 259,\n 'transfers_out': 34904,\n 'transfers_out_event': 93,\n 'value_form': '0.9',\n 'value_season': '4.9',\n 'web_name': 'Mustafi',\n 'minutes': 530,\n 'goals_scored': 0,\n 'assists': 2,\n 'clean_sheets': 2,\n 'goals_conceded': 7,\n 'own_goals': 0,\n 'penalties_saved': 0,\n 'penalties_missed': 0,\n 'yellow_cards': 0,\n 'red_cards': 0,\n 'saves': 0,\n 'bonus': 1,\n 'bps': 125,\n 'influence': '148.0',\n 'creativity': '14.7',\n 'threat': '103.0',\n 'ict_index': '26.7'}"
     },
     "execution_count": 99,
     "metadata": {},
     "output_type": "execute_result"
    }
   ],
   "source": [
    "fantasy_info_json['elements'][0]"
   ]
  },
  {
   "cell_type": "code",
   "execution_count": 41,
   "metadata": {},
   "outputs": [
    {
     "data": {
      "text/plain": "625"
     },
     "execution_count": 41,
     "metadata": {},
     "output_type": "execute_result"
    }
   ],
   "source": [
    "len(draft_info_json['elements'])"
   ]
  },
  {
   "cell_type": "code",
   "execution_count": 100,
   "metadata": {},
   "outputs": [],
   "source": [
    "draft_name = []\n",
    "draft_id = []\n",
    "fantasy_id = []\n",
    "fantasy_name = []\n",
    "for el in draft_info_json['elements']:\n",
    "    draft_name.append(el['first_name'] + \" \" + el['second_name'])\n",
    "    draft_id.append(el['id'])\n",
    "\n",
    "for el in fantasy_info_json['elements']:\n",
    "    fantasy_name.append(el['first_name'] + \" \" + el['second_name'])\n",
    "    fantasy_id.append(el['id'])\n"
   ]
  },
  {
   "cell_type": "code",
   "execution_count": 101,
   "metadata": {},
   "outputs": [],
   "source": [
    "draft_ids_df = pd.DataFrame()\n",
    "fantasy_ids_df = pd.DataFrame()\n",
    "\n",
    "draft_ids_df['name'] = draft_name\n",
    "draft_ids_df['id'] = draft_id \n",
    "fantasy_ids_df['name'] = fantasy_name \n",
    "fantasy_ids_df['id'] = fantasy_id "
   ]
  },
  {
   "cell_type": "code",
   "execution_count": 102,
   "metadata": {},
   "outputs": [
    {
     "data": {
      "text/html": "<div>\n<style scoped>\n    .dataframe tbody tr th:only-of-type {\n        vertical-align: middle;\n    }\n\n    .dataframe tbody tr th {\n        vertical-align: top;\n    }\n\n    .dataframe thead th {\n        text-align: right;\n    }\n</style>\n<table border=\"1\" class=\"dataframe\">\n  <thead>\n    <tr style=\"text-align: right;\">\n      <th></th>\n      <th>name</th>\n      <th>id</th>\n    </tr>\n  </thead>\n  <tbody>\n    <tr>\n      <td>121</td>\n      <td>Aaron Wan-Bissaka</td>\n      <td>122</td>\n    </tr>\n  </tbody>\n</table>\n</div>",
      "text/plain": "                  name   id\n121  Aaron Wan-Bissaka  122"
     },
     "execution_count": 102,
     "metadata": {},
     "output_type": "execute_result"
    }
   ],
   "source": [
    "draft_ids_df[draft_ids_df['id'] == 122]"
   ]
  },
  {
   "cell_type": "code",
   "execution_count": 103,
   "metadata": {},
   "outputs": [
    {
     "data": {
      "text/html": "<div>\n<style scoped>\n    .dataframe tbody tr th:only-of-type {\n        vertical-align: middle;\n    }\n\n    .dataframe tbody tr th {\n        vertical-align: top;\n    }\n\n    .dataframe thead th {\n        text-align: right;\n    }\n</style>\n<table border=\"1\" class=\"dataframe\">\n  <thead>\n    <tr style=\"text-align: right;\">\n      <th></th>\n      <th>name</th>\n      <th>id</th>\n    </tr>\n  </thead>\n  <tbody>\n    <tr>\n      <td>0</td>\n      <td>Shkodran Mustafi</td>\n      <td>1</td>\n    </tr>\n    <tr>\n      <td>1</td>\n      <td>Héctor Bellerín</td>\n      <td>2</td>\n    </tr>\n    <tr>\n      <td>2</td>\n      <td>Sead Kolasinac</td>\n      <td>3</td>\n    </tr>\n    <tr>\n      <td>3</td>\n      <td>Ainsley Maitland-Niles</td>\n      <td>4</td>\n    </tr>\n    <tr>\n      <td>4</td>\n      <td>Sokratis Papastathopoulos</td>\n      <td>5</td>\n    </tr>\n    <tr>\n      <td>...</td>\n      <td>...</td>\n      <td>...</td>\n    </tr>\n    <tr>\n      <td>620</td>\n      <td>Richairo Zivkovic</td>\n      <td>621</td>\n    </tr>\n    <tr>\n      <td>621</td>\n      <td>Borja González Tomás</td>\n      <td>622</td>\n    </tr>\n    <tr>\n      <td>622</td>\n      <td>Odion Ighalo</td>\n      <td>623</td>\n    </tr>\n    <tr>\n      <td>623</td>\n      <td>Panagiotis Retsos</td>\n      <td>624</td>\n    </tr>\n    <tr>\n      <td>624</td>\n      <td>Jarrod Bowen</td>\n      <td>625</td>\n    </tr>\n  </tbody>\n</table>\n<p>625 rows × 2 columns</p>\n</div>",
      "text/plain": "                          name   id\n0             Shkodran Mustafi    1\n1              Héctor Bellerín    2\n2               Sead Kolasinac    3\n3       Ainsley Maitland-Niles    4\n4    Sokratis Papastathopoulos    5\n..                         ...  ...\n620          Richairo Zivkovic  621\n621       Borja González Tomás  622\n622               Odion Ighalo  623\n623          Panagiotis Retsos  624\n624               Jarrod Bowen  625\n\n[625 rows x 2 columns]"
     },
     "execution_count": 103,
     "metadata": {},
     "output_type": "execute_result"
    }
   ],
   "source": [
    "draft_ids_df"
   ]
  },
  {
   "cell_type": "code",
   "execution_count": 104,
   "metadata": {},
   "outputs": [
    {
     "data": {
      "text/html": "<div>\n<style scoped>\n    .dataframe tbody tr th:only-of-type {\n        vertical-align: middle;\n    }\n\n    .dataframe tbody tr th {\n        vertical-align: top;\n    }\n\n    .dataframe thead th {\n        text-align: right;\n    }\n</style>\n<table border=\"1\" class=\"dataframe\">\n  <thead>\n    <tr style=\"text-align: right;\">\n      <th></th>\n      <th>name</th>\n      <th>id</th>\n    </tr>\n  </thead>\n  <tbody>\n    <tr>\n      <td>327</td>\n      <td>Aaron Wan-Bissaka</td>\n      <td>122</td>\n    </tr>\n  </tbody>\n</table>\n</div>",
      "text/plain": "                  name   id\n327  Aaron Wan-Bissaka  122"
     },
     "execution_count": 104,
     "metadata": {},
     "output_type": "execute_result"
    }
   ],
   "source": [
    "fantasy_ids_df[fantasy_ids_df['id'] == 122]"
   ]
  },
  {
   "cell_type": "code",
   "execution_count": 46,
   "metadata": {},
   "outputs": [
    {
     "name": "stdout",
     "output_type": "stream",
     "text": "<class 'pandas.core.frame.DataFrame'>\nRangeIndex: 623 entries, 0 to 622\nData columns (total 2 columns):\nweb_name    623 non-null object\nid          623 non-null int64\ndtypes: int64(1), object(1)\nmemory usage: 9.9+ KB\n"
    }
   ],
   "source": [
    "fantasy_ids_df.info()"
   ]
  },
  {
   "cell_type": "code",
   "execution_count": 47,
   "metadata": {},
   "outputs": [
    {
     "name": "stdout",
     "output_type": "stream",
     "text": "<class 'pandas.core.frame.DataFrame'>\nRangeIndex: 625 entries, 0 to 624\nData columns (total 2 columns):\nweb_name    625 non-null object\nid          625 non-null int64\ndtypes: int64(1), object(1)\nmemory usage: 9.9+ KB\n"
    }
   ],
   "source": [
    "draft_ids_df.info()"
   ]
  },
  {
   "cell_type": "code",
   "execution_count": 48,
   "metadata": {},
   "outputs": [],
   "source": [
    "difference = []\n",
    "for i in range(len(draft_ids_df)):\n",
    "    if draft_ids_df['id'].iloc[i] not in fantasy_id:\n",
    "        difference.append(draft_ids_df['id'].iloc[i])"
   ]
  },
  {
   "cell_type": "code",
   "execution_count": 49,
   "metadata": {},
   "outputs": [
    {
     "data": {
      "text/plain": "[424, 425, 426]"
     },
     "execution_count": 49,
     "metadata": {},
     "output_type": "execute_result"
    }
   ],
   "source": [
    "difference"
   ]
  },
  {
   "cell_type": "code",
   "execution_count": 106,
   "metadata": {},
   "outputs": [
    {
     "data": {
      "text/html": "<div>\n<style scoped>\n    .dataframe tbody tr th:only-of-type {\n        vertical-align: middle;\n    }\n\n    .dataframe tbody tr th {\n        vertical-align: top;\n    }\n\n    .dataframe thead th {\n        text-align: right;\n    }\n</style>\n<table border=\"1\" class=\"dataframe\">\n  <thead>\n    <tr style=\"text-align: right;\">\n      <th></th>\n      <th>name</th>\n      <th>id</th>\n    </tr>\n  </thead>\n  <tbody>\n    <tr>\n      <td>0</td>\n      <td>Shkodran Mustafi</td>\n      <td>1</td>\n    </tr>\n    <tr>\n      <td>1</td>\n      <td>Héctor Bellerín</td>\n      <td>2</td>\n    </tr>\n    <tr>\n      <td>2</td>\n      <td>Sead Kolasinac</td>\n      <td>3</td>\n    </tr>\n    <tr>\n      <td>3</td>\n      <td>Ainsley Maitland-Niles</td>\n      <td>4</td>\n    </tr>\n    <tr>\n      <td>4</td>\n      <td>Sokratis Papastathopoulos</td>\n      <td>5</td>\n    </tr>\n    <tr>\n      <td>...</td>\n      <td>...</td>\n      <td>...</td>\n    </tr>\n    <tr>\n      <td>620</td>\n      <td>Richairo Zivkovic</td>\n      <td>621</td>\n    </tr>\n    <tr>\n      <td>621</td>\n      <td>Borja González Tomás</td>\n      <td>622</td>\n    </tr>\n    <tr>\n      <td>622</td>\n      <td>Odion Ighalo</td>\n      <td>623</td>\n    </tr>\n    <tr>\n      <td>623</td>\n      <td>Panagiotis Retsos</td>\n      <td>624</td>\n    </tr>\n    <tr>\n      <td>624</td>\n      <td>Jarrod Bowen</td>\n      <td>625</td>\n    </tr>\n  </tbody>\n</table>\n<p>625 rows × 2 columns</p>\n</div>",
      "text/plain": "                          name   id\n0             Shkodran Mustafi    1\n1              Héctor Bellerín    2\n2               Sead Kolasinac    3\n3       Ainsley Maitland-Niles    4\n4    Sokratis Papastathopoulos    5\n..                         ...  ...\n620          Richairo Zivkovic  621\n621       Borja González Tomás  622\n622               Odion Ighalo  623\n623          Panagiotis Retsos  624\n624               Jarrod Bowen  625\n\n[625 rows x 2 columns]"
     },
     "execution_count": 106,
     "metadata": {},
     "output_type": "execute_result"
    }
   ],
   "source": [
    "draft_ids_df"
   ]
  },
  {
   "cell_type": "code",
   "execution_count": 107,
   "metadata": {},
   "outputs": [
    {
     "ename": "TypeError",
     "evalue": "'Series' objects are mutable, thus they cannot be hashed",
     "output_type": "error",
     "traceback": [
      "\u001b[0;31m---------------------------------------------------------------------------\u001b[0m",
      "\u001b[0;31mTypeError\u001b[0m                                 Traceback (most recent call last)",
      "\u001b[0;32m<ipython-input-107-6b9f30777af5>\u001b[0m in \u001b[0;36m<module>\u001b[0;34m\u001b[0m\n\u001b[0;32m----> 1\u001b[0;31m \u001b[0mdifference\u001b[0m\u001b[0;34m[\u001b[0m\u001b[0mdraft_ids_df\u001b[0m\u001b[0;34m[\u001b[0m\u001b[0;34m'name'\u001b[0m\u001b[0;34m]\u001b[0m\u001b[0;34m]\u001b[0m\u001b[0;34m.\u001b[0m\u001b[0miloc\u001b[0m\u001b[0;34m[\u001b[0m\u001b[0;36m1\u001b[0m\u001b[0;34m]\u001b[0m\u001b[0;34m\u001b[0m\u001b[0;34m\u001b[0m\u001b[0m\n\u001b[0m",
      "\u001b[0;32m/opt/anaconda3/lib/python3.7/site-packages/pandas/core/generic.py\u001b[0m in \u001b[0;36m__hash__\u001b[0;34m(self)\u001b[0m\n\u001b[1;32m   1884\u001b[0m         raise TypeError(\n\u001b[1;32m   1885\u001b[0m             \u001b[0;34m\"{0!r} objects are mutable, thus they cannot be\"\u001b[0m\u001b[0;34m\u001b[0m\u001b[0;34m\u001b[0m\u001b[0m\n\u001b[0;32m-> 1886\u001b[0;31m             \u001b[0;34m\" hashed\"\u001b[0m\u001b[0;34m.\u001b[0m\u001b[0mformat\u001b[0m\u001b[0;34m(\u001b[0m\u001b[0mself\u001b[0m\u001b[0;34m.\u001b[0m\u001b[0m__class__\u001b[0m\u001b[0;34m.\u001b[0m\u001b[0m__name__\u001b[0m\u001b[0;34m)\u001b[0m\u001b[0;34m\u001b[0m\u001b[0;34m\u001b[0m\u001b[0m\n\u001b[0m\u001b[1;32m   1887\u001b[0m         )\n\u001b[1;32m   1888\u001b[0m \u001b[0;34m\u001b[0m\u001b[0m\n",
      "\u001b[0;31mTypeError\u001b[0m: 'Series' objects are mutable, thus they cannot be hashed"
     ]
    }
   ],
   "source": [
    "draft_ids_df['name']"
   ]
  },
  {
   "cell_type": "code",
   "execution_count": 108,
   "metadata": {},
   "outputs": [],
   "source": [
    "difference = {}\n",
    "for i in range(len(draft_ids_df)):\n",
    "    difference[draft_ids_df['name'].iloc[i]] = []\n",
    "    for j in range(len(fantasy_ids_df)):\n",
    "        if draft_ids_df['name'].iloc[i] == fantasy_ids_df['name'].iloc[j]:\n",
    "            difference[draft_ids_df['name'].iloc[i]].append(draft_ids_df['id'].iloc[i])\n",
    "            difference[draft_ids_df['name'].iloc[i]].append(fantasy_ids_df['id'].iloc[j])\n",
    "\n",
    "         "
   ]
  },
  {
   "cell_type": "code",
   "execution_count": 109,
   "metadata": {},
   "outputs": [
    {
     "data": {
      "text/plain": "625"
     },
     "execution_count": 109,
     "metadata": {},
     "output_type": "execute_result"
    }
   ],
   "source": [
    "len(difference)"
   ]
  },
  {
   "cell_type": "code",
   "execution_count": 111,
   "metadata": {},
   "outputs": [
    {
     "data": {
      "text/plain": "[134, 133]"
     },
     "execution_count": 111,
     "metadata": {},
     "output_type": "execute_result"
    }
   ],
   "source": [
    "difference[\"Wilfried Zaha\"]"
   ]
  },
  {
   "cell_type": "code",
   "execution_count": 113,
   "metadata": {},
   "outputs": [
    {
     "data": {
      "text/plain": "134"
     },
     "execution_count": 113,
     "metadata": {},
     "output_type": "execute_result"
    }
   ],
   "source": [
    "difference[\"Wilfried Zaha\"][0]"
   ]
  },
  {
   "cell_type": "code",
   "execution_count": 112,
   "metadata": {},
   "outputs": [
    {
     "data": {
      "text/plain": "{'Shkodran Mustafi': [1, 1],\n 'Héctor Bellerín': [2, 2],\n 'Sead Kolasinac': [3, 3],\n 'Ainsley Maitland-Niles': [4, 4],\n 'Sokratis Papastathopoulos': [5, 5],\n 'Nacho Monreal': [6, 6],\n 'Laurent Koscielny': [7, 7],\n 'Konstantinos Mavropanos': [8, 8],\n 'Carl Jenkinson': [9, 9],\n 'Rob Holding': [10, 10],\n 'Pierre-Emerick Aubameyang': [11, 11],\n 'Alexandre Lacazette': [12, 12],\n 'Edward Nketiah': [13, 13],\n 'Bernd Leno': [14, 14],\n 'Mesut Özil': [15, 15],\n 'Henrikh Mkhitaryan': [16, 16],\n 'Alex Iwobi': [17, 17],\n 'Granit Xhaka': [18, 18],\n 'Lucas Torreira': [19, 19],\n 'Mohamed Elneny': [20, 20],\n 'Matteo Guendouzi': [21, 21],\n 'Ahmed El Mohamady': [22, 22],\n 'James Chester': [23, 23],\n 'Neil Taylor': [24, 24],\n 'Kortney Hause': [25, 25],\n 'Jonathan Kodjia': [26, 26],\n 'Ørjan Nyland': [27, 27],\n 'Conor Hourihane': [28, 28],\n 'Jack Grealish': [29, 29],\n 'Anwar El Ghazi': [30, 30],\n 'John McGinn': [31, 31],\n 'Albert Adomah': [],\n 'Andre Green': [33, 32],\n 'Birkir Bjarnason': [34, 33],\n 'Keinan Davis': [35, 34],\n 'Henri Lansbury': [36, 35],\n 'Shane Duffy': [37, 37],\n 'Martín Montoya': [38, 38],\n 'Bernardo Fernandes da Silva Junior': [39, 39],\n 'Leon Balogun': [40, 40],\n 'Gaëtan Bong': [41, 41],\n 'Lewis Dunk': [42, 42],\n 'Glenn Murray': [43, 44],\n 'Jürgen Locadia': [44, 45],\n 'Florin Andone': [45, 46],\n 'Mathew Ryan': [46, 47],\n 'David Button': [47, 48],\n 'Pascal Groß': [48, 49],\n 'Alireza Jahanbakhsh': [49, 50],\n 'José Heriberto Izquierdo Mena': [50, 51],\n 'Anthony Knockaert': [51, 52],\n 'Yves Bissouma': [52, 53],\n 'Davy Pröpper': [53, 54],\n 'Solomon March': [54, 55],\n 'Beram Kayal': [55, 56],\n 'Dale Stephens': [56, 57],\n 'Steve Cook': [57, 58],\n 'Nathan Aké': [58, 59],\n 'Charlie Daniels': [59, 60],\n 'Chris Mepham': [60, 61],\n 'Simon Francis': [61, 62],\n 'Adam Smith': [62, 63],\n 'Lloyd Kelly': [63, 64],\n 'Diego Rico': [64, 65],\n 'Jack Simpson': [65, 66],\n 'Callum Wilson': [66, 67],\n 'Joshua King': [67, 68],\n 'Dominic Solanke': [68, 69],\n 'Lys Mousset': [69, 70],\n 'Sam Surridge': [70, 71],\n 'Asmir Begovic': [71, 72],\n 'Artur Boruc': [72, 73],\n 'Mark Travers': [73, 74],\n 'Ryan Fraser': [74, 75],\n 'David Brooks': [75, 76],\n 'Junior Stanislas': [76, 77],\n 'Jordon Ibe': [77, 78],\n 'Lewis Cook': [78, 79],\n 'Andrew Surman': [79, 80],\n 'Dan Gosling': [80, 81],\n 'Jefferson Lerma': [81, 82],\n 'Ben Mee': [82, 83],\n 'James Tarkowski': [83, 84],\n 'Matthew Lowton': [84, 85],\n 'Phil Bardsley': [85, 86],\n 'Charlie Taylor': [86, 87],\n 'Kevin Long': [87, 88],\n 'Ben Gibson': [88, 89],\n 'Ashley Barnes': [89, 90],\n 'Chris Wood': [90, 91],\n 'Matej Vydra': [91, 92],\n 'Nick Pope': [92, 93],\n 'Tom Heaton': [93, 94],\n 'Joe Hart': [94, 95],\n 'Johann Berg Gudmundsson': [95, 96],\n 'Dwight McNeil': [96, 97],\n 'Robbie Brady': [97, 98],\n 'Steven Defour': [98, 99],\n 'Jeff Hendrick': [99, 100],\n 'Ashley Westwood': [100, 101],\n 'Jack Cork': [101, 102],\n 'Marcos Alonso': [102, 103],\n 'Antonio Rüdiger': [103, 104],\n 'César Azpilicueta': [104, 105],\n 'David Luiz Moreira Marinho': [105, 106],\n 'Emerson Palmieri dos Santos': [106, 107],\n 'Andreas Christensen': [107, 108],\n 'Davide Zappacosta': [108, 109],\n 'Olivier Giroud': [109, 110],\n 'Kepa Arrizabalaga': [110, 111],\n 'Willy Caballero': [111, 112],\n 'Willian Borges Da Silva': [112, 113],\n 'Pedro Rodríguez Ledesma': [113, 114],\n 'Ruben Loftus-Cheek': [114, 115],\n 'Callum Hudson-Odoi': [115, 116],\n 'Mateo Kovacic': [116, 432],\n 'Ross Barkley': [117, 117],\n 'Jorge Luiz Frello Filho': [118, 118],\n \"N'Golo Kanté\": [119, 119],\n 'Daniel Drinkwater': [120, 120],\n 'Ethan Ampadu': [121, 121],\n 'Aaron Wan-Bissaka': [122, 122],\n 'Patrick van Aanholt': [123, 123],\n 'James Tomkins': [124, 124],\n 'Mamadou Sakho': [125, 125],\n 'Joel Ward': [126, 126],\n 'Scott Dann': [127, 127],\n 'Martin Kelly': [128, 128],\n 'Christian Benteke': [129, 129],\n 'Jordan Ayew': [130, 468],\n 'Connor Wickham': [131, 130],\n 'Vicente Guaita': [132, 131],\n 'Wayne Hennessey': [133, 132],\n 'Wilfried Zaha': [134, 133],\n 'Luka Milivojevic': [135, 134],\n 'Andros Townsend': [136, 135],\n 'Max Meyer': [137, 136],\n 'Jeffrey Schlupp': [138, 137],\n 'James McArthur': [139, 138],\n 'Cheikhou Kouyaté': [140, 139],\n 'Luke Dreher': [141, 140],\n 'Lucas Digne': [142, 141],\n 'Yerry Mina': [143, 142],\n 'Michael Keane': [144, 143],\n 'Seamus Coleman': [145, 144],\n 'Leighton Baines': [146, 145],\n 'Cenk Tosun': [147, 146],\n 'Dominic Calvert-Lewin': [148, 147],\n 'Jordan Pickford': [149, 148],\n 'Maarten Stekelenburg': [150, 149],\n 'Richarlison de Andrade': [151, 150],\n 'Gylfi Sigurdsson': [152, 151],\n 'Bernard Anício Caldeira Duarte': [153, 152],\n 'Theo Walcott': [154, 153],\n 'Tom Davies': [155, 154],\n 'Ademola Lookman': [156, 155],\n 'Idrissa Gueye': [157, 156],\n 'James McCarthy': [158, 157],\n 'Morgan Schneiderlin': [159, 158],\n 'Ricardo Domingos Barbosa Pereira': [160, 159],\n 'Harry Maguire': [161, 160],\n 'Benjamin Chilwell': [162, 161],\n 'Jonny Evans': [163, 162],\n 'Christian Fuchs': [164, 163],\n 'Çaglar Söyüncü': [165, 164],\n 'Wes Morgan': [166, 165],\n 'Jamie Vardy': [167, 166],\n 'Kelechi Iheanacho': [168, 167],\n 'Kasper Schmeichel': [169, 168],\n 'Eldin Jakupovic': [170, 169],\n 'Danny Ward': [171, 170],\n 'James Maddison': [172, 171],\n 'Harvey Barnes': [173, 172],\n 'Rachid Ghezzal': [174, 173],\n 'Marc Albrighton': [175, 174],\n 'Demarai Gray': [176, 175],\n 'Wilfred Ndidi': [177, 176],\n 'Matty James': [178, 177],\n 'Daniel Amartey': [179, 178],\n 'Nampalys Mendy': [180, 179],\n 'Hamza Choudhury': [181, 180],\n 'Andrew Robertson': [182, 181],\n 'Trent Alexander-Arnold': [183, 182],\n 'Virgil van Dijk': [184, 183],\n 'Joseph Gomez': [185, 184],\n 'Joel Matip': [186, 185],\n 'Dejan Lovren': [187, 186],\n 'Roberto Firmino': [188, 187],\n 'Divock Origi': [189, 188],\n 'Alisson Ramses Becker': [190, 189],\n 'Simon Mignolet': [191, 190],\n 'Mohamed Salah': [192, 191],\n 'Sadio Mané': [193, 192],\n 'Alex Oxlade-Chamberlain': [194, 193],\n 'Xherdan Shaqiri': [195, 194],\n 'Adam Lallana': [196, 195],\n 'Naby Keita': [197, 196],\n 'Fabio Henrique Tavares': [198, 197],\n 'Jordan Henderson': [199, 198],\n 'Georginio Wijnaldum': [200, 199],\n 'James Milner': [201, 200],\n 'Rafael Camacho': [202, 201],\n 'Aymeric Laporte': [203, 202],\n 'Kyle Walker': [204, 203],\n 'Benjamin Mendy': [205, 204],\n 'Fabian Delph': [206, 205],\n 'Oleksandr Zinchenko': [207, 206],\n 'John Stones': [208, 207],\n 'Nicolás Otamendi': [209, 208],\n 'Danilo Luiz da Silva': [210, 209],\n 'Sergio Agüero': [211, 210],\n 'Gabriel Fernando de Jesus': [212, 211],\n 'Ederson Santana de Moraes': [213, 212],\n 'Claudio Bravo': [214, 213],\n 'Raheem Sterling': [215, 214],\n 'Kevin De Bruyne': [216, 215],\n 'Leroy Sané': [217, 216],\n 'Riyad Mahrez': [218, 217],\n 'Bernardo Mota Veiga de Carvalho e Silva': [219, 218],\n 'David Silva': [220, 219],\n 'Phil Foden': [221, 220],\n 'Fernando Luiz Rosa': [222, 221],\n 'Ilkay Gündogan': [223, 222],\n 'Chris Smalling': [224, 223],\n 'Ashley Young': [225, 224],\n 'Victor Lindelöf': [226, 225],\n 'Luke Shaw': [227, 226],\n 'Marcos Rojo': [228, 227],\n 'Eric Bailly': [229, 228],\n 'José Diogo Dalot Teixeira': [230, 229],\n 'Matteo Darmian': [231, 230],\n 'Phil Jones': [232, 231],\n 'Romelu Lukaku': [233, 232],\n 'Marcus Rashford': [234, 233],\n 'Mason Greenwood': [235, 234],\n 'David de Gea': [236, 235],\n 'Sergio Romero': [237, 236],\n 'Lee Grant': [238, 237],\n 'Paul Pogba': [239, 238],\n 'Anthony Martial': [240, 239],\n 'Alexis Sánchez': [241, 240],\n 'Jesse Lingard': [242, 241],\n 'Juan Mata': [243, 242],\n 'Daniel James': [244, 243],\n 'Frederico Rodrigues de Paula Santos': [245, 244],\n 'Angel Gomes': [246, 245],\n 'Andreas Pereira': [247, 246],\n 'Nemanja Matic': [248, 247],\n 'Scott McTominay': [249, 248],\n 'Tahith Chong': [250, 249],\n 'James Garner': [251, 250],\n 'Matt Ritchie': [252, 251],\n 'Fabian Schär': [253, 252],\n 'DeAndre Yedlin': [254, 253],\n 'Federico Fernández': [255, 254],\n 'Paul Dummett': [256, 255],\n 'Javier Manquillo': [257, 256],\n 'Florian Lejeune': [258, 257],\n 'Jamaal Lascelles': [259, 258],\n 'Ciaran Clark': [260, 259],\n 'Antonio Barreca': [],\n 'Yoshinori Muto': [262, 260],\n 'Jose Luis Mato Sanmartín': [263, 261],\n 'Martin Dubravka': [264, 262],\n 'Karl Darlow': [265, 263],\n 'Frederick Woodman': [266, 264],\n 'Ayoze Pérez': [267, 265],\n 'Miguel Almirón': [268, 266],\n 'Christian Atsu': [269, 267],\n 'Sung-yueng Ki': [270, 268],\n 'Jonjo Shelvey': [271, 269],\n 'Sean Longstaff': [272, 270],\n 'Isaac Hayden': [273, 271],\n 'Timm Klose': [274, 272],\n 'Ben Godfrey': [275, 273],\n 'Maximillian Aarons': [276, 274],\n 'Christoph Zimmermann': [277, 275],\n 'Jamal Lewis': [278, 276],\n 'Grant Hanley': [279, 277],\n 'Teemu Pukki': [280, 278],\n 'Dennis Srbeny': [281, 279],\n 'Tim Krul': [282, 280],\n 'Michael McGovern': [283, 281],\n 'Mario Vrancic': [284, 282],\n 'Emiliano Buendía': [285, 283],\n 'Onel Hernández': [286, 284],\n 'Marco Stiepermann': [287, 285],\n 'Kenny McLean': [288, 286],\n 'Todd Cantwell': [289, 287],\n 'Moritz Leitner': [290, 288],\n 'Alexander Tettey': [291, 289],\n 'Tom Trybull': [292, 290],\n 'Enda Stevens': [293, 291],\n 'Kieron Freeman': [294, 292],\n \"Jack O'Connell\": [295, 293],\n 'George Baldock': [296, 294],\n 'John Egan': [297, 295],\n 'Richard Stearman': [298, 296],\n 'John Lundstram': [299, 297],\n 'Billy Sharp': [300, 298],\n 'Jake Eastwood': [301, 299],\n 'Mark Duffy': [302, 300],\n 'John Fleck': [303, 301],\n 'Oliver Norwood': [304, 302],\n 'Jannik Vestergaard': [305, 304],\n 'Ryan Bertrand': [306, 305],\n 'Yan Valery': [307, 306],\n 'Jan Bednarek': [308, 307],\n 'Jack Stephens': [309, 308],\n 'Matt Targett': [310, 309],\n 'Maya Yoshida': [311, 310],\n 'Kayne Ramsay': [312, 311],\n 'Charlie Austin': [313, 312],\n 'Danny Ings': [314, 313],\n 'Michael Obafemi': [315, 314],\n 'Shane Long': [316, 315],\n 'Sam Gallagher': [317, 316],\n 'Fraser Forster': [318, 317],\n 'Alex McCarthy': [319, 318],\n 'Angus Gunn': [320, 319],\n 'Nathan Redmond': [321, 320],\n 'James Ward-Prowse': [322, 321],\n 'Mohamed Elyounoussi': [323, 322],\n 'Stuart Armstrong': [324, 323],\n 'Mario Lemina': [325, 324],\n 'Pierre-Emile Højbjerg': [326, 325],\n 'Tyreke Johnson': [327, 326],\n 'Callum Slattery': [328, 327],\n 'Oriol Romeu Vidal': [329, 328],\n 'Ben Davies': [330, 329],\n 'Jan Vertonghen': [331, 330],\n 'Toby Alderweireld': [332, 331],\n 'Danny Rose': [333, 332],\n 'Davinson Sánchez': [334, 333],\n 'Kieran Trippier': [335, 334],\n 'Juan Foyth': [336, 335],\n 'Serge Aurier': [337, 336],\n 'Kyle Walker-Peters': [338, 337],\n 'Harry Kane': [339, 338],\n 'Vincent Janssen': [340, 339],\n 'Hugo Lloris': [341, 340],\n 'Paulo Gazzaniga': [342, 341],\n 'Heung-Min Son': [343, 342],\n 'Christian Eriksen': [344, 343],\n 'Bamidele Alli': [345, 344],\n 'Lucas Rodrigues Moura da Silva': [346, 345],\n 'Erik Lamela': [347, 346],\n 'Harry Winks': [348, 347],\n 'Victor Wanyama': [349, 348],\n 'Moussa Sissoko': [350, 349],\n 'Eric Dier': [351, 350],\n 'Luke Amos': [352, 351],\n 'Oliver Skipp': [353, 352],\n 'José Holebas': [354, 353],\n 'Christian Kabasele': [355, 354],\n 'Adam Masina': [356, 355],\n 'Adrian Mariappa': [357, 356],\n 'Francisco Femenía Far': [358, 357],\n 'Craig Cathcart': [359, 358],\n 'Daryl Janmaat': [360, 359],\n 'Marc Navarro': [361, 360],\n 'Sebastian Prödl': [362, 361],\n 'Troy Deeney': [363, 362],\n 'Gerard Deulofeu': [364, 363],\n 'Andre Gray': [365, 364],\n 'Isaac Success Ajayi': [366, 365],\n 'Ben Foster': [367, 366],\n 'Pontus Dahlberg': [368, 367],\n 'Abdoulaye Doucouré': [369, 368],\n 'Roberto Pereyra': [370, 369],\n 'Will Hughes': [371, 370],\n 'Tom Cleverley': [372, 371],\n 'Ken Sema': [373, 372],\n 'Etienne Capoue': [374, 373],\n 'Nathaniel Chalobah': [375, 374],\n 'Domingos Quina': [376, 375],\n 'Aaron Cresswell': [377, 376],\n 'Angelo Ogbonna': [378, 377],\n 'Arthur Masuaku': [379, 378],\n 'Pablo Zabaleta': [380, 379],\n 'Ryan Fredericks': [381, 380],\n 'Issa Diop': [382, 381],\n 'Fabián Balbuena': [383, 382],\n 'Winston Reid': [384, 383],\n 'Ben Johnson': [385, 384],\n 'Marko Arnautovic': [386, 385],\n 'Javier Hernández Balcázar': [387, 386],\n 'Alexandre Nascimento Costa Silva': [388, 387],\n 'Lukasz Fabianski': [389, 388],\n 'Michail Antonio': [390, 389],\n 'Felipe Anderson Pereira Gomes': [391, 390],\n 'Manuel Lanzini': [392, 391],\n 'Andriy Yarmolenko': [393, 392],\n 'Robert Snodgrass': [394, 393],\n 'Jack Wilshere': [395, 394],\n 'Declan Rice': [396, 395],\n 'Mark Noble': [397, 396],\n 'Carlos Sánchez': [398, 397],\n 'Grady Diangana': [399, 398],\n 'Pedro Obiang': [400, 400],\n 'Matt Doherty': [401, 401],\n 'Jonathan Castro Otto': [402, 402],\n 'Conor Coady': [403, 403],\n 'Ryan Bennett': [404, 404],\n 'Willy Boly': [405, 405],\n 'Rúben Gonçalo Silva Nascimento Vinagre': [406, 406],\n 'Romain Saïss': [407, 407],\n 'Max Kilman': [408, 408],\n 'Raúl Jiménez': [409, 409],\n 'Diogo Jota': [410, 410],\n 'Rui Pedro dos Santos Patrício': [411, 411],\n 'John Ruddy': [412, 412],\n 'Will Norris': [413, 413],\n 'Rúben Diogo da Silva Neves': [414, 414],\n 'João Filipe Iria Santos Moutinho': [415, 415],\n 'Morgan Gibbs-White': [416, 416],\n 'Adama Traoré': [417, 417],\n 'Hélder Costa': [418, 418],\n 'Ivan Cavaleiro': [419, 419],\n 'Leander Dendoncker': [420, 420],\n 'José Ignacio Peleteiro Romallo': [421, 36],\n 'Matthew Clarke': [422, 43],\n 'Leandro Trossard': [423, 421],\n 'André Filipe Tavares Gomes': [424, 422],\n 'David McGoldrick': [425, 303],\n 'Chris Basham': [426, 423],\n 'Pablo Fornals': [427, 399],\n 'Emiliano Martínez': [428, 427],\n 'Wesley Moraes': [429, 428],\n 'Jed Steer': [430, 429],\n 'Aaron Lennon': [431, 430],\n 'Christian Pulisic': [432, 431],\n 'James Justin': [433, 433],\n 'Josip Drmic': [434, 434],\n 'Patrick Roberts': [435, 435],\n 'Simon Moore': [436, 436],\n 'Che Adams': [437, 437],\n 'Moussa Djenepo': [438, 438],\n 'Craig Dawson': [439, 439],\n 'José Ángel Esmorís Tasende': [440, 440],\n 'Luke Freeman': [441, 441],\n 'Tanguy Ndombele': [442, 442],\n 'Rodrigo Hernandez': [443, 443],\n 'Phil Jagielka': [444, 444],\n 'Tyrone Mings': [445, 445],\n 'Jack Stacey': [446, 446],\n 'Erik Pieters': [447, 447],\n 'Youri Tielemans': [448, 448],\n 'Ralf Fahrmann': [449, 449],\n 'Roberto Jimenez Gago': [450, 450],\n 'Jay Rodriguez': [451, 451],\n 'Ezri Konsa Ngoyo': [452, 452],\n 'Callum Robinson': [453, 453],\n 'Sam Byram': [454, 454],\n 'Bjorn Engels': [455, 455],\n 'Ravel Morrison': [456, 456],\n 'Sébastien Haller': [457, 457],\n 'Frédéric Guilbert': [458, 458],\n 'Kurt Zouma': [459, 459],\n 'Tammy Abraham': [460, 460],\n 'Michy Batshuayi': [461, 461],\n 'Robert Kenedy Nunes do Nascimento': [462, 462],\n 'Mason Mount': [463, 463],\n 'Rhian Brewster': [464, 464],\n 'Mahmoud Ahmed Ibrahim Hassan': [465, 465],\n 'Joelinton Cássio Apolinário de Lira': [466, 466],\n 'Calum Chambers': [467, 467],\n 'Daniel Ceballos Fernández': [468, 469],\n 'Douglas Luiz Soares de Paulo': [469, 470],\n 'Dean Henderson': [470, 471],\n 'Ben Osborn': [471, 472],\n 'Jesús Vallejo Lázaro': [472, 473],\n 'Lovre Kalinic': [473, 474],\n 'Philip Billing': [474, 476],\n 'Dan Burn': [475, 475],\n 'Lewis Gibson': [476, 477],\n 'Mason Holgate': [477, 478],\n 'Jonas Lössl': [478, 479],\n 'Andy King': [479, 480],\n 'Axel Tuanzebe': [480, 481],\n 'Jack Colback': [481, 482],\n 'Jacob Murphy': [482, 483],\n 'Philip Heise': [483, 484],\n 'Wesley Hoedt': [484, 485],\n 'Cédric Soares': [485, 486],\n 'Patrick Cutrone': [486, 487],\n 'Nicolas Pépé': [487, 488],\n 'Reiss Nelson': [488, 489],\n 'Joseph Willock': [489, 490],\n 'Marvelous Nakamba': [490, 491],\n 'Arnaut Danjuma Groeneveld': [491, 492],\n 'Aaron Ramsdale': [492, 494],\n 'Adam Webster': [493, 493],\n 'Bailey Peacock-Farrell': [494, 495],\n 'Moise Kean': [495, 496],\n 'Jean-Philippe Gbamin': [496, 497],\n 'Jetro Willems': [497, 498],\n 'Rolando Aarons': [498, 499],\n 'Allan Saint-Maximin': [499, 500],\n 'Oliver McBurnie': [500, 501],\n 'Neal Maupay': [501, 502],\n 'Gary Cahill': [502, 503],\n 'Gabriel Teodoro Martinelli Silva': [503, 504],\n 'Harry Wilson': [504, 505],\n 'Reece James': [505, 506],\n 'Ibrahim Amadou': [506, 507],\n 'Sofiane Boufal': [507, 508],\n 'Troy Parrott': [508, 509],\n 'Víctor Camarasa': [509, 510],\n 'Djibril Sidibé': [510, 511],\n 'Danny Welbeck': [511, 512],\n 'Heurelho da Silva Gomes': [512, 513],\n 'Albian Ajeti': [513, 514],\n 'Kieran Tierney': [514, 515],\n 'Aaron Mooy': [515, 516],\n 'Dennis Praet': [516, 517],\n 'João Pedro Cavaco Cancelo': [517, 518],\n 'Emil Krafth': [518, 519],\n 'Andy Carroll': [519, 520],\n 'Michael Verrips': [520, 521],\n 'Muhamed Bešić': [521, 522],\n 'Giovani Lo Celso': [522, 523],\n 'Ryan Sessegnon': [523, 524],\n 'Ismaïla Sarr': [524, 525],\n 'Adrián San Miguel del Castillo': [525, 526],\n 'Georges-Kévin Nkoudou': [526, 527],\n 'Fikayo Tomori': [527, 529],\n 'Pedro Lomba Neto': [528, 528],\n 'Andy Lonergan': [529, 530],\n 'Caoimhin Kelleher': [530, 531],\n 'Kevin Danso': [531, 532],\n 'Aaron Connolly': [532, 534],\n 'Billy Gilmour': [533, 533],\n \"Daniel N'Lundulu\": [534, 535],\n 'Tudor Baluta': [535, 536],\n 'Steven Alzate': [536, 537],\n 'Jairo Riedewald': [537, 539],\n 'Matthew Longstaff': [538, 540],\n 'Adam Idah': [539, 538],\n 'Bukayo Saka': [540, 541],\n 'Dimitri Foulquier': [541, 542],\n 'Eric Garcia': [542, 544],\n 'Alfie Whiteman': [543, 543],\n 'Ezequiel Schelotto': [544, 546],\n 'Addji Keaninkin Marc-Israel Guehi': [545, 545],\n 'Leon Clarke': [546, 547],\n 'Harry Lewis': [547, 548],\n 'Brandon Williams': [548, 549],\n 'Harvey Elliott': [549, 550],\n 'Archie Mair': [550, 551],\n 'Akin Famewo': [551, 552],\n 'David Martin': [552, 553],\n 'Dwight Gayle': [553, 554],\n 'Michel Vorm': [554, 555],\n 'Stephen Henderson': [555, 556],\n 'Beni Baningime': [556, 557],\n 'Brandon Austin': [557, 558],\n 'Bernard Ashley-Seal': [558, 559],\n 'Taylor Perry': [559, 560],\n 'Anthony Gordon': [560, 561],\n 'Scott Carson': [561, 562],\n 'Ayotomiwa Dele-Bashiru': [562, 563],\n 'Christian Saydee': [563, 564],\n 'Gavin Kilkenny': [564, 565],\n 'Owen Otasowie': [565, 566],\n 'Luke Cundle': [566, 567],\n 'Nathan Holland': [567, 568],\n 'Mace Goodridge': [568, 571],\n 'Anthony Driscoll-Glennon': [569, 572],\n 'Oumar Niasse': [570, 570],\n 'Curtis Jones': [571, 569],\n 'Mihai-Alexandru Dobre': [572, 574],\n 'Neco Williams': [573, 575],\n 'Robert Elliot': [574, 573],\n 'Emile Smith Rowe': [575, 576],\n 'Rhu-endly Martina': [576, 577],\n 'Sam Woods': [577, 578],\n 'Tyrick Mitchell': [578, 579],\n 'Brandon Pierrick': [579, 580],\n 'James Daly': [580, 581],\n 'Japhet Tanganga': [581, 583],\n 'Joseph Anang': [582, 582],\n 'William Smallbone': [583, 584],\n 'Tyreece John-Jules': [584, 585],\n 'Tariq Lamptey': [585, 586],\n 'Oskar Buur': [586, 587],\n 'Nya Kirby': [587, 588],\n 'Nathaniel Phillips': [588, 589],\n 'Takumi Minamino': [589, 590],\n 'Jack Rodwell': [590, 591],\n 'João Pedro Junqueira de Jesus': [591, 592],\n 'Jeremy Ngakia': [592, 593],\n 'Gonçalo Bento Soares Cardoso': [593, 594],\n 'Bernardo Costa Da Rosa': [594, 595],\n 'Abd-Al-Ali Morakinyo Olaposi Koiki': [595, 596],\n 'Filip Benkovic': [596, 597],\n 'Thomas Allan': [597, 598],\n 'Kelland Watts': [598, 599],\n 'Indiana Vassilev': [599, 600],\n 'José Reina': [600, 603],\n 'Ondrej Duda': [601, 601],\n 'Lukas Rupp': [602, 602],\n 'Gedson Carvalho Fernandes': [603, 605],\n 'Ignacio Pussetto': [604, 604],\n 'Darren Randolph': [605, 606],\n 'Ryan Giles': [606, 607],\n 'Giovanni McGregor': [607, 608],\n 'Bruno André Cavaco Jordao': [608, 609],\n 'Liam Gibson': [609, 610],\n 'Nabil Bentaleb': [610, 612],\n 'Jack Robinson': [611, 611],\n 'Mbwana Samatta': [612, 613],\n 'Valentino Lazaro': [613, 614],\n 'Pablo Marí': [614, 617],\n 'Steven Bergwijn': [615, 615],\n 'Tomas Soucek': [616, 616],\n 'Josh Brownhill': [617, 620],\n 'Bruno Miguel Borges Fernandes': [618, 618],\n 'Sander Berge': [619, 621],\n 'Daniel Castelo Podence': [620, 619],\n 'Richairo Zivkovic': [621, 622],\n 'Borja González Tomás': [622, 623],\n 'Odion Ighalo': [623, 624],\n 'Panagiotis Retsos': [624, 625],\n 'Jarrod Bowen': [625, 626]}"
     },
     "execution_count": 112,
     "metadata": {},
     "output_type": "execute_result"
    }
   ],
   "source": [
    "difference"
   ]
  },
  {
   "cell_type": "code",
   "execution_count": 69,
   "metadata": {},
   "outputs": [
    {
     "data": {
      "text/html": "<div>\n<style scoped>\n    .dataframe tbody tr th:only-of-type {\n        vertical-align: middle;\n    }\n\n    .dataframe tbody tr th {\n        vertical-align: top;\n    }\n\n    .dataframe thead th {\n        text-align: right;\n    }\n</style>\n<table border=\"1\" class=\"dataframe\">\n  <thead>\n    <tr style=\"text-align: right;\">\n      <th></th>\n      <th>player_id</th>\n      <th>total_score</th>\n      <th>gameweek</th>\n    </tr>\n  </thead>\n  <tbody>\n    <tr>\n      <td>0</td>\n      <td>14</td>\n      <td>7</td>\n      <td>1</td>\n    </tr>\n    <tr>\n      <td>1</td>\n      <td>27</td>\n      <td>0</td>\n      <td>1</td>\n    </tr>\n    <tr>\n      <td>2</td>\n      <td>47</td>\n      <td>9</td>\n      <td>1</td>\n    </tr>\n    <tr>\n      <td>3</td>\n      <td>48</td>\n      <td>0</td>\n      <td>1</td>\n    </tr>\n    <tr>\n      <td>4</td>\n      <td>72</td>\n      <td>0</td>\n      <td>1</td>\n    </tr>\n  </tbody>\n</table>\n</div>",
      "text/plain": "   player_id  total_score  gameweek\n0         14            7         1\n1         27            0         1\n2         47            9         1\n3         48            0         1\n4         72            0         1"
     },
     "execution_count": 69,
     "metadata": {},
     "output_type": "execute_result"
    }
   ],
   "source": [
    "player_scores_df.head()"
   ]
  },
  {
   "cell_type": "code",
   "execution_count": null,
   "metadata": {},
   "outputs": [],
   "source": [
    "draft_id = []\n",
    "\n",
    "for i in range(len(player_scores_df)):\n",
    "    if i % 100 == 0:\n",
    "        print(i)\n",
    "    for key,value in difference.items():\n",
    "        try:\n",
    "        # try except block to deal with players with no ids\n",
    "            if player_scores_df[\"player_id\"].iloc[i] == value[1]:\n",
    "                draft_id.append(value[0])\n",
    "        except:\n",
    "            pass"
   ]
  },
  {
   "cell_type": "code",
   "execution_count": null,
   "metadata": {},
   "outputs": [],
   "source": [
    "player_scores_df['draft_id'] = draft_id"
   ]
  },
  {
   "cell_type": "code",
   "execution_count": 123,
   "metadata": {},
   "outputs": [
    {
     "data": {
      "text/plain": "{'Shkodran Mustafi': [1, 1],\n 'Héctor Bellerín': [2, 2],\n 'Sead Kolasinac': [3, 3],\n 'Ainsley Maitland-Niles': [4, 4],\n 'Sokratis Papastathopoulos': [5, 5],\n 'Nacho Monreal': [6, 6],\n 'Laurent Koscielny': [7, 7],\n 'Konstantinos Mavropanos': [8, 8],\n 'Carl Jenkinson': [9, 9],\n 'Rob Holding': [10, 10],\n 'Pierre-Emerick Aubameyang': [11, 11],\n 'Alexandre Lacazette': [12, 12],\n 'Edward Nketiah': [13, 13],\n 'Bernd Leno': [14, 14],\n 'Mesut Özil': [15, 15],\n 'Henrikh Mkhitaryan': [16, 16],\n 'Alex Iwobi': [17, 17],\n 'Granit Xhaka': [18, 18],\n 'Lucas Torreira': [19, 19],\n 'Mohamed Elneny': [20, 20],\n 'Matteo Guendouzi': [21, 21],\n 'Ahmed El Mohamady': [22, 22],\n 'James Chester': [23, 23],\n 'Neil Taylor': [24, 24],\n 'Kortney Hause': [25, 25],\n 'Jonathan Kodjia': [26, 26],\n 'Ørjan Nyland': [27, 27],\n 'Conor Hourihane': [28, 28],\n 'Jack Grealish': [29, 29],\n 'Anwar El Ghazi': [30, 30],\n 'John McGinn': [31, 31],\n 'Albert Adomah': [],\n 'Andre Green': [33, 32],\n 'Birkir Bjarnason': [34, 33],\n 'Keinan Davis': [35, 34],\n 'Henri Lansbury': [36, 35],\n 'Shane Duffy': [37, 37],\n 'Martín Montoya': [38, 38],\n 'Bernardo Fernandes da Silva Junior': [39, 39],\n 'Leon Balogun': [40, 40],\n 'Gaëtan Bong': [41, 41],\n 'Lewis Dunk': [42, 42],\n 'Glenn Murray': [43, 44],\n 'Jürgen Locadia': [44, 45],\n 'Florin Andone': [45, 46],\n 'Mathew Ryan': [46, 47],\n 'David Button': [47, 48],\n 'Pascal Groß': [48, 49],\n 'Alireza Jahanbakhsh': [49, 50],\n 'José Heriberto Izquierdo Mena': [50, 51],\n 'Anthony Knockaert': [51, 52],\n 'Yves Bissouma': [52, 53],\n 'Davy Pröpper': [53, 54],\n 'Solomon March': [54, 55],\n 'Beram Kayal': [55, 56],\n 'Dale Stephens': [56, 57],\n 'Steve Cook': [57, 58],\n 'Nathan Aké': [58, 59],\n 'Charlie Daniels': [59, 60],\n 'Chris Mepham': [60, 61],\n 'Simon Francis': [61, 62],\n 'Adam Smith': [62, 63],\n 'Lloyd Kelly': [63, 64],\n 'Diego Rico': [64, 65],\n 'Jack Simpson': [65, 66],\n 'Callum Wilson': [66, 67],\n 'Joshua King': [67, 68],\n 'Dominic Solanke': [68, 69],\n 'Lys Mousset': [69, 70],\n 'Sam Surridge': [70, 71],\n 'Asmir Begovic': [71, 72],\n 'Artur Boruc': [72, 73],\n 'Mark Travers': [73, 74],\n 'Ryan Fraser': [74, 75],\n 'David Brooks': [75, 76],\n 'Junior Stanislas': [76, 77],\n 'Jordon Ibe': [77, 78],\n 'Lewis Cook': [78, 79],\n 'Andrew Surman': [79, 80],\n 'Dan Gosling': [80, 81],\n 'Jefferson Lerma': [81, 82],\n 'Ben Mee': [82, 83],\n 'James Tarkowski': [83, 84],\n 'Matthew Lowton': [84, 85],\n 'Phil Bardsley': [85, 86],\n 'Charlie Taylor': [86, 87],\n 'Kevin Long': [87, 88],\n 'Ben Gibson': [88, 89],\n 'Ashley Barnes': [89, 90],\n 'Chris Wood': [90, 91],\n 'Matej Vydra': [91, 92],\n 'Nick Pope': [92, 93],\n 'Tom Heaton': [93, 94],\n 'Joe Hart': [94, 95],\n 'Johann Berg Gudmundsson': [95, 96],\n 'Dwight McNeil': [96, 97],\n 'Robbie Brady': [97, 98],\n 'Steven Defour': [98, 99],\n 'Jeff Hendrick': [99, 100],\n 'Ashley Westwood': [100, 101],\n 'Jack Cork': [101, 102],\n 'Marcos Alonso': [102, 103],\n 'Antonio Rüdiger': [103, 104],\n 'César Azpilicueta': [104, 105],\n 'David Luiz Moreira Marinho': [105, 106],\n 'Emerson Palmieri dos Santos': [106, 107],\n 'Andreas Christensen': [107, 108],\n 'Davide Zappacosta': [108, 109],\n 'Olivier Giroud': [109, 110],\n 'Kepa Arrizabalaga': [110, 111],\n 'Willy Caballero': [111, 112],\n 'Willian Borges Da Silva': [112, 113],\n 'Pedro Rodríguez Ledesma': [113, 114],\n 'Ruben Loftus-Cheek': [114, 115],\n 'Callum Hudson-Odoi': [115, 116],\n 'Mateo Kovacic': [116, 432],\n 'Ross Barkley': [117, 117],\n 'Jorge Luiz Frello Filho': [118, 118],\n \"N'Golo Kanté\": [119, 119],\n 'Daniel Drinkwater': [120, 120],\n 'Ethan Ampadu': [121, 121],\n 'Aaron Wan-Bissaka': [122, 122],\n 'Patrick van Aanholt': [123, 123],\n 'James Tomkins': [124, 124],\n 'Mamadou Sakho': [125, 125],\n 'Joel Ward': [126, 126],\n 'Scott Dann': [127, 127],\n 'Martin Kelly': [128, 128],\n 'Christian Benteke': [129, 129],\n 'Jordan Ayew': [130, 468],\n 'Connor Wickham': [131, 130],\n 'Vicente Guaita': [132, 131],\n 'Wayne Hennessey': [133, 132],\n 'Wilfried Zaha': [134, 133],\n 'Luka Milivojevic': [135, 134],\n 'Andros Townsend': [136, 135],\n 'Max Meyer': [137, 136],\n 'Jeffrey Schlupp': [138, 137],\n 'James McArthur': [139, 138],\n 'Cheikhou Kouyaté': [140, 139],\n 'Luke Dreher': [141, 140],\n 'Lucas Digne': [142, 141],\n 'Yerry Mina': [143, 142],\n 'Michael Keane': [144, 143],\n 'Seamus Coleman': [145, 144],\n 'Leighton Baines': [146, 145],\n 'Cenk Tosun': [147, 146],\n 'Dominic Calvert-Lewin': [148, 147],\n 'Jordan Pickford': [149, 148],\n 'Maarten Stekelenburg': [150, 149],\n 'Richarlison de Andrade': [151, 150],\n 'Gylfi Sigurdsson': [152, 151],\n 'Bernard Anício Caldeira Duarte': [153, 152],\n 'Theo Walcott': [154, 153],\n 'Tom Davies': [155, 154],\n 'Ademola Lookman': [156, 155],\n 'Idrissa Gueye': [157, 156],\n 'James McCarthy': [158, 157],\n 'Morgan Schneiderlin': [159, 158],\n 'Ricardo Domingos Barbosa Pereira': [160, 159],\n 'Harry Maguire': [161, 160],\n 'Benjamin Chilwell': [162, 161],\n 'Jonny Evans': [163, 162],\n 'Christian Fuchs': [164, 163],\n 'Çaglar Söyüncü': [165, 164],\n 'Wes Morgan': [166, 165],\n 'Jamie Vardy': [167, 166],\n 'Kelechi Iheanacho': [168, 167],\n 'Kasper Schmeichel': [169, 168],\n 'Eldin Jakupovic': [170, 169],\n 'Danny Ward': [171, 170],\n 'James Maddison': [172, 171],\n 'Harvey Barnes': [173, 172],\n 'Rachid Ghezzal': [174, 173],\n 'Marc Albrighton': [175, 174],\n 'Demarai Gray': [176, 175],\n 'Wilfred Ndidi': [177, 176],\n 'Matty James': [178, 177],\n 'Daniel Amartey': [179, 178],\n 'Nampalys Mendy': [180, 179],\n 'Hamza Choudhury': [181, 180],\n 'Andrew Robertson': [182, 181],\n 'Trent Alexander-Arnold': [183, 182],\n 'Virgil van Dijk': [184, 183],\n 'Joseph Gomez': [185, 184],\n 'Joel Matip': [186, 185],\n 'Dejan Lovren': [187, 186],\n 'Roberto Firmino': [188, 187],\n 'Divock Origi': [189, 188],\n 'Alisson Ramses Becker': [190, 189],\n 'Simon Mignolet': [191, 190],\n 'Mohamed Salah': [192, 191],\n 'Sadio Mané': [193, 192],\n 'Alex Oxlade-Chamberlain': [194, 193],\n 'Xherdan Shaqiri': [195, 194],\n 'Adam Lallana': [196, 195],\n 'Naby Keita': [197, 196],\n 'Fabio Henrique Tavares': [198, 197],\n 'Jordan Henderson': [199, 198],\n 'Georginio Wijnaldum': [200, 199],\n 'James Milner': [201, 200],\n 'Rafael Camacho': [202, 201],\n 'Aymeric Laporte': [203, 202],\n 'Kyle Walker': [204, 203],\n 'Benjamin Mendy': [205, 204],\n 'Fabian Delph': [206, 205],\n 'Oleksandr Zinchenko': [207, 206],\n 'John Stones': [208, 207],\n 'Nicolás Otamendi': [209, 208],\n 'Danilo Luiz da Silva': [210, 209],\n 'Sergio Agüero': [211, 210],\n 'Gabriel Fernando de Jesus': [212, 211],\n 'Ederson Santana de Moraes': [213, 212],\n 'Claudio Bravo': [214, 213],\n 'Raheem Sterling': [215, 214],\n 'Kevin De Bruyne': [216, 215],\n 'Leroy Sané': [217, 216],\n 'Riyad Mahrez': [218, 217],\n 'Bernardo Mota Veiga de Carvalho e Silva': [219, 218],\n 'David Silva': [220, 219],\n 'Phil Foden': [221, 220],\n 'Fernando Luiz Rosa': [222, 221],\n 'Ilkay Gündogan': [223, 222],\n 'Chris Smalling': [224, 223],\n 'Ashley Young': [225, 224],\n 'Victor Lindelöf': [226, 225],\n 'Luke Shaw': [227, 226],\n 'Marcos Rojo': [228, 227],\n 'Eric Bailly': [229, 228],\n 'José Diogo Dalot Teixeira': [230, 229],\n 'Matteo Darmian': [231, 230],\n 'Phil Jones': [232, 231],\n 'Romelu Lukaku': [233, 232],\n 'Marcus Rashford': [234, 233],\n 'Mason Greenwood': [235, 234],\n 'David de Gea': [236, 235],\n 'Sergio Romero': [237, 236],\n 'Lee Grant': [238, 237],\n 'Paul Pogba': [239, 238],\n 'Anthony Martial': [240, 239],\n 'Alexis Sánchez': [241, 240],\n 'Jesse Lingard': [242, 241],\n 'Juan Mata': [243, 242],\n 'Daniel James': [244, 243],\n 'Frederico Rodrigues de Paula Santos': [245, 244],\n 'Angel Gomes': [246, 245],\n 'Andreas Pereira': [247, 246],\n 'Nemanja Matic': [248, 247],\n 'Scott McTominay': [249, 248],\n 'Tahith Chong': [250, 249],\n 'James Garner': [251, 250],\n 'Matt Ritchie': [252, 251],\n 'Fabian Schär': [253, 252],\n 'DeAndre Yedlin': [254, 253],\n 'Federico Fernández': [255, 254],\n 'Paul Dummett': [256, 255],\n 'Javier Manquillo': [257, 256],\n 'Florian Lejeune': [258, 257],\n 'Jamaal Lascelles': [259, 258],\n 'Ciaran Clark': [260, 259],\n 'Antonio Barreca': [],\n 'Yoshinori Muto': [262, 260],\n 'Jose Luis Mato Sanmartín': [263, 261],\n 'Martin Dubravka': [264, 262],\n 'Karl Darlow': [265, 263],\n 'Frederick Woodman': [266, 264],\n 'Ayoze Pérez': [267, 265],\n 'Miguel Almirón': [268, 266],\n 'Christian Atsu': [269, 267],\n 'Sung-yueng Ki': [270, 268],\n 'Jonjo Shelvey': [271, 269],\n 'Sean Longstaff': [272, 270],\n 'Isaac Hayden': [273, 271],\n 'Timm Klose': [274, 272],\n 'Ben Godfrey': [275, 273],\n 'Maximillian Aarons': [276, 274],\n 'Christoph Zimmermann': [277, 275],\n 'Jamal Lewis': [278, 276],\n 'Grant Hanley': [279, 277],\n 'Teemu Pukki': [280, 278],\n 'Dennis Srbeny': [281, 279],\n 'Tim Krul': [282, 280],\n 'Michael McGovern': [283, 281],\n 'Mario Vrancic': [284, 282],\n 'Emiliano Buendía': [285, 283],\n 'Onel Hernández': [286, 284],\n 'Marco Stiepermann': [287, 285],\n 'Kenny McLean': [288, 286],\n 'Todd Cantwell': [289, 287],\n 'Moritz Leitner': [290, 288],\n 'Alexander Tettey': [291, 289],\n 'Tom Trybull': [292, 290],\n 'Enda Stevens': [293, 291],\n 'Kieron Freeman': [294, 292],\n \"Jack O'Connell\": [295, 293],\n 'George Baldock': [296, 294],\n 'John Egan': [297, 295],\n 'Richard Stearman': [298, 296],\n 'John Lundstram': [299, 297],\n 'Billy Sharp': [300, 298],\n 'Jake Eastwood': [301, 299],\n 'Mark Duffy': [302, 300],\n 'John Fleck': [303, 301],\n 'Oliver Norwood': [304, 302],\n 'Jannik Vestergaard': [305, 304],\n 'Ryan Bertrand': [306, 305],\n 'Yan Valery': [307, 306],\n 'Jan Bednarek': [308, 307],\n 'Jack Stephens': [309, 308],\n 'Matt Targett': [310, 309],\n 'Maya Yoshida': [311, 310],\n 'Kayne Ramsay': [312, 311],\n 'Charlie Austin': [313, 312],\n 'Danny Ings': [314, 313],\n 'Michael Obafemi': [315, 314],\n 'Shane Long': [316, 315],\n 'Sam Gallagher': [317, 316],\n 'Fraser Forster': [318, 317],\n 'Alex McCarthy': [319, 318],\n 'Angus Gunn': [320, 319],\n 'Nathan Redmond': [321, 320],\n 'James Ward-Prowse': [322, 321],\n 'Mohamed Elyounoussi': [323, 322],\n 'Stuart Armstrong': [324, 323],\n 'Mario Lemina': [325, 324],\n 'Pierre-Emile Højbjerg': [326, 325],\n 'Tyreke Johnson': [327, 326],\n 'Callum Slattery': [328, 327],\n 'Oriol Romeu Vidal': [329, 328],\n 'Ben Davies': [330, 329],\n 'Jan Vertonghen': [331, 330],\n 'Toby Alderweireld': [332, 331],\n 'Danny Rose': [333, 332],\n 'Davinson Sánchez': [334, 333],\n 'Kieran Trippier': [335, 334],\n 'Juan Foyth': [336, 335],\n 'Serge Aurier': [337, 336],\n 'Kyle Walker-Peters': [338, 337],\n 'Harry Kane': [339, 338],\n 'Vincent Janssen': [340, 339],\n 'Hugo Lloris': [341, 340],\n 'Paulo Gazzaniga': [342, 341],\n 'Heung-Min Son': [343, 342],\n 'Christian Eriksen': [344, 343],\n 'Bamidele Alli': [345, 344],\n 'Lucas Rodrigues Moura da Silva': [346, 345],\n 'Erik Lamela': [347, 346],\n 'Harry Winks': [348, 347],\n 'Victor Wanyama': [349, 348],\n 'Moussa Sissoko': [350, 349],\n 'Eric Dier': [351, 350],\n 'Luke Amos': [352, 351],\n 'Oliver Skipp': [353, 352],\n 'José Holebas': [354, 353],\n 'Christian Kabasele': [355, 354],\n 'Adam Masina': [356, 355],\n 'Adrian Mariappa': [357, 356],\n 'Francisco Femenía Far': [358, 357],\n 'Craig Cathcart': [359, 358],\n 'Daryl Janmaat': [360, 359],\n 'Marc Navarro': [361, 360],\n 'Sebastian Prödl': [362, 361],\n 'Troy Deeney': [363, 362],\n 'Gerard Deulofeu': [364, 363],\n 'Andre Gray': [365, 364],\n 'Isaac Success Ajayi': [366, 365],\n 'Ben Foster': [367, 366],\n 'Pontus Dahlberg': [368, 367],\n 'Abdoulaye Doucouré': [369, 368],\n 'Roberto Pereyra': [370, 369],\n 'Will Hughes': [371, 370],\n 'Tom Cleverley': [372, 371],\n 'Ken Sema': [373, 372],\n 'Etienne Capoue': [374, 373],\n 'Nathaniel Chalobah': [375, 374],\n 'Domingos Quina': [376, 375],\n 'Aaron Cresswell': [377, 376],\n 'Angelo Ogbonna': [378, 377],\n 'Arthur Masuaku': [379, 378],\n 'Pablo Zabaleta': [380, 379],\n 'Ryan Fredericks': [381, 380],\n 'Issa Diop': [382, 381],\n 'Fabián Balbuena': [383, 382],\n 'Winston Reid': [384, 383],\n 'Ben Johnson': [385, 384],\n 'Marko Arnautovic': [386, 385],\n 'Javier Hernández Balcázar': [387, 386],\n 'Alexandre Nascimento Costa Silva': [388, 387],\n 'Lukasz Fabianski': [389, 388],\n 'Michail Antonio': [390, 389],\n 'Felipe Anderson Pereira Gomes': [391, 390],\n 'Manuel Lanzini': [392, 391],\n 'Andriy Yarmolenko': [393, 392],\n 'Robert Snodgrass': [394, 393],\n 'Jack Wilshere': [395, 394],\n 'Declan Rice': [396, 395],\n 'Mark Noble': [397, 396],\n 'Carlos Sánchez': [398, 397],\n 'Grady Diangana': [399, 398],\n 'Pedro Obiang': [400, 400],\n 'Matt Doherty': [401, 401],\n 'Jonathan Castro Otto': [402, 402],\n 'Conor Coady': [403, 403],\n 'Ryan Bennett': [404, 404],\n 'Willy Boly': [405, 405],\n 'Rúben Gonçalo Silva Nascimento Vinagre': [406, 406],\n 'Romain Saïss': [407, 407],\n 'Max Kilman': [408, 408],\n 'Raúl Jiménez': [409, 409],\n 'Diogo Jota': [410, 410],\n 'Rui Pedro dos Santos Patrício': [411, 411],\n 'John Ruddy': [412, 412],\n 'Will Norris': [413, 413],\n 'Rúben Diogo da Silva Neves': [414, 414],\n 'João Filipe Iria Santos Moutinho': [415, 415],\n 'Morgan Gibbs-White': [416, 416],\n 'Adama Traoré': [417, 417],\n 'Hélder Costa': [418, 418],\n 'Ivan Cavaleiro': [419, 419],\n 'Leander Dendoncker': [420, 420],\n 'José Ignacio Peleteiro Romallo': [421, 36],\n 'Matthew Clarke': [422, 43],\n 'Leandro Trossard': [423, 421],\n 'André Filipe Tavares Gomes': [424, 422],\n 'David McGoldrick': [425, 303],\n 'Chris Basham': [426, 423],\n 'Pablo Fornals': [427, 399],\n 'Emiliano Martínez': [428, 427],\n 'Wesley Moraes': [429, 428],\n 'Jed Steer': [430, 429],\n 'Aaron Lennon': [431, 430],\n 'Christian Pulisic': [432, 431],\n 'James Justin': [433, 433],\n 'Josip Drmic': [434, 434],\n 'Patrick Roberts': [435, 435],\n 'Simon Moore': [436, 436],\n 'Che Adams': [437, 437],\n 'Moussa Djenepo': [438, 438],\n 'Craig Dawson': [439, 439],\n 'José Ángel Esmorís Tasende': [440, 440],\n 'Luke Freeman': [441, 441],\n 'Tanguy Ndombele': [442, 442],\n 'Rodrigo Hernandez': [443, 443],\n 'Phil Jagielka': [444, 444],\n 'Tyrone Mings': [445, 445],\n 'Jack Stacey': [446, 446],\n 'Erik Pieters': [447, 447],\n 'Youri Tielemans': [448, 448],\n 'Ralf Fahrmann': [449, 449],\n 'Roberto Jimenez Gago': [450, 450],\n 'Jay Rodriguez': [451, 451],\n 'Ezri Konsa Ngoyo': [452, 452],\n 'Callum Robinson': [453, 453],\n 'Sam Byram': [454, 454],\n 'Bjorn Engels': [455, 455],\n 'Ravel Morrison': [456, 456],\n 'Sébastien Haller': [457, 457],\n 'Frédéric Guilbert': [458, 458],\n 'Kurt Zouma': [459, 459],\n 'Tammy Abraham': [460, 460],\n 'Michy Batshuayi': [461, 461],\n 'Robert Kenedy Nunes do Nascimento': [462, 462],\n 'Mason Mount': [463, 463],\n 'Rhian Brewster': [464, 464],\n 'Mahmoud Ahmed Ibrahim Hassan': [465, 465],\n 'Joelinton Cássio Apolinário de Lira': [466, 466],\n 'Calum Chambers': [467, 467],\n 'Daniel Ceballos Fernández': [468, 469],\n 'Douglas Luiz Soares de Paulo': [469, 470],\n 'Dean Henderson': [470, 471],\n 'Ben Osborn': [471, 472],\n 'Jesús Vallejo Lázaro': [472, 473],\n 'Lovre Kalinic': [473, 474],\n 'Philip Billing': [474, 476],\n 'Dan Burn': [475, 475],\n 'Lewis Gibson': [476, 477],\n 'Mason Holgate': [477, 478],\n 'Jonas Lössl': [478, 479],\n 'Andy King': [479, 480],\n 'Axel Tuanzebe': [480, 481],\n 'Jack Colback': [481, 482],\n 'Jacob Murphy': [482, 483],\n 'Philip Heise': [483, 484],\n 'Wesley Hoedt': [484, 485],\n 'Cédric Soares': [485, 486],\n 'Patrick Cutrone': [486, 487],\n 'Nicolas Pépé': [487, 488],\n 'Reiss Nelson': [488, 489],\n 'Joseph Willock': [489, 490],\n 'Marvelous Nakamba': [490, 491],\n 'Arnaut Danjuma Groeneveld': [491, 492],\n 'Aaron Ramsdale': [492, 494],\n 'Adam Webster': [493, 493],\n 'Bailey Peacock-Farrell': [494, 495],\n 'Moise Kean': [495, 496],\n 'Jean-Philippe Gbamin': [496, 497],\n 'Jetro Willems': [497, 498],\n 'Rolando Aarons': [498, 499],\n 'Allan Saint-Maximin': [499, 500],\n 'Oliver McBurnie': [500, 501],\n 'Neal Maupay': [501, 502],\n 'Gary Cahill': [502, 503],\n 'Gabriel Teodoro Martinelli Silva': [503, 504],\n 'Harry Wilson': [504, 505],\n 'Reece James': [505, 506],\n 'Ibrahim Amadou': [506, 507],\n 'Sofiane Boufal': [507, 508],\n 'Troy Parrott': [508, 509],\n 'Víctor Camarasa': [509, 510],\n 'Djibril Sidibé': [510, 511],\n 'Danny Welbeck': [511, 512],\n 'Heurelho da Silva Gomes': [512, 513],\n 'Albian Ajeti': [513, 514],\n 'Kieran Tierney': [514, 515],\n 'Aaron Mooy': [515, 516],\n 'Dennis Praet': [516, 517],\n 'João Pedro Cavaco Cancelo': [517, 518],\n 'Emil Krafth': [518, 519],\n 'Andy Carroll': [519, 520],\n 'Michael Verrips': [520, 521],\n 'Muhamed Bešić': [521, 522],\n 'Giovani Lo Celso': [522, 523],\n 'Ryan Sessegnon': [523, 524],\n 'Ismaïla Sarr': [524, 525],\n 'Adrián San Miguel del Castillo': [525, 526],\n 'Georges-Kévin Nkoudou': [526, 527],\n 'Fikayo Tomori': [527, 529],\n 'Pedro Lomba Neto': [528, 528],\n 'Andy Lonergan': [529, 530],\n 'Caoimhin Kelleher': [530, 531],\n 'Kevin Danso': [531, 532],\n 'Aaron Connolly': [532, 534],\n 'Billy Gilmour': [533, 533],\n \"Daniel N'Lundulu\": [534, 535],\n 'Tudor Baluta': [535, 536],\n 'Steven Alzate': [536, 537],\n 'Jairo Riedewald': [537, 539],\n 'Matthew Longstaff': [538, 540],\n 'Adam Idah': [539, 538],\n 'Bukayo Saka': [540, 541],\n 'Dimitri Foulquier': [541, 542],\n 'Eric Garcia': [542, 544],\n 'Alfie Whiteman': [543, 543],\n 'Ezequiel Schelotto': [544, 546],\n 'Addji Keaninkin Marc-Israel Guehi': [545, 545],\n 'Leon Clarke': [546, 547],\n 'Harry Lewis': [547, 548],\n 'Brandon Williams': [548, 549],\n 'Harvey Elliott': [549, 550],\n 'Archie Mair': [550, 551],\n 'Akin Famewo': [551, 552],\n 'David Martin': [552, 553],\n 'Dwight Gayle': [553, 554],\n 'Michel Vorm': [554, 555],\n 'Stephen Henderson': [555, 556],\n 'Beni Baningime': [556, 557],\n 'Brandon Austin': [557, 558],\n 'Bernard Ashley-Seal': [558, 559],\n 'Taylor Perry': [559, 560],\n 'Anthony Gordon': [560, 561],\n 'Scott Carson': [561, 562],\n 'Ayotomiwa Dele-Bashiru': [562, 563],\n 'Christian Saydee': [563, 564],\n 'Gavin Kilkenny': [564, 565],\n 'Owen Otasowie': [565, 566],\n 'Luke Cundle': [566, 567],\n 'Nathan Holland': [567, 568],\n 'Mace Goodridge': [568, 571],\n 'Anthony Driscoll-Glennon': [569, 572],\n 'Oumar Niasse': [570, 570],\n 'Curtis Jones': [571, 569],\n 'Mihai-Alexandru Dobre': [572, 574],\n 'Neco Williams': [573, 575],\n 'Robert Elliot': [574, 573],\n 'Emile Smith Rowe': [575, 576],\n 'Rhu-endly Martina': [576, 577],\n 'Sam Woods': [577, 578],\n 'Tyrick Mitchell': [578, 579],\n 'Brandon Pierrick': [579, 580],\n 'James Daly': [580, 581],\n 'Japhet Tanganga': [581, 583],\n 'Joseph Anang': [582, 582],\n 'William Smallbone': [583, 584],\n 'Tyreece John-Jules': [584, 585],\n 'Tariq Lamptey': [585, 586],\n 'Oskar Buur': [586, 587],\n 'Nya Kirby': [587, 588],\n 'Nathaniel Phillips': [588, 589],\n 'Takumi Minamino': [589, 590],\n 'Jack Rodwell': [590, 591],\n 'João Pedro Junqueira de Jesus': [591, 592],\n 'Jeremy Ngakia': [592, 593],\n 'Gonçalo Bento Soares Cardoso': [593, 594],\n 'Bernardo Costa Da Rosa': [594, 595],\n 'Abd-Al-Ali Morakinyo Olaposi Koiki': [595, 596],\n 'Filip Benkovic': [596, 597],\n 'Thomas Allan': [597, 598],\n 'Kelland Watts': [598, 599],\n 'Indiana Vassilev': [599, 600],\n 'José Reina': [600, 603],\n 'Ondrej Duda': [601, 601],\n 'Lukas Rupp': [602, 602],\n 'Gedson Carvalho Fernandes': [603, 605],\n 'Ignacio Pussetto': [604, 604],\n 'Darren Randolph': [605, 606],\n 'Ryan Giles': [606, 607],\n 'Giovanni McGregor': [607, 608],\n 'Bruno André Cavaco Jordao': [608, 609],\n 'Liam Gibson': [609, 610],\n 'Nabil Bentaleb': [610, 612],\n 'Jack Robinson': [611, 611],\n 'Mbwana Samatta': [612, 613],\n 'Valentino Lazaro': [613, 614],\n 'Pablo Marí': [614, 617],\n 'Steven Bergwijn': [615, 615],\n 'Tomas Soucek': [616, 616],\n 'Josh Brownhill': [617, 620],\n 'Bruno Miguel Borges Fernandes': [618, 618],\n 'Sander Berge': [619, 621],\n 'Daniel Castelo Podence': [620, 619],\n 'Richairo Zivkovic': [621, 622],\n 'Borja González Tomás': [622, 623],\n 'Odion Ighalo': [623, 624],\n 'Panagiotis Retsos': [624, 625],\n 'Jarrod Bowen': [625, 626]}"
     },
     "execution_count": 123,
     "metadata": {},
     "output_type": "execute_result"
    }
   ],
   "source": [
    "difference"
   ]
  },
  {
   "cell_type": "code",
   "execution_count": null,
   "metadata": {},
   "outputs": [],
   "source": [
    "# strictly I should really be keeping a table with all player scores, player information and team info as three separate tables in my database. To make my life easier later though I will combine all this into one table for my db. Hopefully I don't end up regretting this\n"
   ]
  },
  {
   "cell_type": "code",
   "execution_count": 70,
   "metadata": {},
   "outputs": [
    {
     "name": "stdout",
     "output_type": "stream",
     "text": "100\n200\n300\n400\n500\n600\n700\n800\n900\n1000\n1100\n1200\n1300\n1400\n1500\n1600\n1700\n1800\n1900\n2000\n2100\n2200\n"
    }
   ],
   "source": [
    "x = 0\n",
    "round_score = []\n",
    "for i in range(len(all_players_df)):\n",
    "    x += 1\n",
    "    if x % 100 == 0:\n",
    "        print(x)\n",
    "    for j in range(len(player_scores_df)):\n",
    "        if all_players_df[\"player_id\"].iloc[i] == player_scores_df[\"player_id\"].iloc[j] and all_players_df[\"gameweek\"].iloc[i] == player_scores_df[\"gameweek\"].iloc[j]:\n",
    "            round_score.append(player_scores_df[\"total_score\"].iloc[j])\n"
   ]
  }
 ]
}