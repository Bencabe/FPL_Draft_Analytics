{
 "nbformat": 4,
 "nbformat_minor": 2,
 "metadata": {
  "language_info": {
   "name": "python",
   "codemirror_mode": {
    "name": "ipython",
    "version": 3
   },
   "version": "3.7.4-final"
  },
  "orig_nbformat": 2,
  "file_extension": ".py",
  "mimetype": "text/x-python",
  "name": "python",
  "npconvert_exporter": "python",
  "pygments_lexer": "ipython3",
  "version": 3,
  "kernelspec": {
   "name": "python3",
   "display_name": "Python 3"
  }
 },
 "cells": [
  {
   "cell_type": "code",
   "execution_count": 2,
   "metadata": {},
   "outputs": [],
   "source": [
    "import requests\n",
    "import pandas as pd\n",
    "import json\n",
    "from bs4 import BeautifulSoup\n",
    "session = requests.session()"
   ]
  },
  {
   "cell_type": "code",
   "execution_count": 3,
   "metadata": {},
   "outputs": [],
   "source": [
    "%store -r current_players\n",
    "%store -r gameweeks"
   ]
  },
  {
   "cell_type": "code",
   "execution_count": 4,
   "metadata": {},
   "outputs": [
    {
     "data": {
      "text/html": "<div>\n<style scoped>\n    .dataframe tbody tr th:only-of-type {\n        vertical-align: middle;\n    }\n\n    .dataframe tbody tr th {\n        vertical-align: top;\n    }\n\n    .dataframe thead th {\n        text-align: right;\n    }\n</style>\n<table border=\"1\" class=\"dataframe\">\n  <thead>\n    <tr style=\"text-align: right;\">\n      <th></th>\n      <th>team_id</th>\n      <th>player_id</th>\n      <th>team_name</th>\n      <th>round_score</th>\n      <th>player_name</th>\n      <th>gameweek</th>\n    </tr>\n  </thead>\n  <tbody>\n    <tr>\n      <td>0</td>\n      <td>333932</td>\n      <td>169</td>\n      <td>All the Smallings</td>\n      <td>0</td>\n      <td>Schmeichel</td>\n      <td>26</td>\n    </tr>\n    <tr>\n      <td>1</td>\n      <td>297336</td>\n      <td>397</td>\n      <td>Childish Gbaminos</td>\n      <td>0</td>\n      <td>Noble</td>\n      <td>26</td>\n    </tr>\n    <tr>\n      <td>2</td>\n      <td>333932</td>\n      <td>220</td>\n      <td>All the Smallings</td>\n      <td>0</td>\n      <td>David Silva</td>\n      <td>26</td>\n    </tr>\n    <tr>\n      <td>3</td>\n      <td>336116</td>\n      <td>389</td>\n      <td>Stop Crying Lampard</td>\n      <td>0</td>\n      <td>Fabianski</td>\n      <td>26</td>\n    </tr>\n    <tr>\n      <td>4</td>\n      <td>300296</td>\n      <td>211</td>\n      <td>Ducks of Bethlehem</td>\n      <td>0</td>\n      <td>Agüero</td>\n      <td>26</td>\n    </tr>\n    <tr>\n      <td>...</td>\n      <td>...</td>\n      <td>...</td>\n      <td>...</td>\n      <td>...</td>\n      <td>...</td>\n      <td>...</td>\n    </tr>\n    <tr>\n      <td>85</td>\n      <td>299717</td>\n      <td>505</td>\n      <td>Obi-Wan Iwobi</td>\n      <td>0</td>\n      <td>James</td>\n      <td>26</td>\n    </tr>\n    <tr>\n      <td>86</td>\n      <td>339264</td>\n      <td>524</td>\n      <td>Neuer Gonna Give You</td>\n      <td>0</td>\n      <td>Sarr</td>\n      <td>26</td>\n    </tr>\n    <tr>\n      <td>87</td>\n      <td>300296</td>\n      <td>589</td>\n      <td>Ducks of Bethlehem</td>\n      <td>0</td>\n      <td>Minamino</td>\n      <td>26</td>\n    </tr>\n    <tr>\n      <td>88</td>\n      <td>299717</td>\n      <td>615</td>\n      <td>Obi-Wan Iwobi</td>\n      <td>0</td>\n      <td>Bergwijn</td>\n      <td>26</td>\n    </tr>\n    <tr>\n      <td>89</td>\n      <td>299717</td>\n      <td>618</td>\n      <td>Obi-Wan Iwobi</td>\n      <td>0</td>\n      <td>Fernandes</td>\n      <td>26</td>\n    </tr>\n  </tbody>\n</table>\n<p>90 rows × 6 columns</p>\n</div>",
      "text/plain": "   team_id player_id             team_name round_score  player_name gameweek\n0   333932       169     All the Smallings           0   Schmeichel       26\n1   297336       397     Childish Gbaminos           0        Noble       26\n2   333932       220     All the Smallings           0  David Silva       26\n3   336116       389   Stop Crying Lampard           0    Fabianski       26\n4   300296       211    Ducks of Bethlehem           0       Agüero       26\n..     ...       ...                   ...         ...          ...      ...\n85  299717       505         Obi-Wan Iwobi           0        James       26\n86  339264       524  Neuer Gonna Give You           0         Sarr       26\n87  300296       589    Ducks of Bethlehem           0     Minamino       26\n88  299717       615         Obi-Wan Iwobi           0     Bergwijn       26\n89  299717       618         Obi-Wan Iwobi           0    Fernandes       26\n\n[90 rows x 6 columns]"
     },
     "execution_count": 4,
     "metadata": {},
     "output_type": "execute_result"
    }
   ],
   "source": [
    "current_players"
   ]
  },
  {
   "cell_type": "code",
   "execution_count": 5,
   "metadata": {},
   "outputs": [
    {
     "data": {
      "text/plain": "'333932'"
     },
     "execution_count": 5,
     "metadata": {},
     "output_type": "execute_result"
    }
   ],
   "source": [
    "gameweek = 26\n",
    "current_players[\"team_id\"][0]"
   ]
  },
  {
   "cell_type": "code",
   "execution_count": 6,
   "metadata": {},
   "outputs": [],
   "source": [
    "# make list of all team ids in the league\n",
    "team_ids = []\n",
    "for i in range(len(current_players)):\n",
    "    if current_players[\"team_id\"][i] not in team_ids:\n",
    "        team_ids.append(current_players[\"team_id\"][i])"
   ]
  },
  {
   "cell_type": "code",
   "execution_count": 7,
   "metadata": {},
   "outputs": [
    {
     "data": {
      "text/plain": "['333932', '297336', '336116', '300296', '339264', '299717']"
     },
     "execution_count": 7,
     "metadata": {},
     "output_type": "execute_result"
    }
   ],
   "source": [
    "team_ids"
   ]
  },
  {
   "cell_type": "code",
   "execution_count": 73,
   "metadata": {},
   "outputs": [],
   "source": [
    "league_info = session.get(\"https://draft.premierleague.com/api/entry/333932/event/20\")"
   ]
  },
  {
   "cell_type": "code",
   "execution_count": 74,
   "metadata": {},
   "outputs": [],
   "source": [
    "parsed_player_gameweek = json.loads(league_info.text)"
   ]
  },
  {
   "cell_type": "code",
   "execution_count": 75,
   "metadata": {},
   "outputs": [
    {
     "data": {
      "text/plain": "{'picks': [{'element': 169,\n   'position': 1,\n   'is_captain': False,\n   'is_vice_captain': False,\n   'multiplier': 1},\n  {'element': 204,\n   'position': 2,\n   'is_captain': False,\n   'is_vice_captain': False,\n   'multiplier': 1},\n  {'element': 295,\n   'position': 3,\n   'is_captain': False,\n   'is_vice_captain': False,\n   'multiplier': 1},\n  {'element': 299,\n   'position': 4,\n   'is_captain': False,\n   'is_vice_captain': False,\n   'multiplier': 1},\n  {'element': 267,\n   'position': 5,\n   'is_captain': False,\n   'is_vice_captain': False,\n   'multiplier': 1},\n  {'element': 417,\n   'position': 6,\n   'is_captain': False,\n   'is_vice_captain': False,\n   'multiplier': 1},\n  {'element': 448,\n   'position': 7,\n   'is_captain': False,\n   'is_vice_captain': False,\n   'multiplier': 1},\n  {'element': 29,\n   'position': 8,\n   'is_captain': False,\n   'is_vice_captain': False,\n   'multiplier': 1},\n  {'element': 339,\n   'position': 9,\n   'is_captain': False,\n   'is_vice_captain': False,\n   'multiplier': 1},\n  {'element': 167,\n   'position': 10,\n   'is_captain': False,\n   'is_vice_captain': False,\n   'multiplier': 1},\n  {'element': 12,\n   'position': 11,\n   'is_captain': False,\n   'is_vice_captain': False,\n   'multiplier': 1},\n  {'element': 149,\n   'position': 12,\n   'is_captain': False,\n   'is_vice_captain': False,\n   'multiplier': 1},\n  {'element': 220,\n   'position': 13,\n   'is_captain': False,\n   'is_vice_captain': False,\n   'multiplier': 1},\n  {'element': 122,\n   'position': 14,\n   'is_captain': False,\n   'is_vice_captain': False,\n   'multiplier': 1},\n  {'element': 186,\n   'position': 15,\n   'is_captain': False,\n   'is_vice_captain': False,\n   'multiplier': 1}],\n 'entry_history': {},\n 'subs': [{'element_in': 295, 'element_out': 122, 'event': 20},\n  {'element_in': 417, 'element_out': 220, 'event': 20}]}"
     },
     "execution_count": 75,
     "metadata": {},
     "output_type": "execute_result"
    }
   ],
   "source": [
    "# investigate json structure\n",
    "parsed_player_gameweek"
   ]
  },
  {
   "cell_type": "code",
   "execution_count": 66,
   "metadata": {},
   "outputs": [
    {
     "ename": "TypeError",
     "evalue": "argument of type 'int' is not iterable",
     "output_type": "error",
     "traceback": [
      "\u001b[0;31m---------------------------------------------------------------------------\u001b[0m",
      "\u001b[0;31mTypeError\u001b[0m                                 Traceback (most recent call last)",
      "\u001b[0;32m<ipython-input-66-6d531c053fa3>\u001b[0m in \u001b[0;36m<module>\u001b[0;34m\u001b[0m\n\u001b[1;32m      1\u001b[0m \u001b[0;31m# This is one player id in this team this week\u001b[0m\u001b[0;34m\u001b[0m\u001b[0;34m\u001b[0m\u001b[0;34m\u001b[0m\u001b[0m\n\u001b[0;32m----> 2\u001b[0;31m \u001b[0;32mif\u001b[0m \u001b[0;36m267\u001b[0m \u001b[0;32min\u001b[0m \u001b[0mparsed_player_gameweek\u001b[0m\u001b[0;34m[\u001b[0m\u001b[0;34m\"subs\"\u001b[0m\u001b[0;34m]\u001b[0m\u001b[0;34m[\u001b[0m\u001b[0;36m0\u001b[0m\u001b[0;34m]\u001b[0m\u001b[0;34m[\u001b[0m\u001b[0;34m\"element_in\"\u001b[0m\u001b[0;34m]\u001b[0m\u001b[0;34m:\u001b[0m\u001b[0;34m\u001b[0m\u001b[0;34m\u001b[0m\u001b[0m\n\u001b[0m\u001b[1;32m      3\u001b[0m     \u001b[0mprint\u001b[0m\u001b[0;34m(\u001b[0m\u001b[0;34m\"yes\"\u001b[0m\u001b[0;34m)\u001b[0m\u001b[0;34m\u001b[0m\u001b[0;34m\u001b[0m\u001b[0m\n",
      "\u001b[0;31mTypeError\u001b[0m: argument of type 'int' is not iterable"
     ]
    }
   ],
   "source": [
    "# This is one player id in this team this week\n",
    "for i in parsed_player_gameweek[\"subs\"][i][\"element_in\"]\n",
    "if 267 in parsed_player_gameweek[\"subs\"][0][\"element_in\"]:\n",
    "    print(\"yes\")"
   ]
  },
  {
   "cell_type": "code",
   "execution_count": 77,
   "metadata": {},
   "outputs": [
    {
     "name": "stdout",
     "output_type": "stream",
     "text": "yes\n"
    }
   ],
   "source": [
    "for el in parsed_player_gameweek[\"subs\"]:\n",
    "    if 295 == el[\"element_in\"]:\n",
    "        print(\"yes\")"
   ]
  },
  {
   "cell_type": "code",
   "execution_count": 61,
   "metadata": {},
   "outputs": [
    {
     "data": {
      "text/plain": "220"
     },
     "execution_count": 61,
     "metadata": {},
     "output_type": "execute_result"
    }
   ],
   "source": [
    "parsed_player_gameweek[\"subs\"][0][\"element_out\"]"
   ]
  },
  {
   "cell_type": "code",
   "execution_count": 12,
   "metadata": {},
   "outputs": [
    {
     "name": "stdout",
     "output_type": "stream",
     "text": "169\n204\n122\n299\n267\n448\n29\n417\n130\n167\n12\n149\n220\n203\n186\n"
    }
   ],
   "source": [
    "for el in parsed_player_gameweek['picks']:\n",
    "    print(el[\"element\"])"
   ]
  },
  {
   "cell_type": "code",
   "execution_count": 13,
   "metadata": {},
   "outputs": [],
   "source": [
    "all_players_df = pd.DataFrame()"
   ]
  },
  {
   "cell_type": "code",
   "execution_count": 14,
   "metadata": {},
   "outputs": [],
   "source": [
    "def player_gameweek(team_id,weeks):\n",
    "    # Will return the players in a team during all requested weeks. Expects as arguments a team id from fantasy draft premier league and the number of weeks you want data from.\n",
    "    player_df = pd.DataFrame()\n",
    "\n",
    "    for i in range(1,weeks+1):\n",
    "        url = \"https://draft.premierleague.com/api/entry/\" + str(team_id)+ \"/event/\"+ str(i)\n",
    "        player_gameweek = session.get(url)\n",
    "        parsed_player_gameweek = json.loads(player_gameweek.text)\n",
    "        players = []\n",
    "        starting_11 = []\n",
    "        gameweek = []\n",
    "        team_ids = []\n",
    "        subbed_in = []\n",
    "        subbed_out = []\n",
    "        temp_df = pd.DataFrame()\n",
    "        for el in parsed_player_gameweek['picks']:\n",
    "            team_ids.append(team_id)\n",
    "            players.append(el[\"element\"])\n",
    "            gameweek.append(i)\n",
    "            if players.append(el[\"position\"]) <= 11:\n",
    "                starting_11.append(\"yes\")\n",
    "            else:\n",
    "                starting_11.append(\"no\")\n",
    "            for item in parsed_player_gameweek[\"subs\"]:\n",
    "                if el[\"element\"] == item[\"element_in\"]:\n",
    "                    subbed_in.append(\"True\")\n",
    "                else:\n",
    "                    \n",
    "            for item in parsed_player_gameweek[\"subs\"]:\n",
    "                if el[\"element\"] == item[\"element_out\"]:\n",
    "                    subbed_out.append(\"True\")\n",
    "            \n",
    "\n",
    "        temp_df[\"team_id\"] = team_ids\n",
    "        temp_df[\"gameweek\"] = gameweek \n",
    "        temp_df[\"player_id\"] = players    \n",
    "        player_df = player_df.append(temp_df)\n",
    "\n",
    "    return player_df\n",
    "\n",
    "\n",
    "\n",
    "    \n",
    "    \n",
    "\n"
   ]
  },
  {
   "cell_type": "code",
   "execution_count": 15,
   "metadata": {},
   "outputs": [
    {
     "data": {
      "text/html": "<div>\n<style scoped>\n    .dataframe tbody tr th:only-of-type {\n        vertical-align: middle;\n    }\n\n    .dataframe tbody tr th {\n        vertical-align: top;\n    }\n\n    .dataframe thead th {\n        text-align: right;\n    }\n</style>\n<table border=\"1\" class=\"dataframe\">\n  <thead>\n    <tr style=\"text-align: right;\">\n      <th></th>\n      <th>team_id</th>\n      <th>gameweek</th>\n      <th>player_id</th>\n    </tr>\n  </thead>\n  <tbody>\n    <tr>\n      <td>0</td>\n      <td>333932</td>\n      <td>1</td>\n      <td>149</td>\n    </tr>\n    <tr>\n      <td>1</td>\n      <td>333932</td>\n      <td>1</td>\n      <td>204</td>\n    </tr>\n    <tr>\n      <td>2</td>\n      <td>333932</td>\n      <td>1</td>\n      <td>122</td>\n    </tr>\n    <tr>\n      <td>3</td>\n      <td>333932</td>\n      <td>1</td>\n      <td>334</td>\n    </tr>\n    <tr>\n      <td>4</td>\n      <td>333932</td>\n      <td>1</td>\n      <td>346</td>\n    </tr>\n    <tr>\n      <td>...</td>\n      <td>...</td>\n      <td>...</td>\n      <td>...</td>\n    </tr>\n    <tr>\n      <td>10</td>\n      <td>333932</td>\n      <td>25</td>\n      <td>12</td>\n    </tr>\n    <tr>\n      <td>11</td>\n      <td>333932</td>\n      <td>25</td>\n      <td>149</td>\n    </tr>\n    <tr>\n      <td>12</td>\n      <td>333932</td>\n      <td>25</td>\n      <td>220</td>\n    </tr>\n    <tr>\n      <td>13</td>\n      <td>333932</td>\n      <td>25</td>\n      <td>203</td>\n    </tr>\n    <tr>\n      <td>14</td>\n      <td>333932</td>\n      <td>25</td>\n      <td>186</td>\n    </tr>\n  </tbody>\n</table>\n<p>375 rows × 3 columns</p>\n</div>",
      "text/plain": "    team_id  gameweek  player_id\n0    333932         1        149\n1    333932         1        204\n2    333932         1        122\n3    333932         1        334\n4    333932         1        346\n..      ...       ...        ...\n10   333932        25         12\n11   333932        25        149\n12   333932        25        220\n13   333932        25        203\n14   333932        25        186\n\n[375 rows x 3 columns]"
     },
     "execution_count": 15,
     "metadata": {},
     "output_type": "execute_result"
    }
   ],
   "source": [
    "player_gameweek(333932,25)"
   ]
  },
  {
   "cell_type": "code",
   "execution_count": 16,
   "metadata": {},
   "outputs": [],
   "source": [
    "for team in team_ids:\n",
    "    all_players_df = all_players_df.append(player_gameweek(team,25))"
   ]
  },
  {
   "cell_type": "code",
   "execution_count": 17,
   "metadata": {},
   "outputs": [],
   "source": [
    "# There are API endpoints with player scores for each week but each week is a different url. I will start by checking the layout of these pages"
   ]
  },
  {
   "cell_type": "code",
   "execution_count": 18,
   "metadata": {},
   "outputs": [
    {
     "data": {
      "text/html": "<div>\n<style scoped>\n    .dataframe tbody tr th:only-of-type {\n        vertical-align: middle;\n    }\n\n    .dataframe tbody tr th {\n        vertical-align: top;\n    }\n\n    .dataframe thead th {\n        text-align: right;\n    }\n</style>\n<table border=\"1\" class=\"dataframe\">\n  <thead>\n    <tr style=\"text-align: right;\">\n      <th></th>\n      <th>team_id</th>\n      <th>gameweek</th>\n      <th>player_id</th>\n    </tr>\n  </thead>\n  <tbody>\n    <tr>\n      <td>0</td>\n      <td>333932</td>\n      <td>1</td>\n      <td>149</td>\n    </tr>\n    <tr>\n      <td>1</td>\n      <td>333932</td>\n      <td>1</td>\n      <td>204</td>\n    </tr>\n    <tr>\n      <td>2</td>\n      <td>333932</td>\n      <td>1</td>\n      <td>122</td>\n    </tr>\n    <tr>\n      <td>3</td>\n      <td>333932</td>\n      <td>1</td>\n      <td>334</td>\n    </tr>\n    <tr>\n      <td>4</td>\n      <td>333932</td>\n      <td>1</td>\n      <td>346</td>\n    </tr>\n    <tr>\n      <td>...</td>\n      <td>...</td>\n      <td>...</td>\n      <td>...</td>\n    </tr>\n    <tr>\n      <td>10</td>\n      <td>299717</td>\n      <td>25</td>\n      <td>363</td>\n    </tr>\n    <tr>\n      <td>11</td>\n      <td>299717</td>\n      <td>25</td>\n      <td>14</td>\n    </tr>\n    <tr>\n      <td>12</td>\n      <td>299717</td>\n      <td>25</td>\n      <td>522</td>\n    </tr>\n    <tr>\n      <td>13</td>\n      <td>299717</td>\n      <td>25</td>\n      <td>505</td>\n    </tr>\n    <tr>\n      <td>14</td>\n      <td>299717</td>\n      <td>25</td>\n      <td>477</td>\n    </tr>\n  </tbody>\n</table>\n<p>2250 rows × 3 columns</p>\n</div>",
      "text/plain": "   team_id  gameweek  player_id\n0   333932         1        149\n1   333932         1        204\n2   333932         1        122\n3   333932         1        334\n4   333932         1        346\n..     ...       ...        ...\n10  299717        25        363\n11  299717        25         14\n12  299717        25        522\n13  299717        25        505\n14  299717        25        477\n\n[2250 rows x 3 columns]"
     },
     "execution_count": 18,
     "metadata": {},
     "output_type": "execute_result"
    }
   ],
   "source": [
    "all_players_df"
   ]
  },
  {
   "cell_type": "code",
   "execution_count": 19,
   "metadata": {},
   "outputs": [
    {
     "data": {
      "text/plain": "2250"
     },
     "execution_count": 19,
     "metadata": {},
     "output_type": "execute_result"
    }
   ],
   "source": [
    "# 6 teams in the league, 15 players per week, 25 weeks\n",
    "6*15*25"
   ]
  },
  {
   "cell_type": "code",
   "execution_count": 20,
   "metadata": {},
   "outputs": [],
   "source": [
    "\n",
    "player_scores_gameweek1 = session.get(\"https://fantasy.premierleague.com/api/event/1/live\")"
   ]
  },
  {
   "cell_type": "code",
   "execution_count": 21,
   "metadata": {},
   "outputs": [],
   "source": [
    "player_scores_gameweek1_json = json.loads(player_scores_gameweek1.text)"
   ]
  },
  {
   "cell_type": "code",
   "execution_count": 22,
   "metadata": {},
   "outputs": [
    {
     "data": {
      "text/plain": "': 8,\n    'in_dreamteam': False},\n   'explain': [{'fixture': 2,\n     'stats': [{'identifier': 'minutes', 'points': 1, 'value': 8},\n      {'identifier': 'goals_scored', 'points': 4, 'value': 1},\n      {'identifier': 'bonus', 'points': 3, 'value': 3}]}]},\n  {'id': 303,\n   'stats': {'minutes': 62,\n    'goals_scored': 0,\n    'assists': 0,\n    'clean_sheets': 0,\n    'goals_conceded': 1,\n    'own_goals': 0,\n    'penalties_saved': 0,\n    'penalties_missed': 0,\n    'yellow_cards': 0,\n    'red_cards': 0,\n    'saves': 0,\n    'bonus': 0,\n    'bps': 0,\n    'influence': '2.0',\n    'creativity': '5.3',\n    'threat': '8.0',\n    'ict_index': '1.5',\n    'total_points': 2,\n    'in_dreamteam': False},\n   'explain': [{'fixture': 2,\n     'stats': [{'identifier': 'minutes', 'points': 2, 'value': 62}]}]},\n  {'id': 312,\n   'stats': {'minutes': 0,\n    'goals_scored': 0,\n    'assists': 0,\n    'clean_sheets': 0,\n    'goals_conceded': 0,\n    'own_goals': 0,\n    'penalties_saved': 0,\n    'penalties_missed': 0,\n    'yellow_cards': 0,\n    'red_cards': 0,\n    'saves': 0,\n    'bonus': 0,\n    'bps': 0,\n    'influence': '0.0',\n    'creativity': '0.0',\n    'threat': '0.0',\n    'ict_index': '0.0',\n    'total_points': 0,\n    'in_dreamteam': False},\n   'explain': [{'fixture': 3,\n     'stats': [{'identifier': 'minutes', 'points': 0, 'value': 0}]}]},\n  {'id': 313,\n   'stats': {'minutes': 65,\n    'goals_scored': 0,\n    'assists': 0,\n    'clean_sheets': 0,\n    'goals_conceded': 1,\n    'own_goals': 0,\n    'penalties_saved': 0,\n    'penalties_missed': 0,\n    'yellow_cards': 0,\n    'red_cards': 0,\n    'saves': 0,\n    'bonus': 0,\n    'bps': 8,\n    'influence': '4.8',\n    'creativity': '11.0',\n    'threat': '0.0',\n    'ict_index': '1.6',\n    'total_points': 2,\n    'in_dreamteam': False},\n   'explain': [{'fixture': 3,\n     'stats': [{'identifier': 'minutes', 'points': 2, 'value': 65}]}]},\n  {'id': 314,\n   'stats': {'minutes': 24,\n    'goals_scored': 0,\n    'assists': 0,\n    'clean_sheets': 0,\n    'goals_conceded': 2,\n    'own_goals': 0,\n    'penalties_saved': 0,\n    'penalties_missed': 0,\n    'yellow_cards': 0,\n    'red_cards': 0,\n    'saves': 0,\n    'bonus': 0,\n    'bps': 0,\n    'influence': '0.0',\n    'creativity': '0.4',\n    'threat': '4.0',\n    'ict_index': '0.4',\n    'total_points': 1,\n    'in_dreamteam': False},\n   'explain': [{'fixture': 3,\n     'stats': [{'identifier': 'minutes', 'points': 1, 'value': 24}]}]},\n  {'id': 315,\n   'stats': {'minutes': 0,\n    'goals_scored': 0,\n    'assists': 0,\n    'clean_sheets': 0,\n    'goals_conceded': 0,\n    'own_goals': 0,\n    'penalties_saved': 0,\n    'penalties_missed': 0,\n    'yellow_cards': 0,\n    'red_cards': 0,\n    'saves': 0,\n    'bonus': 0,\n    'bps': 0,\n    'influence': '0.0',\n    'creativity': '0.0',\n    'threat': '0.0',\n    'ict_index': '0.0',\n    'total_points': 0,\n    'in_dreamteam': False},\n   'explain': [{'fixture': 3,\n     'stats': [{'identifier': 'minutes', 'points': 0, 'value': 0}]}]},\n  {'id': 316,\n   'stats': {'minutes': 0,\n    'goals_scored': 0,\n    'assists': 0,\n    'clean_sheets': 0,\n    'goals_conceded': 0,\n    'own_goals': 0,\n    'penalties_saved': 0,\n    'penalties_missed': 0,\n    'yellow_cards': 0,\n    'red_cards': 0,\n    'saves': 0,\n    'bonus': 0,\n    'bps': 0,\n    'influence': '0.0',\n    'creativity': '0.0',\n    'threat': '0.0',\n    'ict_index': '0.0',\n    'total_points': 0,\n    'in_dreamteam': False},\n   'explain': [{'fixture': 3,\n     'stats': [{'identifier': 'minutes', 'points': 0, 'value': 0}]}]},\n  {'id': 338,\n   'stats': {'minutes': 90,\n    'goals_scored': 2,\n    'assists': 0,\n    'clean_sheets': 0,\n    'goals_conceded': 1,\n    'own_goals': 0,\n    'penalties_saved': 0,\n    'penalties_missed': 0,\n    'yellow_cards': 0,\n    'red_cards': 0,\n    'saves': 0,\n    'bonus': 3,\n    'bps': 50,\n    'influence': '64.2',\n    'creativity': '24.1',\n    'threat': '95.0',\n    'ict_index': '18.3',\n    'total_points': 13,\n    'in_dreamteam': True},\n   'explain': [{'fixture': 6,\n     'stats': [{'identifier': 'minutes', 'points': 2, 'value': 90},\n      {'identifier': 'goals_scored', 'points': 8, 'value': 2},\n      {'identifier': 'bonus', 'points': 3, 'value': 3}]}]},\n  {'id': 339,\n   'stats': {'minutes': 0,\n    'goals_scored': 0,\n    'assists': 0,\n    'clean_sheets': 0,\n    'goals_conceded': 0,\n    'own_goals': 0,\n    'penalties_saved': 0,\n    'penalties_missed': 0,\n    'yellow_cards': 0,\n    'red_cards': 0,\n    'saves': 0,\n    'bonus': 0,\n    'bps': 0,\n    'influence': '0.0',\n    'creativity': '0.0',\n    'threat': '0.0',\n    'ict_index': '0.0',\n    'total_points': 0,\n    'in_dreamteam': False},\n   'explain': [{'fixture': 6,\n     'stats': [{'identifier': 'minutes', 'points': 0, 'value': 0}]}]},\n  {'id': 362,\n   'stats': {'minutes': 90,\n    'goals_scored': 0,\n    'assists': 0,\n    'clean_sheets': 0,\n    'goals_conceded': 3,\n    'own_goals': 0,\n    'penalties_saved': 0,\n    'penalties_missed': 0,\n    'yellow_cards': 0,\n    'red_cards': 0,\n    'saves': 0,\n    'bonus': 0,\n    'bps': 6,\n    'influence': '7.6',\n    'creativity': '14.5',\n    'threat': '9.0',\n    'ict_index': '3.1',\n    'total_points': 2,\n    'in_dreamteam': False},\n   'explain': [{'fixture': 7,\n     'stats': [{'identifier': 'minutes', 'points': 2, 'value': 90}]}]},\n  {'id': 363,\n   'stats': {'minutes': 45,\n    'goals_scored': 0,\n    'assists': 0,\n    'clean_sheets': 0,\n    'goals_conceded': 1,\n    'own_goals': 0,\n    'penalties_saved': 0,\n    'penalties_missed': 0,\n    'yellow_cards': 0,\n    'red_cards': 0,\n    'saves': 0,\n    'bonus': 0,\n    'bps': 1,\n    'influence': '0.0',\n    'creativity': '5.5',\n    'threat': '3.0',\n    'ict_index': '0.6',\n    'total_points': 1,\n    'in_dreamteam': False},\n   'explain': [{'fixture': 7,\n     'stats': [{'identifier': 'minutes', 'points': 1, 'value': 45}]}]},\n  {'id': 364,\n   'stats': {'minutes': 74,\n    'goals_scored': 0,\n    'assists': 0,\n    'clean_sheets': 0,\n    'goals_conceded': 2,\n    'own_goals': 0,\n    'penalties_saved': 0,\n    'penalties_missed': 0,\n    'yellow_cards': 0,\n    'red_cards': 0,\n    'saves': 0,\n    'bonus': 0,\n    'bps': 3,\n    'influence': '1.4',\n    'creativity': '2.5',\n    'threat': '17.0',\n    'ict_index': '2.1',\n    'total_points': 2,\n    'in_dreamteam': False},\n   'explain': [{'fixture': 7,\n     'stats': [{'identifier': 'minutes', 'points': 2, 'value': 74}]}]},\n  {'id': 365,\n   'stats': {'minutes': 15,\n    'goals_scored': 0,\n    'assists': 0,\n    'clean_sheets': 0,\n    'goals_conceded': 1,\n    'own_goals': 0,\n    'penalties_saved': 0,\n    'penalties_missed': 0,\n    'yellow_cards': 0,\n    'red_cards': 0,\n    'saves': 0,\n    'bonus': 0,\n    'bps': 1,\n    'influence': '0.0',\n    'creativity': '0.0',\n    'threat': '0.0',\n    'ict_index': '0.0',\n    'total_points': 1,\n    'in_dreamteam': False},\n   'explain': [{'fixture': 7,\n     'stats': [{'identifier': 'minutes', 'points': 1, 'value': 15}]}]},\n  {'id': 385,\n   'stats': {'minutes': 0,\n    'goals_scored': 0,\n    'assists': 0,\n    'clean_sheets': 0,\n    'goals_conceded': 0,\n    'own_goals': 0,\n    'penalties_saved': 0,\n    'penalties_missed': 0,\n    'yellow_cards': 0,\n    'red_cards': 0,\n    'saves': 0,\n    'bonus': 0,\n    'bps': 0,\n    'influence': '0.0',\n    'creativity': '0.0',\n    'threat': '0.0',\n    'ict_index': '0.0',\n    'total_points': 0,\n    'in_dreamteam': False},\n   'explain': [{'fixture': 8,\n     'stats': [{'identifier': 'minutes', 'points': 0, 'value': 0}]}]},\n  {'id': 386,\n   'stats': {'minutes': 24,\n    'goals_scored': 0,\n    'assists': 0,\n    'clean_sheets': 0,\n    'goals_conceded': 3,\n    'own_goals': 0,\n    'penalties_saved': 0,\n    'penalties_missed': 0,\n    'yellow_cards': 0,\n    'red_cards': 0,\n    'saves': 0,\n    'bonus': 0,\n    'bps': -2,\n    'influence': '1.6',\n    'creativity': '1.0',\n    'threat': '18.0',\n    'ict_index': '2.1',\n    'total_points': 1,\n    'in_dreamteam': False},\n   'explain': [{'fixture': 8,\n     'stats': [{'identifier': 'minutes', 'points': 1, 'value': 24}]}]},\n  {'id': 387,\n   'stats': {'minutes': 0,\n    'goals_scored': 0,\n    'assists': 0,\n    'clean_sheets': 0,\n    'goals_conceded': 0,\n    'own_goals': 0,\n    'penalties_saved': 0,\n    'penalties_missed': 0,\n    'yellow_cards': 0,\n    'red_cards': 0,\n    'saves': 0,\n    'bonus': 0,\n    'bps': 0,\n    'influence': '0.0',\n    'creativity': '0.0',\n    'threat': '0.0',\n    'ict_index': '0.0',\n    'total_points': 0,\n    'in_dreamteam': False},\n   'explain': [{'fixture': 8,\n     'stats': [{'identifier': 'minutes', 'points': 0, 'value': 0}]}]},\n  {'id': 409,\n   'stats': {'minutes': 90,\n    'goals_scored': 0,\n    'assists': 0,\n    'clean_sheets': 1,\n    'goals_conceded': 0,\n    'own_goals': 0,\n    'penalties_saved': 0,\n    'penalties_missed': 0,\n    'yellow_cards': 0,\n    'red_cards': 0,\n    'saves': 0,\n    'bonus': 0,\n    'bps': 10,\n    'influence': '18.8',\n    'creativity': '12.2',\n    'threat': '30.0',\n    'ict_index': '6.1',\n    'total_points': 2,\n    'in_dreamteam': False},\n   'explain': [{'fixture': 5,\n     'stats': [{'identifier': 'minutes', 'points': 2, 'value': 90}]}]},\n  {'id': 410,\n   'stats': {'minutes': 75,\n    'goals_scored': 0,\n    'assists': 0,\n    'clean_sheets': 1,\n    'goals_conceded': 0,\n    'own_goals': 0,\n    'penalties_saved': 0,\n    'penalties_missed': 0,\n    'yellow_cards': 0,\n    'red_cards': 0,\n    'saves': 0,\n    'bonus': 0,\n    'bps': 4,\n    'influence': '1.6',\n    'creativity': '12.3',\n    'threat': '25.0',\n    'ict_index': '3.9',\n    'total_points': 2,\n    'in_dreamteam': False},\n   'explain': [{'fixture': 5,\n     'stats': [{'identifier': 'minutes', 'points': 2, 'value': 75}]}]},\n  {'id': 428,\n   'stats': {'minutes': 73,\n    'goals_scored': 0,\n    'assists': 0,\n    'clean_sheets': 0,\n    'goals_conceded': 1,\n    'own_goals': 0,\n    'penalties_saved': 0,\n    'penalties_missed': 0,\n    'yellow_cards': 0,\n    'red_cards': 0,\n    'saves': 0,\n    'bonus': 0,\n    'bps': 2,\n    'influence': '5.0',\n    'creativity': '1.1',\n    'threat': '17.0',\n    'ict_index': '2.3',\n    'total_points': 2,\n    'in_dreamteam': False},\n   'explain': [{'fixture': 6,\n     'stats': [{'identifier': 'minutes', 'points': 2, 'value': 73}]}]},\n  {'id': 434,\n   'stats': {'minutes': 7,\n    'goals_scored': 0,\n    'assists': 0,\n    'clean_sheets': 0,\n    'goals_conceded': 0,\n    'own_goals': 0,\n    'penalties_saved': 0,\n    'penalties_missed': 0,\n    'yellow_cards': 0,\n    'red_cards': 0,\n    'saves': 0,\n    'bonus': 0,\n    'bps': 3,\n    'influence': '0.0',\n    'creativity': '0.3',\n    'threat': '2.0',\n    'ict_index': '0.2',\n    'total_points': 1,\n    'in_dreamteam': False},\n   'explain': [{'fixture': 1,\n     'stats': [{'identifier': 'minutes', 'points': 1, 'value': 7}]}]},\n  {'id': 437,\n   'stats': {'minutes': 72,\n    'goals_scored': 0,\n    'assists': 0,\n    'clean_sheets': 0,\n    'goals_conceded': 2,\n    'own_goals': 0,\n    'penalties_saved': 0,\n    'penalties_missed': 0,\n    'yellow_cards': 0,\n    'red_cards': 0,\n    'saves': 0,\n    'bonus': 0,\n    'bps': -5,\n    'influence': '0.0',\n    'creativity': '1.8',\n    'threat': '21.0',\n    'ict_index': '1.6',\n    'total_points': 2,\n    'in_dreamteam': False},\n   'explain': [{'fixture': 3,\n     'stats': [{'identifier': 'minutes', 'points': 2, 'value': 72}]}]},\n  {'id': 451,\n   'stats': {'minutes': 6,\n    'goals_scored': 0,\n    'assists': 0,\n    'clean_sheets': 0,\n    'goals_conceded': 0,\n    'own_goals': 0,\n    'penalties_saved': 0,\n    'penalties_missed': 0,\n    'yellow_cards': 0,\n    'red_cards': 0,\n    'saves': 0,\n    'bonus': 0,\n    'bps': 2,\n    'influence': '0.0',\n    'creativity': '0.0',\n    'threat': '0.0',\n    'ict_index': '0.0',\n    'total_points': 1,\n    'in_dreamteam': False},\n   'explain': [{'fixture': 3,\n     'stats': [{'identifier': 'minutes', 'points': 1, 'value': 6}]}]},\n  {'id': 457,\n   'stats': {'minutes': 90,\n    'goals_scored': 0,\n    'assists': 0,\n    'clean_sheets': 0,\n    'goals_conceded': 5,\n    'own_goals': 0,\n    'penalties_saved': 0,\n    'penalties_missed': 0,\n    'yellow_cards': 0,\n    'red_cards': 0,\n    'saves': 0,\n    'bonus': 0,\n    'bps': 15,\n    'influence': '15.0',\n    'creativity': '7.8',\n    'threat': '17.0',\n    'ict_index': '4.0',\n    'total_points': 2,\n    'in_dreamteam': False},\n   'explain': [{'fixture': 8,\n     'stats': [{'identifier': 'minutes', 'points': 2, 'value': 90}]}]},\n  {'id': 460,\n   'stats': {'minutes': 65,\n    'goals_scored': 0,\n    'assists': 0,\n    'clean_sheets': 0,\n    'goals_conceded': 2,\n    'own_goals': 0,\n    'penalties_saved': 0,\n    'penalties_missed': 0,\n    'yellow_cards': 1,\n    'red_cards': 0,\n    'saves': 0,\n    'bonus': 0,\n    'bps': 1,\n    'influence': '0.0',\n    'creativity': '0.8',\n    'threat': '24.0',\n    'ict_index': '2.4',\n    'total_points': 1,\n    'in_dreamteam': False},\n   'explain': [{'fixture': 9,\n     'stats': [{'identifier': 'minutes', 'points': 2, 'value': 65},\n      {'identifier': 'yellow_cards', 'points': -1, 'value': 1}]}]},\n  {'id': 461,\n   'stats': {'minutes': 0,\n    'goals_scored': 0,\n    'assists': 0,\n    'clean_sheets': 0,\n    'goals_conceded': 0,\n    'own_goals': 0,\n    'penalties_saved': 0,\n    'penalties_missed': 0,\n    'yellow_cards': 0,\n    'red_cards': 0,\n    'saves': 0,\n    'bonus': 0,\n    'bps': 0,\n    'influence': '0.0',\n    'creativity': '0.0',\n    'threat': '0.0',\n    'ict_index': '0.0',\n    'total_points': 0,\n    'in_dreamteam': False},\n   'explain': [{'fixture': 9,\n     'stats': [{'identifier': 'minutes', 'points': 0, 'value': 0}]}]},\n  {'id': 464,\n   'stats': {'minutes': 0,\n    'goals_scored': 0,\n    'assists': 0,\n    'clean_sheets': 0,\n    'goals_conceded': 0,\n    'own_goals': 0,\n    'penalties_saved': 0,\n    'penalties_missed': 0,\n    'yellow_cards': 0,\n    'red_cards': 0,\n    'saves': 0,\n    'bonus': 0,\n    'bps': 0,\n    'influence': '0.0',\n    'creativity': '0.0',\n    'threat': '0.0',\n    'ict_index': '0.0',\n    'total_points': 0,\n    'in_dreamteam': False},\n   'explain': [{'fixture': 1,\n     'stats': [{'identifier': 'minutes', 'points': 0, 'value': 0}]}]},\n  {'id': 466,\n   'stats': {'minutes': 90,\n    'goals_scored': 0,\n    'assists': 0,\n    'clean_sheets': 0,\n    'goals_conceded': 1,\n    'own_goals': 0,\n    'penalties_saved': 0,\n    'penalties_missed': 0,\n    'yellow_cards': 0,\n    'red_cards': 0,\n    'saves': 0,\n    'bonus': 0,\n    'bps': 15,\n    'influence': '6.0',\n    'creativity': '2.5',\n    'threat': '24.0',\n    'ict_index': '3.3',\n    'total_points': 2,\n    'in_dreamteam': False},\n   'explain': [{'fixture': 10,\n     'stats': [{'identifier': 'minutes', 'points': 2, 'value': 90}]}]},\n  {'id': 468,\n   'stats': {'minutes': 64,\n    'goals_scored': 0,\n    'assists': 0,\n    'clean_sheets': 1,\n    'goals_conceded': 0,\n    'own_goals': 0,\n    'penalties_saved': 0,\n    'penalties_missed': 0,\n    'yellow_cards': 0,\n    'red_cards': 0,\n    'saves': 0,\n    'bonus': 0,\n    'bps': 8,\n    'influence': '9.0',\n    'creativity': '12.8',\n    'threat': '19.0',\n    'ict_index': '4.1',\n    'total_points': 2,\n    'in_dreamteam': False},\n   'explain': [{'fixture': 4,\n     'stats': [{'identifier': 'minutes', 'points': 2, 'value': 64}]}]},\n  {'id': 487,\n   'stats': {'minutes': 14,\n    'goals_scored': 0,\n    'assists': 0,\n    'clean_sheets': 0,\n    'goals_conceded': 0,\n    'own_goals': 0,\n    'penalties_saved': 0,\n    'penalties_missed': 0,\n    'yellow_cards': 0,\n    'red_cards': 0,\n    'saves': 0,\n    'bonus': 0,\n    'bps': -1,\n    'influence': '5.4',\n    'creativity': '0.0',\n    'threat': '0.0',\n    'ict_index': '0.5',\n    'total_points': 1,\n    'in_dreamteam': False},\n   'explain': [{'fixture': 5,\n     'stats': [{'identifier': 'minutes', 'points': 1, 'value': 14}]}]},\n  {'id': 496,\n   'stats': {'minutes': 21,\n    'goals_scored': 0,\n    'assists': 0,\n    'clean_sheets': 0,\n    'goals_conceded': 0,\n    'own_goals': 0,\n    'penalties_saved': 0,\n    'penalties_missed': 0,\n    'yellow_cards': 0,\n    'red_cards': 0,\n    'saves': 0,\n    'bonus': 0,\n    'bps': 4,\n    'influence': '1.0',\n    'creativity': '1.2',\n    'threat': '0.0',\n    'ict_index': '0.2',\n    'total_points': 1,\n    'in_dreamteam': False},\n   'explain': [{'fixture': 4,\n     'stats': [{'identifier': 'minutes', 'points': 1, 'value': 21}]}]},\n  {'id': 501,\n   'stats': {'minutes': 27,\n    'goals_scored': 0,\n    'assists': 0,\n    'clean_sheets': 0,\n    'goals_conceded': 0,\n    'own_goals': 0,\n    'penalties_saved': 0,\n    'penalties_missed': 0,\n    'yellow_cards': 0,\n    'red_cards': 0,\n    'saves': 0,\n    'bonus': 0,\n    'bps': 3,\n    'influence': '3.4',\n    'creativity': '1.4',\n    'threat': '4.0',\n    'ict_index': '0.9',\n    'total_points': 1,\n    'in_dreamteam': False},\n   'explain': [{'fixture': 2,\n     'stats': [{'identifier': 'minutes', 'points': 1, 'value': 27}]}]},\n  {'id': 502,\n   'stats': {'minutes': 26,\n    'goals_scored': 1,\n    'assists': 0,\n    'clean_sheets': 0,\n    'goals_conceded': 0,\n    'own_goals': 0,\n    'penalties_saved': 0,\n    'penalties_missed': 0,\n    'yellow_cards': 0,\n    'red_cards': 0,\n    'saves': 0,\n    'bonus': 1,\n    'bps': 27,\n    'influence': '34.2',\n    'creativity': '2.8',\n    'threat': '19.0',\n    'ict_index': '5.6',\n    'total_points': 6,\n    'in_dreamteam': False},\n   'explain': [{'fixture': 7,\n     'stats': [{'identifier': 'minutes', 'points': 1, 'value': 26},\n      {'identifier': 'goals_scored', 'points': 4, 'value': 1},\n      {'identifier': 'bonus', 'points': 1, 'value': 1}]}]},\n  {'id': 504,\n   'stats': {'minutes': 6,\n    'goals_scored': 0,\n    'assists': 0,\n    'clean_sheets': 0,\n    'goals_conceded': 0,\n    'own_goals': 0,\n    'penalties_saved': 0,\n    'penalties_missed': 0,\n    'yellow_cards': 0,\n    'red_cards': 0,\n    'saves': 0,\n    'bonus': 0,\n    'bps': 2,\n    'influence': '1.0',\n    'creativity': '0.5',\n    'threat': '0.0',\n    'ict_index': '0.2',\n    'total_points': 1,\n    'in_dreamteam': False},\n   'explain': [{'fixture': 10,\n     'stats': [{'identifier': 'minutes', 'points': 1, 'value': 6}]}]},\n  {'id': 509,\n   'stats': {'minutes': 0,\n    'goals_scored': 0,\n    'assists': 0,\n    'clean_sheets': 0,\n    'goals_conceded': 0,\n    'own_goals': 0,\n    'penalties_saved': 0,\n    'penalties_missed': 0,\n    'yellow_cards': 0,\n    'red_cards': 0,\n    'saves': 0,\n    'bonus': 0,\n    'bps': 0,\n    'influence': '0.0',\n    'creativity': '0.0',\n    'threat': '0.0',\n    'ict_index': '0.0',\n    'total_points': 0,\n    'in_dreamteam': False},\n   'explain': [{'fixture': 6,\n     'stats': [{'identifier': 'minutes', 'points': 0, 'value': 0}]}]},\n  {'id': 512,\n   'stats': {'minutes': 0,\n    'goals_scored': 0,\n    'assists': 0,\n    'clean_sheets': 0,\n    'goals_conceded': 0,\n    'own_goals': 0,\n    'penalties_saved': 0,\n    'penalties_missed': 0,\n    'yellow_cards': 0,\n    'red_cards': 0,\n    'saves': 0,\n    'bonus': 0,\n    'bps': 0,\n    'influence': '0.0',\n    'creativity': '0.0',\n    'threat': '0.0',\n    'ict_index': '0.0',\n    'total_points': 0,\n    'in_dreamteam': False},\n   'explain': [{'fixture': 7,\n     'stats': [{'identifier': 'minutes', 'points': 0, 'value': 0}]}]},\n  {'id': 514,\n   'stats': {'minutes': 0,\n    'goals_scored': 0,\n    'assists': 0,\n    'clean_sheets': 0,\n    'goals_conceded': 0,\n    'own_goals': 0,\n    'penalties_saved': 0,\n    'penalties_missed': 0,\n    'yellow_cards': 0,\n    'red_cards': 0,\n    'saves': 0,\n    'bonus': 0,\n    'bps': 0,\n    'influence': '0.0',\n    'creativity': '0.0',\n    'threat': '0.0',\n    'ict_index': '0.0',\n    'total_points': 0,\n    'in_dreamteam': False},\n   'explain': [{'fixture': 8,\n     'stats': [{'identifier': 'minutes', 'points': 0, 'value': 0}]}]},\n  {'id': 520,\n   'stats': {'minutes': 0,\n    'goals_scored': 0,\n    'assists': 0,\n    'clean_sheets': 0,\n    'goals_conceded': 0,\n    'own_goals': 0,\n    'penalties_saved': 0,\n    'penalties_missed': 0,\n    'yellow_cards': 0,\n    'red_cards': 0,\n    'saves': 0,\n    'bonus': 0,\n    'bps': 0,\n    'influence': '0.0',\n    'creativity': '0.0',\n    'threat': '0.0',\n    'ict_index': '0.0',\n    'total_points': 0,\n    'in_dreamteam': False},\n   'explain': [{'fixture': 10,\n     'stats': [{'identifier': 'minutes', 'points': 0, 'value': 0}]}]}]}"
     },
     "execution_count": 22,
     "metadata": {},
     "output_type": "execute_result"
    }
   ],
   "source": [
    "player_scores_gameweek1_json\n"
   ]
  },
  {
   "cell_type": "code",
   "execution_count": 26,
   "metadata": {},
   "outputs": [
    {
     "data": {
      "text/plain": "{'id': 14,\n 'stats': {'minutes': 90,\n  'goals_scored': 0,\n  'assists': 0,\n  'clean_sheets': 1,\n  'goals_conceded': 0,\n  'own_goals': 0,\n  'penalties_saved': 0,\n  'penalties_missed': 0,\n  'yellow_cards': 0,\n  'red_cards': 0,\n  'saves': 2,\n  'bonus': 1,\n  'bps': 27,\n  'influence': '18.0',\n  'creativity': '0.0',\n  'threat': '0.0',\n  'ict_index': '1.8',\n  'total_points': 7,\n  'in_dreamteam': False},\n 'explain': [{'fixture': 10,\n   'stats': [{'identifier': 'minutes', 'points': 2, 'value': 90},\n    {'identifier': 'clean_sheets', 'points': 4, 'value': 1},\n    {'identifier': 'bonus', 'points': 1, 'value': 1}]}]}"
     },
     "execution_count": 26,
     "metadata": {},
     "output_type": "execute_result"
    }
   ],
   "source": [
    "player_scores_gameweek1_json['elements'][0]"
   ]
  },
  {
   "cell_type": "code",
   "execution_count": 34,
   "metadata": {},
   "outputs": [],
   "source": [
    "# I'll create a dictionary with the contents of each page so I don't end up sending a couple of thousand requests to their server\n",
    "\n",
    "all_weeks_dict = {}\n",
    "for i in range(1,26):\n",
    "    #remember I'm getting 25 weeks worth of data change this as necessary for yourself\n",
    "    url = \"https://fantasy.premierleague.com/api/event/\"+ str(i)+\"/live\"\n",
    "    player_scores_gameweek = session.get(url)\n",
    "    all_weeks_dict[i] = json.loads(player_scores_gameweek.text)\n",
    "    \n",
    "\n",
    "\n"
   ]
  },
  {
   "cell_type": "code",
   "execution_count": 47,
   "metadata": {},
   "outputs": [
    {
     "data": {
      "text/plain": "{'id': 14,\n 'stats': {'minutes': 90,\n  'goals_scored': 0,\n  'assists': 0,\n  'clean_sheets': 1,\n  'goals_conceded': 0,\n  'own_goals': 0,\n  'penalties_saved': 0,\n  'penalties_missed': 0,\n  'yellow_cards': 0,\n  'red_cards': 0,\n  'saves': 2,\n  'bonus': 1,\n  'bps': 27,\n  'influence': '18.0',\n  'creativity': '0.0',\n  'threat': '0.0',\n  'ict_index': '1.8',\n  'total_points': 7,\n  'in_dreamteam': False},\n 'explain': [{'fixture': 10,\n   'stats': [{'identifier': 'minutes', 'points': 2, 'value': 90},\n    {'identifier': 'clean_sheets', 'points': 4, 'value': 1},\n    {'identifier': 'bonus', 'points': 1, 'value': 1}]}]}"
     },
     "execution_count": 47,
     "metadata": {},
     "output_type": "execute_result"
    }
   ],
   "source": [
    "all_weeks_dict[1][\"elements\"][0]"
   ]
  },
  {
   "cell_type": "code",
   "execution_count": 120,
   "metadata": {},
   "outputs": [
    {
     "data": {
      "text/html": "<div>\n<style scoped>\n    .dataframe tbody tr th:only-of-type {\n        vertical-align: middle;\n    }\n\n    .dataframe tbody tr th {\n        vertical-align: top;\n    }\n\n    .dataframe thead th {\n        text-align: right;\n    }\n</style>\n<table border=\"1\" class=\"dataframe\">\n  <thead>\n    <tr style=\"text-align: right;\">\n      <th></th>\n      <th>team_id</th>\n      <th>gameweek</th>\n      <th>player_id</th>\n    </tr>\n  </thead>\n  <tbody>\n    <tr>\n      <td>0</td>\n      <td>333932</td>\n      <td>1</td>\n      <td>149</td>\n    </tr>\n    <tr>\n      <td>1</td>\n      <td>333932</td>\n      <td>1</td>\n      <td>204</td>\n    </tr>\n    <tr>\n      <td>2</td>\n      <td>333932</td>\n      <td>1</td>\n      <td>122</td>\n    </tr>\n    <tr>\n      <td>3</td>\n      <td>333932</td>\n      <td>1</td>\n      <td>334</td>\n    </tr>\n    <tr>\n      <td>4</td>\n      <td>333932</td>\n      <td>1</td>\n      <td>346</td>\n    </tr>\n    <tr>\n      <td>...</td>\n      <td>...</td>\n      <td>...</td>\n      <td>...</td>\n    </tr>\n    <tr>\n      <td>2245</td>\n      <td>299717</td>\n      <td>25</td>\n      <td>363</td>\n    </tr>\n    <tr>\n      <td>2246</td>\n      <td>299717</td>\n      <td>25</td>\n      <td>14</td>\n    </tr>\n    <tr>\n      <td>2247</td>\n      <td>299717</td>\n      <td>25</td>\n      <td>522</td>\n    </tr>\n    <tr>\n      <td>2248</td>\n      <td>299717</td>\n      <td>25</td>\n      <td>505</td>\n    </tr>\n    <tr>\n      <td>2249</td>\n      <td>299717</td>\n      <td>25</td>\n      <td>477</td>\n    </tr>\n  </tbody>\n</table>\n<p>2250 rows × 3 columns</p>\n</div>",
      "text/plain": "     team_id  gameweek  player_id\n0     333932         1        149\n1     333932         1        204\n2     333932         1        122\n3     333932         1        334\n4     333932         1        346\n...      ...       ...        ...\n2245  299717        25        363\n2246  299717        25         14\n2247  299717        25        522\n2248  299717        25        505\n2249  299717        25        477\n\n[2250 rows x 3 columns]"
     },
     "execution_count": 120,
     "metadata": {},
     "output_type": "execute_result"
    }
   ],
   "source": [
    "all_players_df.reset_index(drop=True)"
   ]
  },
  {
   "cell_type": "code",
   "execution_count": 43,
   "metadata": {},
   "outputs": [
    {
     "name": "stdout",
     "output_type": "stream",
     "text": "\n1\n0\n2\n2\n0\n0\n0\n0\n0\n2\n2\n0\n2\n1\n2\n1\n0\n2\n1\n0\n0\n1\n1\n1\n0\n0\n7\n1\n2\n0\n2\n0\n0\n1\n1\n0\n0\n0\n0\n10\n0\n14\n5\n1\n1\n5\n8\n6\n0\n1\n9\n2\n1\n1\n7\n0\n0\n2\n0\n1\n13\n0\n0\n0\n0\n2\n0\n3\n0\n0\n0\n0\n1\n3\n0\n6\n0\n0\n4\n8\n0\n3\n0\n0\n2\n0\n6\n0\n3\n0\n0\n4\n0\n0\n6\n0\n0\n0\n0\n2\n0\n2\n2\n0\n0\n3\n0\n0\n0\n0\n0\n0\n5\n6\n0\n0\n6\n0\n0\n0\n0\n0\n0\n0\n0\n0\n0\n0\n0\n0\n0\n0\n1\n0\n1\n0\n0\n0\n0\n0\n0\n0\n0\n0\n1\n1\n0\n0\n0\n1\n0\n9\n8\n0\n0\n0\n5\n0\n8\n0\n1\n1\n0\n0\n0\n0\n0\n14\n0\n6\n2\n0\n0\n0\n2\n1\n1\n0\n1\n1\n0\n6\n6\n7\n0\n0\n2\n2\n2\n2\n0\n2\n1\n8\n2\n2\n0\n2\n0\n0\n0\n6\n0\n0\n1\n0\n0\n0\n2\n2\n0\n2\n0\n0\n0\n0\n0\n2\n2\n0\n0\n0\n0\n2\n1\n0\n1\n6\n0\n5\n0\n6\n0\n11\n6\n8\n0\n6\n2\n1\n1\n2\n0\n10\n2\n0\n0\n2\n2\n1\n0\n0\n0\n2\n0\n1\n2\n0\n0\n0\n2\n12\n0\n0\n0\n1\n1\n0\n1\n0\n0\n0\n0\n4\n2\n1\n1\n2\n0\n0\n0\n7\n0\n2\n0\n0\n2\n0\n1\n0\n0\n2\n5\n7\n1\n1\n1\n0\n1\n0\n0\n0\n0\n7\n2\n1\n1\n9\n0\n9\n0\n5\n1\n0\n0\n0\n0\n0\n1\n0\n0\n0\n3\n2\n0\n0\n2\n1\n13\n2\n2\n0\n0\n1\n0\n0\n6\n0\n0\n0\n0\n2\n0\n0\n2\n3\n0\n0\n0\n3\n0\n0\n0\n0\n5\n2\n0\n1\n2\n0\n3\n0\n0\n9\n1\n3\n0\n0\n0\n2\n1\n1\n0\n1\n2\n2\n0\n6\n6\n10\n6\n2\n0\n0\n0\n0\n2\n11\n0\n0\n1\n2\n0\n0\n0\n0\n0\n2\n1\n0\n7\n1\n1\n2\n2\n0\n0\n5\n3\n0\n0\n6\n11\n1\n3\n3\n0\n1\n0\n0\n0\n6\n2\n0\n2\n0\n2\n0\n0\n2\n3\n1\n0\n0\n2\n0\n0\n3\n1\n0\n2\n3\n3\n3\n1\n0\n2\n3\n2\n2\n0\n0\n0\n6\n0\n0\n2\n1\n0\n7\n2\n1\n2\n0\n1\n0\n0\n0\n9\n2\n1\n2\n0\n0\n2\n0\n0\n1\n2\n1\n0\n1\n1\n2\n0\n0\n2\n0\n1\n2\n0\n2\n0\n0\n2\n0\n2\n1\n1\n1\n0\n0\n1\n1\n3\n9\n0\n0\n0\n3\n1\n1\n1\n0\n3\n0\n0\n0\n2\n0\n1\n2\n1\n0\n0\n2\n3\n3\n1\n0\n-2\n1\n0\n0\n0\n0\n0\n0\n0\n1\n0\n2\n1\n0\n0\n2\n1\n0\n0\n0\n0\n0\n2\n1\n2\n6\n0\n0\n5\n1\n0\n1\n0\n0\n0\n8\n0\n2\n1\n0\n7\n0\n9\n0\n0\n0\n1\n1\n1\n1\n0\n9\n0\n0\n0\n2\n0\n0\n2\n0\n0\n0\n0\n0\n7\n1\n2\n0\n0\n2\n2\n2\n0\n0\n2\n2\n2\n1\n1\n2\n1\n0\n1\n1\n1\n1\n0\n0\n0\n1\n1\n0\n4\n0\n0\n0\n0\n1\n2\n0\n2\n0\n0\n2\n1\n0\n7\n0\n0\n3\n0\n9\n0\n2\n0\n0\n3\n0\n0\n16\n0\n0\n0\n0\n0\n0\n8\n10\n0\n0\n2\n0\n0\n0\n0\n0\n0\n2\n3\n0\n0\n8\n0\n0\n0\n0\n0\n0\n0\n0\n0\n0\n0\n0\n0\n0\n0\n1\n0\n7\n0\n0\n0\n0\n0\n0\n0\n0\n0\n0\n2\n0\n0\n0\n1\n0\n6\n8\n0\n0\n0\n6\n0\n5\n0\n0\n0\n0\n0\n0\n0\n0\n6\n0\n1\n7\n0\n0\n0\n1\n1\n1\n0\n1\n0\n0\n-1\n0\n1\n0\n0\n6\n2\n19\n6\n0\n6\n0\n2\n1\n2\n1\n0\n1\n0\n0\n6\n0\n0\n6\n0\n0\n0\n1\n2\n0\n0\n0\n0\n0\n0\n0\n0\n2\n8\n0\n0\n0\n10\n1\n0\n0\n0\n0\n1\n0\n4\n0\n2\n1\n2\n0\n2\n-1\n-6\n-1\n-2\n-1\n1\n-2\n0\n0\n0\n1\n0\n1\n0\n0\n1\n0\n0\n6\n6\n0\n0\n7\n6\n0\n0\n2\n0\n0\n2\n0\n1\n1\n0\n0\n2\n8\n2\n0\n0\n1\n2\n0\n2\n0\n5\n1\n0\n1\n0\n-1\n0\n1\n1\n1\n1\n0\n0\n1\n0\n3\n0\n0\n0\n0\n-1\n2\n1\n0\n1\n1\n6\n0\n1\n-1\n0\n1\n0\n0\n1\n0\n0\n0\n0\n2\n5\n0\n0\n1\n0\n1\n1\n2\n0\n0\n1\n0\n0\n7\n0\n0\n0\n0\n1\n0\n0\n1\n3\n0\n0\n0\n0\n0\n0\n3\n0\n8\n6\n0\n1\n2\n2\n12\n0\n0\n0\n0\n2\n0\n0\n0\n5\n10\n2\n0\n0\n7\n2\n0\n5\n2\n1\n2\n2\n0\n0\n1\n0\n8\n9\n0\n1\n1\n3\n0\n0\n0\n0\n7\n5\n0\n0\n0\n0\n2\n9\n2\n0\n0\n11\n6\n0\n0\n3\n9\n1\n0\n8\n0\n6\n0\n1\n0\n6\n2\n0\n3\n0\n8\n0\n1\n20\n2\n1\n0\n1\n-1\n0\n0\n2\n6\n1\n2\n1\n1\n2\n0\n0\n2\n2\n2\n2\n0\n1\n0\n2\n0\n0\n2\n5\n2\n2\n1\n0\n2\n0\n1\n0\n0\n0\n2\n2\n2\n1\n0\n0\n1\n0\n0\n3\n1\n8\n9\n0\n2\n2\n0\n0\n1\n0\n1\n2\n0\n2\n0\n0\n2\n4\n2\n0\n20\n2\n0\n0\n0\n0\n0\n11\n1\n0\n0\n5\n2\n2\n2\n0\n2\n0\n0\n0\n2\n0\n0\n2\n3\n0\n0\n2\n1\n2\n0\n0\n0\n0\n1\n1\n0\n0\n0\n1\n0\n2\n0\n2\n1\n0\n0\n2\n5\n0\n0\n1\n0\n0\n1\n2\n1\n7\n0\n2\n0\n1\n1\n1\n0\n0\n7\n20\n0\n2\n1\n1\n5\n0\n9\n1\n0\n0\n2\n0\n1\n2\n0\n1\n0\n0\n0\n7\n0\n0\n1\n1\n0\n0\n0\n0\n2\n2\n2\n0\n0\n6\n2\n5\n0\n0\n2\n8\n0\n0\n0\n9\n0\n0\n0\n1\n0\n8\n0\n0\n0\n1\n0\n4\n0\n6\n0\n0\n0\n0\n2\n2\n0\n2\n0\n2\n0\n2\n0\n8\n0\n0\n2\n0\n1\n0\n3\n0\n0\n2\n0\n0\n2\n0\n0\n0\n1\n0\n0\n2\n3\n0\n0\n3\n0\n0\n0\n0\n0\n0\n3\n6\n0\n0\n9\n0\n0\n0\n0\n0\n0\n0\n0\n0\n0\n0\n0\n0\n0\n0\n1\n0\n2\n0\n0\n0\n0\n0\n0\n0\n0\n0\n7\n12\n0\n0\n0\n7\n0\n5\n6\n0\n0\n0\n12\n0\n6\n0\n1\n0\n1\n0\n1\n0\n0\n0\n0\n2\n2\n2\n0\n0\n2\n1\n0\n0\n1\n0\n0\n6\n2\n0\n0\n0\n6\n2\n6\n5\n0\n14\n1\n9\n7\n1\n0\n0\n2\n0\n14\n0\n2\n0\n2\n1\n0\n0\n1\n1\n0\n0\n0\n0\n0\n0\n0\n0\n1\n6\n1\n0\n0\n1\n7\n0\n1\n1\n0\n1\n0\n6\n0\n6\n6\n6\n0\n21\n1\n0\n2\n1\n1\n1\n0\n0\n2\n0\n2\n0\n2\n0\n1\n9\n0\n0\n0\n1\n1\n1\n1\n0\n0\n0\n0\n0\n0\n1\n1\n0\n7\n0\n0\n2\n2\n2\n0\n0\n1\n1\n0\n5\n0\n0\n6\n1\n1\n0\n0\n0\n0\n1\n6\n2\n2\n0\n6\n0\n2\n0\n0\n0\n0\n1\n8\n1\n1\n2\n2\n0\n0\n2\n1\n0\n0\n0\n0\n1\n1\n0\n2\n0\n2\n0\n3\n0\n2\n1\n0\n1\n5\n0\n0\n0\n0\n0\n1\n0\n0\n0\n0\n3\n0\n0\n3\n2\n0\n0\n0\n1\n0\n0\n2\n0\n1\n1\n0\n2\n2\n2\n2\n0\n0\n1\n0\n4\n0\n0\n0\n2\n2\n0\n1\n1\n2\n2\n0\n2\n1\n0\n1\n2\n0\n0\n1\n0\n9\n3\n0\n0\n4\n3\n0\n0\n0\n0\n2\n12\n1\n0\n2\n1\n0\n2\n2\n0\n0\n1\n2\n0\n0\n2\n1\n1\n2\n1\n0\n2\n0\n1\n0\n2\n1\n0\n2\n0\n2\n0\n0\n3\n2\n1\n0\n9\n0\n5\n0\n2\n2\n1\n2\n1\n0\n2\n2\n0\n9\n3\n2\n9\n0\n5\n0\n1\n0\n0\n2\n2\n1\n9\n2\n0\n0\n0\n2\n0\n0\n0\n2\n2\n1\n0\n0\n0\n2\n0\n0\n2\n4\n1\n9\n0\n2\n1\n0\n0\n0\n0\n2\n6\n0\n2\n0\n0\n2\n11\n2\n0\n9\n2\n0\n1\n0\n2\n0\n3\n0\n0\n0\n1\n7\n2\n3\n0\n3\n0\n0\n0\n0\n0\n0\n2\n0\n0\n0\n2\n3\n0\n0\n0\n0\n1\n0\n1\n1\n0\n0\n1\n0\n3\n0\n0\n1\n0\n0\n0\n8\n4\n0\n1\n0\n0\n0\n1\n7\n0\n13\n0\n1\n0\n1\n0\n1\n0\n5\n1\n6\n0\n2\n1\n6\n1\n0\n2\n1\n0\n0\n2\n1\n1\n2\n0\n2\n0\n0\n0\n0\n0\n0\n7\n2\n0\n0\n0\n0\n9\n1\n2\n1\n1\n2\n5\n12\n1\n0\n5\n2\n0\n0\n1\n2\n1\n0\n0\n1\n1\n2\n0\n0\n0\n0\n0\n2\n2\n7\n0\n0\n0\n0\n9\n0\n0\n6\n0\n2\n0\n2\n0\n6\n0\n0\n2\n0\n0\n1\n2\n0\n0\n2\n0\n0\n1\n0\n0\n0\n2\n0\n0\n3\n9\n0\n0\n3\n0\n0\n0\n1\n0\n0\n2\n3\n0\n0\n4\n0\n0\n0\n0\n0\n0\n0\n0\n0\n0\n0\n0\n0\n0\n0\n0\n1\n0\n0\n0\n0\n0\n0\n1\n0\n0\n1\n0\n1\n-1\n0\n0\n0\n6\n0\n1\n1\n0\n0\n1\n1\n0\n1\n0\n5\n12\n0\n6\n6\n0\n0\n0\n0\n0\n1\n5\n0\n0\n2\n1\n1\n0\n1\n0\n0\n2\n2\n1\n0\n0\n7\n2\n6\n5\n0\n8\n0\n5\n2\n2\n1\n0\n2\n0\n1\n0\n0\n0\n1\n0\n0\n0\n0\n2\n0\n1\n0\n0\n0\n0\n0\n0\n8\n4\n6\n0\n0\n1\n10\n0\n1\n1\n0\n1\n0\n2\n0\n2\n8\n2\n0\n2\n1\n0\n0\n1\n1\n1\n0\n0\n2\n0\n0\n0\n2\n0\n0\n4\n0\n6\n3\n0\n1\n0\n6\n7\n0\n0\n1\n0\n0\n0\n0\n1\n1\n0\n0\n2\n1\n2\n1\n0\n0\n1\n0\n1\n0\n6\n1\n0\n0\n0\n0\n1\n0\n0\n0\n6\n1\n0\n0\n0\n6\n0\n0\n0\n1\n0\n2\n1\n6\n4\n0\n0\n0\n9\n0\n0\n0\n0\n0\n0\n1\n0\n2\n0\n1\n0\n2\n0\n2\n0\n0\n2\n2\n0\n0\n0\n1\n0\n4\n0\n0\n0\n0\n-1\n1\n0\n1\n5\n0\n0\n0\n2\n0\n0\n0\n0\n6\n1\n0\n3\n5\n3\n7\n0\n0\n1\n0\n0\n3\n0\n0\n1\n2\n2\n0\n1\n2\n2\n0\n10\n2\n0\n2\n10\n0\n0\n0\n2\n9\n3\n0\n0\n1\n3\n0\n0\n0\n0\n8\n7\n1\n0\n0\n0\n9\n6\n2\n1\n0\n2\n2\n0\n0\n10\n0\n0\n2\n2\n0\n10\n0\n1\n0\n2\n2\n0\n8\n0\n5\n0\n0\n1\n2\n1\n0\n2\n0\n1\n0\n2\n2\n2\n2\n1\n0\n2\n2\n0\n2\n1\n2\n2\n0\n2\n0\n0\n0\n0\n2\n8\n0\n3\n1\n0\n1\n0\n2\n1\n0\n0\n3\n1\n2\n0\n0\n3\n0\n0\n0\n1\n1\n2\n2\n0\n2\n1\n0\n0\n2\n0\n11\n4\n0\n5\n0\n0\n2\n1\n0\n0\n8\n2\n0\n2\n1\n1\n1\n6\n1\n0\n0\n3\n8\n0\n2\n0\n2\n0\n0\n0\n1\n0\n1\n1\n1\n0\n0\n5\n10\n0\n3\n0\n0\n1\n0\n2\n0\n0\n0\n1\n1\n2\n0\n0\n0\n0\n0\n0\n2\n2\n0\n0\n1\n0\n0\n2\n2\n1\n2\n0\n8\n6\n0\n0\n0\n0\n2\n1\n12\n0\n2\n0\n2\n0\n0\n5\n1\n0\n0\n2\n0\n0\n8\n0\n7\n1\n0\n0\n2\n0\n0\n12\n5\n0\n0\n0\n0\n9\n1\n2\n1\n1\n1\n2\n8\n4\n0\n2\n2\n1\n0\n0\n2\n0\n0\n0\n1\n1\n1\n0\n0\n0\n0\n0\n0\n9\n0\n3\n0\n0\n0\n0\n9\n7\n0\n1\n0\n1\n0\n2\n0\n6\n0\n0\n3\n0\n2\n0\n2\n0\n0\n3\n0\n0\n11\n0\n0\n0\n2\n0\n0\n2\n1\n0\n0\n2\n0\n0\n0\n0\n1\n0\n2\n0\n0\n0\n2\n0\n0\n0\n0\n0\n0\n0\n0\n0\n0\n0\n0\n0\n0\n0\n1\n0\n0\n0\n0\n0\n0\n0\n0\n0\n0\n0\n0\n1\n2\n0\n0\n0\n0\n0\n9\n1\n0\n0\n-3\n1\n0\n0\n0\n5\n17\n0\n6\n6\n0\n0\n0\n0\n1\n1\n0\n0\n0\n0\n1\n1\n0\n2\n0\n1\n1\n1\n0\n0\n0\n7\n1\n8\n6\n0\n6\n1\n6\n2\n2\n1\n0\n2\n0\n0\n2\n0\n0\n2\n0\n0\n0\n0\n1\n0\n0\n0\n0\n0\n1\n0\n0\n1\n0\n1\n0\n0\n0\n1\n0\n6\n5\n5\n0\n0\n1\n0\n1\n1\n0\n0\n3\n0\n3\n0\n1\n1\n7\n0\n0\n1\n0\n1\n1\n1\n0\n0\n6\n0\n1\n0\n0\n1\n1\n1\n0\n0\n0\n1\n7\n0\n0\n0\n0\n0\n0\n0\n2\n2\n2\n0\n0\n1\n1\n0\n1\n0\n1\n0\n1\n6\n0\n0\n6\n5\n0\n8\n1\n1\n0\n1\n0\n0\n1\n0\n0\n1\n0\n1\n1\n1\n2\n0\n2\n0\n1\n0\n0\n0\n0\n0\n1\n6\n0\n2\n0\n1\n0\n1\n0\n1\n14\n6\n8\n3\n0\n0\n0\n1\n0\n0\n0\n0\n0\n1\n2\n2\n0\n1\n5\n0\n0\n0\n2\n0\n1\n1\n0\n3\n0\n0\n3\n2\n3\n2\n0\n0\n0\n0\n1\n8\n0\n0\n7\n2\n5\n0\n1\n2\n2\n0\n2\n2\n0\n2\n2\n0\n0\n0\n0\n3\n3\n0\n0\n4\n3\n0\n0\n0\n0\n0\n9\n3\n0\n0\n0\n1\n3\n2\n1\n0\n2\n7\n0\n10\n0\n2\n1\n2\n0\n0\n2\n0\n1\n0\n5\n2\n0\n2\n0\n0\n0\n0\n8\n2\n1\n0\n2\n0\n2\n0\n1\n3\n0\n2\n10\n0\n2\n3\n0\n13\n2\n2\n5\n0\n2\n0\n2\n0\n0\n0\n13\n1\n5\n7\n0\n2\n0\n1\n2\n0\n0\n2\n0\n2\n0\n0\n2\n0\n0\n6\n1\n0\n1\n4\n0\n2\n5\n1\n0\n1\n0\n2\n10\n0\n5\n0\n0\n2\n2\n0\n0\n2\n7\n0\n1\n0\n0\n4\n3\n4\n0\n0\n1\n0\n0\n3\n0\n0\n0\n0\n0\n0\n0\n1\n0\n1\n0\n0\n2\n1\n1\n1\n0\n2\n1\n0\n0\n0\n1\n0\n0\n0\n0\n0\n0\n0\n0\n0\n0\n0\n5\n12\n0\n0\n1\n0\n0\n2\n0\n0\n7\n0\n6\n7\n0\n0\n1\n0\n2\n1\n12\n0\n9\n1\n2\n1\n0\n11\n5\n0\n0\n5\n6\n1\n2\n0\n6\n2\n1\n0\n6\n0\n1\n2\n0\n0\n0\n0\n0\n7\n5\n1\n0\n0\n1\n2\n2\n1\n0\n2\n2\n0\n0\n5\n2\n4\n0\n0\n0\n1\n0\n0\n0\n0\n1\n0\n0\n3\n0\n2\n0\n0\n0\n0\n1\n0\n0\n3\n0\n8\n0\n2\n0\n2\n0\n0\n-1\n0\n1\n0\n1\n0\n0\n4\n0\n0\n1\n0\n0\n0\n2\n0\n0\n2\n2\n0\n0\n3\n0\n0\n0\n0\n0\n0\n0\n3\n0\n0\n1\n0\n0\n0\n1\n0\n0\n0\n0\n0\n10\n0\n0\n0\n0\n4\n0\n1\n0\n0\n0\n0\n0\n0\n0\n0\n0\n0\n0\n0\n1\n0\n0\n0\n8\n0\n1\n1\n0\n0\n0\n0\n0\n0\n0\n1\n1\n0\n0\n1\n0\n0\n0\n0\n0\n1\n2\n0\n0\n1\n6\n8\n1\n0\n4\n6\n1\n1\n1\n0\n0\n7\n0\n2\n2\n0\n2\n0\n2\n10\n17\n0\n0\n2\n0\n1\n1\n0\n0\n1\n0\n0\n0\n0\n8\n0\n0\n0\n0\n0\n0\n0\n0\n0\n1\n1\n0\n0\n0\n1\n0\n1\n1\n1\n0\n0\n1\n0\n1\n4\n1\n0\n2\n0\n2\n1\n2\n2\n7\n0\n0\n0\n1\n4\n0\n1\n0\n0\n1\n0\n1\n0\n1\n1\n2\n1\n0\n0\n0\n14\n6\n1\n0\n6\n0\n7\n0\n0\n10\n2\n2\n0\n0\n0\n0\n2\n2\n0\n0\n0\n0\n7\n1\n0\n1\n1\n0\n0\n2\n0\n0\n1\n0\n1\n0\n0\n0\n2\n1\n7\n0\n2\n4\n0\n0\n0\n2\n0\n0\n1\n0\n0\n0\n0\n0\n6\n0\n2\n2\n1\n0\n2\n2\n9\n4\n2\n0\n0\n0\n1\n0\n2\n0\n0\n0\n2\n2\n0\n0\n2\n2\n0\n0\n0\n5\n0\n1\n1\n0\n1\n2\n0\n2\n0\n2\n1\n2\n0\n1\n0\n2\n1\n0\n0\n11\n3\n3\n0\n6\n3\n3\n0\n8\n1\n0\n0\n2\n0\n0\n0\n1\n2\n2\n0\n1\n0\n2\n0\n0\n0\n0\n3\n2\n3\n0\n1\n0\n0\n2\n2\n0\n0\n7\n10\n0\n2\n1\n5\n1\n1\n1\n0\n2\n0\n1\n2\n2\n1\n0\n2\n0\n0\n0\n0\n2\n5\n4\n0\n9\n0\n2\n0\n1\n5\n0\n4\n8\n0\n0\n2\n0\n1\n3\n0\n9\n0\n0\n0\n5\n0\n0\n0\n10\n0\n15\n1\n0\n1\n0\n7\n2\n0\n0\n2\n0\n3\n0\n0\n6\n1\n0\n3\n3\n0\n0\n3\n0\n3\n3\n0\n0\n5\n0\n2\n2\n0\n2\n0\n0\n1\n4\n0\n1\n2\n2\n0\n5\n1\n2\n1\n2\n1\n0\n0\n2\n2\n0\n2\n0\n0\n0\n0\n0\n0\n0\n2\n0\n5\n0\n0\n2\n12\n2\n1\n0\n2\n0\n0\n1\n0\n7\n0\n0\n0\n1\n0\n0\n1\n0\n0\n0\n0\n0\n0\n0\n0\n13\n2\n0\n0\n0\n0\n0\n2\n0\n2\n9\n0\n2\n2\n0\n2\n1\n0\n0\n2\n6\n11\n2\n1\n0\n2\n0\n5\n1\n0\n0\n8\n0\n0\n2\n0\n9\n1\n1\n0\n2\n0\n0\n2\n1\n0\n0\n0\n0\n5\n2\n2\n0\n0\n1\n1\n0\n0\n0\n2\n2\n0\n1\n1\n1\n1\n0\n0\n0\n0\n2\n0\n0\n0\n1\n0\n0\n3\n0\n3\n0\n0\n0\n0\n1\n3\n0\n2\n0\n8\n0\n0\n0\n6\n0\n0\n0\n0\n2\n0\n3\n0\n0\n10\n0\n0\n2\n0\n0\n0\n2\n0\n0\n2\n2\n0\n0\n7\n0\n0\n0\n0\n0\n0\n0\n1\n0\n0\n2\n0\n0\n0\n1\n0\n0\n0\n0\n0\n2\n0\n0\n0\n0\n0\n0\n2\n0\n0\n0\n0\n0\n0\n0\n6\n0\n0\n0\n1\n1\n0\n0\n0\n2\n0\n0\n2\n0\n2\n1\n2\n0\n9\n0\n0\n0\n0\n0\n0\n0\n0\n0\n0\n2\n0\n0\n2\n0\n2\n1\n6\n-2\n0\n0\n6\n0\n0\n6\n0\n0\n7\n2\n0\n12\n6\n5\n0\n1\n3\n1\n1\n0\n4\n0\n2\n0\n0\n0\n0\n2\n0\n0\n2\n2\n1\n0\n0\n0\n0\n0\n0\n0\n0\n6\n6\n12\n0\n0\n6\n0\n1\n1\n1\n0\n0\n1\n0\n1\n1\n1\n0\n1\n0\n8\n0\n2\n2\n0\n1\n0\n0\n1\n1\n0\n1\n0\n0\n5\n0\n0\n0\n0\n1\n1\n1\n0\n0\n0\n0\n1\n0\n0\n1\n0\n1\n0\n0\n6\n6\n7\n1\n0\n0\n6\n0\n1\n4\n0\n2\n0\n1\n0\n0\n1\n0\n0\n0\n2\n0\n0\n2\n0\n0\n0\n0\n0\n2\n8\n6\n0\n6\n0\n1\n0\n1\n0\n0\n0\n0\n1\n0\n0\n0\n0\n5\n0\n2\n2\n2\n0\n0\n1\n2\n0\n2\n0\n0\n0\n0\n1\n1\n0\n0\n0\n0\n2\n0\n0\n2\n1\n0\n0\n0\n1\n0\n0\n1\n0\n2\n6\n0\n4\n0\n2\n2\n0\n0\n1\n0\n1\n2\n1\n0\n3\n2\n1\n0\n10\n5\n3\n0\n6\n2\n4\n0\n1\n0\n0\n0\n1\n10\n3\n0\n0\n0\n2\n0\n0\n0\n1\n0\n15\n0\n7\n2\n0\n0\n1\n8\n2\n0\n3\n3\n0\n6\n7\n9\n1\n3\n0\n0\n0\n0\n2\n0\n2\n2\n0\n1\n0\n2\n0\n0\n1\n3\n1\n0\n9\n0\n3\n0\n1\n2\n1\n2\n2\n0\n5\n1\n0\n2\n2\n2\n5\n0\n0\n0\n2\n0\n0\n1\n2\n1\n9\n2\n0\n1\n0\n2\n0\n0\n0\n1\n0\n2\n0\n0\n2\n0\n1\n0\n2\n0\n1\n2\n0\n1\n2\n0\n0\n2\n0\n3\n8\n0\n3\n0\n0\n11\n1\n0\n2\n2\n1\n0\n1\n0\n1\n9\n3\n0\n0\n0\n6\n8\n0\n1\n0\n1\n0\n0\n0\n1\n0\n1\n2\n3\n0\n0\n8\n2\n1\n0\n0\n8\n1\n0\n1\n0\n2\n0\n4\n0\n2\n0\n0\n0\n0\n0\n0\n0\n0\n0\n0\n0\n1\n2\n7\n0\n0\n0\n0\n0\n2\n0\n1\n1\n0\n1\n1\n0\n0\n0\n0\n0\n1\n5\n0\n4\n13\n0\n13\n0\n13\n2\n0\n0\n8\n0\n1\n1\n0\n9\n0\n5\n0\n2\n0\n2\n2\n1\n1\n0\n0\n0\n2\n1\n2\n0\n1\n1\n2\n12\n1\n0\n1\n2\n5\n1\n2\n9\n1\n0\n0\n1\n5\n2\n0\n0\n0\n0\n0\n0\n3\n0\n2\n0\n0\n0\n0\n0\n1\n0\n2\n0\n10\n0\n3\n0\n2\n0\n0\n6\n0\n2\n0\n2\n0\n0\n3\n0\n0\n1\n0\n0\n0\n2\n0\n0\n6\n6\n0\n0\n1\n0\n0\n0\n0\n0\n0\n0\n3\n0\n0\n3\n0\n0\n0\n0\n0\n0\n0\n0\n0\n1\n0\n0\n0\n0\n0\n0\n5\n2\n2\n0\n0\n0\n0\n0\n0\n0\n0\n0\n0\n0\n0\n0\n0\n0\n0\n0\n1\n0\n1\n1\n0\n0\n1\n0\n0\n0\n-1\n0\n0\n0\n0\n0\n0\n1\n0\n0\n1\n0\n3\n0\n5\n0\n0\n0\n8\n1\n0\n2\n0\n1\n1\n2\n2\n8\n0\n2\n0\n6\n1\n6\n5\n0\n1\n0\n0\n0\n0\n0\n0\n7\n0\n0\n1\n2\n2\n0\n0\n0\n0\n0\n0\n1\n0\n9\n2\n2\n0\n0\n1\n0\n1\n1\n4\n1\n0\n9\n0\n2\n14\n1\n0\n2\n0\n1\n0\n1\n4\n-1\n0\n0\n0\n11\n6\n0\n6\n0\n0\n6\n0\n0\n6\n6\n0\n5\n5\n0\n0\n0\n0\n7\n0\n0\n1\n0\n1\n0\n0\n1\n4\n1\n0\n0\n1\n1\n0\n1\n1\n0\n1\n0\n0\n0\n0\n3\n1\n1\n1\n1\n2\n0\n0\n0\n2\n1\n0\n0\n0\n1\n2\n8\n1\n6\n1\n0\n0\n0\n0\n0\n0\n0\n0\n0\n0\n0\n0\n2\n0\n2\n2\n2\n0\n1\n0\n6\n2\n1\n0\n0\n0\n0\n0\n2\n1\n0\n0\n0\n7\n0\n0\n5\n2\n0\n0\n0\n1\n0\n1\n2\n0\n2\n2\n0\n2\n0\n2\n2\n0\n0\n1\n0\n0\n2\n0\n0\n2\n3\n3\n0\n1\n3\n3\n0\n6\n2\n1\n2\n4\n0\n0\n1\n2\n9\n1\n0\n1\n0\n2\n0\n0\n0\n0\n13\n0\n8\n1\n0\n14\n0\n7\n0\n3\n0\n2\n1\n0\n4\n1\n2\n0\n2\n1\n0\n10\n0\n2\n0\n5\n2\n0\n0\n0\n2\n0\n0\n0\n2\n0\n0\n9\n4\n2\n2\n2\n2\n0\n2\n1\n0\n9\n0\n0\n2\n1\n2\n1\n0\n0\n0\n1\n0\n0\n0\n12\n0\n9\n8\n0\n0\n0\n8\n2\n0\n1\n2\n3\n0\n0\n0\n2\n1\n0\n2\n2\n0\n0\n1\n0\n2\n2\n0\n0\n5\n0\n2\n2\n0\n2\n0\n0\n2\n5\n0\n1\n2\n9\n0\n2\n0\n0\n2\n2\n0\n0\n0\n2\n1\n0\n2\n0\n1\n0\n0\n0\n12\n1\n0\n0\n2\n0\n0\n2\n0\n0\n1\n0\n2\n5\n1\n0\n1\n3\n0\n1\n0\n2\n1\n0\n0\n0\n0\n0\n0\n0\n0\n0\n0\n1\n1\n0\n12\n0\n0\n0\n1\n0\n0\n2\n0\n2\n2\n0\n0\n2\n1\n0\n1\n0\n0\n12\n13\n10\n2\n0\n0\n2\n0\n9\n0\n0\n0\n2\n1\n0\n2\n0\n8\n0\n2\n0\n16\n0\n2\n2\n1\n0\n0\n0\n0\n5\n13\n1\n0\n1\n2\n1\n2\n1\n0\n1\n2\n1\n0\n1\n8\n7\n1\n0\n0\n4\n0\n0\n0\n0\n0\n0\n0\n0\n2\n0\n3\n0\n0\n0\n0\n6\n1\n0\n2\n0\n8\n0\n5\n0\n2\n0\n0\n6\n0\n6\n0\n3\n0\n0\n3\n0\n0\n0\n0\n0\n0\n3\n0\n0\n3\n2\n0\n0\n2\n0\n0\n0\n0\n0\n0\n0\n6\n0\n0\n10\n0\n0\n0\n0\n0\n0\n0\n0\n0\n5\n0\n0\n0\n0\n0\n0\n0\n0\n1\n0\n0\n0\n0\n0\n0\n0\n0\n0\n0\n1\n2\n1\n0\n0\n2\n0\n0\n0\n0\n6\n7\n0\n0\n6\n0\n6\n6\n0\n6\n0\n0\n0\n0\n2\n2\n0\n2\n0\n0\n4\n0\n5\n0\n0\n2\n2\n1\n2\n2\n2\n5\n2\n2\n2\n2\n0\n3\n0\n1\n6\n7\n8\n0\n0\n0\n6\n5\n0\n1\n0\n8\n0\n0\n0\n-1\n2\n0\n0\n0\n0\n0\n0\n2\n0\n2\n2\n2\n0\n0\n0\n0\n2\n2\n2\n0\n0\n6\n0\n6\n6\n6\n0\n11\n0\n2\n0\n2\n2\n0\n0\n0\n0\n10\n1\n0\n1\n0\n1\n2\n0\n0\n1\n0\n1\n1\n1\n0\n0\n0\n6\n6\n0\n0\n6\n1\n8\n0\n0\n1\n0\n1\n0\n0\n0\n0\n0\n7\n0\n0\n0\n0\n0\n6\n8\n0\n2\n1\n1\n2\n1\n0\n2\n0\n2\n0\n0\n0\n2\n2\n2\n0\n0\n0\n0\n0\n0\n0\n0\n0\n0\n0\n0\n0\n0\n0\n0\n0\n0\n0\n0\n1\n0\n2\n0\n2\n0\n2\n0\n0\n2\n2\n0\n0\n0\n2\n0\n8\n0\n0\n0\n2\n1\n0\n0\n0\n3\n0\n0\n0\n2\n0\n7\n8\n0\n3\n0\n0\n3\n8\n3\n3\n0\n0\n1\n0\n3\n2\n0\n0\n8\n2\n0\n1\n0\n2\n2\n0\n1\n0\n3\n0\n1\n0\n0\n1\n0\n2\n1\n0\n0\n1\n4\n0\n0\n0\n0\n16\n6\n1\n3\n0\n0\n0\n2\n1\n2\n0\n10\n19\n0\n1\n1\n0\n4\n2\n2\n0\n2\n0\n2\n1\n5\n2\n0\n0\n0\n2\n0\n0\n0\n0\n2\n0\n0\n2\n2\n1\n5\n1\n1\n2\n1\n0\n1\n1\n0\n15\n2\n1\n2\n0\n1\n0\n1\n0\n0\n1\n2\n4\n2\n8\n0\n1\n0\n2\n4\n0\n0\n2\n0\n1\n0\n0\n2\n0\n1\n3\n0\n0\n1\n2\n0\n3\n3\n1\n0\n6\n0\n2\n1\n0\n10\n0\n0\n1\n2\n0\n0\n3\n0\n0\n2\n0\n0\n2\n2\n0\n0\n0\n2\n1\n0\n1\n1\n3\n0\n0\n0\n2\n0\n1\n2\n0\n0\n0\n0\n0\n0\n0\n0\n2\n1\n1\n0\n0\n2\n0\n0\n0\n1\n1\n0\n1\n0\n0\n0\n0\n0\n0\n0\n0\n0\n0\n0\n0\n1\n2\n0\n0\n1\n0\n0\n0\n0\n2\n1\n2\n0\n2\n9\n0\n0\n1\n0\n0\n2\n5\n1\n2\n4\n0\n5\n0\n2\n8\n1\n0\n9\n0\n0\n5\n0\n2\n0\n2\n0\n1\n0\n2\n2\n1\n0\n0\n0\n0\n5\n2\n2\n0\n1\n1\n9\n2\n1\n0\n1\n2\n0\n1\n1\n6\n2\n0\n0\n0\n1\n0\n0\n0\n0\n1\n0\n0\n1\n6\n0\n2\n0\n0\n0\n0\n7\n2\n0\n6\n0\n2\n0\n6\n0\n5\n0\n0\n0\n0\n2\n0\n1\n0\n0\n8\n0\n0\n1\n0\n0\n0\n3\n0\n0\n0\n11\n0\n0\n4\n0\n0\n0\n0\n0\n0\n0\n12\n0\n0\n2\n0\n0\n0\n0\n0\n0\n0\n0\n0\n0\n0\n0\n0\n0\n0\n0\n0\n0\n6\n0\n0\n0\n0\n0\n0\n0\n0\n0\n1\n0\n1\n0\n0\n0\n2\n0\n0\n0\n0\n2\n1\n0\n0\n1\n0\n6\n6\n0\n6\n7\n0\n0\n11\n5\n6\n9\n0\n0\n0\n1\n2\n2\n0\n0\n0\n2\n9\n6\n1\n0\n0\n1\n1\n1\n1\n0\n0\n0\n0\n0\n0\n0\n0\n0\n0\n2\n5\n6\n0\n0\n2\n0\n0\n0\n1\n0\n0\n0\n0\n0\n0\n0\n5\n1\n6\n8\n6\n6\n0\n0\n0\n0\n1\n1\n0\n0\n5\n0\n7\n6\n6\n0\n6\n0\n2\n0\n2\n10\n1\n0\n0\n0\n1\n0\n1\n1\n0\n0\n1\n0\n0\n11\n0\n6\n6\n5\n0\n0\n0\n0\n0\n0\n0\n0\n0\n0\n0\n0\n4\n1\n2\n0\n0\n0\n7\n0\n5\n0\n0\n0\n0\n0\n2\n0\n0\n0\n1\n1\n5\n8\n0\n2\n0\n6\n0\n0\n0\n2\n2\n0\n0\n1\n6\n0\n0\n0\n7\n0\n0\n0\n0\n0\n0\n0\n0\n0\n0\n0\n0\n0\n0\n0\n1\n3\n3\n0\n0\n1\n8\n1\n1\n0\n0\n0\n0\n0\n1\n0\n0\n0\n0\n2\n0\n0\n2\n2\n0\n0\n0\n1\n0\n2\n2\n0\n2\n1\n0\n2\n5\n3\n16\n0\n0\n0\n0\n1\n3\n0\n0\n2\n2\n0\n1\n0\n2\n2\n0\n3\n2\n0\n0\n2\n0\n0\n2\n0\n2\n5\n0\n1\n1\n1\n0\n0\n0\n0\n0\n0\n0\n0\n0\n0\n0\n0\n0\n0\n0\n5\n4\n0\n8\n2\n0\n1\n2\n8\n1\n2\n0\n2\n1\n1\n2\n0\n0\n0\n2\n0\n0\n2\n10\n0\n0\n3\n1\n3\n1\n4\n1\n0\n2\n10\n0\n2\n2\n0\n0\n3\n2\n4\n0\n2\n0\n2\n0\n0\n1\n-1\n1\n1\n2\n0\n0\n0\n1\n1\n0\n0\n2\n1\n3\n0\n0\n2\n1\n0\n0\n0\n0\n0\n0\n0\n0\n0\n0\n0\n0\n0\n2\n4\n0\n2\n0\n0\n2\n1\n0\n1\n0\n5\n0\n0\n1\n1\n1\n2\n0\n0\n0\n3\n1\n0\n2\n1\n5\n0\n0\n0\n0\n3\n0\n2\n0\n0\n0\n0\n0\n0\n0\n0\n2\n1\n1\n0\n0\n13\n0\n1\n0\n0\n0\n0\n2\n0\n0\n0\n0\n0\n0\n0\n0\n0\n0\n0\n0\n3\n0\n2\n1\n0\n0\n1\n0\n0\n1\n2\n1\n1\n0\n1\n2\n0\n0\n2\n0\n2\n2\n9\n0\n0\n0\n1\n6\n0\n2\n1\n0\n0\n2\n1\n0\n1\n0\n13\n1\n5\n0\n2\n0\n6\n2\n0\n1\n0\n0\n0\n7\n2\n2\n0\n1\n8\n0\n2\n1\n0\n2\n2\n1\n1\n8\n2\n2\n0\n0\n0\n2\n1\n0\n0\n0\n1\n0\n0\n0\n0\n3\n0\n2\n0\n0\n0\n0\n3\n10\n0\n1\n0\n2\n0\n6\n0\n0\n0\n0\n6\n0\n-3\n2\n2\n0\n0\n2\n0\n0\n2\n0\n0\n0\n7\n0\n0\n3\n3\n0\n0\n6\n0\n0\n0\n0\n0\n0\n1\n2\n0\n0\n2\n0\n0\n0\n0\n0\n0\n0\n0\n0\n0\n0\n0\n0\n0\n0\n0\n1\n0\n0\n1\n2\n0\n0\n0\n0\n0\n6\n0\n0\n6\n1\n0\n1\n0\n0\n0\n0\n2\n0\n0\n1\n0\n0\n0\n0\n2\n2\n2\n0\n2\n2\n1\n0\n0\n1\n1\n2\n1\n0\n0\n6\n2\n2\n2\n0\n0\n2\n6\n7\n0\n6\n0\n0\n2\n0\n0\n0\n0\n0\n7\n24\n6\n5\n0\n0\n0\n1\n1\n8\n0\n0\n0\n0\n0\n0\n2\n2\n0\n0\n0\n0\n0\n0\n-1\n0\n0\n0\n0\n0\n0\n0\n0\n0\n3\n2\n0\n2\n2\n0\n2\n6\n2\n0\n2\n0\n5\n0\n8\n6\n6\n0\n0\n0\n2\n2\n0\n1\n0\n0\n5\n0\n0\n2\n0\n2\n2\n1\n0\n0\n0\n0\n1\n0\n0\n0\n0\n1\n0\n0\n8\n1\n1\n1\n0\n1\n1\n0\n2\n0\n1\n0\n0\n0\n8\n0\n6\n2\n0\n0\n1\n0\n0\n0\n0\n6\n0\n0\n0\n9\n10\n0\n0\n0\n12\n0\n0\n1\n0\n0\n0\n0\n0\n0\n1\n0\n0\n0\n0\n0\n0\n0\n0\n2\n0\n0\n2\n1\n0\n0\n8\n6\n3\n0\n0\n0\n0\n1\n1\n4\n0\n0\n0\n1\n0\n0\n0\n2\n2\n0\n0\n0\n1\n0\n8\n1\n1\n2\n3\n0\n0\n2\n2\n2\n1\n0\n2\n0\n1\n1\n0\n0\n2\n2\n0\n2\n0\n2\n9\n0\n3\n3\n3\n1\n1\n0\n0\n1\n0\n1\n1\n0\n1\n0\n2\n0\n0\n0\n1\n3\n6\n0\n0\n1\n3\n0\n3\n3\n6\n0\n10\n5\n0\n1\n2\n0\n0\n2\n1\n1\n15\n0\n1\n1\n0\n2\n0\n4\n0\n0\n0\n0\n1\n2\n1\n0\n0\n2\n0\n1\n2\n1\n1\n2\n2\n0\n1\n1\n0\n2\n10\n8\n3\n0\n3\n0\n6\n0\n0\n1\n0\n1\n8\n1\n0\n1\n0\n1\n1\n0\n0\n0\n1\n2\n0\n0\n2\n6\n0\n5\n1\n1\n0\n8\n0\n2\n2\n0\n0\n1\n0\n5\n2\n0\n13\n0\n0\n2\n1\n0\n0\n1\n0\n0\n0\n0\n0\n2\n2\n0\n0\n0\n1\n3\n0\n2\n0\n1\n0\n0\n0\n1\n5\n1\n1\n0\n0\n0\n0\n1\n0\n0\n0\n2\n2\n0\n1\n1\n1\n0\n1\n0\n2\n1\n7\n2\n0\n0\n0\n0\n0\n0\n0\n0\n0\n0\n0\n0\n0\n0\n7\n1\n0\n0\n0\n0\n0\n1\n2\n0\n1\n0\n1\n2\n0\n0\n0\n4\n0\n7\n2\n0\n12\n1\n1\n0\n0\n6\n8\n0\n0\n1\n0\n0\n2\n0\n1\n8\n0\n0\n8\n0\n2\n5\n1\n0\n0\n0\n0\n11\n2\n1\n0\n2\n2\n2\n2\n0\n0\n5\n12\n0\n1\n2\n1\n0\n0\n0\n1\n0\n2\n0\n0\n0\n1\n0\n0\n0\n0\n1\n0\n6\n0\n0\n0\n0\n1\n2\n0\n2\n0\n3\n0\n3\n0\n3\n0\n0\n6\n0\n0\n6\n6\n0\n0\n3\n0\n0\n1\n0\n0\n0\n2\n0\n0\n1\n6\n0\n8\n2\n0\n0\n0\n0\n0\n0\n0\n1\n0\n0\n2\n0\n0\n0\n0\n0\n0\n0\n0\n0\n0\n0\n0\n0\n0\n0\n0\n1\n0\n0\n0\n0\n0\n0\n0\n0\n0\n1\n0\n0\n1\n6\n6\n0\n0\n0\n8\n0\n0\n0\n0\n1\n0\n0\n0\n1\n0\n0\n1\n0\n0\n0\n0\n0\n0\n1\n2\n0\n1\n0\n0\n0\n0\n10\n2\n0\n0\n2\n0\n1\n2\n1\n2\n0\n8\n0\n2\n2\n0\n2\n6\n8\n6\n8\n0\n0\n0\n6\n0\n1\n7\n0\n0\n0\n0\n6\n7\n1\n0\n0\n0\n0\n0\n0\n7\n1\n1\n0\n0\n1\n0\n0\n0\n0\n1\n1\n0\n1\n0\n0\n1\n1\n1\n0\n0\n0\n2\n0\n2\n2\n2\n0\n0\n0\n1\n0\n0\n1\n0\n1\n-1\n0\n0\n6\n1\n-2\n6\n8\n0\n0\n0\n0\n0\n0\n0\n1\n0\n1\n0\n0\n0\n2\n2\n2\n0\n2\n1\n2\n1\n2\n1\n0\n0\n0\n1\n0\n1\n0\n0\n0\n2\n4\n0\n6\n0\n2\n0\n0\n0\n2\n0\n1\n0\n0\n2\n0\n0\n0\n1\n0\n0\n0\n6\n0\n0\n5\n0\n0\n0\n0\n0\n0\n0\n1\n0\n3\n0\n0\n0\n1\n0\n1\n2\n1\n1\n0\n0\n0\n0\n2\n1\n0\n8\n0\n0\n3\n3\n0\n0\n1\n1\n0\n2\n0\n1\n0\n2\n0\n1\n1\n1\n0\n1\n2\n2\n7\n0\n0\n1\n0\n5\n1\n0\n0\n2\n5\n0\n2\n0\n1\n1\n0\n6\n7\n0\n2\n1\n0\n0\n2\n0\n1\n1\n0\n2\n5\n1\n0\n0\n2\n1\n3\n11\n0\n0\n5\n1\n0\n3\n3\n1\n0\n3\n14\n0\n6\n2\n0\n1\n3\n1\n0\n8\n0\n0\n0\n6\n2\n0\n6\n3\n0\n0\n0\n10\n2\n1\n0\n2\n1\n1\n7\n6\n2\n2\n1\n1\n0\n2\n1\n0\n2\n2\n2\n1\n0\n1\n0\n2\n0\n0\n0\n0\n9\n2\n3\n1\n0\n0\n0\n0\n0\n0\n6\n0\n1\n0\n0\n6\n1\n0\n1\n6\n2\n0\n1\n0\n1\n0\n2\n0\n10\n0\n1\n2\n0\n1\n0\n0\n1\n7\n0\n0\n0\n2\n0\n1\n0\n2\n3\n0\n1\n0\n0\n4\n0\n0\n2\n0\n1\n0\n0\n0\n1\n2\n1\n0\n0\n0\n0\n0\n2\n0\n2\n0\n11\n0\n2\n2\n2\n7\n0\n2\n0\n1\n2\n0\n2\n0\n0\n0\n0\n0\n0\n0\n0\n0\n0\n0\n0\n0\n0\n0\n9\n1\n0\n1\n1\n0\n0\n1\n2\n2\n2\n0\n2\n2\n0\n0\n0\n0\n0\n12\n0\n6\n2\n1\n8\n1\n0\n9\n0\n0\n0\n2\n0\n1\n1\n0\n9\n0\n0\n0\n8\n0\n12\n2\n0\n0\n0\n0\n0\n1\n2\n2\n0\n2\n1\n1\n7\n0\n0\n1\n2\n0\n2\n1\n5\n0\n0\n0\n1\n5\n0\n0\n0\n0\n1\n0\n0\n0\n0\n0\n9\n1\n3\n0\n0\n0\n0\n2\n2\n0\n3\n0\n3\n0\n2\n0\n6\n0\n0\n6\n0\n0\n2\n1\n0\n0\n3\n0\n0\n2\n0\n0\n0\n8\n0\n0\n2\n2\n0\n6\n1\n0\n0\n0\n0\n0\n0\n0\n2\n0\n0\n1\n0\n0\n0\n0\n0\n0\n0\n0\n0\n0\n0\n0\n0\n0\n0\n0\n0\n0\n5\n6\n15\n0\n0\n0\n0\n0\n0\n0\n1\n2\n0\n2\n8\n0\n0\n4\n0\n0\n0\n0\n0\n0\n0\n0\n-1\n1\n1\n0\n0\n1\n1\n0\n0\n0\n2\n11\n6\n0\n0\n0\n1\n0\n2\n1\n0\n0\n2\n1\n0\n0\n0\n0\n6\n1\n6\n6\n8\n8\n1\n12\n6\n7\n6\n0\n0\n0\n0\n2\n0\n0\n0\n0\n0\n0\n0\n1\n1\n0\n0\n0\n0\n0\n0\n1\n1\n0\n0\n0\n1\n0\n0\n0\n0\n1\n1\n0\n1\n1\n0\n1\n1\n1\n0\n1\n0\n6\n0\n5\n11\n0\n0\n0\n0\n2\n2\n0\n0\n0\n0\n1\n0\n1\n-1\n1\n0\n1\n2\n0\n0\n0\n5\n6\n1\n0\n11\n0\n6\n0\n0\n1\n0\n1\n0\n0\n1\n1\n0\n1\n0\n1\n0\n0\n2\n0\n0\n2\n2\n0\n2\n1\n0\n0\n1\n0\n1\n0\n0\n0\n6\n2\n0\n0\n1\n3\n0\n2\n1\n0\n0\n0\n0\n2\n0\n0\n0\n0\n0\n0\n0\n0\n0\n0\n0\n0\n0\n3\n0\n0\n3\n3\n0\n1\n1\n13\n0\n0\n0\n0\n0\n0\n0\n0\n8\n0\n0\n1\n2\n0\n0\n0\n1\n0\n1\n0\n1\n0\n2\n2\n1\n2\n1\n0\n0\n6\n2\n2\n0\n0\n1\n0\n2\n2\n0\n0\n5\n2\n0\n1\n0\n2\n1\n0\n7\n2\n0\n4\n1\n0\n0\n2\n0\n11\n0\n0\n0\n1\n6\n0\n0\n0\n6\n10\n8\n0\n0\n1\n0\n0\n3\n3\n3\n0\n1\n2\n0\n5\n0\n1\n2\n3\n6\n0\n2\n0\n1\n1\n1\n2\n0\n1\n2\n0\n0\n0\n13\n2\n0\n0\n1\n1\n2\n2\n8\n1\n0\n2\n10\n0\n1\n0\n0\n2\n2\n3\n2\n0\n3\n0\n3\n0\n0\n1\n0\n1\n2\n2\n1\n0\n0\n1\n0\n0\n0\n9\n1\n0\n0\n0\n2\n2\n0\n0\n8\n1\n0\n6\n0\n7\n16\n0\n0\n3\n0\n1\n6\n0\n2\n0\n0\n2\n2\n0\n0\n3\n0\n0\n0\n0\n1\n2\n2\n0\n0\n0\n3\n3\n0\n7\n0\n0\n0\n0\n0\n9\n1\n0\n2\n0\n0\n0\n0\n1\n0\n0\n0\n2\n0\n1\n2\n2\n5\n0\n6\n0\n2\n2\n0\n0\n1\n0\n0\n0\n0\n0\n0\n0\n0\n0\n0\n0\n0\n1\n0\n0\n2\n2\n0\n1\n0\n0\n0\n2\n0\n2\n2\n0\n1\n7\n0\n0\n0\n7\n0\n1\n0\n2\n2\n1\n0\n13\n0\n2\n1\n2\n0\n2\n0\n1\n2\n0\n9\n1\n1\n0\n2\n0\n1\n12\n0\n0\n0\n0\n0\n2\n1\n6\n0\n0\n1\n6\n5\n0\n0\n2\n2\n0\n1\n1\n1\n0\n0\n0\n0\n0\n1\n0\n1\n0\n0\n0\n0\n0\n0\n0\n2\n0\n3\n0\n0\n0\n1\n2\n0\n0\n6\n0\n3\n0\n5\n0\n4\n0\n0\n9\n0\n2\n0\n7\n0\n0\n2\n0\n0\n0\n0\n0\n0\n3\n0\n0\n3\n6\n0\n1\n2\n0\n0\n0\n0\n0\n0\n0\n6\n0\n0\n0\n0\n0\n0\n0\n0\n0\n0\n0\n0\n2\n0\n0\n0\n0\n0\n0\n0\n0\n2\n1\n2\n0\n0\n0\n0\n0\n-1\n0\n-1\n-1\n1\n2\n2\n0\n0\n2\n0\n1\n1\n0\n0\n1\n0\n0\n0\n0\n1\n1\n1\n0\n1\n0\n0\n0\n6\n12\n2\n0\n6\n0\n6\n0\n1\n0\n0\n0\n2\n12\n1\n6\n1\n0\n1\n6\n1\n1\n0\n1\n0\n6\n6\n6\n6\n0\n0\n0\n0\n2\n1\n0\n2\n1\n0\n0\n0\n6\n0\n0\n0\n0\n0\n0\n0\n0\n0\n2\n1\n0\n2\n0\n2\n0\n0\n0\n0\n1\n0\n8\n0\n6\n6\n6\n0\n6\n0\n2\n0\n2\n2\n0\n0\n0\n0\n0\n2\n2\n2\n0\n0\n2\n0\n0\n0\n7\n7\n0\n6\n0\n0\n0\n2\n2\n2\n2\n0\n0\n2\n0\n0\n2\n2\n2\n0\n0\n1\n2\n0\n6\n0\n6\n0\n0\n-1\n0\n0\n-1\n0\n0\n0\n0\n0\n0\n0\n0\n7\n0\n0\n0\n2\n2\n2\n2\n11\n6\n0\n2\n0\n0\n0\n0\n0\n0\n0\n0\n10\n0\n0\n0\n0\n0\n0\n2\n0\n0\n0\n0\n0\n0\n0\n0\n2\n0\n0\n2\n1\n0\n1\n2\n1\n6\n0\n0\n0\n0\n1\n0\n1\n2\n0\n0\n0\n2\n0\n0\n2\n2\n0\n0\n0\n1\n0\n1\n1\n0\n1\n0\n0\n2\n1\n2\n6\n0\n0\n8\n3\n9\n0\n2\n0\n2\n0\n0\n2\n0\n2\n7\n0\n10\n3\n3\n3\n3\n0\n0\n1\n0\n2\n1\n0\n0\n1\n0\n0\n0\n0\n2\n6\n3\n2\n1\n1\n0\n0\n3\n3\n0\n0\n0\n9\n0\n17\n0\n5\n1\n2\n1\n0\n8\n0\n0\n11\n1\n3\n1\n3\n3\n0\n0\n0\n2\n8\n2\n0\n0\n2\n2\n2\n2\n1\n0\n2\n2\n0\n2\n0\n0\n9\n3\n2\n2\n0\n9\n0\n1\n0\n0\n1\n2\n2\n2\n2\n1\n2\n0\n0\n0\n0\n0\n14\n6\n0\n0\n0\n3\n3\n1\n0\n2\n2\n0\n1\n0\n2\n2\n0\n0\n1\n0\n2\n6\n0\n2\n0\n0\n10\n2\n0\n1\n0\n0\n0\n1\n0\n0\n3\n1\n0\n0\n0\n3\n4\n0\n2\n0\n1\n0\n0\n0\n1\n1\n0\n1\n0\n0\n0\n0\n2\n1\n0\n0\n0\n10\n0\n1\n0\n6\n0\n2\n0\n1\n2\n1\n0\n0\n0\n0\n0\n0\n0\n0\n0\n0\n0\n0\n0\n0\n0\n0\n0\n0\n0\n0\n0\n0\n4\n4\n0\n0\n1\n0\n0\n2\n0\n2\n1\n1\n0\n2\n1\n0\n0\n0\n1\n1\n5\n1\n9\n1\n20\n10\n0\n12\n5\n0\n0\n0\n0\n1\n1\n0\n5\n0\n5\n0\n0\n0\n7\n2\n4\n0\n0\n0\n0\n2\n0\n0\n0\n4\n0\n2\n6\n0\n0\n2\n9\n0\n0\n7\n2\n1\n0\n0\n0\n1\n0\n0\n2\n0\n4\n0\n0\n0\n0\n0\n0\n2\n0\n2\n0\n0\n0\n0\n12\n0\n0\n2\n0\n2\n0\n3\n0\n2\n0\n0\n13\n0\n1\n0\n1\n0\n0\n8\n0\n0\n7\n0\n0\n0\n1\n0\n0\n14\n9\n0\n0\n2\n0\n0\n0\n0\n0\n0\n0\n3\n0\n0\n3\n0\n0\n0\n0\n0\n0\n0\n0\n0\n0\n0\n0\n0\n0\n0\n0\n2\n2\n2\n0\n0\n2\n0\n0\n0\n0\n0\n0\n0\n0\n0\n2\n0\n1\n3\n0\n0\n1\n0\n-2\n2\n0\n0\n1\n1\n0\n2\n0\n4\n2\n0\n2\n2\n0\n0\n0\n2\n2\n2\n0\n2\n0\n1\n0\n1\n0\n1\n0\n1\n2\n2\n0\n2\n0\n1\n1\n0\n1\n1\n1\n0\n6\n10\n15\n6\n0\n0\n0\n0\n5\n2\n0\n1\n0\n0\n0\n0\n1\n1\n0\n0\n1\n0\n0\n6\n0\n0\n9\n0\n0\n0\n6\n6\n0\n3\n6\n7\n0\n1\n3\n0\n2\n1\n2\n0\n2\n0\n1\n0\n6\n1\n2\n0\n0\n0\n5\n7\n0\n0\n0\n0\n6\n0\n0\n0\n6\n6\n0\n6\n0\n0\n0\n2\n2\n1\n1\n0\n8\n0\n0\n0\n1\n4\n1\n0\n0\n0\n1\n1\n2\n0\n6\n0\n0\n2\n0\n0\n2\n8\n0\n2\n0\n0\n0\n0\n0\n8\n0\n0\n0\n4\n1\n1\n4\n8\n1\n0\n1\n6\n0\n0\n0\n0\n0\n0\n0\n2\n0\n0\n0\n0\n0\n0\n5\n0\n0\n0\n0\n0\n0\n0\n0\n0\n2\n0\n0\n1\n2\n0\n0\n0\n10\n2\n0\n0\n0\n0\n0\n0\n1\n0\n0\n0\n0\n2\n0\n0\n2\n2\n0\n0\n0\n1\n0\n2\n2\n0\n2\n0\n0\n2\n9\n2\n2\n0\n0\n2\n1\n2\n2\n1\n0\n5\n0\n0\n0\n0\n1\n2\n0\n0\n0\n1\n1\n2\n0\n0\n2\n0\n2\n7\n0\n0\n0\n0\n0\n0\n2\n0\n7\n3\n3\n0\n1\n0\n1\n3\n3\n0\n0\n2\n2\n0\n1\n2\n2\n0\n0\n2\n0\n2\n0\n0\n1\n2\n2\n0\n2\n1\n0\n0\n0\n2\n3\n0\n0\n3\n1\n7\n0\n2\n0\n0\n3\n3\n0\n3\n0\n0\n10\n1\n2\n4\n0\n2\n0\n2\n0\n0\n0\n3\n1\n3\n3\n3\n2\n0\n0\n0\n0\n0\n2\n1\n0\n0\n0\n2\n3\n0\n0\n0\n2\n0\n5\n0\n2\n3\n0\n0\n1\n0\n1\n2\n0\n10\n0\n0\n2\n10\n0\n1\n0\n0\n0\n1\n0\n0\n1\n1\n1\n0\n0\n3\n2\n0\n4\n0\n2\n0\n0\n0\n2\n0\n0\n1\n0\n0\n0\n6\n1\n0\n1\n0\n2\n5\n1\n3\n0\n3\n0\n7\n0\n2\n2\n1\n5\n0\n0\n0\n0\n0\n0\n0\n0\n0\n0\n0\n0\n0\n0\n0\n0\n0\n0\n0\n0\n1\n6\n1\n1\n1\n0\n0\n0\n2\n1\n0\n1\n0\n0\n1\n0\n1\n1\n0\n0\n7\n0\n0\n0\n1\n7\n8\n0\n1\n2\n1\n13\n4\n0\n0\n1\n0\n0\n9\n0\n1\n0\n0\n2\n0\n7\n0\n0\n0\n0\n2\n0\n0\n0\n0\n0\n13\n0\n0\n1\n1\n2\n2\n2\n1\n0\n2\n1\n0\n2\n2\n4\n8\n0\n0\n1\n0\n2\n0\n0\n0\n0\n0\n1\n1\n0\n0\n0\n3\n0\n1\n0\n0\n0\n0\n10\n0\n0\n1\n0\n2\n0\n1\n0\n1\n0\n0\n9\n0\n6\n0\n1\n0\n0\n3\n0\n0\n1\n0\n0\n0\n6\n0\n2\n0\n2\n0\n2\n2\n0\n0\n0\n0\n0\n0\n0\n11\n0\n0\n4\n0\n0\n0\n0\n0\n0\n0\n0\n0\n0\n0\n0\n0\n0\n0\n0\n2\n1\n5\n8\n0\n0\n0\n0\n0\n0\n0\n1\n0\n0\n0\n2\n0\n0\n-1\n0\n0\n1\n0\n0\n2\n0\n0\n2\n2\n0\n5\n0\n10\n6\n6\n0\n5\n0\n0\n0\n1\n7\n-3\n0\n0\n0\n1\n0\n0\n0\n1\n0\n1\n6\n1\n0\n0\n0\n12\n1\n2\n2\n0\n2\n1\n7\n12\n8\n8\n0\n0\n6\n6\n0\n1\n6\n0\n9\n0\n0\n0\n0\n1\n0\n0\n0\n0\n1\n1\n4\n0\n1\n0\n0\n14\n1\n0\n0\n0\n4\n1\n0\n1\n2\n0\n2\n2\n2\n0\n1\n6\n6\n0\n0\n11\n6\n0\n0\n0\n2\n2\n0\n0\n0\n0\n6\n0\n0\n1\n1\n1\n0\n0\n0\n0\n0\n1\n0\n1\n0\n0\n0\n0\n0\n0\n1\n1\n1\n0\n0\n0\n1\n0\n2\n0\n1\n0\n0\n9\n0\n0\n6\n1\n0\n2\n0\n0\n0\n0\n0\n1\n0\n0\n0\n0\n1\n0\n1\n0\n1\n0\n0\n1\n0\n0\n0\n0\n1\n0\n0\n1\n0\n0\n0\n0\n0\n0\n0\n0\n0\n0\n1\n0\n0\n0\n0\n0\n0\n1\n0\n0\n2\n5\n0\n0\n0\n2\n2\n0\n0\n0\n0\n0\n0\n-1\n1\n0\n0\n0\n2\n1\n0\n2\n2\n0\n0\n0\n1\n0\n1\n1\n0\n3\n0\n0\n3\n2\n3\n2\n0\n0\n5\n1\n10\n2\n1\n0\n2\n0\n0\n1\n0\n2\n2\n0\n0\n0\n6\n3\n1\n0\n0\n2\n2\n2\n12\n0\n0\n0\n1\n0\n0\n1\n0\n16\n1\n12\n0\n0\n1\n2\n16\n5\n0\n0\n3\n7\n0\n3\n1\n0\n0\n2\n0\n0\n2\n0\n1\n2\n2\n2\n0\n1\n2\n0\n0\n0\n15\n2\n2\n0\n0\n2\n5\n0\n0\n1\n1\n2\n1\n0\n2\n0\n0\n1\n1\n13\n3\n0\n9\n0\n3\n0\n0\n2\n7\n1\n13\n2\n3\n1\n0\n0\n1\n0\n0\n1\n2\n0\n0\n0\n2\n2\n0\n1\n0\n4\n0\n3\n0\n4\n8\n0\n0\n2\n0\n2\n2\n1\n5\n0\n0\n2\n1\n0\n0\n0\n2\n0\n0\n0\n0\n2\n2\n1\n0\n0\n1\n2\n0\n6\n0\n2\n0\n0\n0\n2\n0\n1\n2\n0\n0\n0\n0\n9\n0\n0\n0\n10\n0\n1\n2\n2\n0\n0\n2\n0\n2\n2\n2\n2\n0\n0\n0\n0\n0\n0\n0\n0\n0\n1\n0\n0\n0\n0\n0\n0\n1\n0\n0\n0\n1\n2\n2\n1\n1\n0\n0\n0\n2\n0\n0\n0\n0\n0\n8\n0\n8\n1\n0\n0\n12\n0\n0\n0\n1\n2\n5\n1\n7\n9\n6\n4\n0\n0\n0\n1\n0\n0\n8\n0\n1\n0\n0\n1\n2\n2\n0\n0\n0\n9\n5\n1\n0\n0\n0\n0\n8\n1\n0\n1\n1\n6\n7\n5\n1\n0\n2\n2\n0\n9\n1\n2\n8\n0\n0\n0\n0\n1\n0\n0\n0\n0\n0\n0\n1\n0\n0\n0\n7\n0\n2\n0\n0\n0\n0\n6\n0\n0\n0\n1\n1\n0\n1\n0\n1\n0\n0\n8\n0\n1\n0\n7\n0\n0\n7\n0\n0\n10\n0\n0\n0\n1\n0\n15\n0\n1\n0\n2\n8\n0\n0\n0\n0\n0\n0\n0\n10\n0\n0\n3\n0\n0\n0\n0\n0\n0\n0\n0\n0\n0\n0\n0\n0\n0\n0\n0\n2\n0\n6\n8\n0\n0\n0\n0\n0\n0\n0\n0\n0\n0\n0\n0\n0\n1\n1\n0\n0\n1\n0\n0\n9\n0\n0\n2\n2\n0\n2\n0\n6\n5\n6\n0\n7\n0\n0\n0\n16\n1\n9\n0\n1\n0\n9\n2\n1\n0\n1\n0\n0\n1\n15\n1\n0\n0\n1\n6\n7\n0\n0\n1\n0\n6\n6\n6\n6\n0\n0\n0\n0\n0\n-2\n-3\n0\n1\n0\n0\n0\n5\n5\n0\n0\n1\n0\n0\n6\n0\n0\n9\n0\n0\n0\n6\n6\n0\n0\n6\n6\n0\n7\n6\n0\n7\n5\n6\n0\n1\n0\n0\n0\n0\n-1\n1\n0\n0\n0\n0\n5\n1\n7\n0\n0\n6\n0\n0\n1\n6\n1\n0\n1\n0\n0\n0\n1\n-2\n0\n0\n1\n7\n0\n0\n0\n6\n6\n9\n0\n6\n0\n6\n0\n7\n0\n0\n0\n0\n0\n0\n0\n0\n6\n1\n1\n0\n0\n0\n0\n0\n3\n0\n0\n0\n0\n1\n0\n2\n1\n1\n0\n1\n0\n0\n0\n0\n0\n0\n0\n1\n0\n0\n0\n0\n0\n0\n0\n6\n0\n0\n0\n0\n0\n0\n0\n0\n0\n0\n0\n0\n2\n0\n2\n2\n0\n0\n3\n0\n2\n1\n0\n0\n0\n4\n0\n0\n9\n0\n0\n0\n0\n6\n1\n0\n1\n5\n0\n0\n0\n0\n0\n5\n-2\n0\n3\n0\n0\n3\n3\n3\n1\n2\n0\n2\n1\n1\n2\n0\n0\n2\n1\n1\n1\n0\n2\n1\n0\n2\n7\n0\n8\n0\n0\n0\n2\n1\n1\n7\n0\n0\n0\n0\n0\n0\n0\n2\n16\n0\n8\n0\n1\n1\n3\n13\n3\n0\n0\n1\n2\n0\n2\n1\n0\n0\n2\n0\n0\n3\n0\n1\n3\n3\n3\n0\n3\n0\n0\n0\n0\n2\n3\n0\n0\n0\n1\n1\n1\n1\n1\n0\n3\n2\n0\n3\n0\n0\n2\n8\n2\n1\n0\n0\n0\n2\n0\n0\n2\n8\n0\n3\n6\n1\n3\n0\n0\n1\n0\n0\n2\n7\n0\n0\n0\n2\n1\n0\n2\n0\n1\n0\n18\n0\n2\n2\n0\n0\n1\n0\n2\n2\n0\n3\n0\n0\n1\n2\n0\n0\n0\n0\n0\n2\n0\n4\n1\n9\n0\n0\n0\n10\n1\n0\n1\n1\n10\n0\n0\n0\n0\n0\n1\n2\n0\n0\n0\n3\n2\n0\n1\n0\n2\n1\n0\n2\n0\n0\n0\n1\n0\n0\n0\n0\n1\n0\n0\n0\n0\n0\n0\n0\n0\n0\n0\n0\n0\n0\n0\n0\n0\n1\n0\n0\n0\n0\n3\n3\n1\n0\n0\n0\n2\n1\n10\n2\n2\n1\n0\n3\n2\n2\n1\n0\n6\n0\n0\n1\n0\n0\n1\n0\n0\n2\n0\n0\n2\n0\n0\n2\n2\n1\n11\n0\n2\n1\n0\n0\n1\n0\n0\n2\n0\n2\n0\n0\n2\n1\n2\n0\n0\n0\n5\n5\n0\n0\n0\n0\n0\n2\n2\n0\n0\n1\n2\n2\n2\n0\n0\n2\n2\n0\n4\n2\n0\n2\n0\n1\n0\n0\n0\n0\n0\n0\n0\n0\n0\n0\n0\n0\n0\n8\n0\n"
    }
   ],
   "source": [
    "id = []\n",
    "total_points = []\n",
    "gameweek = []\n",
    "for j in all_weeks_dict:\n",
    "        for x in all_weeks_dict[j]['elements']:\n",
    "                print(x['stats']['total_points'])\n",
    "                id.append(x[\"id\"])\n",
    "                total_points.append(x['stats']['total_points'])\n",
    "                gameweek.append(j)\n"
   ]
  },
  {
   "cell_type": "code",
   "execution_count": 44,
   "metadata": {},
   "outputs": [],
   "source": [
    "player_scores_df  = pd.DataFrame()"
   ]
  },
  {
   "cell_type": "code",
   "execution_count": 45,
   "metadata": {},
   "outputs": [],
   "source": [
    "player_scores_df['player_id'] = id\n",
    "player_scores_df['total_score'] = total_points\n",
    "player_scores_df['gameweek'] = gameweek"
   ]
  },
  {
   "cell_type": "code",
   "execution_count": 46,
   "metadata": {},
   "outputs": [
    {
     "data": {
      "text/html": "<div>\n<style scoped>\n    .dataframe tbody tr th:only-of-type {\n        vertical-align: middle;\n    }\n\n    .dataframe tbody tr th {\n        vertical-align: top;\n    }\n\n    .dataframe thead th {\n        text-align: right;\n    }\n</style>\n<table border=\"1\" class=\"dataframe\">\n  <thead>\n    <tr style=\"text-align: right;\">\n      <th></th>\n      <th>player_id</th>\n      <th>total_score</th>\n      <th>gameweek</th>\n    </tr>\n  </thead>\n  <tbody>\n    <tr>\n      <td>0</td>\n      <td>14</td>\n      <td>7</td>\n      <td>1</td>\n    </tr>\n    <tr>\n      <td>1</td>\n      <td>27</td>\n      <td>0</td>\n      <td>1</td>\n    </tr>\n    <tr>\n      <td>2</td>\n      <td>47</td>\n      <td>9</td>\n      <td>1</td>\n    </tr>\n    <tr>\n      <td>3</td>\n      <td>48</td>\n      <td>0</td>\n      <td>1</td>\n    </tr>\n    <tr>\n      <td>4</td>\n      <td>72</td>\n      <td>0</td>\n      <td>1</td>\n    </tr>\n    <tr>\n      <td>...</td>\n      <td>...</td>\n      <td>...</td>\n      <td>...</td>\n    </tr>\n    <tr>\n      <td>14106</td>\n      <td>581</td>\n      <td>0</td>\n      <td>25</td>\n    </tr>\n    <tr>\n      <td>14107</td>\n      <td>585</td>\n      <td>0</td>\n      <td>25</td>\n    </tr>\n    <tr>\n      <td>14108</td>\n      <td>592</td>\n      <td>0</td>\n      <td>25</td>\n    </tr>\n    <tr>\n      <td>14109</td>\n      <td>613</td>\n      <td>8</td>\n      <td>25</td>\n    </tr>\n    <tr>\n      <td>14110</td>\n      <td>622</td>\n      <td>0</td>\n      <td>25</td>\n    </tr>\n  </tbody>\n</table>\n<p>14111 rows × 3 columns</p>\n</div>",
      "text/plain": "       player_id  total_score  gameweek\n0             14            7         1\n1             27            0         1\n2             47            9         1\n3             48            0         1\n4             72            0         1\n...          ...          ...       ...\n14106        581            0        25\n14107        585            0        25\n14108        592            0        25\n14109        613            8        25\n14110        622            0        25\n\n[14111 rows x 3 columns]"
     },
     "execution_count": 46,
     "metadata": {},
     "output_type": "execute_result"
    }
   ],
   "source": [
    "player_scores_df"
   ]
  },
  {
   "cell_type": "code",
   "execution_count": null,
   "metadata": {},
   "outputs": [],
   "source": [
    "# strictly I should really be keeping a table with all player scores, player information and team info as three separate tables in my database. To make my life easier later though I will combine all this into one table for my db. Hopefully I don't end up regretting this...\n",
    "\n"
   ]
  }
 ]
}