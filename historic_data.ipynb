{
 "nbformat": 4,
 "nbformat_minor": 2,
 "metadata": {
  "language_info": {
   "name": "python",
   "codemirror_mode": {
    "name": "ipython",
    "version": 3
   },
   "version": "3.7.4-final"
  },
  "orig_nbformat": 2,
  "file_extension": ".py",
  "mimetype": "text/x-python",
  "name": "python",
  "npconvert_exporter": "python",
  "pygments_lexer": "ipython3",
  "version": 3,
  "kernelspec": {
   "name": "python3",
   "display_name": "Python 3"
  }
 },
 "cells": [
  {
   "cell_type": "code",
   "execution_count": 1,
   "metadata": {},
   "outputs": [],
   "source": [
    "import requests\n",
    "import pandas as pd\n",
    "import json\n",
    "from bs4 import BeautifulSoup\n",
    "session = requests.session()"
   ]
  },
  {
   "cell_type": "code",
   "execution_count": 2,
   "metadata": {},
   "outputs": [],
   "source": [
    "%store -r current_players\n",
    "%store -r gameweeks"
   ]
  },
  {
   "cell_type": "code",
   "execution_count": 3,
   "metadata": {},
   "outputs": [
    {
     "data": {
      "text/html": "<div>\n<style scoped>\n    .dataframe tbody tr th:only-of-type {\n        vertical-align: middle;\n    }\n\n    .dataframe tbody tr th {\n        vertical-align: top;\n    }\n\n    .dataframe thead th {\n        text-align: right;\n    }\n</style>\n<table border=\"1\" class=\"dataframe\">\n  <thead>\n    <tr style=\"text-align: right;\">\n      <th></th>\n      <th>team_id</th>\n      <th>player_id</th>\n      <th>team_name</th>\n      <th>round_score</th>\n      <th>player_name</th>\n      <th>gameweek</th>\n    </tr>\n  </thead>\n  <tbody>\n    <tr>\n      <td>0</td>\n      <td>333932</td>\n      <td>169</td>\n      <td>All the Smallings</td>\n      <td>0</td>\n      <td>Schmeichel</td>\n      <td>26</td>\n    </tr>\n    <tr>\n      <td>1</td>\n      <td>297336</td>\n      <td>397</td>\n      <td>Childish Gbaminos</td>\n      <td>0</td>\n      <td>Noble</td>\n      <td>26</td>\n    </tr>\n    <tr>\n      <td>2</td>\n      <td>333932</td>\n      <td>220</td>\n      <td>All the Smallings</td>\n      <td>0</td>\n      <td>David Silva</td>\n      <td>26</td>\n    </tr>\n    <tr>\n      <td>3</td>\n      <td>336116</td>\n      <td>389</td>\n      <td>Stop Crying Lampard</td>\n      <td>0</td>\n      <td>Fabianski</td>\n      <td>26</td>\n    </tr>\n    <tr>\n      <td>4</td>\n      <td>300296</td>\n      <td>211</td>\n      <td>Ducks of Bethlehem</td>\n      <td>0</td>\n      <td>Agüero</td>\n      <td>26</td>\n    </tr>\n    <tr>\n      <td>...</td>\n      <td>...</td>\n      <td>...</td>\n      <td>...</td>\n      <td>...</td>\n      <td>...</td>\n      <td>...</td>\n    </tr>\n    <tr>\n      <td>85</td>\n      <td>299717</td>\n      <td>505</td>\n      <td>Obi-Wan Iwobi</td>\n      <td>0</td>\n      <td>James</td>\n      <td>26</td>\n    </tr>\n    <tr>\n      <td>86</td>\n      <td>339264</td>\n      <td>524</td>\n      <td>Neuer Gonna Give You</td>\n      <td>0</td>\n      <td>Sarr</td>\n      <td>26</td>\n    </tr>\n    <tr>\n      <td>87</td>\n      <td>300296</td>\n      <td>589</td>\n      <td>Ducks of Bethlehem</td>\n      <td>0</td>\n      <td>Minamino</td>\n      <td>26</td>\n    </tr>\n    <tr>\n      <td>88</td>\n      <td>299717</td>\n      <td>615</td>\n      <td>Obi-Wan Iwobi</td>\n      <td>0</td>\n      <td>Bergwijn</td>\n      <td>26</td>\n    </tr>\n    <tr>\n      <td>89</td>\n      <td>299717</td>\n      <td>618</td>\n      <td>Obi-Wan Iwobi</td>\n      <td>0</td>\n      <td>Fernandes</td>\n      <td>26</td>\n    </tr>\n  </tbody>\n</table>\n<p>90 rows × 6 columns</p>\n</div>",
      "text/plain": "   team_id player_id             team_name round_score  player_name gameweek\n0   333932       169     All the Smallings           0   Schmeichel       26\n1   297336       397     Childish Gbaminos           0        Noble       26\n2   333932       220     All the Smallings           0  David Silva       26\n3   336116       389   Stop Crying Lampard           0    Fabianski       26\n4   300296       211    Ducks of Bethlehem           0       Agüero       26\n..     ...       ...                   ...         ...          ...      ...\n85  299717       505         Obi-Wan Iwobi           0        James       26\n86  339264       524  Neuer Gonna Give You           0         Sarr       26\n87  300296       589    Ducks of Bethlehem           0     Minamino       26\n88  299717       615         Obi-Wan Iwobi           0     Bergwijn       26\n89  299717       618         Obi-Wan Iwobi           0    Fernandes       26\n\n[90 rows x 6 columns]"
     },
     "execution_count": 3,
     "metadata": {},
     "output_type": "execute_result"
    }
   ],
   "source": [
    "current_players"
   ]
  },
  {
   "cell_type": "code",
   "execution_count": 4,
   "metadata": {},
   "outputs": [
    {
     "data": {
      "text/plain": "'333932'"
     },
     "execution_count": 4,
     "metadata": {},
     "output_type": "execute_result"
    }
   ],
   "source": [
    "gameweek = 26\n",
    "current_players[\"team_id\"][0]"
   ]
  },
  {
   "cell_type": "code",
   "execution_count": 5,
   "metadata": {},
   "outputs": [],
   "source": [
    "# make list of all team ids in the league\n",
    "team_ids = []\n",
    "for i in range(len(current_players)):\n",
    "    if current_players[\"team_id\"][i] not in team_ids:\n",
    "        team_ids.append(current_players[\"team_id\"][i])"
   ]
  },
  {
   "cell_type": "code",
   "execution_count": 6,
   "metadata": {},
   "outputs": [
    {
     "data": {
      "text/plain": "['333932', '297336', '336116', '300296', '339264', '299717']"
     },
     "execution_count": 6,
     "metadata": {},
     "output_type": "execute_result"
    }
   ],
   "source": [
    "team_ids"
   ]
  },
  {
   "cell_type": "code",
   "execution_count": 44,
   "metadata": {},
   "outputs": [],
   "source": [
    "league_info = session.get(\"https://draft.premierleague.com/api/entry/333932/event/1\")"
   ]
  },
  {
   "cell_type": "code",
   "execution_count": 45,
   "metadata": {},
   "outputs": [],
   "source": [
    "parsed_player_gameweek = json.loads(league_info.text)"
   ]
  },
  {
   "cell_type": "code",
   "execution_count": 46,
   "metadata": {},
   "outputs": [
    {
     "data": {
      "text/plain": "{'picks': [{'element': 149,\n   'position': 1,\n   'is_captain': False,\n   'is_vice_captain': False,\n   'multiplier': 1},\n  {'element': 204,\n   'position': 2,\n   'is_captain': False,\n   'is_vice_captain': False,\n   'multiplier': 1},\n  {'element': 122,\n   'position': 3,\n   'is_captain': False,\n   'is_vice_captain': False,\n   'multiplier': 1},\n  {'element': 334,\n   'position': 4,\n   'is_captain': False,\n   'is_vice_captain': False,\n   'multiplier': 1},\n  {'element': 346,\n   'position': 5,\n   'is_captain': False,\n   'is_vice_captain': False,\n   'multiplier': 1},\n  {'element': 267,\n   'position': 6,\n   'is_captain': False,\n   'is_vice_captain': False,\n   'multiplier': 1},\n  {'element': 448,\n   'position': 7,\n   'is_captain': False,\n   'is_vice_captain': False,\n   'multiplier': 1},\n  {'element': 134,\n   'position': 8,\n   'is_captain': False,\n   'is_vice_captain': False,\n   'multiplier': 1},\n  {'element': 113,\n   'position': 9,\n   'is_captain': False,\n   'is_vice_captain': False,\n   'multiplier': 1},\n  {'element': 339,\n   'position': 10,\n   'is_captain': False,\n   'is_vice_captain': False,\n   'multiplier': 1},\n  {'element': 167,\n   'position': 11,\n   'is_captain': False,\n   'is_vice_captain': False,\n   'multiplier': 1},\n  {'element': 169,\n   'position': 12,\n   'is_captain': False,\n   'is_vice_captain': False,\n   'multiplier': 1},\n  {'element': 3,\n   'position': 13,\n   'is_captain': False,\n   'is_vice_captain': False,\n   'multiplier': 1},\n  {'element': 12,\n   'position': 14,\n   'is_captain': False,\n   'is_vice_captain': False,\n   'multiplier': 1},\n  {'element': 186,\n   'position': 15,\n   'is_captain': False,\n   'is_vice_captain': False,\n   'multiplier': 1}],\n 'entry_history': {},\n 'subs': [{'element_in': 122, 'element_out': 186, 'event': 1},\n  {'element_in': 113, 'element_out': 12, 'event': 1}]}"
     },
     "execution_count": 46,
     "metadata": {},
     "output_type": "execute_result"
    }
   ],
   "source": [
    "# investigate json structure\n",
    "parsed_player_gameweek"
   ]
  },
  {
   "cell_type": "code",
   "execution_count": 10,
   "metadata": {},
   "outputs": [
    {
     "ename": "SyntaxError",
     "evalue": "invalid syntax (<ipython-input-10-bee491808d89>, line 2)",
     "output_type": "error",
     "traceback": [
      "\u001b[0;36m  File \u001b[0;32m\"<ipython-input-10-bee491808d89>\"\u001b[0;36m, line \u001b[0;32m2\u001b[0m\n\u001b[0;31m    for i in parsed_player_gameweek[\"subs\"][i][\"element_in\"]\u001b[0m\n\u001b[0m                                                            ^\u001b[0m\n\u001b[0;31mSyntaxError\u001b[0m\u001b[0;31m:\u001b[0m invalid syntax\n"
     ]
    }
   ],
   "source": [
    "# This is one player id in this team this week\n",
    "for i in parsed_player_gameweek[\"subs\"][i][\"element_in\"]\n",
    "if 267 in parsed_player_gameweek[\"subs\"][0][\"element_in\"]:\n",
    "    print(\"yes\")"
   ]
  },
  {
   "cell_type": "code",
   "execution_count": 33,
   "metadata": {},
   "outputs": [
    {
     "data": {
      "text/plain": "[{'element': 169,\n  'position': 1,\n  'is_captain': False,\n  'is_vice_captain': False,\n  'multiplier': 1},\n {'element': 204,\n  'position': 2,\n  'is_captain': False,\n  'is_vice_captain': False,\n  'multiplier': 1},\n {'element': 295,\n  'position': 3,\n  'is_captain': False,\n  'is_vice_captain': False,\n  'multiplier': 1},\n {'element': 299,\n  'position': 4,\n  'is_captain': False,\n  'is_vice_captain': False,\n  'multiplier': 1},\n {'element': 267,\n  'position': 5,\n  'is_captain': False,\n  'is_vice_captain': False,\n  'multiplier': 1},\n {'element': 417,\n  'position': 6,\n  'is_captain': False,\n  'is_vice_captain': False,\n  'multiplier': 1},\n {'element': 448,\n  'position': 7,\n  'is_captain': False,\n  'is_vice_captain': False,\n  'multiplier': 1},\n {'element': 29,\n  'position': 8,\n  'is_captain': False,\n  'is_vice_captain': False,\n  'multiplier': 1},\n {'element': 339,\n  'position': 9,\n  'is_captain': False,\n  'is_vice_captain': False,\n  'multiplier': 1},\n {'element': 167,\n  'position': 10,\n  'is_captain': False,\n  'is_vice_captain': False,\n  'multiplier': 1},\n {'element': 12,\n  'position': 11,\n  'is_captain': False,\n  'is_vice_captain': False,\n  'multiplier': 1},\n {'element': 149,\n  'position': 12,\n  'is_captain': False,\n  'is_vice_captain': False,\n  'multiplier': 1},\n {'element': 220,\n  'position': 13,\n  'is_captain': False,\n  'is_vice_captain': False,\n  'multiplier': 1},\n {'element': 122,\n  'position': 14,\n  'is_captain': False,\n  'is_vice_captain': False,\n  'multiplier': 1},\n {'element': 186,\n  'position': 15,\n  'is_captain': False,\n  'is_vice_captain': False,\n  'multiplier': 1}]"
     },
     "execution_count": 33,
     "metadata": {},
     "output_type": "execute_result"
    }
   ],
   "source": [
    "parsed_player_gameweek[\"picks\"]"
   ]
  },
  {
   "cell_type": "code",
   "execution_count": 38,
   "metadata": {},
   "outputs": [
    {
     "ename": "TypeError",
     "evalue": "list indices must be integers or slices, not str",
     "output_type": "error",
     "traceback": [
      "\u001b[0;31m---------------------------------------------------------------------------\u001b[0m",
      "\u001b[0;31mTypeError\u001b[0m                                 Traceback (most recent call last)",
      "\u001b[0;32m<ipython-input-38-ce9f7e7a656b>\u001b[0m in \u001b[0;36m<module>\u001b[0;34m\u001b[0m\n\u001b[0;32m----> 1\u001b[0;31m \u001b[0mlist\u001b[0m\u001b[0;34m(\u001b[0m\u001b[0mparsed_player_gameweek\u001b[0m\u001b[0;34m[\u001b[0m\u001b[0;34m\"subs\"\u001b[0m\u001b[0;34m]\u001b[0m\u001b[0;34m[\u001b[0m\u001b[0;34m\"element_in\"\u001b[0m\u001b[0;34m]\u001b[0m\u001b[0;34m)\u001b[0m\u001b[0;34m\u001b[0m\u001b[0;34m\u001b[0m\u001b[0m\n\u001b[0m",
      "\u001b[0;31mTypeError\u001b[0m: list indices must be integers or slices, not str"
     ]
    }
   ],
   "source": [
    "list(parsed_player_gameweek[\"subs\"][\"element_in\"])"
   ]
  },
  {
   "cell_type": "code",
   "execution_count": 35,
   "metadata": {},
   "outputs": [
    {
     "name": "stdout",
     "output_type": "stream",
     "text": "295\n417\n"
    }
   ],
   "source": [
    "for item in parsed_player_gameweek[\"subs\"]:\n",
    "    print(item[\"element_in\"])"
   ]
  },
  {
   "cell_type": "code",
   "execution_count": 25,
   "metadata": {},
   "outputs": [
    {
     "name": "stdout",
     "output_type": "stream",
     "text": "<class 'int'>\n<class 'int'>\n<class 'int'>\n<class 'int'>\n<class 'int'>\n<class 'int'>\n<class 'int'>\n<class 'int'>\n<class 'int'>\n<class 'int'>\n<class 'int'>\n<class 'int'>\n<class 'int'>\n<class 'int'>\n<class 'int'>\n"
    }
   ],
   "source": [
    "for el in parsed_player_gameweek['picks']:\n",
    "    print(type(el[\"position\"]))"
   ]
  },
  {
   "cell_type": "code",
   "execution_count": 49,
   "metadata": {},
   "outputs": [],
   "source": [
    "def player_gameweek(team_id,weeks):\n",
    "    # Will return the players in a team during all requested weeks. Expects as arguments a team id from fantasy draft premier league and the number of weeks you want data from.\n",
    "    player_df = pd.DataFrame()\n",
    "\n",
    "\n",
    "    for i in range(1,weeks+1):\n",
    "        url = \"https://draft.premierleague.com/api/entry/\" + str(team_id)+ \"/event/\"+ str(i)\n",
    "        print(i)\n",
    "        player_gameweek = session.get(url)\n",
    "        parsed_player_gameweek = json.loads(player_gameweek.text)\n",
    "        players = []\n",
    "        gameweek = []\n",
    "        team_ids = []\n",
    "        subbed_in = []\n",
    "        subbed_out = []\n",
    "        subbed = []\n",
    "        position = []\n",
    "\n",
    "        temp_df = pd.DataFrame()\n",
    "        for item in parsed_player_gameweek[\"subs\"]:\n",
    "            subbed_in.append(item[\"element_in\"])\n",
    "            subbed_out.append(item[\"element_out\"])\n",
    "        for el in parsed_player_gameweek['picks']:\n",
    "            team_ids.append(team_id)\n",
    "            players.append(el[\"element\"])\n",
    "            position.append(el[\"position\"])\n",
    "            gameweek.append(i)\n",
    "            if el[\"element\"] in subbed_in:\n",
    "                subbed.append(\"Subbed In\")\n",
    "            elif el[\"element\"] in subbed_out:\n",
    "                subbed.append(\"Subbed Out\")\n",
    "            else:\n",
    "                subbed.append(\"N/A\")\n",
    "\n",
    "            \n",
    "                    \n",
    "            \n",
    "\n",
    "        temp_df[\"team_id\"] = team_ids\n",
    "        temp_df[\"gameweek\"] = gameweek \n",
    "        temp_df[\"player_id\"] = players\n",
    "        temp_df[\"position\"] = position\n",
    "        temp_df[\"subbed\"] = subbed\n",
    "\n",
    "        player_df = player_df.append(temp_df)\n",
    "\n",
    "    return player_df\n",
    "\n",
    "\n",
    "\n",
    "    \n",
    "    \n",
    "\n",
    ""
   ]
  },
  {
   "cell_type": "code",
   "execution_count": 50,
   "metadata": {},
   "outputs": [
    {
     "name": "stdout",
     "output_type": "stream",
     "text": "1\n2\n3\n4\n5\n6\n7\n8\n9\n10\n11\n12\n13\n14\n15\n16\n17\n18\n19\n20\n21\n22\n23\n24\n25\n"
    },
    {
     "data": {
      "text/html": "<div>\n<style scoped>\n    .dataframe tbody tr th:only-of-type {\n        vertical-align: middle;\n    }\n\n    .dataframe tbody tr th {\n        vertical-align: top;\n    }\n\n    .dataframe thead th {\n        text-align: right;\n    }\n</style>\n<table border=\"1\" class=\"dataframe\">\n  <thead>\n    <tr style=\"text-align: right;\">\n      <th></th>\n      <th>team_id</th>\n      <th>gameweek</th>\n      <th>player_id</th>\n      <th>position</th>\n      <th>subbed</th>\n    </tr>\n  </thead>\n  <tbody>\n    <tr>\n      <td>0</td>\n      <td>333932</td>\n      <td>1</td>\n      <td>149</td>\n      <td>1</td>\n      <td>N/A</td>\n    </tr>\n    <tr>\n      <td>1</td>\n      <td>333932</td>\n      <td>1</td>\n      <td>204</td>\n      <td>2</td>\n      <td>N/A</td>\n    </tr>\n    <tr>\n      <td>2</td>\n      <td>333932</td>\n      <td>1</td>\n      <td>122</td>\n      <td>3</td>\n      <td>Subbed In</td>\n    </tr>\n    <tr>\n      <td>3</td>\n      <td>333932</td>\n      <td>1</td>\n      <td>334</td>\n      <td>4</td>\n      <td>N/A</td>\n    </tr>\n    <tr>\n      <td>4</td>\n      <td>333932</td>\n      <td>1</td>\n      <td>346</td>\n      <td>5</td>\n      <td>N/A</td>\n    </tr>\n    <tr>\n      <td>...</td>\n      <td>...</td>\n      <td>...</td>\n      <td>...</td>\n      <td>...</td>\n      <td>...</td>\n    </tr>\n    <tr>\n      <td>10</td>\n      <td>333932</td>\n      <td>25</td>\n      <td>12</td>\n      <td>11</td>\n      <td>N/A</td>\n    </tr>\n    <tr>\n      <td>11</td>\n      <td>333932</td>\n      <td>25</td>\n      <td>149</td>\n      <td>12</td>\n      <td>N/A</td>\n    </tr>\n    <tr>\n      <td>12</td>\n      <td>333932</td>\n      <td>25</td>\n      <td>220</td>\n      <td>13</td>\n      <td>Subbed Out</td>\n    </tr>\n    <tr>\n      <td>13</td>\n      <td>333932</td>\n      <td>25</td>\n      <td>203</td>\n      <td>14</td>\n      <td>N/A</td>\n    </tr>\n    <tr>\n      <td>14</td>\n      <td>333932</td>\n      <td>25</td>\n      <td>186</td>\n      <td>15</td>\n      <td>N/A</td>\n    </tr>\n  </tbody>\n</table>\n<p>375 rows × 5 columns</p>\n</div>",
      "text/plain": "    team_id  gameweek  player_id  position      subbed\n0    333932         1        149         1         N/A\n1    333932         1        204         2         N/A\n2    333932         1        122         3   Subbed In\n3    333932         1        334         4         N/A\n4    333932         1        346         5         N/A\n..      ...       ...        ...       ...         ...\n10   333932        25         12        11         N/A\n11   333932        25        149        12         N/A\n12   333932        25        220        13  Subbed Out\n13   333932        25        203        14         N/A\n14   333932        25        186        15         N/A\n\n[375 rows x 5 columns]"
     },
     "execution_count": 50,
     "metadata": {},
     "output_type": "execute_result"
    }
   ],
   "source": [
    "player_gameweek(333932,25)"
   ]
  },
  {
   "cell_type": "code",
   "execution_count": 52,
   "metadata": {},
   "outputs": [
    {
     "name": "stdout",
     "output_type": "stream",
     "text": "1\n2\n3\n4\n5\n6\n7\n8\n9\n10\n11\n12\n13\n14\n15\n16\n17\n18\n19\n20\n21\n22\n23\n24\n25\n1\n2\n3\n4\n5\n6\n7\n8\n9\n10\n11\n12\n13\n14\n15\n16\n17\n18\n19\n20\n21\n22\n23\n24\n25\n1\n2\n3\n4\n5\n6\n7\n8\n9\n10\n11\n12\n13\n14\n15\n16\n17\n18\n19\n20\n21\n22\n23\n24\n25\n1\n2\n3\n4\n5\n6\n7\n8\n9\n10\n11\n12\n13\n14\n15\n16\n17\n18\n19\n20\n21\n22\n23\n24\n25\n1\n2\n3\n4\n5\n6\n7\n8\n9\n10\n11\n12\n13\n14\n15\n16\n17\n18\n19\n20\n21\n22\n23\n24\n25\n1\n2\n3\n4\n5\n6\n7\n8\n9\n10\n11\n12\n13\n14\n15\n16\n17\n18\n19\n20\n21\n22\n23\n24\n25\n"
    }
   ],
   "source": [
    "all_players_df = pd.DataFrame()\n",
    "for team in team_ids:\n",
    "    all_players_df = all_players_df.append(player_gameweek(team,25))"
   ]
  },
  {
   "cell_type": "code",
   "execution_count": 53,
   "metadata": {},
   "outputs": [
    {
     "data": {
      "text/html": "<div>\n<style scoped>\n    .dataframe tbody tr th:only-of-type {\n        vertical-align: middle;\n    }\n\n    .dataframe tbody tr th {\n        vertical-align: top;\n    }\n\n    .dataframe thead th {\n        text-align: right;\n    }\n</style>\n<table border=\"1\" class=\"dataframe\">\n  <thead>\n    <tr style=\"text-align: right;\">\n      <th></th>\n      <th>team_id</th>\n      <th>gameweek</th>\n      <th>player_id</th>\n      <th>position</th>\n      <th>subbed</th>\n    </tr>\n  </thead>\n  <tbody>\n    <tr>\n      <td>0</td>\n      <td>333932</td>\n      <td>1</td>\n      <td>149</td>\n      <td>1</td>\n      <td>N/A</td>\n    </tr>\n    <tr>\n      <td>1</td>\n      <td>333932</td>\n      <td>1</td>\n      <td>204</td>\n      <td>2</td>\n      <td>N/A</td>\n    </tr>\n    <tr>\n      <td>2</td>\n      <td>333932</td>\n      <td>1</td>\n      <td>122</td>\n      <td>3</td>\n      <td>Subbed In</td>\n    </tr>\n    <tr>\n      <td>3</td>\n      <td>333932</td>\n      <td>1</td>\n      <td>334</td>\n      <td>4</td>\n      <td>N/A</td>\n    </tr>\n    <tr>\n      <td>4</td>\n      <td>333932</td>\n      <td>1</td>\n      <td>346</td>\n      <td>5</td>\n      <td>N/A</td>\n    </tr>\n    <tr>\n      <td>...</td>\n      <td>...</td>\n      <td>...</td>\n      <td>...</td>\n      <td>...</td>\n      <td>...</td>\n    </tr>\n    <tr>\n      <td>10</td>\n      <td>299717</td>\n      <td>25</td>\n      <td>363</td>\n      <td>11</td>\n      <td>N/A</td>\n    </tr>\n    <tr>\n      <td>11</td>\n      <td>299717</td>\n      <td>25</td>\n      <td>14</td>\n      <td>12</td>\n      <td>N/A</td>\n    </tr>\n    <tr>\n      <td>12</td>\n      <td>299717</td>\n      <td>25</td>\n      <td>522</td>\n      <td>13</td>\n      <td>N/A</td>\n    </tr>\n    <tr>\n      <td>13</td>\n      <td>299717</td>\n      <td>25</td>\n      <td>505</td>\n      <td>14</td>\n      <td>N/A</td>\n    </tr>\n    <tr>\n      <td>14</td>\n      <td>299717</td>\n      <td>25</td>\n      <td>477</td>\n      <td>15</td>\n      <td>N/A</td>\n    </tr>\n  </tbody>\n</table>\n<p>2250 rows × 5 columns</p>\n</div>",
      "text/plain": "   team_id  gameweek  player_id  position     subbed\n0   333932         1        149         1        N/A\n1   333932         1        204         2        N/A\n2   333932         1        122         3  Subbed In\n3   333932         1        334         4        N/A\n4   333932         1        346         5        N/A\n..     ...       ...        ...       ...        ...\n10  299717        25        363        11        N/A\n11  299717        25         14        12        N/A\n12  299717        25        522        13        N/A\n13  299717        25        505        14        N/A\n14  299717        25        477        15        N/A\n\n[2250 rows x 5 columns]"
     },
     "execution_count": 53,
     "metadata": {},
     "output_type": "execute_result"
    }
   ],
   "source": [
    "all_players_df"
   ]
  },
  {
   "cell_type": "code",
   "execution_count": 17,
   "metadata": {},
   "outputs": [],
   "source": [
    "# There are API endpoints with player scores for each week but each week is a different url. I will start by checking the layout of these pages"
   ]
  },
  {
   "cell_type": "code",
   "execution_count": 19,
   "metadata": {},
   "outputs": [
    {
     "data": {
      "text/plain": "2250"
     },
     "execution_count": 19,
     "metadata": {},
     "output_type": "execute_result"
    }
   ],
   "source": [
    "# 6 teams in the league, 15 players per week, 25 weeks\n",
    "6*15*25"
   ]
  },
  {
   "cell_type": "code",
   "execution_count": 58,
   "metadata": {},
   "outputs": [],
   "source": [
    "\n",
    "player_scores_gameweek1 = session.get(\"https://fantasy.premierleague.com/api/event/1/live\")"
   ]
  },
  {
   "cell_type": "code",
   "execution_count": 59,
   "metadata": {},
   "outputs": [],
   "source": [
    "player_scores_gameweek1_json = json.loads(player_scores_gameweek1.text)"
   ]
  },
  {
   "cell_type": "code",
   "execution_count": 60,
   "metadata": {},
   "outputs": [
    {
     "data": {
      "text/plain": "': 8,\n    'in_dreamteam': False},\n   'explain': [{'fixture': 2,\n     'stats': [{'identifier': 'minutes', 'points': 1, 'value': 8},\n      {'identifier': 'goals_scored', 'points': 4, 'value': 1},\n      {'identifier': 'bonus', 'points': 3, 'value': 3}]}]},\n  {'id': 303,\n   'stats': {'minutes': 62,\n    'goals_scored': 0,\n    'assists': 0,\n    'clean_sheets': 0,\n    'goals_conceded': 1,\n    'own_goals': 0,\n    'penalties_saved': 0,\n    'penalties_missed': 0,\n    'yellow_cards': 0,\n    'red_cards': 0,\n    'saves': 0,\n    'bonus': 0,\n    'bps': 0,\n    'influence': '2.0',\n    'creativity': '5.3',\n    'threat': '8.0',\n    'ict_index': '1.5',\n    'total_points': 2,\n    'in_dreamteam': False},\n   'explain': [{'fixture': 2,\n     'stats': [{'identifier': 'minutes', 'points': 2, 'value': 62}]}]},\n  {'id': 312,\n   'stats': {'minutes': 0,\n    'goals_scored': 0,\n    'assists': 0,\n    'clean_sheets': 0,\n    'goals_conceded': 0,\n    'own_goals': 0,\n    'penalties_saved': 0,\n    'penalties_missed': 0,\n    'yellow_cards': 0,\n    'red_cards': 0,\n    'saves': 0,\n    'bonus': 0,\n    'bps': 0,\n    'influence': '0.0',\n    'creativity': '0.0',\n    'threat': '0.0',\n    'ict_index': '0.0',\n    'total_points': 0,\n    'in_dreamteam': False},\n   'explain': [{'fixture': 3,\n     'stats': [{'identifier': 'minutes', 'points': 0, 'value': 0}]}]},\n  {'id': 313,\n   'stats': {'minutes': 65,\n    'goals_scored': 0,\n    'assists': 0,\n    'clean_sheets': 0,\n    'goals_conceded': 1,\n    'own_goals': 0,\n    'penalties_saved': 0,\n    'penalties_missed': 0,\n    'yellow_cards': 0,\n    'red_cards': 0,\n    'saves': 0,\n    'bonus': 0,\n    'bps': 8,\n    'influence': '4.8',\n    'creativity': '11.0',\n    'threat': '0.0',\n    'ict_index': '1.6',\n    'total_points': 2,\n    'in_dreamteam': False},\n   'explain': [{'fixture': 3,\n     'stats': [{'identifier': 'minutes', 'points': 2, 'value': 65}]}]},\n  {'id': 314,\n   'stats': {'minutes': 24,\n    'goals_scored': 0,\n    'assists': 0,\n    'clean_sheets': 0,\n    'goals_conceded': 2,\n    'own_goals': 0,\n    'penalties_saved': 0,\n    'penalties_missed': 0,\n    'yellow_cards': 0,\n    'red_cards': 0,\n    'saves': 0,\n    'bonus': 0,\n    'bps': 0,\n    'influence': '0.0',\n    'creativity': '0.4',\n    'threat': '4.0',\n    'ict_index': '0.4',\n    'total_points': 1,\n    'in_dreamteam': False},\n   'explain': [{'fixture': 3,\n     'stats': [{'identifier': 'minutes', 'points': 1, 'value': 24}]}]},\n  {'id': 315,\n   'stats': {'minutes': 0,\n    'goals_scored': 0,\n    'assists': 0,\n    'clean_sheets': 0,\n    'goals_conceded': 0,\n    'own_goals': 0,\n    'penalties_saved': 0,\n    'penalties_missed': 0,\n    'yellow_cards': 0,\n    'red_cards': 0,\n    'saves': 0,\n    'bonus': 0,\n    'bps': 0,\n    'influence': '0.0',\n    'creativity': '0.0',\n    'threat': '0.0',\n    'ict_index': '0.0',\n    'total_points': 0,\n    'in_dreamteam': False},\n   'explain': [{'fixture': 3,\n     'stats': [{'identifier': 'minutes', 'points': 0, 'value': 0}]}]},\n  {'id': 316,\n   'stats': {'minutes': 0,\n    'goals_scored': 0,\n    'assists': 0,\n    'clean_sheets': 0,\n    'goals_conceded': 0,\n    'own_goals': 0,\n    'penalties_saved': 0,\n    'penalties_missed': 0,\n    'yellow_cards': 0,\n    'red_cards': 0,\n    'saves': 0,\n    'bonus': 0,\n    'bps': 0,\n    'influence': '0.0',\n    'creativity': '0.0',\n    'threat': '0.0',\n    'ict_index': '0.0',\n    'total_points': 0,\n    'in_dreamteam': False},\n   'explain': [{'fixture': 3,\n     'stats': [{'identifier': 'minutes', 'points': 0, 'value': 0}]}]},\n  {'id': 338,\n   'stats': {'minutes': 90,\n    'goals_scored': 2,\n    'assists': 0,\n    'clean_sheets': 0,\n    'goals_conceded': 1,\n    'own_goals': 0,\n    'penalties_saved': 0,\n    'penalties_missed': 0,\n    'yellow_cards': 0,\n    'red_cards': 0,\n    'saves': 0,\n    'bonus': 3,\n    'bps': 50,\n    'influence': '64.2',\n    'creativity': '24.1',\n    'threat': '95.0',\n    'ict_index': '18.3',\n    'total_points': 13,\n    'in_dreamteam': True},\n   'explain': [{'fixture': 6,\n     'stats': [{'identifier': 'minutes', 'points': 2, 'value': 90},\n      {'identifier': 'goals_scored', 'points': 8, 'value': 2},\n      {'identifier': 'bonus', 'points': 3, 'value': 3}]}]},\n  {'id': 339,\n   'stats': {'minutes': 0,\n    'goals_scored': 0,\n    'assists': 0,\n    'clean_sheets': 0,\n    'goals_conceded': 0,\n    'own_goals': 0,\n    'penalties_saved': 0,\n    'penalties_missed': 0,\n    'yellow_cards': 0,\n    'red_cards': 0,\n    'saves': 0,\n    'bonus': 0,\n    'bps': 0,\n    'influence': '0.0',\n    'creativity': '0.0',\n    'threat': '0.0',\n    'ict_index': '0.0',\n    'total_points': 0,\n    'in_dreamteam': False},\n   'explain': [{'fixture': 6,\n     'stats': [{'identifier': 'minutes', 'points': 0, 'value': 0}]}]},\n  {'id': 362,\n   'stats': {'minutes': 90,\n    'goals_scored': 0,\n    'assists': 0,\n    'clean_sheets': 0,\n    'goals_conceded': 3,\n    'own_goals': 0,\n    'penalties_saved': 0,\n    'penalties_missed': 0,\n    'yellow_cards': 0,\n    'red_cards': 0,\n    'saves': 0,\n    'bonus': 0,\n    'bps': 6,\n    'influence': '7.6',\n    'creativity': '14.5',\n    'threat': '9.0',\n    'ict_index': '3.1',\n    'total_points': 2,\n    'in_dreamteam': False},\n   'explain': [{'fixture': 7,\n     'stats': [{'identifier': 'minutes', 'points': 2, 'value': 90}]}]},\n  {'id': 363,\n   'stats': {'minutes': 45,\n    'goals_scored': 0,\n    'assists': 0,\n    'clean_sheets': 0,\n    'goals_conceded': 1,\n    'own_goals': 0,\n    'penalties_saved': 0,\n    'penalties_missed': 0,\n    'yellow_cards': 0,\n    'red_cards': 0,\n    'saves': 0,\n    'bonus': 0,\n    'bps': 1,\n    'influence': '0.0',\n    'creativity': '5.5',\n    'threat': '3.0',\n    'ict_index': '0.6',\n    'total_points': 1,\n    'in_dreamteam': False},\n   'explain': [{'fixture': 7,\n     'stats': [{'identifier': 'minutes', 'points': 1, 'value': 45}]}]},\n  {'id': 364,\n   'stats': {'minutes': 74,\n    'goals_scored': 0,\n    'assists': 0,\n    'clean_sheets': 0,\n    'goals_conceded': 2,\n    'own_goals': 0,\n    'penalties_saved': 0,\n    'penalties_missed': 0,\n    'yellow_cards': 0,\n    'red_cards': 0,\n    'saves': 0,\n    'bonus': 0,\n    'bps': 3,\n    'influence': '1.4',\n    'creativity': '2.5',\n    'threat': '17.0',\n    'ict_index': '2.1',\n    'total_points': 2,\n    'in_dreamteam': False},\n   'explain': [{'fixture': 7,\n     'stats': [{'identifier': 'minutes', 'points': 2, 'value': 74}]}]},\n  {'id': 365,\n   'stats': {'minutes': 15,\n    'goals_scored': 0,\n    'assists': 0,\n    'clean_sheets': 0,\n    'goals_conceded': 1,\n    'own_goals': 0,\n    'penalties_saved': 0,\n    'penalties_missed': 0,\n    'yellow_cards': 0,\n    'red_cards': 0,\n    'saves': 0,\n    'bonus': 0,\n    'bps': 1,\n    'influence': '0.0',\n    'creativity': '0.0',\n    'threat': '0.0',\n    'ict_index': '0.0',\n    'total_points': 1,\n    'in_dreamteam': False},\n   'explain': [{'fixture': 7,\n     'stats': [{'identifier': 'minutes', 'points': 1, 'value': 15}]}]},\n  {'id': 385,\n   'stats': {'minutes': 0,\n    'goals_scored': 0,\n    'assists': 0,\n    'clean_sheets': 0,\n    'goals_conceded': 0,\n    'own_goals': 0,\n    'penalties_saved': 0,\n    'penalties_missed': 0,\n    'yellow_cards': 0,\n    'red_cards': 0,\n    'saves': 0,\n    'bonus': 0,\n    'bps': 0,\n    'influence': '0.0',\n    'creativity': '0.0',\n    'threat': '0.0',\n    'ict_index': '0.0',\n    'total_points': 0,\n    'in_dreamteam': False},\n   'explain': [{'fixture': 8,\n     'stats': [{'identifier': 'minutes', 'points': 0, 'value': 0}]}]},\n  {'id': 386,\n   'stats': {'minutes': 24,\n    'goals_scored': 0,\n    'assists': 0,\n    'clean_sheets': 0,\n    'goals_conceded': 3,\n    'own_goals': 0,\n    'penalties_saved': 0,\n    'penalties_missed': 0,\n    'yellow_cards': 0,\n    'red_cards': 0,\n    'saves': 0,\n    'bonus': 0,\n    'bps': -2,\n    'influence': '1.6',\n    'creativity': '1.0',\n    'threat': '18.0',\n    'ict_index': '2.1',\n    'total_points': 1,\n    'in_dreamteam': False},\n   'explain': [{'fixture': 8,\n     'stats': [{'identifier': 'minutes', 'points': 1, 'value': 24}]}]},\n  {'id': 387,\n   'stats': {'minutes': 0,\n    'goals_scored': 0,\n    'assists': 0,\n    'clean_sheets': 0,\n    'goals_conceded': 0,\n    'own_goals': 0,\n    'penalties_saved': 0,\n    'penalties_missed': 0,\n    'yellow_cards': 0,\n    'red_cards': 0,\n    'saves': 0,\n    'bonus': 0,\n    'bps': 0,\n    'influence': '0.0',\n    'creativity': '0.0',\n    'threat': '0.0',\n    'ict_index': '0.0',\n    'total_points': 0,\n    'in_dreamteam': False},\n   'explain': [{'fixture': 8,\n     'stats': [{'identifier': 'minutes', 'points': 0, 'value': 0}]}]},\n  {'id': 409,\n   'stats': {'minutes': 90,\n    'goals_scored': 0,\n    'assists': 0,\n    'clean_sheets': 1,\n    'goals_conceded': 0,\n    'own_goals': 0,\n    'penalties_saved': 0,\n    'penalties_missed': 0,\n    'yellow_cards': 0,\n    'red_cards': 0,\n    'saves': 0,\n    'bonus': 0,\n    'bps': 10,\n    'influence': '18.8',\n    'creativity': '12.2',\n    'threat': '30.0',\n    'ict_index': '6.1',\n    'total_points': 2,\n    'in_dreamteam': False},\n   'explain': [{'fixture': 5,\n     'stats': [{'identifier': 'minutes', 'points': 2, 'value': 90}]}]},\n  {'id': 410,\n   'stats': {'minutes': 75,\n    'goals_scored': 0,\n    'assists': 0,\n    'clean_sheets': 1,\n    'goals_conceded': 0,\n    'own_goals': 0,\n    'penalties_saved': 0,\n    'penalties_missed': 0,\n    'yellow_cards': 0,\n    'red_cards': 0,\n    'saves': 0,\n    'bonus': 0,\n    'bps': 4,\n    'influence': '1.6',\n    'creativity': '12.3',\n    'threat': '25.0',\n    'ict_index': '3.9',\n    'total_points': 2,\n    'in_dreamteam': False},\n   'explain': [{'fixture': 5,\n     'stats': [{'identifier': 'minutes', 'points': 2, 'value': 75}]}]},\n  {'id': 428,\n   'stats': {'minutes': 73,\n    'goals_scored': 0,\n    'assists': 0,\n    'clean_sheets': 0,\n    'goals_conceded': 1,\n    'own_goals': 0,\n    'penalties_saved': 0,\n    'penalties_missed': 0,\n    'yellow_cards': 0,\n    'red_cards': 0,\n    'saves': 0,\n    'bonus': 0,\n    'bps': 2,\n    'influence': '5.0',\n    'creativity': '1.1',\n    'threat': '17.0',\n    'ict_index': '2.3',\n    'total_points': 2,\n    'in_dreamteam': False},\n   'explain': [{'fixture': 6,\n     'stats': [{'identifier': 'minutes', 'points': 2, 'value': 73}]}]},\n  {'id': 434,\n   'stats': {'minutes': 7,\n    'goals_scored': 0,\n    'assists': 0,\n    'clean_sheets': 0,\n    'goals_conceded': 0,\n    'own_goals': 0,\n    'penalties_saved': 0,\n    'penalties_missed': 0,\n    'yellow_cards': 0,\n    'red_cards': 0,\n    'saves': 0,\n    'bonus': 0,\n    'bps': 3,\n    'influence': '0.0',\n    'creativity': '0.3',\n    'threat': '2.0',\n    'ict_index': '0.2',\n    'total_points': 1,\n    'in_dreamteam': False},\n   'explain': [{'fixture': 1,\n     'stats': [{'identifier': 'minutes', 'points': 1, 'value': 7}]}]},\n  {'id': 437,\n   'stats': {'minutes': 72,\n    'goals_scored': 0,\n    'assists': 0,\n    'clean_sheets': 0,\n    'goals_conceded': 2,\n    'own_goals': 0,\n    'penalties_saved': 0,\n    'penalties_missed': 0,\n    'yellow_cards': 0,\n    'red_cards': 0,\n    'saves': 0,\n    'bonus': 0,\n    'bps': -5,\n    'influence': '0.0',\n    'creativity': '1.8',\n    'threat': '21.0',\n    'ict_index': '1.6',\n    'total_points': 2,\n    'in_dreamteam': False},\n   'explain': [{'fixture': 3,\n     'stats': [{'identifier': 'minutes', 'points': 2, 'value': 72}]}]},\n  {'id': 451,\n   'stats': {'minutes': 6,\n    'goals_scored': 0,\n    'assists': 0,\n    'clean_sheets': 0,\n    'goals_conceded': 0,\n    'own_goals': 0,\n    'penalties_saved': 0,\n    'penalties_missed': 0,\n    'yellow_cards': 0,\n    'red_cards': 0,\n    'saves': 0,\n    'bonus': 0,\n    'bps': 2,\n    'influence': '0.0',\n    'creativity': '0.0',\n    'threat': '0.0',\n    'ict_index': '0.0',\n    'total_points': 1,\n    'in_dreamteam': False},\n   'explain': [{'fixture': 3,\n     'stats': [{'identifier': 'minutes', 'points': 1, 'value': 6}]}]},\n  {'id': 457,\n   'stats': {'minutes': 90,\n    'goals_scored': 0,\n    'assists': 0,\n    'clean_sheets': 0,\n    'goals_conceded': 5,\n    'own_goals': 0,\n    'penalties_saved': 0,\n    'penalties_missed': 0,\n    'yellow_cards': 0,\n    'red_cards': 0,\n    'saves': 0,\n    'bonus': 0,\n    'bps': 15,\n    'influence': '15.0',\n    'creativity': '7.8',\n    'threat': '17.0',\n    'ict_index': '4.0',\n    'total_points': 2,\n    'in_dreamteam': False},\n   'explain': [{'fixture': 8,\n     'stats': [{'identifier': 'minutes', 'points': 2, 'value': 90}]}]},\n  {'id': 460,\n   'stats': {'minutes': 65,\n    'goals_scored': 0,\n    'assists': 0,\n    'clean_sheets': 0,\n    'goals_conceded': 2,\n    'own_goals': 0,\n    'penalties_saved': 0,\n    'penalties_missed': 0,\n    'yellow_cards': 1,\n    'red_cards': 0,\n    'saves': 0,\n    'bonus': 0,\n    'bps': 1,\n    'influence': '0.0',\n    'creativity': '0.8',\n    'threat': '24.0',\n    'ict_index': '2.4',\n    'total_points': 1,\n    'in_dreamteam': False},\n   'explain': [{'fixture': 9,\n     'stats': [{'identifier': 'minutes', 'points': 2, 'value': 65},\n      {'identifier': 'yellow_cards', 'points': -1, 'value': 1}]}]},\n  {'id': 461,\n   'stats': {'minutes': 0,\n    'goals_scored': 0,\n    'assists': 0,\n    'clean_sheets': 0,\n    'goals_conceded': 0,\n    'own_goals': 0,\n    'penalties_saved': 0,\n    'penalties_missed': 0,\n    'yellow_cards': 0,\n    'red_cards': 0,\n    'saves': 0,\n    'bonus': 0,\n    'bps': 0,\n    'influence': '0.0',\n    'creativity': '0.0',\n    'threat': '0.0',\n    'ict_index': '0.0',\n    'total_points': 0,\n    'in_dreamteam': False},\n   'explain': [{'fixture': 9,\n     'stats': [{'identifier': 'minutes', 'points': 0, 'value': 0}]}]},\n  {'id': 464,\n   'stats': {'minutes': 0,\n    'goals_scored': 0,\n    'assists': 0,\n    'clean_sheets': 0,\n    'goals_conceded': 0,\n    'own_goals': 0,\n    'penalties_saved': 0,\n    'penalties_missed': 0,\n    'yellow_cards': 0,\n    'red_cards': 0,\n    'saves': 0,\n    'bonus': 0,\n    'bps': 0,\n    'influence': '0.0',\n    'creativity': '0.0',\n    'threat': '0.0',\n    'ict_index': '0.0',\n    'total_points': 0,\n    'in_dreamteam': False},\n   'explain': [{'fixture': 1,\n     'stats': [{'identifier': 'minutes', 'points': 0, 'value': 0}]}]},\n  {'id': 466,\n   'stats': {'minutes': 90,\n    'goals_scored': 0,\n    'assists': 0,\n    'clean_sheets': 0,\n    'goals_conceded': 1,\n    'own_goals': 0,\n    'penalties_saved': 0,\n    'penalties_missed': 0,\n    'yellow_cards': 0,\n    'red_cards': 0,\n    'saves': 0,\n    'bonus': 0,\n    'bps': 15,\n    'influence': '6.0',\n    'creativity': '2.5',\n    'threat': '24.0',\n    'ict_index': '3.3',\n    'total_points': 2,\n    'in_dreamteam': False},\n   'explain': [{'fixture': 10,\n     'stats': [{'identifier': 'minutes', 'points': 2, 'value': 90}]}]},\n  {'id': 468,\n   'stats': {'minutes': 64,\n    'goals_scored': 0,\n    'assists': 0,\n    'clean_sheets': 1,\n    'goals_conceded': 0,\n    'own_goals': 0,\n    'penalties_saved': 0,\n    'penalties_missed': 0,\n    'yellow_cards': 0,\n    'red_cards': 0,\n    'saves': 0,\n    'bonus': 0,\n    'bps': 8,\n    'influence': '9.0',\n    'creativity': '12.8',\n    'threat': '19.0',\n    'ict_index': '4.1',\n    'total_points': 2,\n    'in_dreamteam': False},\n   'explain': [{'fixture': 4,\n     'stats': [{'identifier': 'minutes', 'points': 2, 'value': 64}]}]},\n  {'id': 487,\n   'stats': {'minutes': 14,\n    'goals_scored': 0,\n    'assists': 0,\n    'clean_sheets': 0,\n    'goals_conceded': 0,\n    'own_goals': 0,\n    'penalties_saved': 0,\n    'penalties_missed': 0,\n    'yellow_cards': 0,\n    'red_cards': 0,\n    'saves': 0,\n    'bonus': 0,\n    'bps': -1,\n    'influence': '5.4',\n    'creativity': '0.0',\n    'threat': '0.0',\n    'ict_index': '0.5',\n    'total_points': 1,\n    'in_dreamteam': False},\n   'explain': [{'fixture': 5,\n     'stats': [{'identifier': 'minutes', 'points': 1, 'value': 14}]}]},\n  {'id': 496,\n   'stats': {'minutes': 21,\n    'goals_scored': 0,\n    'assists': 0,\n    'clean_sheets': 0,\n    'goals_conceded': 0,\n    'own_goals': 0,\n    'penalties_saved': 0,\n    'penalties_missed': 0,\n    'yellow_cards': 0,\n    'red_cards': 0,\n    'saves': 0,\n    'bonus': 0,\n    'bps': 4,\n    'influence': '1.0',\n    'creativity': '1.2',\n    'threat': '0.0',\n    'ict_index': '0.2',\n    'total_points': 1,\n    'in_dreamteam': False},\n   'explain': [{'fixture': 4,\n     'stats': [{'identifier': 'minutes', 'points': 1, 'value': 21}]}]},\n  {'id': 501,\n   'stats': {'minutes': 27,\n    'goals_scored': 0,\n    'assists': 0,\n    'clean_sheets': 0,\n    'goals_conceded': 0,\n    'own_goals': 0,\n    'penalties_saved': 0,\n    'penalties_missed': 0,\n    'yellow_cards': 0,\n    'red_cards': 0,\n    'saves': 0,\n    'bonus': 0,\n    'bps': 3,\n    'influence': '3.4',\n    'creativity': '1.4',\n    'threat': '4.0',\n    'ict_index': '0.9',\n    'total_points': 1,\n    'in_dreamteam': False},\n   'explain': [{'fixture': 2,\n     'stats': [{'identifier': 'minutes', 'points': 1, 'value': 27}]}]},\n  {'id': 502,\n   'stats': {'minutes': 26,\n    'goals_scored': 1,\n    'assists': 0,\n    'clean_sheets': 0,\n    'goals_conceded': 0,\n    'own_goals': 0,\n    'penalties_saved': 0,\n    'penalties_missed': 0,\n    'yellow_cards': 0,\n    'red_cards': 0,\n    'saves': 0,\n    'bonus': 1,\n    'bps': 27,\n    'influence': '34.2',\n    'creativity': '2.8',\n    'threat': '19.0',\n    'ict_index': '5.6',\n    'total_points': 6,\n    'in_dreamteam': False},\n   'explain': [{'fixture': 7,\n     'stats': [{'identifier': 'minutes', 'points': 1, 'value': 26},\n      {'identifier': 'goals_scored', 'points': 4, 'value': 1},\n      {'identifier': 'bonus', 'points': 1, 'value': 1}]}]},\n  {'id': 504,\n   'stats': {'minutes': 6,\n    'goals_scored': 0,\n    'assists': 0,\n    'clean_sheets': 0,\n    'goals_conceded': 0,\n    'own_goals': 0,\n    'penalties_saved': 0,\n    'penalties_missed': 0,\n    'yellow_cards': 0,\n    'red_cards': 0,\n    'saves': 0,\n    'bonus': 0,\n    'bps': 2,\n    'influence': '1.0',\n    'creativity': '0.5',\n    'threat': '0.0',\n    'ict_index': '0.2',\n    'total_points': 1,\n    'in_dreamteam': False},\n   'explain': [{'fixture': 10,\n     'stats': [{'identifier': 'minutes', 'points': 1, 'value': 6}]}]},\n  {'id': 509,\n   'stats': {'minutes': 0,\n    'goals_scored': 0,\n    'assists': 0,\n    'clean_sheets': 0,\n    'goals_conceded': 0,\n    'own_goals': 0,\n    'penalties_saved': 0,\n    'penalties_missed': 0,\n    'yellow_cards': 0,\n    'red_cards': 0,\n    'saves': 0,\n    'bonus': 0,\n    'bps': 0,\n    'influence': '0.0',\n    'creativity': '0.0',\n    'threat': '0.0',\n    'ict_index': '0.0',\n    'total_points': 0,\n    'in_dreamteam': False},\n   'explain': [{'fixture': 6,\n     'stats': [{'identifier': 'minutes', 'points': 0, 'value': 0}]}]},\n  {'id': 512,\n   'stats': {'minutes': 0,\n    'goals_scored': 0,\n    'assists': 0,\n    'clean_sheets': 0,\n    'goals_conceded': 0,\n    'own_goals': 0,\n    'penalties_saved': 0,\n    'penalties_missed': 0,\n    'yellow_cards': 0,\n    'red_cards': 0,\n    'saves': 0,\n    'bonus': 0,\n    'bps': 0,\n    'influence': '0.0',\n    'creativity': '0.0',\n    'threat': '0.0',\n    'ict_index': '0.0',\n    'total_points': 0,\n    'in_dreamteam': False},\n   'explain': [{'fixture': 7,\n     'stats': [{'identifier': 'minutes', 'points': 0, 'value': 0}]}]},\n  {'id': 514,\n   'stats': {'minutes': 0,\n    'goals_scored': 0,\n    'assists': 0,\n    'clean_sheets': 0,\n    'goals_conceded': 0,\n    'own_goals': 0,\n    'penalties_saved': 0,\n    'penalties_missed': 0,\n    'yellow_cards': 0,\n    'red_cards': 0,\n    'saves': 0,\n    'bonus': 0,\n    'bps': 0,\n    'influence': '0.0',\n    'creativity': '0.0',\n    'threat': '0.0',\n    'ict_index': '0.0',\n    'total_points': 0,\n    'in_dreamteam': False},\n   'explain': [{'fixture': 8,\n     'stats': [{'identifier': 'minutes', 'points': 0, 'value': 0}]}]},\n  {'id': 520,\n   'stats': {'minutes': 0,\n    'goals_scored': 0,\n    'assists': 0,\n    'clean_sheets': 0,\n    'goals_conceded': 0,\n    'own_goals': 0,\n    'penalties_saved': 0,\n    'penalties_missed': 0,\n    'yellow_cards': 0,\n    'red_cards': 0,\n    'saves': 0,\n    'bonus': 0,\n    'bps': 0,\n    'influence': '0.0',\n    'creativity': '0.0',\n    'threat': '0.0',\n    'ict_index': '0.0',\n    'total_points': 0,\n    'in_dreamteam': False},\n   'explain': [{'fixture': 10,\n     'stats': [{'identifier': 'minutes', 'points': 0, 'value': 0}]}]}]}"
     },
     "execution_count": 60,
     "metadata": {},
     "output_type": "execute_result"
    }
   ],
   "source": [
    "player_scores_gameweek1_json\n",
    ""
   ]
  },
  {
   "cell_type": "code",
   "execution_count": 103,
   "metadata": {},
   "outputs": [
    {
     "name": "stdout",
     "output_type": "stream",
     "text": "{'id': 346, 'stats': {'minutes': 87, 'goals_scored': 0, 'assists': 0, 'clean_sheets': 0, 'goals_conceded': 1, 'own_goals': 0, 'penalties_saved': 0, 'penalties_missed': 0, 'yellow_cards': 1, 'red_cards': 0, 'saves': 0, 'bonus': 0, 'bps': 15, 'influence': '11.6', 'creativity': '38.3', 'threat': '39.0', 'ict_index': '8.9', 'total_points': 1, 'in_dreamteam': False}, 'explain': [{'fixture': 6, 'stats': [{'identifier': 'minutes', 'points': 2, 'value': 87}, {'identifier': 'yellow_cards', 'points': -1, 'value': 1}]}]}\n"
    }
   ],
   "source": [
    "\n",
    "for item in player_scores_gameweek1_json['elements']:\n",
    "    if item['id'] == 346:\n",
    "        print(item)"
   ]
  },
  {
   "cell_type": "code",
   "execution_count": 62,
   "metadata": {},
   "outputs": [],
   "source": [
    "# I'll create a dictionary with the contents of each page so I don't end up sending a couple of thousand requests to their server\n",
    "\n",
    "all_weeks_dict = {}\n",
    "for i in range(1,26):\n",
    "    #remember I'm getting 25 weeks worth of data change this as necessary for yourself\n",
    "    url = \"https://fantasy.premierleague.com/api/event/\"+ str(i)+\"/live\"\n",
    "    player_scores_gameweek = session.get(url)\n",
    "    all_weeks_dict[i] = json.loads(player_scores_gameweek.text)\n",
    "    \n",
    "\n",
    "\n",
    ""
   ]
  },
  {
   "cell_type": "code",
   "execution_count": 63,
   "metadata": {},
   "outputs": [
    {
     "data": {
      "text/plain": "{'id': 14,\n 'stats': {'minutes': 90,\n  'goals_scored': 0,\n  'assists': 0,\n  'clean_sheets': 1,\n  'goals_conceded': 0,\n  'own_goals': 0,\n  'penalties_saved': 0,\n  'penalties_missed': 0,\n  'yellow_cards': 0,\n  'red_cards': 0,\n  'saves': 2,\n  'bonus': 1,\n  'bps': 27,\n  'influence': '18.0',\n  'creativity': '0.0',\n  'threat': '0.0',\n  'ict_index': '1.8',\n  'total_points': 7,\n  'in_dreamteam': False},\n 'explain': [{'fixture': 10,\n   'stats': [{'identifier': 'minutes', 'points': 2, 'value': 90},\n    {'identifier': 'clean_sheets', 'points': 4, 'value': 1},\n    {'identifier': 'bonus', 'points': 1, 'value': 1}]}]}"
     },
     "execution_count": 63,
     "metadata": {},
     "output_type": "execute_result"
    }
   ],
   "source": [
    "all_weeks_dict[1][\"elements\"][0]"
   ]
  },
  {
   "cell_type": "code",
   "execution_count": 64,
   "metadata": {},
   "outputs": [
    {
     "data": {
      "text/html": "<div>\n<style scoped>\n    .dataframe tbody tr th:only-of-type {\n        vertical-align: middle;\n    }\n\n    .dataframe tbody tr th {\n        vertical-align: top;\n    }\n\n    .dataframe thead th {\n        text-align: right;\n    }\n</style>\n<table border=\"1\" class=\"dataframe\">\n  <thead>\n    <tr style=\"text-align: right;\">\n      <th></th>\n      <th>team_id</th>\n      <th>gameweek</th>\n      <th>player_id</th>\n      <th>position</th>\n      <th>subbed</th>\n    </tr>\n  </thead>\n  <tbody>\n    <tr>\n      <td>0</td>\n      <td>333932</td>\n      <td>1</td>\n      <td>149</td>\n      <td>1</td>\n      <td>N/A</td>\n    </tr>\n    <tr>\n      <td>1</td>\n      <td>333932</td>\n      <td>1</td>\n      <td>204</td>\n      <td>2</td>\n      <td>N/A</td>\n    </tr>\n    <tr>\n      <td>2</td>\n      <td>333932</td>\n      <td>1</td>\n      <td>122</td>\n      <td>3</td>\n      <td>Subbed In</td>\n    </tr>\n    <tr>\n      <td>3</td>\n      <td>333932</td>\n      <td>1</td>\n      <td>334</td>\n      <td>4</td>\n      <td>N/A</td>\n    </tr>\n    <tr>\n      <td>4</td>\n      <td>333932</td>\n      <td>1</td>\n      <td>346</td>\n      <td>5</td>\n      <td>N/A</td>\n    </tr>\n    <tr>\n      <td>...</td>\n      <td>...</td>\n      <td>...</td>\n      <td>...</td>\n      <td>...</td>\n      <td>...</td>\n    </tr>\n    <tr>\n      <td>2245</td>\n      <td>299717</td>\n      <td>25</td>\n      <td>363</td>\n      <td>11</td>\n      <td>N/A</td>\n    </tr>\n    <tr>\n      <td>2246</td>\n      <td>299717</td>\n      <td>25</td>\n      <td>14</td>\n      <td>12</td>\n      <td>N/A</td>\n    </tr>\n    <tr>\n      <td>2247</td>\n      <td>299717</td>\n      <td>25</td>\n      <td>522</td>\n      <td>13</td>\n      <td>N/A</td>\n    </tr>\n    <tr>\n      <td>2248</td>\n      <td>299717</td>\n      <td>25</td>\n      <td>505</td>\n      <td>14</td>\n      <td>N/A</td>\n    </tr>\n    <tr>\n      <td>2249</td>\n      <td>299717</td>\n      <td>25</td>\n      <td>477</td>\n      <td>15</td>\n      <td>N/A</td>\n    </tr>\n  </tbody>\n</table>\n<p>2250 rows × 5 columns</p>\n</div>",
      "text/plain": "     team_id  gameweek  player_id  position     subbed\n0     333932         1        149         1        N/A\n1     333932         1        204         2        N/A\n2     333932         1        122         3  Subbed In\n3     333932         1        334         4        N/A\n4     333932         1        346         5        N/A\n...      ...       ...        ...       ...        ...\n2245  299717        25        363        11        N/A\n2246  299717        25         14        12        N/A\n2247  299717        25        522        13        N/A\n2248  299717        25        505        14        N/A\n2249  299717        25        477        15        N/A\n\n[2250 rows x 5 columns]"
     },
     "execution_count": 64,
     "metadata": {},
     "output_type": "execute_result"
    }
   ],
   "source": [
    "all_players_df.reset_index(drop=True)"
   ]
  },
  {
   "cell_type": "code",
   "execution_count": 65,
   "metadata": {},
   "outputs": [
    {
     "name": "stdout",
     "output_type": "stream",
     "text": "\n1\n0\n2\n2\n0\n0\n0\n0\n0\n2\n2\n0\n2\n1\n2\n1\n0\n2\n1\n0\n0\n1\n1\n1\n0\n0\n7\n1\n2\n0\n2\n0\n0\n1\n1\n0\n0\n0\n0\n10\n0\n14\n5\n1\n1\n5\n8\n6\n0\n1\n9\n2\n1\n1\n7\n0\n0\n2\n0\n1\n13\n0\n0\n0\n0\n2\n0\n3\n0\n0\n0\n0\n1\n3\n0\n6\n0\n0\n4\n8\n0\n3\n0\n0\n2\n0\n6\n0\n3\n0\n0\n4\n0\n0\n6\n0\n0\n0\n0\n2\n0\n2\n2\n0\n0\n3\n0\n0\n0\n0\n0\n0\n5\n6\n0\n0\n6\n0\n0\n0\n0\n0\n0\n0\n0\n0\n0\n0\n0\n0\n0\n0\n1\n0\n1\n0\n0\n0\n0\n0\n0\n0\n0\n0\n1\n1\n0\n0\n0\n1\n0\n9\n8\n0\n0\n0\n5\n0\n8\n0\n1\n1\n0\n0\n0\n0\n0\n14\n0\n6\n2\n0\n0\n0\n2\n1\n1\n0\n1\n1\n0\n6\n6\n7\n0\n0\n2\n2\n2\n2\n0\n2\n1\n8\n2\n2\n0\n2\n0\n0\n0\n6\n0\n0\n1\n0\n0\n0\n2\n2\n0\n2\n0\n0\n0\n0\n0\n2\n2\n0\n0\n0\n0\n2\n1\n0\n1\n6\n0\n5\n0\n6\n0\n11\n6\n8\n0\n6\n2\n1\n1\n2\n0\n10\n2\n0\n0\n2\n2\n1\n0\n0\n0\n2\n0\n1\n2\n0\n0\n0\n2\n12\n0\n0\n0\n1\n1\n0\n1\n0\n0\n0\n0\n4\n2\n1\n1\n2\n0\n0\n0\n7\n0\n2\n0\n0\n2\n0\n1\n0\n0\n2\n5\n7\n1\n1\n1\n0\n1\n0\n0\n0\n0\n7\n2\n1\n1\n9\n0\n9\n0\n5\n1\n0\n0\n0\n0\n0\n1\n0\n0\n0\n3\n2\n0\n0\n2\n1\n13\n2\n2\n0\n0\n1\n0\n0\n6\n0\n0\n0\n0\n2\n0\n0\n2\n3\n0\n0\n0\n3\n0\n0\n0\n0\n5\n2\n0\n1\n2\n0\n3\n0\n0\n9\n1\n3\n0\n0\n0\n2\n1\n1\n0\n1\n2\n2\n0\n6\n6\n10\n6\n2\n0\n0\n0\n0\n2\n11\n0\n0\n1\n2\n0\n0\n0\n0\n0\n2\n1\n0\n7\n1\n1\n2\n2\n0\n0\n5\n3\n0\n0\n6\n11\n1\n3\n3\n0\n1\n0\n0\n0\n6\n2\n0\n2\n0\n2\n0\n0\n2\n3\n1\n0\n0\n2\n0\n0\n3\n1\n0\n2\n3\n3\n3\n1\n0\n2\n3\n2\n2\n0\n0\n0\n6\n0\n0\n2\n1\n0\n7\n2\n1\n2\n0\n1\n0\n0\n0\n9\n2\n1\n2\n0\n0\n2\n0\n0\n1\n2\n1\n0\n1\n1\n2\n0\n0\n2\n0\n1\n2\n0\n2\n0\n0\n2\n0\n2\n1\n1\n1\n0\n0\n1\n1\n3\n9\n0\n0\n0\n3\n1\n1\n1\n0\n3\n0\n0\n0\n2\n0\n1\n2\n1\n0\n0\n2\n3\n3\n1\n0\n-2\n1\n0\n0\n0\n0\n0\n0\n0\n1\n0\n2\n1\n0\n0\n2\n1\n0\n0\n0\n0\n0\n2\n1\n2\n6\n0\n0\n5\n1\n0\n1\n0\n0\n0\n8\n0\n2\n1\n0\n7\n0\n9\n0\n0\n0\n1\n1\n1\n1\n0\n9\n0\n0\n0\n2\n0\n0\n2\n0\n0\n0\n0\n0\n7\n1\n2\n0\n0\n2\n2\n2\n0\n0\n2\n2\n2\n1\n1\n2\n1\n0\n1\n1\n1\n1\n0\n0\n0\n1\n1\n0\n4\n0\n0\n0\n0\n1\n2\n0\n2\n0\n0\n2\n1\n0\n7\n0\n0\n3\n0\n9\n0\n2\n0\n0\n3\n0\n0\n16\n0\n0\n0\n0\n0\n0\n8\n10\n0\n0\n2\n0\n0\n0\n0\n0\n0\n2\n3\n0\n0\n8\n0\n0\n0\n0\n0\n0\n0\n0\n0\n0\n0\n0\n0\n0\n0\n1\n0\n7\n0\n0\n0\n0\n0\n0\n0\n0\n0\n0\n2\n0\n0\n0\n1\n0\n6\n8\n0\n0\n0\n6\n0\n5\n0\n0\n0\n0\n0\n0\n0\n0\n6\n0\n1\n7\n0\n0\n0\n1\n1\n1\n0\n1\n0\n0\n-1\n0\n1\n0\n0\n6\n2\n19\n6\n0\n6\n0\n2\n1\n2\n1\n0\n1\n0\n0\n6\n0\n0\n6\n0\n0\n0\n1\n2\n0\n0\n0\n0\n0\n0\n0\n0\n2\n8\n0\n0\n0\n10\n1\n0\n0\n0\n0\n1\n0\n4\n0\n2\n1\n2\n0\n2\n-1\n-6\n-1\n-2\n-1\n1\n-2\n0\n0\n0\n1\n0\n1\n0\n0\n1\n0\n0\n6\n6\n0\n0\n7\n6\n0\n0\n2\n0\n0\n2\n0\n1\n1\n0\n0\n2\n8\n2\n0\n0\n1\n2\n0\n2\n0\n5\n1\n0\n1\n0\n-1\n0\n1\n1\n1\n1\n0\n0\n1\n0\n3\n0\n0\n0\n0\n-1\n2\n1\n0\n1\n1\n6\n0\n1\n-1\n0\n1\n0\n0\n1\n0\n0\n0\n0\n2\n5\n0\n0\n1\n0\n1\n1\n2\n0\n0\n1\n0\n0\n7\n0\n0\n0\n0\n1\n0\n0\n1\n3\n0\n0\n0\n0\n0\n0\n3\n0\n8\n6\n0\n1\n2\n2\n12\n0\n0\n0\n0\n2\n0\n0\n0\n5\n10\n2\n0\n0\n7\n2\n0\n5\n2\n1\n2\n2\n0\n0\n1\n0\n8\n9\n0\n1\n1\n3\n0\n0\n0\n0\n7\n5\n0\n0\n0\n0\n2\n9\n2\n0\n0\n11\n6\n0\n0\n3\n9\n1\n0\n8\n0\n6\n0\n1\n0\n6\n2\n0\n3\n0\n8\n0\n1\n20\n2\n1\n0\n1\n-1\n0\n0\n2\n6\n1\n2\n1\n1\n2\n0\n0\n2\n2\n2\n2\n0\n1\n0\n2\n0\n0\n2\n5\n2\n2\n1\n0\n2\n0\n1\n0\n0\n0\n2\n2\n2\n1\n0\n0\n1\n0\n0\n3\n1\n8\n9\n0\n2\n2\n0\n0\n1\n0\n1\n2\n0\n2\n0\n0\n2\n4\n2\n0\n20\n2\n0\n0\n0\n0\n0\n11\n1\n0\n0\n5\n2\n2\n2\n0\n2\n0\n0\n0\n2\n0\n0\n2\n3\n0\n0\n2\n1\n2\n0\n0\n0\n0\n1\n1\n0\n0\n0\n1\n0\n2\n0\n2\n1\n0\n0\n2\n5\n0\n0\n1\n0\n0\n1\n2\n1\n7\n0\n2\n0\n1\n1\n1\n0\n0\n7\n20\n0\n2\n1\n1\n5\n0\n9\n1\n0\n0\n2\n0\n1\n2\n0\n1\n0\n0\n0\n7\n0\n0\n1\n1\n0\n0\n0\n0\n2\n2\n2\n0\n0\n6\n2\n5\n0\n0\n2\n8\n0\n0\n0\n9\n0\n0\n0\n1\n0\n8\n0\n0\n0\n1\n0\n4\n0\n6\n0\n0\n0\n0\n2\n2\n0\n2\n0\n2\n0\n2\n0\n8\n0\n0\n2\n0\n1\n0\n3\n0\n0\n2\n0\n0\n2\n0\n0\n0\n1\n0\n0\n2\n3\n0\n0\n3\n0\n0\n0\n0\n0\n0\n3\n6\n0\n0\n9\n0\n0\n0\n0\n0\n0\n0\n0\n0\n0\n0\n0\n0\n0\n0\n1\n0\n2\n0\n0\n0\n0\n0\n0\n0\n0\n0\n7\n12\n0\n0\n0\n7\n0\n5\n6\n0\n0\n0\n12\n0\n6\n0\n1\n0\n1\n0\n1\n0\n0\n0\n0\n2\n2\n2\n0\n0\n2\n1\n0\n0\n1\n0\n0\n6\n2\n0\n0\n0\n6\n2\n6\n5\n0\n14\n1\n9\n7\n1\n0\n0\n2\n0\n14\n0\n2\n0\n2\n1\n0\n0\n1\n1\n0\n0\n0\n0\n0\n0\n0\n0\n1\n6\n1\n0\n0\n1\n7\n0\n1\n1\n0\n1\n0\n6\n0\n6\n6\n6\n0\n21\n1\n0\n2\n1\n1\n1\n0\n0\n2\n0\n2\n0\n2\n0\n1\n9\n0\n0\n0\n1\n1\n1\n1\n0\n0\n0\n0\n0\n0\n1\n1\n0\n7\n0\n0\n2\n2\n2\n0\n0\n1\n1\n0\n5\n0\n0\n6\n1\n1\n0\n0\n0\n0\n1\n6\n2\n2\n0\n6\n0\n2\n0\n0\n0\n0\n1\n8\n1\n1\n2\n2\n0\n0\n2\n1\n0\n0\n0\n0\n1\n1\n0\n2\n0\n2\n0\n3\n0\n2\n1\n0\n1\n5\n0\n0\n0\n0\n0\n1\n0\n0\n0\n0\n3\n0\n0\n3\n2\n0\n0\n0\n1\n0\n0\n2\n0\n1\n1\n0\n2\n2\n2\n2\n0\n0\n1\n0\n4\n0\n0\n0\n2\n2\n0\n1\n1\n2\n2\n0\n2\n1\n0\n1\n2\n0\n0\n1\n0\n9\n3\n0\n0\n4\n3\n0\n0\n0\n0\n2\n12\n1\n0\n2\n1\n0\n2\n2\n0\n0\n1\n2\n0\n0\n2\n1\n1\n2\n1\n0\n2\n0\n1\n0\n2\n1\n0\n2\n0\n2\n0\n0\n3\n2\n1\n0\n9\n0\n5\n0\n2\n2\n1\n2\n1\n0\n2\n2\n0\n9\n3\n2\n9\n0\n5\n0\n1\n0\n0\n2\n2\n1\n9\n2\n0\n0\n0\n2\n0\n0\n0\n2\n2\n1\n0\n0\n0\n2\n0\n0\n2\n4\n1\n9\n0\n2\n1\n0\n0\n0\n0\n2\n6\n0\n2\n0\n0\n2\n11\n2\n0\n9\n2\n0\n1\n0\n2\n0\n3\n0\n0\n0\n1\n7\n2\n3\n0\n3\n0\n0\n0\n0\n0\n0\n2\n0\n0\n0\n2\n3\n0\n0\n0\n0\n1\n0\n1\n1\n0\n0\n1\n0\n3\n0\n0\n1\n0\n0\n0\n8\n4\n0\n1\n0\n0\n0\n1\n7\n0\n13\n0\n1\n0\n1\n0\n1\n0\n5\n1\n6\n0\n2\n1\n6\n1\n0\n2\n1\n0\n0\n2\n1\n1\n2\n0\n2\n0\n0\n0\n0\n0\n0\n7\n2\n0\n0\n0\n0\n9\n1\n2\n1\n1\n2\n5\n12\n1\n0\n5\n2\n0\n0\n1\n2\n1\n0\n0\n1\n1\n2\n0\n0\n0\n0\n0\n2\n2\n7\n0\n0\n0\n0\n9\n0\n0\n6\n0\n2\n0\n2\n0\n6\n0\n0\n2\n0\n0\n1\n2\n0\n0\n2\n0\n0\n1\n0\n0\n0\n2\n0\n0\n3\n9\n0\n0\n3\n0\n0\n0\n1\n0\n0\n2\n3\n0\n0\n4\n0\n0\n0\n0\n0\n0\n0\n0\n0\n0\n0\n0\n0\n0\n0\n0\n1\n0\n0\n0\n0\n0\n0\n1\n0\n0\n1\n0\n1\n-1\n0\n0\n0\n6\n0\n1\n1\n0\n0\n1\n1\n0\n1\n0\n5\n12\n0\n6\n6\n0\n0\n0\n0\n0\n1\n5\n0\n0\n2\n1\n1\n0\n1\n0\n0\n2\n2\n1\n0\n0\n7\n2\n6\n5\n0\n8\n0\n5\n2\n2\n1\n0\n2\n0\n1\n0\n0\n0\n1\n0\n0\n0\n0\n2\n0\n1\n0\n0\n0\n0\n0\n0\n8\n4\n6\n0\n0\n1\n10\n0\n1\n1\n0\n1\n0\n2\n0\n2\n8\n2\n0\n2\n1\n0\n0\n1\n1\n1\n0\n0\n2\n0\n0\n0\n2\n0\n0\n4\n0\n6\n3\n0\n1\n0\n6\n7\n0\n0\n1\n0\n0\n0\n0\n1\n1\n0\n0\n2\n1\n2\n1\n0\n0\n1\n0\n1\n0\n6\n1\n0\n0\n0\n0\n1\n0\n0\n0\n6\n1\n0\n0\n0\n6\n0\n0\n0\n1\n0\n2\n1\n6\n4\n0\n0\n0\n9\n0\n0\n0\n0\n0\n0\n1\n0\n2\n0\n1\n0\n2\n0\n2\n0\n0\n2\n2\n0\n0\n0\n1\n0\n4\n0\n0\n0\n0\n-1\n1\n0\n1\n5\n0\n0\n0\n2\n0\n0\n0\n0\n6\n1\n0\n3\n5\n3\n7\n0\n0\n1\n0\n0\n3\n0\n0\n1\n2\n2\n0\n1\n2\n2\n0\n10\n2\n0\n2\n10\n0\n0\n0\n2\n9\n3\n0\n0\n1\n3\n0\n0\n0\n0\n8\n7\n1\n0\n0\n0\n9\n6\n2\n1\n0\n2\n2\n0\n0\n10\n0\n0\n2\n2\n0\n10\n0\n1\n0\n2\n2\n0\n8\n0\n5\n0\n0\n1\n2\n1\n0\n2\n0\n1\n0\n2\n2\n2\n2\n1\n0\n2\n2\n0\n2\n1\n2\n2\n0\n2\n0\n0\n0\n0\n2\n8\n0\n3\n1\n0\n1\n0\n2\n1\n0\n0\n3\n1\n2\n0\n0\n3\n0\n0\n0\n1\n1\n2\n2\n0\n2\n1\n0\n0\n2\n0\n11\n4\n0\n5\n0\n0\n2\n1\n0\n0\n8\n2\n0\n2\n1\n1\n1\n6\n1\n0\n0\n3\n8\n0\n2\n0\n2\n0\n0\n0\n1\n0\n1\n1\n1\n0\n0\n5\n10\n0\n3\n0\n0\n1\n0\n2\n0\n0\n0\n1\n1\n2\n0\n0\n0\n0\n0\n0\n2\n2\n0\n0\n1\n0\n0\n2\n2\n1\n2\n0\n8\n6\n0\n0\n0\n0\n2\n1\n12\n0\n2\n0\n2\n0\n0\n5\n1\n0\n0\n2\n0\n0\n8\n0\n7\n1\n0\n0\n2\n0\n0\n12\n5\n0\n0\n0\n0\n9\n1\n2\n1\n1\n1\n2\n8\n4\n0\n2\n2\n1\n0\n0\n2\n0\n0\n0\n1\n1\n1\n0\n0\n0\n0\n0\n0\n9\n0\n3\n0\n0\n0\n0\n9\n7\n0\n1\n0\n1\n0\n2\n0\n6\n0\n0\n3\n0\n2\n0\n2\n0\n0\n3\n0\n0\n11\n0\n0\n0\n2\n0\n0\n2\n1\n0\n0\n2\n0\n0\n0\n0\n1\n0\n2\n0\n0\n0\n2\n0\n0\n0\n0\n0\n0\n0\n0\n0\n0\n0\n0\n0\n0\n0\n1\n0\n0\n0\n0\n0\n0\n0\n0\n0\n0\n0\n0\n1\n2\n0\n0\n0\n0\n0\n9\n1\n0\n0\n-3\n1\n0\n0\n0\n5\n17\n0\n6\n6\n0\n0\n0\n0\n1\n1\n0\n0\n0\n0\n1\n1\n0\n2\n0\n1\n1\n1\n0\n0\n0\n7\n1\n8\n6\n0\n6\n1\n6\n2\n2\n1\n0\n2\n0\n0\n2\n0\n0\n2\n0\n0\n0\n0\n1\n0\n0\n0\n0\n0\n1\n0\n0\n1\n0\n1\n0\n0\n0\n1\n0\n6\n5\n5\n0\n0\n1\n0\n1\n1\n0\n0\n3\n0\n3\n0\n1\n1\n7\n0\n0\n1\n0\n1\n1\n1\n0\n0\n6\n0\n1\n0\n0\n1\n1\n1\n0\n0\n0\n1\n7\n0\n0\n0\n0\n0\n0\n0\n2\n2\n2\n0\n0\n1\n1\n0\n1\n0\n1\n0\n1\n6\n0\n0\n6\n5\n0\n8\n1\n1\n0\n1\n0\n0\n1\n0\n0\n1\n0\n1\n1\n1\n2\n0\n2\n0\n1\n0\n0\n0\n0\n0\n1\n6\n0\n2\n0\n1\n0\n1\n0\n1\n14\n6\n8\n3\n0\n0\n0\n1\n0\n0\n0\n0\n0\n1\n2\n2\n0\n1\n5\n0\n0\n0\n2\n0\n1\n1\n0\n3\n0\n0\n3\n2\n3\n2\n0\n0\n0\n0\n1\n8\n0\n0\n7\n2\n5\n0\n1\n2\n2\n0\n2\n2\n0\n2\n2\n0\n0\n0\n0\n3\n3\n0\n0\n4\n3\n0\n0\n0\n0\n0\n9\n3\n0\n0\n0\n1\n3\n2\n1\n0\n2\n7\n0\n10\n0\n2\n1\n2\n0\n0\n2\n0\n1\n0\n5\n2\n0\n2\n0\n0\n0\n0\n8\n2\n1\n0\n2\n0\n2\n0\n1\n3\n0\n2\n10\n0\n2\n3\n0\n13\n2\n2\n5\n0\n2\n0\n2\n0\n0\n0\n13\n1\n5\n7\n0\n2\n0\n1\n2\n0\n0\n2\n0\n2\n0\n0\n2\n0\n0\n6\n1\n0\n1\n4\n0\n2\n5\n1\n0\n1\n0\n2\n10\n0\n5\n0\n0\n2\n2\n0\n0\n2\n7\n0\n1\n0\n0\n4\n3\n4\n0\n0\n1\n0\n0\n3\n0\n0\n0\n0\n0\n0\n0\n1\n0\n1\n0\n0\n2\n1\n1\n1\n0\n2\n1\n0\n0\n0\n1\n0\n0\n0\n0\n0\n0\n0\n0\n0\n0\n0\n5\n12\n0\n0\n1\n0\n0\n2\n0\n0\n7\n0\n6\n7\n0\n0\n1\n0\n2\n1\n12\n0\n9\n1\n2\n1\n0\n11\n5\n0\n0\n5\n6\n1\n2\n0\n6\n2\n1\n0\n6\n0\n1\n2\n0\n0\n0\n0\n0\n7\n5\n1\n0\n0\n1\n2\n2\n1\n0\n2\n2\n0\n0\n5\n2\n4\n0\n0\n0\n1\n0\n0\n0\n0\n1\n0\n0\n3\n0\n2\n0\n0\n0\n0\n1\n0\n0\n3\n0\n8\n0\n2\n0\n2\n0\n0\n-1\n0\n1\n0\n1\n0\n0\n4\n0\n0\n1\n0\n0\n0\n2\n0\n0\n2\n2\n0\n0\n3\n0\n0\n0\n0\n0\n0\n0\n3\n0\n0\n1\n0\n0\n0\n1\n0\n0\n0\n0\n0\n10\n0\n0\n0\n0\n4\n0\n1\n0\n0\n0\n0\n0\n0\n0\n0\n0\n0\n0\n0\n1\n0\n0\n0\n8\n0\n1\n1\n0\n0\n0\n0\n0\n0\n0\n1\n1\n0\n0\n1\n0\n0\n0\n0\n0\n1\n2\n0\n0\n1\n6\n8\n1\n0\n4\n6\n1\n1\n1\n0\n0\n7\n0\n2\n2\n0\n2\n0\n2\n10\n17\n0\n0\n2\n0\n1\n1\n0\n0\n1\n0\n0\n0\n0\n8\n0\n0\n0\n0\n0\n0\n0\n0\n0\n1\n1\n0\n0\n0\n1\n0\n1\n1\n1\n0\n0\n1\n0\n1\n4\n1\n0\n2\n0\n2\n1\n2\n2\n7\n0\n0\n0\n1\n4\n0\n1\n0\n0\n1\n0\n1\n0\n1\n1\n2\n1\n0\n0\n0\n14\n6\n1\n0\n6\n0\n7\n0\n0\n10\n2\n2\n0\n0\n0\n0\n2\n2\n0\n0\n0\n0\n7\n1\n0\n1\n1\n0\n0\n2\n0\n0\n1\n0\n1\n0\n0\n0\n2\n1\n7\n0\n2\n4\n0\n0\n0\n2\n0\n0\n1\n0\n0\n0\n0\n0\n6\n0\n2\n2\n1\n0\n2\n2\n9\n4\n2\n0\n0\n0\n1\n0\n2\n0\n0\n0\n2\n2\n0\n0\n2\n2\n0\n0\n0\n5\n0\n1\n1\n0\n1\n2\n0\n2\n0\n2\n1\n2\n0\n1\n0\n2\n1\n0\n0\n11\n3\n3\n0\n6\n3\n3\n0\n8\n1\n0\n0\n2\n0\n0\n0\n1\n2\n2\n0\n1\n0\n2\n0\n0\n0\n0\n3\n2\n3\n0\n1\n0\n0\n2\n2\n0\n0\n7\n10\n0\n2\n1\n5\n1\n1\n1\n0\n2\n0\n1\n2\n2\n1\n0\n2\n0\n0\n0\n0\n2\n5\n4\n0\n9\n0\n2\n0\n1\n5\n0\n4\n8\n0\n0\n2\n0\n1\n3\n0\n9\n0\n0\n0\n5\n0\n0\n0\n10\n0\n15\n1\n0\n1\n0\n7\n2\n0\n0\n2\n0\n3\n0\n0\n6\n1\n0\n3\n3\n0\n0\n3\n0\n3\n3\n0\n0\n5\n0\n2\n2\n0\n2\n0\n0\n1\n4\n0\n1\n2\n2\n0\n5\n1\n2\n1\n2\n1\n0\n0\n2\n2\n0\n2\n0\n0\n0\n0\n0\n0\n0\n2\n0\n5\n0\n0\n2\n12\n2\n1\n0\n2\n0\n0\n1\n0\n7\n0\n0\n0\n1\n0\n0\n1\n0\n0\n0\n0\n0\n0\n0\n0\n13\n2\n0\n0\n0\n0\n0\n2\n0\n2\n9\n0\n2\n2\n0\n2\n1\n0\n0\n2\n6\n11\n2\n1\n0\n2\n0\n5\n1\n0\n0\n8\n0\n0\n2\n0\n9\n1\n1\n0\n2\n0\n0\n2\n1\n0\n0\n0\n0\n5\n2\n2\n0\n0\n1\n1\n0\n0\n0\n2\n2\n0\n1\n1\n1\n1\n0\n0\n0\n0\n2\n0\n0\n0\n1\n0\n0\n3\n0\n3\n0\n0\n0\n0\n1\n3\n0\n2\n0\n8\n0\n0\n0\n6\n0\n0\n0\n0\n2\n0\n3\n0\n0\n10\n0\n0\n2\n0\n0\n0\n2\n0\n0\n2\n2\n0\n0\n7\n0\n0\n0\n0\n0\n0\n0\n1\n0\n0\n2\n0\n0\n0\n1\n0\n0\n0\n0\n0\n2\n0\n0\n0\n0\n0\n0\n2\n0\n0\n0\n0\n0\n0\n0\n6\n0\n0\n0\n1\n1\n0\n0\n0\n2\n0\n0\n2\n0\n2\n1\n2\n0\n9\n0\n0\n0\n0\n0\n0\n0\n0\n0\n0\n2\n0\n0\n2\n0\n2\n1\n6\n-2\n0\n0\n6\n0\n0\n6\n0\n0\n7\n2\n0\n12\n6\n5\n0\n1\n3\n1\n1\n0\n4\n0\n2\n0\n0\n0\n0\n2\n0\n0\n2\n2\n1\n0\n0\n0\n0\n0\n0\n0\n0\n6\n6\n12\n0\n0\n6\n0\n1\n1\n1\n0\n0\n1\n0\n1\n1\n1\n0\n1\n0\n8\n0\n2\n2\n0\n1\n0\n0\n1\n1\n0\n1\n0\n0\n5\n0\n0\n0\n0\n1\n1\n1\n0\n0\n0\n0\n1\n0\n0\n1\n0\n1\n0\n0\n6\n6\n7\n1\n0\n0\n6\n0\n1\n4\n0\n2\n0\n1\n0\n0\n1\n0\n0\n0\n2\n0\n0\n2\n0\n0\n0\n0\n0\n2\n8\n6\n0\n6\n0\n1\n0\n1\n0\n0\n0\n0\n1\n0\n0\n0\n0\n5\n0\n2\n2\n2\n0\n0\n1\n2\n0\n2\n0\n0\n0\n0\n1\n1\n0\n0\n0\n0\n2\n0\n0\n2\n1\n0\n0\n0\n1\n0\n0\n1\n0\n2\n6\n0\n4\n0\n2\n2\n0\n0\n1\n0\n1\n2\n1\n0\n3\n2\n1\n0\n10\n5\n3\n0\n6\n2\n4\n0\n1\n0\n0\n0\n1\n10\n3\n0\n0\n0\n2\n0\n0\n0\n1\n0\n15\n0\n7\n2\n0\n0\n1\n8\n2\n0\n3\n3\n0\n6\n7\n9\n1\n3\n0\n0\n0\n0\n2\n0\n2\n2\n0\n1\n0\n2\n0\n0\n1\n3\n1\n0\n9\n0\n3\n0\n1\n2\n1\n2\n2\n0\n5\n1\n0\n2\n2\n2\n5\n0\n0\n0\n2\n0\n0\n1\n2\n1\n9\n2\n0\n1\n0\n2\n0\n0\n0\n1\n0\n2\n0\n0\n2\n0\n1\n0\n2\n0\n1\n2\n0\n1\n2\n0\n0\n2\n0\n3\n8\n0\n3\n0\n0\n11\n1\n0\n2\n2\n1\n0\n1\n0\n1\n9\n3\n0\n0\n0\n6\n8\n0\n1\n0\n1\n0\n0\n0\n1\n0\n1\n2\n3\n0\n0\n8\n2\n1\n0\n0\n8\n1\n0\n1\n0\n2\n0\n4\n0\n2\n0\n0\n0\n0\n0\n0\n0\n0\n0\n0\n0\n1\n2\n7\n0\n0\n0\n0\n0\n2\n0\n1\n1\n0\n1\n1\n0\n0\n0\n0\n0\n1\n5\n0\n4\n13\n0\n13\n0\n13\n2\n0\n0\n8\n0\n1\n1\n0\n9\n0\n5\n0\n2\n0\n2\n2\n1\n1\n0\n0\n0\n2\n1\n2\n0\n1\n1\n2\n12\n1\n0\n1\n2\n5\n1\n2\n9\n1\n0\n0\n1\n5\n2\n0\n0\n0\n0\n0\n0\n3\n0\n2\n0\n0\n0\n0\n0\n1\n0\n2\n0\n10\n0\n3\n0\n2\n0\n0\n6\n0\n2\n0\n2\n0\n0\n3\n0\n0\n1\n0\n0\n0\n2\n0\n0\n6\n6\n0\n0\n1\n0\n0\n0\n0\n0\n0\n0\n3\n0\n0\n3\n0\n0\n0\n0\n0\n0\n0\n0\n0\n1\n0\n0\n0\n0\n0\n0\n5\n2\n2\n0\n0\n0\n0\n0\n0\n0\n0\n0\n0\n0\n0\n0\n0\n0\n0\n0\n1\n0\n1\n1\n0\n0\n1\n0\n0\n0\n-1\n0\n0\n0\n0\n0\n0\n1\n0\n0\n1\n0\n3\n0\n5\n0\n0\n0\n8\n1\n0\n2\n0\n1\n1\n2\n2\n8\n0\n2\n0\n6\n1\n6\n5\n0\n1\n0\n0\n0\n0\n0\n0\n7\n0\n0\n1\n2\n2\n0\n0\n0\n0\n0\n0\n1\n0\n9\n2\n2\n0\n0\n1\n0\n1\n1\n4\n1\n0\n9\n0\n2\n14\n1\n0\n2\n0\n1\n0\n1\n4\n-1\n0\n0\n0\n11\n6\n0\n6\n0\n0\n6\n0\n0\n6\n6\n0\n5\n5\n0\n0\n0\n0\n7\n0\n0\n1\n0\n1\n0\n0\n1\n4\n1\n0\n0\n1\n1\n0\n1\n1\n0\n1\n0\n0\n0\n0\n3\n1\n1\n1\n1\n2\n0\n0\n0\n2\n1\n0\n0\n0\n1\n2\n8\n1\n6\n1\n0\n0\n0\n0\n0\n0\n0\n0\n0\n0\n0\n0\n2\n0\n2\n2\n2\n0\n1\n0\n6\n2\n1\n0\n0\n0\n0\n0\n2\n1\n0\n0\n0\n7\n0\n0\n5\n2\n0\n0\n0\n1\n0\n1\n2\n0\n2\n2\n0\n2\n0\n2\n2\n0\n0\n1\n0\n0\n2\n0\n0\n2\n3\n3\n0\n1\n3\n3\n0\n6\n2\n1\n2\n4\n0\n0\n1\n2\n9\n1\n0\n1\n0\n2\n0\n0\n0\n0\n13\n0\n8\n1\n0\n14\n0\n7\n0\n3\n0\n2\n1\n0\n4\n1\n2\n0\n2\n1\n0\n10\n0\n2\n0\n5\n2\n0\n0\n0\n2\n0\n0\n0\n2\n0\n0\n9\n4\n2\n2\n2\n2\n0\n2\n1\n0\n9\n0\n0\n2\n1\n2\n1\n0\n0\n0\n1\n0\n0\n0\n12\n0\n9\n8\n0\n0\n0\n8\n2\n0\n1\n2\n3\n0\n0\n0\n2\n1\n0\n2\n2\n0\n0\n1\n0\n2\n2\n0\n0\n5\n0\n2\n2\n0\n2\n0\n0\n2\n5\n0\n1\n2\n9\n0\n2\n0\n0\n2\n2\n0\n0\n0\n2\n1\n0\n2\n0\n1\n0\n0\n0\n12\n1\n0\n0\n2\n0\n0\n2\n0\n0\n1\n0\n2\n5\n1\n0\n1\n3\n0\n1\n0\n2\n1\n0\n0\n0\n0\n0\n0\n0\n0\n0\n0\n1\n1\n0\n12\n0\n0\n0\n1\n0\n0\n2\n0\n2\n2\n0\n0\n2\n1\n0\n1\n0\n0\n12\n13\n10\n2\n0\n0\n2\n0\n9\n0\n0\n0\n2\n1\n0\n2\n0\n8\n0\n2\n0\n16\n0\n2\n2\n1\n0\n0\n0\n0\n5\n13\n1\n0\n1\n2\n1\n2\n1\n0\n1\n2\n1\n0\n1\n8\n7\n1\n0\n0\n4\n0\n0\n0\n0\n0\n0\n0\n0\n2\n0\n3\n0\n0\n0\n0\n6\n1\n0\n2\n0\n8\n0\n5\n0\n2\n0\n0\n6\n0\n6\n0\n3\n0\n0\n3\n0\n0\n0\n0\n0\n0\n3\n0\n0\n3\n2\n0\n0\n2\n0\n0\n0\n0\n0\n0\n0\n6\n0\n0\n10\n0\n0\n0\n0\n0\n0\n0\n0\n0\n5\n0\n0\n0\n0\n0\n0\n0\n0\n1\n0\n0\n0\n0\n0\n0\n0\n0\n0\n0\n1\n2\n1\n0\n0\n2\n0\n0\n0\n0\n6\n7\n0\n0\n6\n0\n6\n6\n0\n6\n0\n0\n0\n0\n2\n2\n0\n2\n0\n0\n4\n0\n5\n0\n0\n2\n2\n1\n2\n2\n2\n5\n2\n2\n2\n2\n0\n3\n0\n1\n6\n7\n8\n0\n0\n0\n6\n5\n0\n1\n0\n8\n0\n0\n0\n-1\n2\n0\n0\n0\n0\n0\n0\n2\n0\n2\n2\n2\n0\n0\n0\n0\n2\n2\n2\n0\n0\n6\n0\n6\n6\n6\n0\n11\n0\n2\n0\n2\n2\n0\n0\n0\n0\n10\n1\n0\n1\n0\n1\n2\n0\n0\n1\n0\n1\n1\n1\n0\n0\n0\n6\n6\n0\n0\n6\n1\n8\n0\n0\n1\n0\n1\n0\n0\n0\n0\n0\n7\n0\n0\n0\n0\n0\n6\n8\n0\n2\n1\n1\n2\n1\n0\n2\n0\n2\n0\n0\n0\n2\n2\n2\n0\n0\n0\n0\n0\n0\n0\n0\n0\n0\n0\n0\n0\n0\n0\n0\n0\n0\n0\n0\n1\n0\n2\n0\n2\n0\n2\n0\n0\n2\n2\n0\n0\n0\n2\n0\n8\n0\n0\n0\n2\n1\n0\n0\n0\n3\n0\n0\n0\n2\n0\n7\n8\n0\n3\n0\n0\n3\n8\n3\n3\n0\n0\n1\n0\n3\n2\n0\n0\n8\n2\n0\n1\n0\n2\n2\n0\n1\n0\n3\n0\n1\n0\n0\n1\n0\n2\n1\n0\n0\n1\n4\n0\n0\n0\n0\n16\n6\n1\n3\n0\n0\n0\n2\n1\n2\n0\n10\n19\n0\n1\n1\n0\n4\n2\n2\n0\n2\n0\n2\n1\n5\n2\n0\n0\n0\n2\n0\n0\n0\n0\n2\n0\n0\n2\n2\n1\n5\n1\n1\n2\n1\n0\n1\n1\n0\n15\n2\n1\n2\n0\n1\n0\n1\n0\n0\n1\n2\n4\n2\n8\n0\n1\n0\n2\n4\n0\n0\n2\n0\n1\n0\n0\n2\n0\n1\n3\n0\n0\n1\n2\n0\n3\n3\n1\n0\n6\n0\n2\n1\n0\n10\n0\n0\n1\n2\n0\n0\n3\n0\n0\n2\n0\n0\n2\n2\n0\n0\n0\n2\n1\n0\n1\n1\n3\n0\n0\n0\n2\n0\n1\n2\n0\n0\n0\n0\n0\n0\n0\n0\n2\n1\n1\n0\n0\n2\n0\n0\n0\n1\n1\n0\n1\n0\n0\n0\n0\n0\n0\n0\n0\n0\n0\n0\n0\n1\n2\n0\n0\n1\n0\n0\n0\n0\n2\n1\n2\n0\n2\n9\n0\n0\n1\n0\n0\n2\n5\n1\n2\n4\n0\n5\n0\n2\n8\n1\n0\n9\n0\n0\n5\n0\n2\n0\n2\n0\n1\n0\n2\n2\n1\n0\n0\n0\n0\n5\n2\n2\n0\n1\n1\n9\n2\n1\n0\n1\n2\n0\n1\n1\n6\n2\n0\n0\n0\n1\n0\n0\n0\n0\n1\n0\n0\n1\n6\n0\n2\n0\n0\n0\n0\n7\n2\n0\n6\n0\n2\n0\n6\n0\n5\n0\n0\n0\n0\n2\n0\n1\n0\n0\n8\n0\n0\n1\n0\n0\n0\n3\n0\n0\n0\n11\n0\n0\n4\n0\n0\n0\n0\n0\n0\n0\n12\n0\n0\n2\n0\n0\n0\n0\n0\n0\n0\n0\n0\n0\n0\n0\n0\n0\n0\n0\n0\n0\n6\n0\n0\n0\n0\n0\n0\n0\n0\n0\n1\n0\n1\n0\n0\n0\n2\n0\n0\n0\n0\n2\n1\n0\n0\n1\n0\n6\n6\n0\n6\n7\n0\n0\n11\n5\n6\n9\n0\n0\n0\n1\n2\n2\n0\n0\n0\n2\n9\n6\n1\n0\n0\n1\n1\n1\n1\n0\n0\n0\n0\n0\n0\n0\n0\n0\n0\n2\n5\n6\n0\n0\n2\n0\n0\n0\n1\n0\n0\n0\n0\n0\n0\n0\n5\n1\n6\n8\n6\n6\n0\n0\n0\n0\n1\n1\n0\n0\n5\n0\n7\n6\n6\n0\n6\n0\n2\n0\n2\n10\n1\n0\n0\n0\n1\n0\n1\n1\n0\n0\n1\n0\n0\n11\n0\n6\n6\n5\n0\n0\n0\n0\n0\n0\n0\n0\n0\n0\n0\n0\n4\n1\n2\n0\n0\n0\n7\n0\n5\n0\n0\n0\n0\n0\n2\n0\n0\n0\n1\n1\n5\n8\n0\n2\n0\n6\n0\n0\n0\n2\n2\n0\n0\n1\n6\n0\n0\n0\n7\n0\n0\n0\n0\n0\n0\n0\n0\n0\n0\n0\n0\n0\n0\n0\n1\n3\n3\n0\n0\n1\n8\n1\n1\n0\n0\n0\n0\n0\n1\n0\n0\n0\n0\n2\n0\n0\n2\n2\n0\n0\n0\n1\n0\n2\n2\n0\n2\n1\n0\n2\n5\n3\n16\n0\n0\n0\n0\n1\n3\n0\n0\n2\n2\n0\n1\n0\n2\n2\n0\n3\n2\n0\n0\n2\n0\n0\n2\n0\n2\n5\n0\n1\n1\n1\n0\n0\n0\n0\n0\n0\n0\n0\n0\n0\n0\n0\n0\n0\n0\n5\n4\n0\n8\n2\n0\n1\n2\n8\n1\n2\n0\n2\n1\n1\n2\n0\n0\n0\n2\n0\n0\n2\n10\n0\n0\n3\n1\n3\n1\n4\n1\n0\n2\n10\n0\n2\n2\n0\n0\n3\n2\n4\n0\n2\n0\n2\n0\n0\n1\n-1\n1\n1\n2\n0\n0\n0\n1\n1\n0\n0\n2\n1\n3\n0\n0\n2\n1\n0\n0\n0\n0\n0\n0\n0\n0\n0\n0\n0\n0\n0\n2\n4\n0\n2\n0\n0\n2\n1\n0\n1\n0\n5\n0\n0\n1\n1\n1\n2\n0\n0\n0\n3\n1\n0\n2\n1\n5\n0\n0\n0\n0\n3\n0\n2\n0\n0\n0\n0\n0\n0\n0\n0\n2\n1\n1\n0\n0\n13\n0\n1\n0\n0\n0\n0\n2\n0\n0\n0\n0\n0\n0\n0\n0\n0\n0\n0\n0\n3\n0\n2\n1\n0\n0\n1\n0\n0\n1\n2\n1\n1\n0\n1\n2\n0\n0\n2\n0\n2\n2\n9\n0\n0\n0\n1\n6\n0\n2\n1\n0\n0\n2\n1\n0\n1\n0\n13\n1\n5\n0\n2\n0\n6\n2\n0\n1\n0\n0\n0\n7\n2\n2\n0\n1\n8\n0\n2\n1\n0\n2\n2\n1\n1\n8\n2\n2\n0\n0\n0\n2\n1\n0\n0\n0\n1\n0\n0\n0\n0\n3\n0\n2\n0\n0\n0\n0\n3\n10\n0\n1\n0\n2\n0\n6\n0\n0\n0\n0\n6\n0\n-3\n2\n2\n0\n0\n2\n0\n0\n2\n0\n0\n0\n7\n0\n0\n3\n3\n0\n0\n6\n0\n0\n0\n0\n0\n0\n1\n2\n0\n0\n2\n0\n0\n0\n0\n0\n0\n0\n0\n0\n0\n0\n0\n0\n0\n0\n0\n1\n0\n0\n1\n2\n0\n0\n0\n0\n0\n6\n0\n0\n6\n1\n0\n1\n0\n0\n0\n0\n2\n0\n0\n1\n0\n0\n0\n0\n2\n2\n2\n0\n2\n2\n1\n0\n0\n1\n1\n2\n1\n0\n0\n6\n2\n2\n2\n0\n0\n2\n6\n7\n0\n6\n0\n0\n2\n0\n0\n0\n0\n0\n7\n24\n6\n5\n0\n0\n0\n1\n1\n8\n0\n0\n0\n0\n0\n0\n2\n2\n0\n0\n0\n0\n0\n0\n-1\n0\n0\n0\n0\n0\n0\n0\n0\n0\n3\n2\n0\n2\n2\n0\n2\n6\n2\n0\n2\n0\n5\n0\n8\n6\n6\n0\n0\n0\n2\n2\n0\n1\n0\n0\n5\n0\n0\n2\n0\n2\n2\n1\n0\n0\n0\n0\n1\n0\n0\n0\n0\n1\n0\n0\n8\n1\n1\n1\n0\n1\n1\n0\n2\n0\n1\n0\n0\n0\n8\n0\n6\n2\n0\n0\n1\n0\n0\n0\n0\n6\n0\n0\n0\n9\n10\n0\n0\n0\n12\n0\n0\n1\n0\n0\n0\n0\n0\n0\n1\n0\n0\n0\n0\n0\n0\n0\n0\n2\n0\n0\n2\n1\n0\n0\n8\n6\n3\n0\n0\n0\n0\n1\n1\n4\n0\n0\n0\n1\n0\n0\n0\n2\n2\n0\n0\n0\n1\n0\n8\n1\n1\n2\n3\n0\n0\n2\n2\n2\n1\n0\n2\n0\n1\n1\n0\n0\n2\n2\n0\n2\n0\n2\n9\n0\n3\n3\n3\n1\n1\n0\n0\n1\n0\n1\n1\n0\n1\n0\n2\n0\n0\n0\n1\n3\n6\n0\n0\n1\n3\n0\n3\n3\n6\n0\n10\n5\n0\n1\n2\n0\n0\n2\n1\n1\n15\n0\n1\n1\n0\n2\n0\n4\n0\n0\n0\n0\n1\n2\n1\n0\n0\n2\n0\n1\n2\n1\n1\n2\n2\n0\n1\n1\n0\n2\n10\n8\n3\n0\n3\n0\n6\n0\n0\n1\n0\n1\n8\n1\n0\n1\n0\n1\n1\n0\n0\n0\n1\n2\n0\n0\n2\n6\n0\n5\n1\n1\n0\n8\n0\n2\n2\n0\n0\n1\n0\n5\n2\n0\n13\n0\n0\n2\n1\n0\n0\n1\n0\n0\n0\n0\n0\n2\n2\n0\n0\n0\n1\n3\n0\n2\n0\n1\n0\n0\n0\n1\n5\n1\n1\n0\n0\n0\n0\n1\n0\n0\n0\n2\n2\n0\n1\n1\n1\n0\n1\n0\n2\n1\n7\n2\n0\n0\n0\n0\n0\n0\n0\n0\n0\n0\n0\n0\n0\n0\n7\n1\n0\n0\n0\n0\n0\n1\n2\n0\n1\n0\n1\n2\n0\n0\n0\n4\n0\n7\n2\n0\n12\n1\n1\n0\n0\n6\n8\n0\n0\n1\n0\n0\n2\n0\n1\n8\n0\n0\n8\n0\n2\n5\n1\n0\n0\n0\n0\n11\n2\n1\n0\n2\n2\n2\n2\n0\n0\n5\n12\n0\n1\n2\n1\n0\n0\n0\n1\n0\n2\n0\n0\n0\n1\n0\n0\n0\n0\n1\n0\n6\n0\n0\n0\n0\n1\n2\n0\n2\n0\n3\n0\n3\n0\n3\n0\n0\n6\n0\n0\n6\n6\n0\n0\n3\n0\n0\n1\n0\n0\n0\n2\n0\n0\n1\n6\n0\n8\n2\n0\n0\n0\n0\n0\n0\n0\n1\n0\n0\n2\n0\n0\n0\n0\n0\n0\n0\n0\n0\n0\n0\n0\n0\n0\n0\n0\n1\n0\n0\n0\n0\n0\n0\n0\n0\n0\n1\n0\n0\n1\n6\n6\n0\n0\n0\n8\n0\n0\n0\n0\n1\n0\n0\n0\n1\n0\n0\n1\n0\n0\n0\n0\n0\n0\n1\n2\n0\n1\n0\n0\n0\n0\n10\n2\n0\n0\n2\n0\n1\n2\n1\n2\n0\n8\n0\n2\n2\n0\n2\n6\n8\n6\n8\n0\n0\n0\n6\n0\n1\n7\n0\n0\n0\n0\n6\n7\n1\n0\n0\n0\n0\n0\n0\n7\n1\n1\n0\n0\n1\n0\n0\n0\n0\n1\n1\n0\n1\n0\n0\n1\n1\n1\n0\n0\n0\n2\n0\n2\n2\n2\n0\n0\n0\n1\n0\n0\n1\n0\n1\n-1\n0\n0\n6\n1\n-2\n6\n8\n0\n0\n0\n0\n0\n0\n0\n1\n0\n1\n0\n0\n0\n2\n2\n2\n0\n2\n1\n2\n1\n2\n1\n0\n0\n0\n1\n0\n1\n0\n0\n0\n2\n4\n0\n6\n0\n2\n0\n0\n0\n2\n0\n1\n0\n0\n2\n0\n0\n0\n1\n0\n0\n0\n6\n0\n0\n5\n0\n0\n0\n0\n0\n0\n0\n1\n0\n3\n0\n0\n0\n1\n0\n1\n2\n1\n1\n0\n0\n0\n0\n2\n1\n0\n8\n0\n0\n3\n3\n0\n0\n1\n1\n0\n2\n0\n1\n0\n2\n0\n1\n1\n1\n0\n1\n2\n2\n7\n0\n0\n1\n0\n5\n1\n0\n0\n2\n5\n0\n2\n0\n1\n1\n0\n6\n7\n0\n2\n1\n0\n0\n2\n0\n1\n1\n0\n2\n5\n1\n0\n0\n2\n1\n3\n11\n0\n0\n5\n1\n0\n3\n3\n1\n0\n3\n14\n0\n6\n2\n0\n1\n3\n1\n0\n8\n0\n0\n0\n6\n2\n0\n6\n3\n0\n0\n0\n10\n2\n1\n0\n2\n1\n1\n7\n6\n2\n2\n1\n1\n0\n2\n1\n0\n2\n2\n2\n1\n0\n1\n0\n2\n0\n0\n0\n0\n9\n2\n3\n1\n0\n0\n0\n0\n0\n0\n6\n0\n1\n0\n0\n6\n1\n0\n1\n6\n2\n0\n1\n0\n1\n0\n2\n0\n10\n0\n1\n2\n0\n1\n0\n0\n1\n7\n0\n0\n0\n2\n0\n1\n0\n2\n3\n0\n1\n0\n0\n4\n0\n0\n2\n0\n1\n0\n0\n0\n1\n2\n1\n0\n0\n0\n0\n0\n2\n0\n2\n0\n11\n0\n2\n2\n2\n7\n0\n2\n0\n1\n2\n0\n2\n0\n0\n0\n0\n0\n0\n0\n0\n0\n0\n0\n0\n0\n0\n0\n9\n1\n0\n1\n1\n0\n0\n1\n2\n2\n2\n0\n2\n2\n0\n0\n0\n0\n0\n12\n0\n6\n2\n1\n8\n1\n0\n9\n0\n0\n0\n2\n0\n1\n1\n0\n9\n0\n0\n0\n8\n0\n12\n2\n0\n0\n0\n0\n0\n1\n2\n2\n0\n2\n1\n1\n7\n0\n0\n1\n2\n0\n2\n1\n5\n0\n0\n0\n1\n5\n0\n0\n0\n0\n1\n0\n0\n0\n0\n0\n9\n1\n3\n0\n0\n0\n0\n2\n2\n0\n3\n0\n3\n0\n2\n0\n6\n0\n0\n6\n0\n0\n2\n1\n0\n0\n3\n0\n0\n2\n0\n0\n0\n8\n0\n0\n2\n2\n0\n6\n1\n0\n0\n0\n0\n0\n0\n0\n2\n0\n0\n1\n0\n0\n0\n0\n0\n0\n0\n0\n0\n0\n0\n0\n0\n0\n0\n0\n0\n0\n5\n6\n15\n0\n0\n0\n0\n0\n0\n0\n1\n2\n0\n2\n8\n0\n0\n4\n0\n0\n0\n0\n0\n0\n0\n0\n-1\n1\n1\n0\n0\n1\n1\n0\n0\n0\n2\n11\n6\n0\n0\n0\n1\n0\n2\n1\n0\n0\n2\n1\n0\n0\n0\n0\n6\n1\n6\n6\n8\n8\n1\n12\n6\n7\n6\n0\n0\n0\n0\n2\n0\n0\n0\n0\n0\n0\n0\n1\n1\n0\n0\n0\n0\n0\n0\n1\n1\n0\n0\n0\n1\n0\n0\n0\n0\n1\n1\n0\n1\n1\n0\n1\n1\n1\n0\n1\n0\n6\n0\n5\n11\n0\n0\n0\n0\n2\n2\n0\n0\n0\n0\n1\n0\n1\n-1\n1\n0\n1\n2\n0\n0\n0\n5\n6\n1\n0\n11\n0\n6\n0\n0\n1\n0\n1\n0\n0\n1\n1\n0\n1\n0\n1\n0\n0\n2\n0\n0\n2\n2\n0\n2\n1\n0\n0\n1\n0\n1\n0\n0\n0\n6\n2\n0\n0\n1\n3\n0\n2\n1\n0\n0\n0\n0\n2\n0\n0\n0\n0\n0\n0\n0\n0\n0\n0\n0\n0\n0\n3\n0\n0\n3\n3\n0\n1\n1\n13\n0\n0\n0\n0\n0\n0\n0\n0\n8\n0\n0\n1\n2\n0\n0\n0\n1\n0\n1\n0\n1\n0\n2\n2\n1\n2\n1\n0\n0\n6\n2\n2\n0\n0\n1\n0\n2\n2\n0\n0\n5\n2\n0\n1\n0\n2\n1\n0\n7\n2\n0\n4\n1\n0\n0\n2\n0\n11\n0\n0\n0\n1\n6\n0\n0\n0\n6\n10\n8\n0\n0\n1\n0\n0\n3\n3\n3\n0\n1\n2\n0\n5\n0\n1\n2\n3\n6\n0\n2\n0\n1\n1\n1\n2\n0\n1\n2\n0\n0\n0\n13\n2\n0\n0\n1\n1\n2\n2\n8\n1\n0\n2\n10\n0\n1\n0\n0\n2\n2\n3\n2\n0\n3\n0\n3\n0\n0\n1\n0\n1\n2\n2\n1\n0\n0\n1\n0\n0\n0\n9\n1\n0\n0\n0\n2\n2\n0\n0\n8\n1\n0\n6\n0\n7\n16\n0\n0\n3\n0\n1\n6\n0\n2\n0\n0\n2\n2\n0\n0\n3\n0\n0\n0\n0\n1\n2\n2\n0\n0\n0\n3\n3\n0\n7\n0\n0\n0\n0\n0\n9\n1\n0\n2\n0\n0\n0\n0\n1\n0\n0\n0\n2\n0\n1\n2\n2\n5\n0\n6\n0\n2\n2\n0\n0\n1\n0\n0\n0\n0\n0\n0\n0\n0\n0\n0\n0\n0\n1\n0\n0\n2\n2\n0\n1\n0\n0\n0\n2\n0\n2\n2\n0\n1\n7\n0\n0\n0\n7\n0\n1\n0\n2\n2\n1\n0\n13\n0\n2\n1\n2\n0\n2\n0\n1\n2\n0\n9\n1\n1\n0\n2\n0\n1\n12\n0\n0\n0\n0\n0\n2\n1\n6\n0\n0\n1\n6\n5\n0\n0\n2\n2\n0\n1\n1\n1\n0\n0\n0\n0\n0\n1\n0\n1\n0\n0\n0\n0\n0\n0\n0\n2\n0\n3\n0\n0\n0\n1\n2\n0\n0\n6\n0\n3\n0\n5\n0\n4\n0\n0\n9\n0\n2\n0\n7\n0\n0\n2\n0\n0\n0\n0\n0\n0\n3\n0\n0\n3\n6\n0\n1\n2\n0\n0\n0\n0\n0\n0\n0\n6\n0\n0\n0\n0\n0\n0\n0\n0\n0\n0\n0\n0\n2\n0\n0\n0\n0\n0\n0\n0\n0\n2\n1\n2\n0\n0\n0\n0\n0\n-1\n0\n-1\n-1\n1\n2\n2\n0\n0\n2\n0\n1\n1\n0\n0\n1\n0\n0\n0\n0\n1\n1\n1\n0\n1\n0\n0\n0\n6\n12\n2\n0\n6\n0\n6\n0\n1\n0\n0\n0\n2\n12\n1\n6\n1\n0\n1\n6\n1\n1\n0\n1\n0\n6\n6\n6\n6\n0\n0\n0\n0\n2\n1\n0\n2\n1\n0\n0\n0\n6\n0\n0\n0\n0\n0\n0\n0\n0\n0\n2\n1\n0\n2\n0\n2\n0\n0\n0\n0\n1\n0\n8\n0\n6\n6\n6\n0\n6\n0\n2\n0\n2\n2\n0\n0\n0\n0\n0\n2\n2\n2\n0\n0\n2\n0\n0\n0\n7\n7\n0\n6\n0\n0\n0\n2\n2\n2\n2\n0\n0\n2\n0\n0\n2\n2\n2\n0\n0\n1\n2\n0\n6\n0\n6\n0\n0\n-1\n0\n0\n-1\n0\n0\n0\n0\n0\n0\n0\n0\n7\n0\n0\n0\n2\n2\n2\n2\n11\n6\n0\n2\n0\n0\n0\n0\n0\n0\n0\n0\n10\n0\n0\n0\n0\n0\n0\n2\n0\n0\n0\n0\n0\n0\n0\n0\n2\n0\n0\n2\n1\n0\n1\n2\n1\n6\n0\n0\n0\n0\n1\n0\n1\n2\n0\n0\n0\n2\n0\n0\n2\n2\n0\n0\n0\n1\n0\n1\n1\n0\n1\n0\n0\n2\n1\n2\n6\n0\n0\n8\n3\n9\n0\n2\n0\n2\n0\n0\n2\n0\n2\n7\n0\n10\n3\n3\n3\n3\n0\n0\n1\n0\n2\n1\n0\n0\n1\n0\n0\n0\n0\n2\n6\n3\n2\n1\n1\n0\n0\n3\n3\n0\n0\n0\n9\n0\n17\n0\n5\n1\n2\n1\n0\n8\n0\n0\n11\n1\n3\n1\n3\n3\n0\n0\n0\n2\n8\n2\n0\n0\n2\n2\n2\n2\n1\n0\n2\n2\n0\n2\n0\n0\n9\n3\n2\n2\n0\n9\n0\n1\n0\n0\n1\n2\n2\n2\n2\n1\n2\n0\n0\n0\n0\n0\n14\n6\n0\n0\n0\n3\n3\n1\n0\n2\n2\n0\n1\n0\n2\n2\n0\n0\n1\n0\n2\n6\n0\n2\n0\n0\n10\n2\n0\n1\n0\n0\n0\n1\n0\n0\n3\n1\n0\n0\n0\n3\n4\n0\n2\n0\n1\n0\n0\n0\n1\n1\n0\n1\n0\n0\n0\n0\n2\n1\n0\n0\n0\n10\n0\n1\n0\n6\n0\n2\n0\n1\n2\n1\n0\n0\n0\n0\n0\n0\n0\n0\n0\n0\n0\n0\n0\n0\n0\n0\n0\n0\n0\n0\n0\n0\n4\n4\n0\n0\n1\n0\n0\n2\n0\n2\n1\n1\n0\n2\n1\n0\n0\n0\n1\n1\n5\n1\n9\n1\n20\n10\n0\n12\n5\n0\n0\n0\n0\n1\n1\n0\n5\n0\n5\n0\n0\n0\n7\n2\n4\n0\n0\n0\n0\n2\n0\n0\n0\n4\n0\n2\n6\n0\n0\n2\n9\n0\n0\n7\n2\n1\n0\n0\n0\n1\n0\n0\n2\n0\n4\n0\n0\n0\n0\n0\n0\n2\n0\n2\n0\n0\n0\n0\n12\n0\n0\n2\n0\n2\n0\n3\n0\n2\n0\n0\n13\n0\n1\n0\n1\n0\n0\n8\n0\n0\n7\n0\n0\n0\n1\n0\n0\n14\n9\n0\n0\n2\n0\n0\n0\n0\n0\n0\n0\n3\n0\n0\n3\n0\n0\n0\n0\n0\n0\n0\n0\n0\n0\n0\n0\n0\n0\n0\n0\n2\n2\n2\n0\n0\n2\n0\n0\n0\n0\n0\n0\n0\n0\n0\n2\n0\n1\n3\n0\n0\n1\n0\n-2\n2\n0\n0\n1\n1\n0\n2\n0\n4\n2\n0\n2\n2\n0\n0\n0\n2\n2\n2\n0\n2\n0\n1\n0\n1\n0\n1\n0\n1\n2\n2\n0\n2\n0\n1\n1\n0\n1\n1\n1\n0\n6\n10\n15\n6\n0\n0\n0\n0\n5\n2\n0\n1\n0\n0\n0\n0\n1\n1\n0\n0\n1\n0\n0\n6\n0\n0\n9\n0\n0\n0\n6\n6\n0\n3\n6\n7\n0\n1\n3\n0\n2\n1\n2\n0\n2\n0\n1\n0\n6\n1\n2\n0\n0\n0\n5\n7\n0\n0\n0\n0\n6\n0\n0\n0\n6\n6\n0\n6\n0\n0\n0\n2\n2\n1\n1\n0\n8\n0\n0\n0\n1\n4\n1\n0\n0\n0\n1\n1\n2\n0\n6\n0\n0\n2\n0\n0\n2\n8\n0\n2\n0\n0\n0\n0\n0\n8\n0\n0\n0\n4\n1\n1\n4\n8\n1\n0\n1\n6\n0\n0\n0\n0\n0\n0\n0\n2\n0\n0\n0\n0\n0\n0\n5\n0\n0\n0\n0\n0\n0\n0\n0\n0\n2\n0\n0\n1\n2\n0\n0\n0\n10\n2\n0\n0\n0\n0\n0\n0\n1\n0\n0\n0\n0\n2\n0\n0\n2\n2\n0\n0\n0\n1\n0\n2\n2\n0\n2\n0\n0\n2\n9\n2\n2\n0\n0\n2\n1\n2\n2\n1\n0\n5\n0\n0\n0\n0\n1\n2\n0\n0\n0\n1\n1\n2\n0\n0\n2\n0\n2\n7\n0\n0\n0\n0\n0\n0\n2\n0\n7\n3\n3\n0\n1\n0\n1\n3\n3\n0\n0\n2\n2\n0\n1\n2\n2\n0\n0\n2\n0\n2\n0\n0\n1\n2\n2\n0\n2\n1\n0\n0\n0\n2\n3\n0\n0\n3\n1\n7\n0\n2\n0\n0\n3\n3\n0\n3\n0\n0\n10\n1\n2\n4\n0\n2\n0\n2\n0\n0\n0\n3\n1\n3\n3\n3\n2\n0\n0\n0\n0\n0\n2\n1\n0\n0\n0\n2\n3\n0\n0\n0\n2\n0\n5\n0\n2\n3\n0\n0\n1\n0\n1\n2\n0\n10\n0\n0\n2\n10\n0\n1\n0\n0\n0\n1\n0\n0\n1\n1\n1\n0\n0\n3\n2\n0\n4\n0\n2\n0\n0\n0\n2\n0\n0\n1\n0\n0\n0\n6\n1\n0\n1\n0\n2\n5\n1\n3\n0\n3\n0\n7\n0\n2\n2\n1\n5\n0\n0\n0\n0\n0\n0\n0\n0\n0\n0\n0\n0\n0\n0\n0\n0\n0\n0\n0\n0\n1\n6\n1\n1\n1\n0\n0\n0\n2\n1\n0\n1\n0\n0\n1\n0\n1\n1\n0\n0\n7\n0\n0\n0\n1\n7\n8\n0\n1\n2\n1\n13\n4\n0\n0\n1\n0\n0\n9\n0\n1\n0\n0\n2\n0\n7\n0\n0\n0\n0\n2\n0\n0\n0\n0\n0\n13\n0\n0\n1\n1\n2\n2\n2\n1\n0\n2\n1\n0\n2\n2\n4\n8\n0\n0\n1\n0\n2\n0\n0\n0\n0\n0\n1\n1\n0\n0\n0\n3\n0\n1\n0\n0\n0\n0\n10\n0\n0\n1\n0\n2\n0\n1\n0\n1\n0\n0\n9\n0\n6\n0\n1\n0\n0\n3\n0\n0\n1\n0\n0\n0\n6\n0\n2\n0\n2\n0\n2\n2\n0\n0\n0\n0\n0\n0\n0\n11\n0\n0\n4\n0\n0\n0\n0\n0\n0\n0\n0\n0\n0\n0\n0\n0\n0\n0\n0\n2\n1\n5\n8\n0\n0\n0\n0\n0\n0\n0\n1\n0\n0\n0\n2\n0\n0\n-1\n0\n0\n1\n0\n0\n2\n0\n0\n2\n2\n0\n5\n0\n10\n6\n6\n0\n5\n0\n0\n0\n1\n7\n-3\n0\n0\n0\n1\n0\n0\n0\n1\n0\n1\n6\n1\n0\n0\n0\n12\n1\n2\n2\n0\n2\n1\n7\n12\n8\n8\n0\n0\n6\n6\n0\n1\n6\n0\n9\n0\n0\n0\n0\n1\n0\n0\n0\n0\n1\n1\n4\n0\n1\n0\n0\n14\n1\n0\n0\n0\n4\n1\n0\n1\n2\n0\n2\n2\n2\n0\n1\n6\n6\n0\n0\n11\n6\n0\n0\n0\n2\n2\n0\n0\n0\n0\n6\n0\n0\n1\n1\n1\n0\n0\n0\n0\n0\n1\n0\n1\n0\n0\n0\n0\n0\n0\n1\n1\n1\n0\n0\n0\n1\n0\n2\n0\n1\n0\n0\n9\n0\n0\n6\n1\n0\n2\n0\n0\n0\n0\n0\n1\n0\n0\n0\n0\n1\n0\n1\n0\n1\n0\n0\n1\n0\n0\n0\n0\n1\n0\n0\n1\n0\n0\n0\n0\n0\n0\n0\n0\n0\n0\n1\n0\n0\n0\n0\n0\n0\n1\n0\n0\n2\n5\n0\n0\n0\n2\n2\n0\n0\n0\n0\n0\n0\n-1\n1\n0\n0\n0\n2\n1\n0\n2\n2\n0\n0\n0\n1\n0\n1\n1\n0\n3\n0\n0\n3\n2\n3\n2\n0\n0\n5\n1\n10\n2\n1\n0\n2\n0\n0\n1\n0\n2\n2\n0\n0\n0\n6\n3\n1\n0\n0\n2\n2\n2\n12\n0\n0\n0\n1\n0\n0\n1\n0\n16\n1\n12\n0\n0\n1\n2\n16\n5\n0\n0\n3\n7\n0\n3\n1\n0\n0\n2\n0\n0\n2\n0\n1\n2\n2\n2\n0\n1\n2\n0\n0\n0\n15\n2\n2\n0\n0\n2\n5\n0\n0\n1\n1\n2\n1\n0\n2\n0\n0\n1\n1\n13\n3\n0\n9\n0\n3\n0\n0\n2\n7\n1\n13\n2\n3\n1\n0\n0\n1\n0\n0\n1\n2\n0\n0\n0\n2\n2\n0\n1\n0\n4\n0\n3\n0\n4\n8\n0\n0\n2\n0\n2\n2\n1\n5\n0\n0\n2\n1\n0\n0\n0\n2\n0\n0\n0\n0\n2\n2\n1\n0\n0\n1\n2\n0\n6\n0\n2\n0\n0\n0\n2\n0\n1\n2\n0\n0\n0\n0\n9\n0\n0\n0\n10\n0\n1\n2\n2\n0\n0\n2\n0\n2\n2\n2\n2\n0\n0\n0\n0\n0\n0\n0\n0\n0\n1\n0\n0\n0\n0\n0\n0\n1\n0\n0\n0\n1\n2\n2\n1\n1\n0\n0\n0\n2\n0\n0\n0\n0\n0\n8\n0\n8\n1\n0\n0\n12\n0\n0\n0\n1\n2\n5\n1\n7\n9\n6\n4\n0\n0\n0\n1\n0\n0\n8\n0\n1\n0\n0\n1\n2\n2\n0\n0\n0\n9\n5\n1\n0\n0\n0\n0\n8\n1\n0\n1\n1\n6\n7\n5\n1\n0\n2\n2\n0\n9\n1\n2\n8\n0\n0\n0\n0\n1\n0\n0\n0\n0\n0\n0\n1\n0\n0\n0\n7\n0\n2\n0\n0\n0\n0\n6\n0\n0\n0\n1\n1\n0\n1\n0\n1\n0\n0\n8\n0\n1\n0\n7\n0\n0\n7\n0\n0\n10\n0\n0\n0\n1\n0\n15\n0\n1\n0\n2\n8\n0\n0\n0\n0\n0\n0\n0\n10\n0\n0\n3\n0\n0\n0\n0\n0\n0\n0\n0\n0\n0\n0\n0\n0\n0\n0\n0\n2\n0\n6\n8\n0\n0\n0\n0\n0\n0\n0\n0\n0\n0\n0\n0\n0\n1\n1\n0\n0\n1\n0\n0\n9\n0\n0\n2\n2\n0\n2\n0\n6\n5\n6\n0\n7\n0\n0\n0\n16\n1\n9\n0\n1\n0\n9\n2\n1\n0\n1\n0\n0\n1\n15\n1\n0\n0\n1\n6\n7\n0\n0\n1\n0\n6\n6\n6\n6\n0\n0\n0\n0\n0\n-2\n-3\n0\n1\n0\n0\n0\n5\n5\n0\n0\n1\n0\n0\n6\n0\n0\n9\n0\n0\n0\n6\n6\n0\n0\n6\n6\n0\n7\n6\n0\n7\n5\n6\n0\n1\n0\n0\n0\n0\n-1\n1\n0\n0\n0\n0\n5\n1\n7\n0\n0\n6\n0\n0\n1\n6\n1\n0\n1\n0\n0\n0\n1\n-2\n0\n0\n1\n7\n0\n0\n0\n6\n6\n9\n0\n6\n0\n6\n0\n7\n0\n0\n0\n0\n0\n0\n0\n0\n6\n1\n1\n0\n0\n0\n0\n0\n3\n0\n0\n0\n0\n1\n0\n2\n1\n1\n0\n1\n0\n0\n0\n0\n0\n0\n0\n1\n0\n0\n0\n0\n0\n0\n0\n6\n0\n0\n0\n0\n0\n0\n0\n0\n0\n0\n0\n0\n2\n0\n2\n2\n0\n0\n3\n0\n2\n1\n0\n0\n0\n4\n0\n0\n9\n0\n0\n0\n0\n6\n1\n0\n1\n5\n0\n0\n0\n0\n0\n5\n-2\n0\n3\n0\n0\n3\n3\n3\n1\n2\n0\n2\n1\n1\n2\n0\n0\n2\n1\n1\n1\n0\n2\n1\n0\n2\n7\n0\n8\n0\n0\n0\n2\n1\n1\n7\n0\n0\n0\n0\n0\n0\n0\n2\n16\n0\n8\n0\n1\n1\n3\n13\n3\n0\n0\n1\n2\n0\n2\n1\n0\n0\n2\n0\n0\n3\n0\n1\n3\n3\n3\n0\n3\n0\n0\n0\n0\n2\n3\n0\n0\n0\n1\n1\n1\n1\n1\n0\n3\n2\n0\n3\n0\n0\n2\n8\n2\n1\n0\n0\n0\n2\n0\n0\n2\n8\n0\n3\n6\n1\n3\n0\n0\n1\n0\n0\n2\n7\n0\n0\n0\n2\n1\n0\n2\n0\n1\n0\n18\n0\n2\n2\n0\n0\n1\n0\n2\n2\n0\n3\n0\n0\n1\n2\n0\n0\n0\n0\n0\n2\n0\n4\n1\n9\n0\n0\n0\n10\n1\n0\n1\n1\n10\n0\n0\n0\n0\n0\n1\n2\n0\n0\n0\n3\n2\n0\n1\n0\n2\n1\n0\n2\n0\n0\n0\n1\n0\n0\n0\n0\n1\n0\n0\n0\n0\n0\n0\n0\n0\n0\n0\n0\n0\n0\n0\n0\n0\n1\n0\n0\n0\n0\n3\n3\n1\n0\n0\n0\n2\n1\n10\n2\n2\n1\n0\n3\n2\n2\n1\n0\n6\n0\n0\n1\n0\n0\n1\n0\n0\n2\n0\n0\n2\n0\n0\n2\n2\n1\n11\n0\n2\n1\n0\n0\n1\n0\n0\n2\n0\n2\n0\n0\n2\n1\n2\n0\n0\n0\n5\n5\n0\n0\n0\n0\n0\n2\n2\n0\n0\n1\n2\n2\n2\n0\n0\n2\n2\n0\n4\n2\n0\n2\n0\n1\n0\n0\n0\n0\n0\n0\n0\n0\n0\n0\n0\n0\n0\n8\n0\n"
    }
   ],
   "source": [
    "id = []\n",
    "total_points = []\n",
    "gameweek = []\n",
    "for j in all_weeks_dict:\n",
    "        for x in all_weeks_dict[j]['elements']:\n",
    "                print(x['stats']['total_points'])\n",
    "                id.append(x[\"id\"])\n",
    "                total_points.append(x['stats']['total_points'])\n",
    "                gameweek.append(j)\n",
    ""
   ]
  },
  {
   "cell_type": "code",
   "execution_count": 66,
   "metadata": {},
   "outputs": [],
   "source": [
    "player_scores_df  = pd.DataFrame()"
   ]
  },
  {
   "cell_type": "code",
   "execution_count": 67,
   "metadata": {},
   "outputs": [],
   "source": [
    "player_scores_df['player_id'] = id\n",
    "player_scores_df['total_score'] = total_points\n",
    "player_scores_df['gameweek'] = gameweek"
   ]
  },
  {
   "cell_type": "code",
   "execution_count": 68,
   "metadata": {},
   "outputs": [
    {
     "data": {
      "text/html": "<div>\n<style scoped>\n    .dataframe tbody tr th:only-of-type {\n        vertical-align: middle;\n    }\n\n    .dataframe tbody tr th {\n        vertical-align: top;\n    }\n\n    .dataframe thead th {\n        text-align: right;\n    }\n</style>\n<table border=\"1\" class=\"dataframe\">\n  <thead>\n    <tr style=\"text-align: right;\">\n      <th></th>\n      <th>player_id</th>\n      <th>total_score</th>\n      <th>gameweek</th>\n    </tr>\n  </thead>\n  <tbody>\n    <tr>\n      <td>0</td>\n      <td>14</td>\n      <td>7</td>\n      <td>1</td>\n    </tr>\n    <tr>\n      <td>1</td>\n      <td>27</td>\n      <td>0</td>\n      <td>1</td>\n    </tr>\n    <tr>\n      <td>2</td>\n      <td>47</td>\n      <td>9</td>\n      <td>1</td>\n    </tr>\n    <tr>\n      <td>3</td>\n      <td>48</td>\n      <td>0</td>\n      <td>1</td>\n    </tr>\n    <tr>\n      <td>4</td>\n      <td>72</td>\n      <td>0</td>\n      <td>1</td>\n    </tr>\n    <tr>\n      <td>...</td>\n      <td>...</td>\n      <td>...</td>\n      <td>...</td>\n    </tr>\n    <tr>\n      <td>14106</td>\n      <td>581</td>\n      <td>0</td>\n      <td>25</td>\n    </tr>\n    <tr>\n      <td>14107</td>\n      <td>585</td>\n      <td>0</td>\n      <td>25</td>\n    </tr>\n    <tr>\n      <td>14108</td>\n      <td>592</td>\n      <td>0</td>\n      <td>25</td>\n    </tr>\n    <tr>\n      <td>14109</td>\n      <td>613</td>\n      <td>8</td>\n      <td>25</td>\n    </tr>\n    <tr>\n      <td>14110</td>\n      <td>622</td>\n      <td>0</td>\n      <td>25</td>\n    </tr>\n  </tbody>\n</table>\n<p>14111 rows × 3 columns</p>\n</div>",
      "text/plain": "       player_id  total_score  gameweek\n0             14            7         1\n1             27            0         1\n2             47            9         1\n3             48            0         1\n4             72            0         1\n...          ...          ...       ...\n14106        581            0        25\n14107        585            0        25\n14108        592            0        25\n14109        613            8        25\n14110        622            0        25\n\n[14111 rows x 3 columns]"
     },
     "execution_count": 68,
     "metadata": {},
     "output_type": "execute_result"
    }
   ],
   "source": [
    "player_scores_df"
   ]
  },
  {
   "cell_type": "code",
   "execution_count": 70,
   "metadata": {},
   "outputs": [
    {
     "name": "stdout",
     "output_type": "stream",
     "text": "100\n200\n300\n400\n500\n600\n700\n800\n900\n1000\n1100\n1200\n1300\n1400\n1500\n1600\n1700\n1800\n1900\n2000\n2100\n2200\n"
    }
   ],
   "source": [
    "x = 0\n",
    "round_score = []\n",
    "for i in range(len(all_players_df)):\n",
    "    x += 1\n",
    "    if x % 100 == 0:\n",
    "        print(x)\n",
    "    for j in range(len(player_scores_df)):\n",
    "        if all_players_df[\"player_id\"].iloc[i] == player_scores_df[\"player_id\"].iloc[j] and all_players_df[\"gameweek\"].iloc[i] == player_scores_df[\"gameweek\"].iloc[j]:\n",
    "            round_score.append(player_scores_df[\"total_score\"].iloc[j])\n",
    ""
   ]
  },
  {
   "cell_type": "code",
   "execution_count": 72,
   "metadata": {},
   "outputs": [],
   "source": [
    "all_players_df['round_score'] = round_score"
   ]
  },
  {
   "cell_type": "code",
   "execution_count": 73,
   "metadata": {},
   "outputs": [
    {
     "data": {
      "text/html": "<div>\n<style scoped>\n    .dataframe tbody tr th:only-of-type {\n        vertical-align: middle;\n    }\n\n    .dataframe tbody tr th {\n        vertical-align: top;\n    }\n\n    .dataframe thead th {\n        text-align: right;\n    }\n</style>\n<table border=\"1\" class=\"dataframe\">\n  <thead>\n    <tr style=\"text-align: right;\">\n      <th></th>\n      <th>team_id</th>\n      <th>gameweek</th>\n      <th>player_id</th>\n      <th>position</th>\n      <th>subbed</th>\n      <th>round_score</th>\n    </tr>\n  </thead>\n  <tbody>\n    <tr>\n      <td>0</td>\n      <td>333932</td>\n      <td>1</td>\n      <td>149</td>\n      <td>1</td>\n      <td>N/A</td>\n      <td>0</td>\n    </tr>\n    <tr>\n      <td>1</td>\n      <td>333932</td>\n      <td>1</td>\n      <td>204</td>\n      <td>2</td>\n      <td>N/A</td>\n      <td>0</td>\n    </tr>\n    <tr>\n      <td>2</td>\n      <td>333932</td>\n      <td>1</td>\n      <td>122</td>\n      <td>3</td>\n      <td>Subbed In</td>\n      <td>8</td>\n    </tr>\n    <tr>\n      <td>3</td>\n      <td>333932</td>\n      <td>1</td>\n      <td>334</td>\n      <td>4</td>\n      <td>N/A</td>\n      <td>0</td>\n    </tr>\n    <tr>\n      <td>4</td>\n      <td>333932</td>\n      <td>1</td>\n      <td>346</td>\n      <td>5</td>\n      <td>N/A</td>\n      <td>1</td>\n    </tr>\n    <tr>\n      <td>...</td>\n      <td>...</td>\n      <td>...</td>\n      <td>...</td>\n      <td>...</td>\n      <td>...</td>\n      <td>...</td>\n    </tr>\n    <tr>\n      <td>10</td>\n      <td>299717</td>\n      <td>25</td>\n      <td>363</td>\n      <td>11</td>\n      <td>N/A</td>\n      <td>5</td>\n    </tr>\n    <tr>\n      <td>11</td>\n      <td>299717</td>\n      <td>25</td>\n      <td>14</td>\n      <td>12</td>\n      <td>N/A</td>\n      <td>7</td>\n    </tr>\n    <tr>\n      <td>12</td>\n      <td>299717</td>\n      <td>25</td>\n      <td>522</td>\n      <td>13</td>\n      <td>N/A</td>\n      <td>0</td>\n    </tr>\n    <tr>\n      <td>13</td>\n      <td>299717</td>\n      <td>25</td>\n      <td>505</td>\n      <td>14</td>\n      <td>N/A</td>\n      <td>2</td>\n    </tr>\n    <tr>\n      <td>14</td>\n      <td>299717</td>\n      <td>25</td>\n      <td>477</td>\n      <td>15</td>\n      <td>N/A</td>\n      <td>0</td>\n    </tr>\n  </tbody>\n</table>\n<p>2250 rows × 6 columns</p>\n</div>",
      "text/plain": "   team_id  gameweek  player_id  position     subbed  round_score\n0   333932         1        149         1        N/A            0\n1   333932         1        204         2        N/A            0\n2   333932         1        122         3  Subbed In            8\n3   333932         1        334         4        N/A            0\n4   333932         1        346         5        N/A            1\n..     ...       ...        ...       ...        ...          ...\n10  299717        25        363        11        N/A            5\n11  299717        25         14        12        N/A            7\n12  299717        25        522        13        N/A            0\n13  299717        25        505        14        N/A            2\n14  299717        25        477        15        N/A            0\n\n[2250 rows x 6 columns]"
     },
     "execution_count": 73,
     "metadata": {},
     "output_type": "execute_result"
    }
   ],
   "source": [
    "all_players_df"
   ]
  },
  {
   "cell_type": "code",
   "execution_count": 74,
   "metadata": {},
   "outputs": [
    {
     "name": "stdout",
     "output_type": "stream",
     "text": "Stored 'all_players_df' (DataFrame)\n"
    }
   ],
   "source": [
    "%store all_players_df"
   ]
  },
  {
   "cell_type": "code",
   "execution_count": 75,
   "metadata": {},
   "outputs": [
    {
     "data": {
      "text/html": "<div>\n<style scoped>\n    .dataframe tbody tr th:only-of-type {\n        vertical-align: middle;\n    }\n\n    .dataframe tbody tr th {\n        vertical-align: top;\n    }\n\n    .dataframe thead th {\n        text-align: right;\n    }\n</style>\n<table border=\"1\" class=\"dataframe\">\n  <thead>\n    <tr style=\"text-align: right;\">\n      <th></th>\n      <th>team_id</th>\n      <th>player_id</th>\n      <th>team_name</th>\n      <th>round_score</th>\n      <th>player_name</th>\n      <th>gameweek</th>\n    </tr>\n  </thead>\n  <tbody>\n    <tr>\n      <td>0</td>\n      <td>333932</td>\n      <td>169</td>\n      <td>All the Smallings</td>\n      <td>0</td>\n      <td>Schmeichel</td>\n      <td>26</td>\n    </tr>\n    <tr>\n      <td>1</td>\n      <td>297336</td>\n      <td>397</td>\n      <td>Childish Gbaminos</td>\n      <td>0</td>\n      <td>Noble</td>\n      <td>26</td>\n    </tr>\n    <tr>\n      <td>2</td>\n      <td>333932</td>\n      <td>220</td>\n      <td>All the Smallings</td>\n      <td>0</td>\n      <td>David Silva</td>\n      <td>26</td>\n    </tr>\n    <tr>\n      <td>3</td>\n      <td>336116</td>\n      <td>389</td>\n      <td>Stop Crying Lampard</td>\n      <td>0</td>\n      <td>Fabianski</td>\n      <td>26</td>\n    </tr>\n    <tr>\n      <td>4</td>\n      <td>300296</td>\n      <td>211</td>\n      <td>Ducks of Bethlehem</td>\n      <td>0</td>\n      <td>Agüero</td>\n      <td>26</td>\n    </tr>\n    <tr>\n      <td>...</td>\n      <td>...</td>\n      <td>...</td>\n      <td>...</td>\n      <td>...</td>\n      <td>...</td>\n      <td>...</td>\n    </tr>\n    <tr>\n      <td>85</td>\n      <td>299717</td>\n      <td>505</td>\n      <td>Obi-Wan Iwobi</td>\n      <td>0</td>\n      <td>James</td>\n      <td>26</td>\n    </tr>\n    <tr>\n      <td>86</td>\n      <td>339264</td>\n      <td>524</td>\n      <td>Neuer Gonna Give You</td>\n      <td>0</td>\n      <td>Sarr</td>\n      <td>26</td>\n    </tr>\n    <tr>\n      <td>87</td>\n      <td>300296</td>\n      <td>589</td>\n      <td>Ducks of Bethlehem</td>\n      <td>0</td>\n      <td>Minamino</td>\n      <td>26</td>\n    </tr>\n    <tr>\n      <td>88</td>\n      <td>299717</td>\n      <td>615</td>\n      <td>Obi-Wan Iwobi</td>\n      <td>0</td>\n      <td>Bergwijn</td>\n      <td>26</td>\n    </tr>\n    <tr>\n      <td>89</td>\n      <td>299717</td>\n      <td>618</td>\n      <td>Obi-Wan Iwobi</td>\n      <td>0</td>\n      <td>Fernandes</td>\n      <td>26</td>\n    </tr>\n  </tbody>\n</table>\n<p>90 rows × 6 columns</p>\n</div>",
      "text/plain": "   team_id player_id             team_name round_score  player_name gameweek\n0   333932       169     All the Smallings           0   Schmeichel       26\n1   297336       397     Childish Gbaminos           0        Noble       26\n2   333932       220     All the Smallings           0  David Silva       26\n3   336116       389   Stop Crying Lampard           0    Fabianski       26\n4   300296       211    Ducks of Bethlehem           0       Agüero       26\n..     ...       ...                   ...         ...          ...      ...\n85  299717       505         Obi-Wan Iwobi           0        James       26\n86  339264       524  Neuer Gonna Give You           0         Sarr       26\n87  300296       589    Ducks of Bethlehem           0     Minamino       26\n88  299717       615         Obi-Wan Iwobi           0     Bergwijn       26\n89  299717       618         Obi-Wan Iwobi           0    Fernandes       26\n\n[90 rows x 6 columns]"
     },
     "execution_count": 75,
     "metadata": {},
     "output_type": "execute_result"
    }
   ],
   "source": [
    "current_players"
   ]
  },
  {
   "cell_type": "code",
   "execution_count": 78,
   "metadata": {},
   "outputs": [],
   "source": [
    "player_info = session.get(\"https://draft.premierleague.com/api/bootstrap-static\")\n",
    "player_info_json = json.loads(player_info.text)"
   ]
  },
  {
   "cell_type": "code",
   "execution_count": 98,
   "metadata": {},
   "outputs": [
    {
     "ename": "KeyError",
     "evalue": "'element'",
     "output_type": "error",
     "traceback": [
      "\u001b[0;31m---------------------------------------------------------------------------\u001b[0m",
      "\u001b[0;31mKeyError\u001b[0m                                  Traceback (most recent call last)",
      "\u001b[0;32m<ipython-input-98-a48a3eafa18e>\u001b[0m in \u001b[0;36m<module>\u001b[0;34m\u001b[0m\n\u001b[1;32m      1\u001b[0m \u001b[0;32mfor\u001b[0m \u001b[0mi\u001b[0m \u001b[0;32min\u001b[0m \u001b[0mplayer_info_json\u001b[0m\u001b[0;34m[\u001b[0m\u001b[0;34m'elements'\u001b[0m\u001b[0;34m]\u001b[0m\u001b[0;34m:\u001b[0m\u001b[0;34m\u001b[0m\u001b[0;34m\u001b[0m\u001b[0m\n\u001b[0;32m----> 2\u001b[0;31m     \u001b[0mprint\u001b[0m\u001b[0;34m(\u001b[0m\u001b[0mi\u001b[0m\u001b[0;34m[\u001b[0m\u001b[0;34m'element'\u001b[0m\u001b[0;34m]\u001b[0m\u001b[0;34m)\u001b[0m\u001b[0;34m\u001b[0m\u001b[0;34m\u001b[0m\u001b[0m\n\u001b[0m",
      "\u001b[0;31mKeyError\u001b[0m: 'element'"
     ]
    }
   ],
   "source": [
    "for i in player_info_json['elements']:\n",
    "    print(i['elemenid'])"
   ]
  },
  {
   "cell_type": "code",
   "execution_count": 99,
   "metadata": {},
   "outputs": [
    {
     "data": {
      "text/plain": "'draft_rank': 241,\n  'dreamteam_count': 0,\n  'ep_next': None,\n  'ep_this': None,\n  'event_points': 1,\n  'first_name': 'Ignacio',\n  'form': '1.0',\n  'in_dreamteam': False,\n  'news': '',\n  'news_added': None,\n  'news_return': None,\n  'news_updated': None,\n  'points_per_game': '1.0',\n  'second_name': 'Pussetto',\n  'squad_number': None,\n  'status': 'a',\n  'total_points': 4,\n  'web_name': 'Pussetto',\n  'element_type': 3,\n  'team': 18},\n {'id': 605,\n  'assists': 0,\n  'bonus': 0,\n  'bps': 27,\n  'clean_sheets': 0,\n  'creativity': '0.0',\n  'goals_conceded': 5,\n  'goals_scored': 0,\n  'ict_index': '4.9',\n  'influence': '49.6',\n  'minutes': 180,\n  'own_goals': 0,\n  'penalties_missed': 0,\n  'penalties_saved': 0,\n  'red_cards': 0,\n  'saves': 6,\n  'threat': '0.0',\n  'yellow_cards': 0,\n  'added': '2020-01-16T11:07:15.768495Z',\n  'chance_of_playing_next_round': None,\n  'chance_of_playing_this_round': None,\n  'code': 32259,\n  'draft_rank': 329,\n  'dreamteam_count': 0,\n  'ep_next': None,\n  'ep_this': None,\n  'event_points': 0,\n  'first_name': 'Darren',\n  'form': '0.6',\n  'in_dreamteam': False,\n  'news': '',\n  'news_added': None,\n  'news_return': None,\n  'news_updated': None,\n  'points_per_game': '1.5',\n  'second_name': 'Randolph',\n  'squad_number': None,\n  'status': 'a',\n  'total_points': 3,\n  'web_name': 'Randolph',\n  'element_type': 1,\n  'team': 19},\n {'id': 606,\n  'assists': 0,\n  'bonus': 0,\n  'bps': 0,\n  'clean_sheets': 0,\n  'creativity': '0.0',\n  'goals_conceded': 0,\n  'goals_scored': 0,\n  'ict_index': '0.0',\n  'influence': '0.0',\n  'minutes': 0,\n  'own_goals': 0,\n  'penalties_missed': 0,\n  'penalties_saved': 0,\n  'red_cards': 0,\n  'saves': 0,\n  'threat': '0.0',\n  'yellow_cards': 0,\n  'added': '2020-01-17T15:34:41.501734Z',\n  'chance_of_playing_next_round': 0,\n  'chance_of_playing_this_round': 0,\n  'code': 232351,\n  'draft_rank': 579,\n  'dreamteam_count': 0,\n  'ep_next': None,\n  'ep_this': None,\n  'event_points': 0,\n  'first_name': 'Ryan',\n  'form': '0.0',\n  'in_dreamteam': False,\n  'news': 'Joined Coventry City on loan until the end of the season on 31/1. - Expected back 01 Jul',\n  'news_added': '2020-01-31T20:30:19.344750Z',\n  'news_return': None,\n  'news_updated': None,\n  'points_per_game': '0.0',\n  'second_name': 'Giles',\n  'squad_number': None,\n  'status': 'n',\n  'total_points': 0,\n  'web_name': 'Giles',\n  'element_type': 2,\n  'team': 20},\n {'id': 607,\n  'assists': 0,\n  'bonus': 0,\n  'bps': 0,\n  'clean_sheets': 0,\n  'creativity': '0.0',\n  'goals_conceded': 0,\n  'goals_scored': 0,\n  'ict_index': '0.0',\n  'influence': '0.0',\n  'minutes': 0,\n  'own_goals': 0,\n  'penalties_missed': 0,\n  'penalties_saved': 0,\n  'red_cards': 0,\n  'saves': 0,\n  'threat': '0.0',\n  'yellow_cards': 0,\n  'added': '2020-01-18T20:40:51.410309Z',\n  'chance_of_playing_next_round': 0,\n  'chance_of_playing_this_round': 0,\n  'code': 234720,\n  'draft_rank': 331,\n  'dreamteam_count': 0,\n  'ep_next': None,\n  'ep_this': None,\n  'event_points': 0,\n  'first_name': 'Giovanni',\n  'form': '0.0',\n  'in_dreamteam': False,\n  'news': 'Joined Dartford on loan until the end of the season on 31/1. - Expected back 01 Jul',\n  'news_added': '2020-01-31T20:30:19.355699Z',\n  'news_return': None,\n  'news_updated': None,\n  'points_per_game': '0.0',\n  'second_name': 'McGregor',\n  'squad_number': None,\n  'status': 'n',\n  'total_points': 0,\n  'web_name': 'McGregor',\n  'element_type': 3,\n  'team': 7},\n {'id': 608,\n  'assists': 0,\n  'bonus': 0,\n  'bps': 0,\n  'clean_sheets': 0,\n  'creativity': '0.0',\n  'goals_conceded': 0,\n  'goals_scored': 0,\n  'ict_index': '0.0',\n  'influence': '0.0',\n  'minutes': 0,\n  'own_goals': 0,\n  'penalties_missed': 0,\n  'penalties_saved': 0,\n  'red_cards': 0,\n  'saves': 0,\n  'threat': '0.0',\n  'yellow_cards': 0,\n  'added': '2020-01-18T20:40:52.407813Z',\n  'chance_of_playing_next_round': None,\n  'chance_of_playing_this_round': None,\n  'code': 428610,\n  'draft_rank': 330,\n  'dreamteam_count': 0,\n  'ep_next': None,\n  'ep_this': None,\n  'event_points': 0,\n  'first_name': 'Bruno André',\n  'form': '0.0',\n  'in_dreamteam': False,\n  'news': '',\n  'news_added': None,\n  'news_return': None,\n  'news_updated': None,\n  'points_per_game': '0.0',\n  'second_name': 'Cavaco Jordao',\n  'squad_number': None,\n  'status': 'a',\n  'total_points': 0,\n  'web_name': 'Jordao',\n  'element_type': 3,\n  'team': 20},\n {'id': 609,\n  'assists': 0,\n  'bonus': 0,\n  'bps': 0,\n  'clean_sheets': 0,\n  'creativity': '0.0',\n  'goals_conceded': 0,\n  'goals_scored': 0,\n  'ict_index': '0.0',\n  'influence': '0.0',\n  'minutes': 0,\n  'own_goals': 0,\n  'penalties_missed': 0,\n  'penalties_saved': 0,\n  'red_cards': 0,\n  'saves': 0,\n  'threat': '0.0',\n  'yellow_cards': 0,\n  'added': '2020-01-21T23:12:12.749799Z',\n  'chance_of_playing_next_round': None,\n  'chance_of_playing_this_round': None,\n  'code': 156069,\n  'draft_rank': 581,\n  'dreamteam_count': 0,\n  'ep_next': None,\n  'ep_this': None,\n  'event_points': 0,\n  'first_name': 'Liam',\n  'form': '0.0',\n  'in_dreamteam': False,\n  'news': '',\n  'news_added': None,\n  'news_return': None,\n  'news_updated': None,\n  'points_per_game': '0.0',\n  'second_name': 'Gibson',\n  'squad_number': None,\n  'status': 'a',\n  'total_points': 0,\n  'web_name': 'Gibson',\n  'element_type': 2,\n  'team': 13},\n {'id': 610,\n  'assists': 0,\n  'bonus': 0,\n  'bps': 12,\n  'clean_sheets': 1,\n  'creativity': '42.8',\n  'goals_conceded': 0,\n  'goals_scored': 0,\n  'ict_index': '5.9',\n  'influence': '16.0',\n  'minutes': 90,\n  'own_goals': 0,\n  'penalties_missed': 0,\n  'penalties_saved': 0,\n  'red_cards': 0,\n  'saves': 0,\n  'threat': '0.0',\n  'yellow_cards': 1,\n  'added': '2020-01-22T15:19:46.301576Z',\n  'chance_of_playing_next_round': None,\n  'chance_of_playing_this_round': None,\n  'code': 126407,\n  'draft_rank': 244,\n  'dreamteam_count': 0,\n  'ep_next': None,\n  'ep_this': None,\n  'event_points': 0,\n  'first_name': 'Nabil',\n  'form': '1.0',\n  'in_dreamteam': False,\n  'news': '',\n  'news_added': None,\n  'news_return': None,\n  'news_updated': None,\n  'points_per_game': '2.0',\n  'second_name': 'Bentaleb',\n  'squad_number': None,\n  'status': 'a',\n  'total_points': 2,\n  'web_name': 'Bentaleb',\n  'element_type': 3,\n  'team': 13},\n {'id': 611,\n  'assists': 0,\n  'bonus': 0,\n  'bps': 0,\n  'clean_sheets': 0,\n  'creativity': '0.0',\n  'goals_conceded': 0,\n  'goals_scored': 0,\n  'ict_index': '0.0',\n  'influence': '0.0',\n  'minutes': 0,\n  'own_goals': 0,\n  'penalties_missed': 0,\n  'penalties_saved': 0,\n  'red_cards': 0,\n  'saves': 0,\n  'threat': '0.0',\n  'yellow_cards': 0,\n  'added': '2020-01-22T15:19:46.688906Z',\n  'chance_of_playing_next_round': None,\n  'chance_of_playing_this_round': None,\n  'code': 83427,\n  'draft_rank': 580,\n  'dreamteam_count': 0,\n  'ep_next': None,\n  'ep_this': None,\n  'event_points': 0,\n  'first_name': 'Jack',\n  'form': '0.0',\n  'in_dreamteam': False,\n  'news': '',\n  'news_added': None,\n  'news_return': None,\n  'news_updated': None,\n  'points_per_game': '0.0',\n  'second_name': 'Robinson',\n  'squad_number': None,\n  'status': 'a',\n  'total_points': 0,\n  'web_name': 'Jack Robinson',\n  'element_type': 2,\n  'team': 15},\n {'id': 612,\n  'assists': 0,\n  'bonus': 2,\n  'bps': 36,\n  'clean_sheets': 0,\n  'creativity': '23.3',\n  'goals_conceded': 4,\n  'goals_scored': 1,\n  'ict_index': '13.7',\n  'influence': '41.2',\n  'minutes': 172,\n  'own_goals': 0,\n  'penalties_missed': 0,\n  'penalties_saved': 0,\n  'red_cards': 0,\n  'saves': 0,\n  'threat': '72.0',\n  'yellow_cards': 0,\n  'added': '2020-01-28T11:35:54.086303Z',\n  'chance_of_playing_next_round': None,\n  'chance_of_playing_this_round': None,\n  'code': 217487,\n  'draft_rank': 83,\n  'dreamteam_count': 0,\n  'ep_next': None,\n  'ep_this': None,\n  'event_points': 2,\n  'first_name': 'Mbwana',\n  'form': '5.0',\n  'in_dreamteam': False,\n  'news': '',\n  'news_added': None,\n  'news_return': None,\n  'news_updated': None,\n  'points_per_game': '5.0',\n  'second_name': 'Samatta',\n  'squad_number': None,\n  'status': 'a',\n  'total_points': 10,\n  'web_name': 'Samatta',\n  'element_type': 4,\n  'team': 2},\n {'id': 613,\n  'assists': 0,\n  'bonus': 0,\n  'bps': 5,\n  'clean_sheets': 0,\n  'creativity': '1.3',\n  'goals_conceded': 0,\n  'goals_scored': 0,\n  'ict_index': '0.6',\n  'influence': '4.8',\n  'minutes': 36,\n  'own_goals': 0,\n  'penalties_missed': 0,\n  'penalties_saved': 0,\n  'red_cards': 0,\n  'saves': 0,\n  'threat': '0.0',\n  'yellow_cards': 0,\n  'added': '2020-01-28T11:35:55.752640Z',\n  'chance_of_playing_next_round': None,\n  'chance_of_playing_this_round': None,\n  'code': 116543,\n  'draft_rank': 90,\n  'dreamteam_count': 0,\n  'ep_next': None,\n  'ep_this': None,\n  'event_points': 0,\n  'first_name': 'Valentino',\n  'form': '0.5',\n  'in_dreamteam': False,\n  'news': '',\n  'news_added': None,\n  'news_return': None,\n  'news_updated': None,\n  'points_per_game': '1.0',\n  'second_name': 'Lazaro',\n  'squad_number': None,\n  'status': 'a',\n  'total_points': 1,\n  'web_name': 'Lazaro',\n  'element_type': 3,\n  'team': 13},\n {'id': 614,\n  'assists': 0,\n  'bonus': 0,\n  'bps': 0,\n  'clean_sheets': 0,\n  'creativity': '0.0',\n  'goals_conceded': 0,\n  'goals_scored': 0,\n  'ict_index': '0.0',\n  'influence': '0.0',\n  'minutes': 0,\n  'own_goals': 0,\n  'penalties_missed': 0,\n  'penalties_saved': 0,\n  'red_cards': 0,\n  'saves': 0,\n  'threat': '0.0',\n  'yellow_cards': 0,\n  'added': '2020-01-30T12:37:55.313713Z',\n  'chance_of_playing_next_round': 75,\n  'chance_of_playing_this_round': None,\n  'code': 92371,\n  'draft_rank': 246,\n  'dreamteam_count': 0,\n  'ep_next': None,\n  'ep_this': None,\n  'event_points': 0,\n  'first_name': 'Pablo',\n  'form': '0.0',\n  'in_dreamteam': False,\n  'news': 'Lack of match fitness - 75% chance of playing',\n  'news_added': '2020-02-14T10:30:20.035710Z',\n  'news_return': None,\n  'news_updated': None,\n  'points_per_game': '0.0',\n  'second_name': 'Marí',\n  'squad_number': None,\n  'status': 'd',\n  'total_points': 0,\n  'web_name': 'Marí',\n  'element_type': 2,\n  'team': 1},\n {'id': 615,\n  'assists': 0,\n  'bonus': 2,\n  'bps': 43,\n  'clean_sheets': 1,\n  'creativity': '1.7',\n  'goals_conceded': 2,\n  'goals_scored': 1,\n  'ict_index': '6.2',\n  'influence': '37.6',\n  'minutes': 159,\n  'own_goals': 0,\n  'penalties_missed': 0,\n  'penalties_saved': 0,\n  'red_cards': 0,\n  'saves': 0,\n  'threat': '23.0',\n  'yellow_cards': 0,\n  'added': '2020-01-30T12:37:57.078298Z',\n  'chance_of_playing_next_round': None,\n  'chance_of_playing_this_round': None,\n  'code': 194252,\n  'draft_rank': 22,\n  'dreamteam_count': 0,\n  'ep_next': None,\n  'ep_this': None,\n  'event_points': 2,\n  'first_name': 'Steven',\n  'form': '6.0',\n  'in_dreamteam': False,\n  'news': '',\n  'news_added': None,\n  'news_return': None,\n  'news_updated': None,\n  'points_per_game': '6.0',\n  'second_name': 'Bergwijn',\n  'squad_number': None,\n  'status': 'a',\n  'total_points': 12,\n  'web_name': 'Bergwijn',\n  'element_type': 3,\n  'team': 17},\n {'id': 616,\n  'assists': 0,\n  'bonus': 0,\n  'bps': 7,\n  'clean_sheets': 0,\n  'creativity': '12.0',\n  'goals_conceded': 3,\n  'goals_scored': 0,\n  'ict_index': '7.3',\n  'influence': '21.6',\n  'minutes': 84,\n  'own_goals': 0,\n  'penalties_missed': 0,\n  'penalties_saved': 0,\n  'red_cards': 0,\n  'saves': 0,\n  'threat': '39.0',\n  'yellow_cards': 0,\n  'added': '2020-01-30T12:37:58.086918Z',\n  'chance_of_playing_next_round': None,\n  'chance_of_playing_this_round': None,\n  'code': 215439,\n  'draft_rank': 243,\n  'dreamteam_count': 0,\n  'ep_next': None,\n  'ep_this': None,\n  'event_points': 0,\n  'first_name': 'Tomas',\n  'form': '1.0',\n  'in_dreamteam': False,\n  'news': '',\n  'news_added': None,\n  'news_return': None,\n  'news_updated': None,\n  'points_per_game': '2.0',\n  'second_name': 'Soucek',\n  'squad_number': None,\n  'status': 'a',\n  'total_points': 2,\n  'web_name': 'Soucek',\n  'element_type': 3,\n  'team': 19},\n {'id': 617,\n  'assists': 0,\n  'bonus': 0,\n  'bps': 0,\n  'clean_sheets': 0,\n  'creativity': '0.0',\n  'goals_conceded': 0,\n  'goals_scored': 0,\n  'ict_index': '0.0',\n  'influence': '0.0',\n  'minutes': 0,\n  'own_goals': 0,\n  'penalties_missed': 0,\n  'penalties_saved': 0,\n  'red_cards': 0,\n  'saves': 0,\n  'threat': '0.0',\n  'yellow_cards': 0,\n  'added': '2020-01-31T12:02:22.160815Z',\n  'chance_of_playing_next_round': None,\n  'chance_of_playing_this_round': None,\n  'code': 172782,\n  'draft_rank': 247,\n  'dreamteam_count': 0,\n  'ep_next': None,\n  'ep_this': None,\n  'event_points': 0,\n  'first_name': 'Josh',\n  'form': '0.0',\n  'in_dreamteam': False,\n  'news': '',\n  'news_added': None,\n  'news_return': None,\n  'news_updated': None,\n  'points_per_game': '0.0',\n  'second_name': 'Brownhill',\n  'squad_number': None,\n  'status': 'a',\n  'total_points': 0,\n  'web_name': 'Brownhill',\n  'element_type': 3,\n  'team': 5},\n {'id': 618,\n  'assists': 0,\n  'bonus': 0,\n  'bps': 2,\n  'clean_sheets': 1,\n  'creativity': '10.9',\n  'goals_conceded': 0,\n  'goals_scored': 0,\n  'ict_index': '6.4',\n  'influence': '23.4',\n  'minutes': 90,\n  'own_goals': 0,\n  'penalties_missed': 0,\n  'penalties_saved': 0,\n  'red_cards': 0,\n  'saves': 0,\n  'threat': '30.0',\n  'yellow_cards': 1,\n  'added': '2020-01-31T12:02:23.971356Z',\n  'chance_of_playing_next_round': None,\n  'chance_of_playing_this_round': None,\n  'code': 141746,\n  'draft_rank': 21,\n  'dreamteam_count': 0,\n  'ep_next': None,\n  'ep_this': None,\n  'event_points': 0,\n  'first_name': 'Bruno Miguel',\n  'form': '1.0',\n  'in_dreamteam': False,\n  'news': '',\n  'news_added': None,\n  'news_return': None,\n  'news_updated': None,\n  'points_per_game': '2.0',\n  'second_name': 'Borges Fernandes',\n  'squad_number': None,\n  'status': 'a',\n  'total_points': 2,\n  'web_name': 'Fernandes',\n  'element_type': 3,\n  'team': 12},\n {'id': 619,\n  'assists': 0,\n  'bonus': 0,\n  'bps': 16,\n  'clean_sheets': 1,\n  'creativity': '3.4',\n  'goals_conceded': 1,\n  'goals_scored': 0,\n  'ict_index': '3.1',\n  'influence': '16.6',\n  'minutes': 127,\n  'own_goals': 0,\n  'penalties_missed': 0,\n  'penalties_saved': 0,\n  'red_cards': 0,\n  'saves': 0,\n  'threat': '10.0',\n  'yellow_cards': 0,\n  'added': '2020-01-31T12:02:25.006377Z',\n  'chance_of_playing_next_round': None,\n  'chance_of_playing_this_round': None,\n  'code': 207189,\n  'draft_rank': 245,\n  'dreamteam_count': 0,\n  'ep_next': None,\n  'ep_this': None,\n  'event_points': 2,\n  'first_name': 'Sander',\n  'form': '2.5',\n  'in_dreamteam': False,\n  'news': '',\n  'news_added': None,\n  'news_return': None,\n  'news_updated': None,\n  'points_per_game': '2.5',\n  'second_name': 'Berge',\n  'squad_number': None,\n  'status': 'a',\n  'total_points': 5,\n  'web_name': 'Berge',\n  'element_type': 3,\n  'team': 15},\n {'id': 620,\n  'assists': 0,\n  'bonus': 0,\n  'bps': 7,\n  'clean_sheets': 0,\n  'creativity': '15.4',\n  'goals_conceded': 0,\n  'goals_scored': 0,\n  'ict_index': '4.0',\n  'influence': '6.4',\n  'minutes': 26,\n  'own_goals': 0,\n  'penalties_missed': 0,\n  'penalties_saved': 0,\n  'red_cards': 0,\n  'saves': 0,\n  'threat': '18.0',\n  'yellow_cards': 0,\n  'added': '2020-01-31T12:02:26.489165Z',\n  'chance_of_playing_next_round': None,\n  'chance_of_playing_this_round': None,\n  'code': 200600,\n  'draft_rank': 91,\n  'dreamteam_count': 0,\n  'ep_next': None,\n  'ep_this': None,\n  'event_points': 1,\n  'first_name': 'Daniel',\n  'form': '1.0',\n  'in_dreamteam': False,\n  'news': '',\n  'news_added': None,\n  'news_return': None,\n  'news_updated': None,\n  'points_per_game': '1.0',\n  'second_name': 'Castelo Podence',\n  'squad_number': None,\n  'status': 'a',\n  'total_points': 2,\n  'web_name': 'Podence',\n  'element_type': 3,\n  'team': 20},\n {'id': 621,\n  'assists': 0,\n  'bonus': 0,\n  'bps': 0,\n  'clean_sheets': 0,\n  'creativity': '0.0',\n  'goals_conceded': 0,\n  'goals_scored': 0,\n  'ict_index': '0.0',\n  'influence': '0.0',\n  'minutes': 0,\n  'own_goals': 0,\n  'penalties_missed': 0,\n  'penalties_saved': 0,\n  'red_cards': 0,\n  'saves': 0,\n  'threat': '0.0',\n  'yellow_cards': 0,\n  'added': '2020-01-31T22:56:42.186790Z',\n  'chance_of_playing_next_round': None,\n  'chance_of_playing_this_round': None,\n  'code': 147612,\n  'draft_rank': 248,\n  'dreamteam_count': 0,\n  'ep_next': None,\n  'ep_this': None,\n  'event_points': 0,\n  'first_name': 'Richairo',\n  'form': '0.0',\n  'in_dreamteam': False,\n  'news': '',\n  'news_added': None,\n  'news_return': None,\n  'news_updated': None,\n  'points_per_game': '0.0',\n  'second_name': 'Zivkovic',\n  'squad_number': None,\n  'status': 'a',\n  'total_points': 0,\n  'web_name': 'Zivkovic',\n  'element_type': 4,\n  'team': 15},\n {'id': 622,\n  'assists': 0,\n  'bonus': 0,\n  'bps': 2,\n  'clean_sheets': 0,\n  'creativity': '0.0',\n  'goals_conceded': 1,\n  'goals_scored': 0,\n  'ict_index': '0.0',\n  'influence': '0.0',\n  'minutes': 7,\n  'own_goals': 0,\n  'penalties_missed': 0,\n  'penalties_saved': 0,\n  'red_cards': 0,\n  'saves': 0,\n  'threat': '0.0',\n  'yellow_cards': 0,\n  'added': '2020-02-03T14:08:06.390935Z',\n  'chance_of_playing_next_round': None,\n  'chance_of_playing_this_round': None,\n  'code': 83091,\n  'draft_rank': 93,\n  'dreamteam_count': 0,\n  'ep_next': None,\n  'ep_this': None,\n  'event_points': 1,\n  'first_name': 'Borja',\n  'form': '1.0',\n  'in_dreamteam': False,\n  'news': '',\n  'news_added': None,\n  'news_return': None,\n  'news_updated': None,\n  'points_per_game': '1.0',\n  'second_name': 'González Tomás',\n  'squad_number': None,\n  'status': 'a',\n  'total_points': 1,\n  'web_name': 'Bastón',\n  'element_type': 4,\n  'team': 2},\n {'id': 623,\n  'assists': 0,\n  'bonus': 0,\n  'bps': 0,\n  'clean_sheets': 0,\n  'creativity': '0.0',\n  'goals_conceded': 0,\n  'goals_scored': 0,\n  'ict_index': '0.0',\n  'influence': '0.0',\n  'minutes': 0,\n  'own_goals': 0,\n  'penalties_missed': 0,\n  'penalties_saved': 0,\n  'red_cards': 0,\n  'saves': 0,\n  'threat': '0.0',\n  'yellow_cards': 0,\n  'added': '2020-02-03T14:08:08.171977Z',\n  'chance_of_playing_next_round': None,\n  'chance_of_playing_this_round': None,\n  'code': 58498,\n  'draft_rank': 53,\n  'dreamteam_count': 0,\n  'ep_next': None,\n  'ep_this': None,\n  'event_points': 0,\n  'first_name': 'Odion',\n  'form': '0.0',\n  'in_dreamteam': False,\n  'news': '',\n  'news_added': None,\n  'news_return': None,\n  'news_updated': None,\n  'points_per_game': '0.0',\n  'second_name': 'Ighalo',\n  'squad_number': None,\n  'status': 'a',\n  'total_points': 0,\n  'web_name': 'Ighalo',\n  'element_type': 4,\n  'team': 12},\n {'id': 624,\n  'assists': 0,\n  'bonus': 0,\n  'bps': 0,\n  'clean_sheets': 0,\n  'creativity': '0.0',\n  'goals_conceded': 0,\n  'goals_scored': 0,\n  'ict_index': '0.0',\n  'influence': '0.0',\n  'minutes': 0,\n  'own_goals': 0,\n  'penalties_missed': 0,\n  'penalties_saved': 0,\n  'red_cards': 0,\n  'saves': 0,\n  'threat': '0.0',\n  'yellow_cards': 0,\n  'added': '2020-02-03T14:08:08.999092Z',\n  'chance_of_playing_next_round': None,\n  'chance_of_playing_this_round': None,\n  'code': 222786,\n  'draft_rank': 326,\n  'dreamteam_count': 0,\n  'ep_next': None,\n  'ep_this': None,\n  'event_points': 0,\n  'first_name': 'Panagiotis',\n  'form': '0.0',\n  'in_dreamteam': False,\n  'news': '',\n  'news_added': None,\n  'news_return': None,\n  'news_updated': None,\n  'points_per_game': '0.0',\n  'second_name': 'Retsos',\n  'squad_number': None,\n  'status': 'a',\n  'total_points': 0,\n  'web_name': 'Retsos',\n  'element_type': 2,\n  'team': 15},\n {'id': 625,\n  'assists': 0,\n  'bonus': 0,\n  'bps': 0,\n  'clean_sheets': 0,\n  'creativity': '0.0',\n  'goals_conceded': 0,\n  'goals_scored': 0,\n  'ict_index': '0.0',\n  'influence': '0.0',\n  'minutes': 0,\n  'own_goals': 0,\n  'penalties_missed': 0,\n  'penalties_saved': 0,\n  'red_cards': 0,\n  'saves': 0,\n  'threat': '0.0',\n  'yellow_cards': 0,\n  'added': '2020-02-03T14:08:10.599831Z',\n  'chance_of_playing_next_round': None,\n  'chance_of_playing_this_round': None,\n  'code': 178186,\n  'draft_rank': 52,\n  'dreamteam_count': 0,\n  'ep_next': None,\n  'ep_this': None,\n  'event_points': 0,\n  'first_name': 'Jarrod',\n  'form': '0.0',\n  'in_dreamteam': False,\n  'news': '',\n  'news_added': None,\n  'news_return': None,\n  'news_updated': None,\n  'points_per_game': '0.0',\n  'second_name': 'Bowen',\n  'squad_number': None,\n  'status': 'a',\n  'total_points': 0,\n  'web_name': 'Bowen',\n  'element_type': 3,\n  'team': 19}]"
     },
     "execution_count": 99,
     "metadata": {},
     "output_type": "execute_result"
    }
   ],
   "source": [
    "player_info_json['elements']"
   ]
  },
  {
   "cell_type": "code",
   "execution_count": 100,
   "metadata": {},
   "outputs": [
    {
     "name": "stdout",
     "output_type": "stream",
     "text": "0\n100\n200\n300\n400\n500\n600\n700\n800\n900\n1000\n1100\n1200\n1300\n1400\n1500\n1600\n1700\n1800\n1900\n2000\n2100\n2200\n"
    }
   ],
   "source": [
    "player_names = []\n",
    "\n",
    "for i in range(len(all_players_df)):\n",
    "    if i % 100 == 0:\n",
    "        print(len(player_names))\n",
    "    for el in player_info_json['elements']:\n",
    "        if all_players_df['player_id'].iloc[i]  == el['id']:\n",
    "            player_names.append(el['web_name'])"
   ]
  },
  {
   "cell_type": "code",
   "execution_count": 101,
   "metadata": {},
   "outputs": [],
   "source": [
    "all_players_df[\"player_name\"] = player_names"
   ]
  },
  {
   "cell_type": "code",
   "execution_count": 96,
   "metadata": {},
   "outputs": [
    {
     "data": {
      "text/plain": "0"
     },
     "execution_count": 96,
     "metadata": {},
     "output_type": "execute_result"
    }
   ],
   "source": [
    "len(player_names)"
   ]
  },
  {
   "cell_type": "code",
   "execution_count": 104,
   "metadata": {},
   "outputs": [
    {
     "data": {
      "text/html": "<div>\n<style scoped>\n    .dataframe tbody tr th:only-of-type {\n        vertical-align: middle;\n    }\n\n    .dataframe tbody tr th {\n        vertical-align: top;\n    }\n\n    .dataframe thead th {\n        text-align: right;\n    }\n</style>\n<table border=\"1\" class=\"dataframe\">\n  <thead>\n    <tr style=\"text-align: right;\">\n      <th></th>\n      <th>team_id</th>\n      <th>gameweek</th>\n      <th>player_id</th>\n      <th>position</th>\n      <th>subbed</th>\n      <th>round_score</th>\n      <th>player_name</th>\n    </tr>\n  </thead>\n  <tbody>\n    <tr>\n      <td>0</td>\n      <td>333932</td>\n      <td>1</td>\n      <td>149</td>\n      <td>1</td>\n      <td>N/A</td>\n      <td>0</td>\n      <td>Pickford</td>\n    </tr>\n    <tr>\n      <td>1</td>\n      <td>333932</td>\n      <td>1</td>\n      <td>204</td>\n      <td>2</td>\n      <td>N/A</td>\n      <td>0</td>\n      <td>Walker</td>\n    </tr>\n    <tr>\n      <td>2</td>\n      <td>333932</td>\n      <td>1</td>\n      <td>122</td>\n      <td>3</td>\n      <td>Subbed In</td>\n      <td>8</td>\n      <td>Wan-Bissaka</td>\n    </tr>\n    <tr>\n      <td>3</td>\n      <td>333932</td>\n      <td>1</td>\n      <td>334</td>\n      <td>4</td>\n      <td>N/A</td>\n      <td>0</td>\n      <td>Sánchez</td>\n    </tr>\n    <tr>\n      <td>4</td>\n      <td>333932</td>\n      <td>1</td>\n      <td>346</td>\n      <td>5</td>\n      <td>N/A</td>\n      <td>1</td>\n      <td>Lucas Moura</td>\n    </tr>\n    <tr>\n      <td>5</td>\n      <td>333932</td>\n      <td>1</td>\n      <td>267</td>\n      <td>6</td>\n      <td>N/A</td>\n      <td>0</td>\n      <td>Pérez</td>\n    </tr>\n    <tr>\n      <td>6</td>\n      <td>333932</td>\n      <td>1</td>\n      <td>448</td>\n      <td>7</td>\n      <td>N/A</td>\n      <td>3</td>\n      <td>Tielemans</td>\n    </tr>\n    <tr>\n      <td>7</td>\n      <td>333932</td>\n      <td>1</td>\n      <td>134</td>\n      <td>8</td>\n      <td>N/A</td>\n      <td>2</td>\n      <td>Zaha</td>\n    </tr>\n    <tr>\n      <td>8</td>\n      <td>333932</td>\n      <td>1</td>\n      <td>113</td>\n      <td>9</td>\n      <td>Subbed In</td>\n      <td>0</td>\n      <td>Pedro</td>\n    </tr>\n    <tr>\n      <td>9</td>\n      <td>333932</td>\n      <td>1</td>\n      <td>339</td>\n      <td>10</td>\n      <td>N/A</td>\n      <td>0</td>\n      <td>Kane</td>\n    </tr>\n    <tr>\n      <td>10</td>\n      <td>333932</td>\n      <td>1</td>\n      <td>167</td>\n      <td>11</td>\n      <td>N/A</td>\n      <td>0</td>\n      <td>Vardy</td>\n    </tr>\n    <tr>\n      <td>11</td>\n      <td>333932</td>\n      <td>1</td>\n      <td>169</td>\n      <td>12</td>\n      <td>N/A</td>\n      <td>0</td>\n      <td>Schmeichel</td>\n    </tr>\n    <tr>\n      <td>12</td>\n      <td>333932</td>\n      <td>1</td>\n      <td>3</td>\n      <td>13</td>\n      <td>N/A</td>\n      <td>0</td>\n      <td>Kolasinac</td>\n    </tr>\n    <tr>\n      <td>13</td>\n      <td>333932</td>\n      <td>1</td>\n      <td>12</td>\n      <td>14</td>\n      <td>Subbed Out</td>\n      <td>0</td>\n      <td>Lacazette</td>\n    </tr>\n    <tr>\n      <td>14</td>\n      <td>333932</td>\n      <td>1</td>\n      <td>186</td>\n      <td>15</td>\n      <td>Subbed Out</td>\n      <td>0</td>\n      <td>Matip</td>\n    </tr>\n    <tr>\n      <td>0</td>\n      <td>333932</td>\n      <td>2</td>\n      <td>149</td>\n      <td>1</td>\n      <td>N/A</td>\n      <td>0</td>\n      <td>Pickford</td>\n    </tr>\n    <tr>\n      <td>1</td>\n      <td>333932</td>\n      <td>2</td>\n      <td>204</td>\n      <td>2</td>\n      <td>N/A</td>\n      <td>0</td>\n      <td>Walker</td>\n    </tr>\n    <tr>\n      <td>2</td>\n      <td>333932</td>\n      <td>2</td>\n      <td>334</td>\n      <td>3</td>\n      <td>N/A</td>\n      <td>0</td>\n      <td>Sánchez</td>\n    </tr>\n    <tr>\n      <td>3</td>\n      <td>333932</td>\n      <td>2</td>\n      <td>122</td>\n      <td>4</td>\n      <td>N/A</td>\n      <td>1</td>\n      <td>Wan-Bissaka</td>\n    </tr>\n    <tr>\n      <td>4</td>\n      <td>333932</td>\n      <td>2</td>\n      <td>113</td>\n      <td>5</td>\n      <td>N/A</td>\n      <td>1</td>\n      <td>Pedro</td>\n    </tr>\n  </tbody>\n</table>\n</div>",
      "text/plain": "   team_id  gameweek  player_id  position      subbed  round_score  \\\n0   333932         1        149         1         N/A            0   \n1   333932         1        204         2         N/A            0   \n2   333932         1        122         3   Subbed In            8   \n3   333932         1        334         4         N/A            0   \n4   333932         1        346         5         N/A            1   \n5   333932         1        267         6         N/A            0   \n6   333932         1        448         7         N/A            3   \n7   333932         1        134         8         N/A            2   \n8   333932         1        113         9   Subbed In            0   \n9   333932         1        339        10         N/A            0   \n10  333932         1        167        11         N/A            0   \n11  333932         1        169        12         N/A            0   \n12  333932         1          3        13         N/A            0   \n13  333932         1         12        14  Subbed Out            0   \n14  333932         1        186        15  Subbed Out            0   \n0   333932         2        149         1         N/A            0   \n1   333932         2        204         2         N/A            0   \n2   333932         2        334         3         N/A            0   \n3   333932         2        122         4         N/A            1   \n4   333932         2        113         5         N/A            1   \n\n    player_name  \n0      Pickford  \n1        Walker  \n2   Wan-Bissaka  \n3       Sánchez  \n4   Lucas Moura  \n5         Pérez  \n6     Tielemans  \n7          Zaha  \n8         Pedro  \n9          Kane  \n10        Vardy  \n11   Schmeichel  \n12    Kolasinac  \n13    Lacazette  \n14        Matip  \n0      Pickford  \n1        Walker  \n2       Sánchez  \n3   Wan-Bissaka  \n4         Pedro  "
     },
     "execution_count": 104,
     "metadata": {},
     "output_type": "execute_result"
    }
   ],
   "source": [
    "all_players_df.head(20)"
   ]
  },
  {
   "cell_type": "code",
   "execution_count": null,
   "metadata": {},
   "outputs": [],
   "source": [
    "# fantastic the \"fantasy\" and \"draft\" API's have slightly different player id's. perfect. I haven't found the endpoint to get player scores by week with a draft api so I will need another solution "
   ]
  },
  {
   "cell_type": "code",
   "execution_count": 121,
   "metadata": {},
   "outputs": [],
   "source": [
    "draft_player_info = session.get(\"https://draft.premierleague.com/api/bootstrap-static\")\n",
    "draft_info_json = json.loads(draft_player_info.text)\n",
    "fantasy_player_info = session.get(\"https://fantasy.premierleague.com/api/bootstrap-static/\")\n",
    "fantasy_info_json = json.loads(fantasy_player_info.text)"
   ]
  },
  {
   "cell_type": "code",
   "execution_count": 122,
   "metadata": {},
   "outputs": [
    {
     "data": {
      "text/plain": "{'id': 134,\n 'assists': 5,\n 'bonus': 4,\n 'bps': 262,\n 'clean_sheets': 5,\n 'creativity': '427.7',\n 'goals_conceded': 32,\n 'goals_scored': 3,\n 'ict_index': '160.6',\n 'influence': '439.2',\n 'minutes': 2275,\n 'own_goals': 0,\n 'penalties_missed': 0,\n 'penalties_saved': 0,\n 'red_cards': 0,\n 'saves': 0,\n 'threat': '737.0',\n 'yellow_cards': 3,\n 'added': '2019-06-20T16:47:59.990498Z',\n 'chance_of_playing_next_round': 100,\n 'chance_of_playing_this_round': 100,\n 'code': 82403,\n 'draft_rank': 40,\n 'dreamteam_count': 0,\n 'ep_next': None,\n 'ep_this': None,\n 'event_points': 5,\n 'first_name': 'Wilfried',\n 'form': '3.5',\n 'in_dreamteam': False,\n 'news': '',\n 'news_added': '2020-01-06T01:00:17.820409Z',\n 'news_return': None,\n 'news_updated': None,\n 'points_per_game': '3.3',\n 'second_name': 'Zaha',\n 'squad_number': None,\n 'status': 'a',\n 'total_points': 87,\n 'web_name': 'Zaha',\n 'element_type': 3,\n 'team': 7}"
     },
     "execution_count": 122,
     "metadata": {},
     "output_type": "execute_result"
    }
   ],
   "source": [
    "draft_info_json['elements'][133]"
   ]
  },
  {
   "cell_type": "code",
   "execution_count": 127,
   "metadata": {},
   "outputs": [
    {
     "data": {
      "text/plain": "'Hart'"
     },
     "execution_count": 127,
     "metadata": {},
     "output_type": "execute_result"
    }
   ],
   "source": [
    "fantasy_info_json['elements'][140]['web_name']"
   ]
  },
  {
   "cell_type": "code",
   "execution_count": 128,
   "metadata": {},
   "outputs": [
    {
     "data": {
      "text/plain": "623"
     },
     "execution_count": 128,
     "metadata": {},
     "output_type": "execute_result"
    }
   ],
   "source": [
    "len(fantasy_info_json['elements'])"
   ]
  },
  {
   "cell_type": "code",
   "execution_count": 129,
   "metadata": {},
   "outputs": [
    {
     "data": {
      "text/plain": "625"
     },
     "execution_count": 129,
     "metadata": {},
     "output_type": "execute_result"
    }
   ],
   "source": [
    "len(draft_info_json['elements'])"
   ]
  },
  {
   "cell_type": "code",
   "execution_count": null,
   "metadata": {},
   "outputs": [],
   "source": []
  },
  {
   "cell_type": "code",
   "execution_count": 130,
   "metadata": {},
   "outputs": [],
   "source": [
    "draft_web_name = []\n",
    "draft_id = []\n",
    "fantasy_id = []\n",
    "fantasy_web_name = []\n",
    "for el in draft_info_json['elements']:\n",
    "    draft_web_name.append(el['web_name'])\n",
    "    draft_id.append(el['id'])\n",
    "\n",
    "for el in fantasy_info_json['elements']:\n",
    "    fantasy_web_name.append(el['web_name'])\n",
    "    fantasy_id.append(el['id'])\n",
    ""
   ]
  },
  {
   "cell_type": "code",
   "execution_count": 131,
   "metadata": {},
   "outputs": [],
   "source": [
    "draft_ids_df = pd.DataFrame()\n",
    "fantasy_ids_df = pd.DataFrame()\n",
    "\n",
    "draft_ids_df['web_name'] = draft_web_name \n",
    "draft_ids_df['id'] = draft_id \n",
    "fantasy_ids_df['web_name'] = fantasy_web_name \n",
    "fantasy_ids_df['id'] = fantasy_id "
   ]
  },
  {
   "cell_type": "code",
   "execution_count": 138,
   "metadata": {},
   "outputs": [
    {
     "data": {
      "text/html": "<div>\n<style scoped>\n    .dataframe tbody tr th:only-of-type {\n        vertical-align: middle;\n    }\n\n    .dataframe tbody tr th {\n        vertical-align: top;\n    }\n\n    .dataframe thead th {\n        text-align: right;\n    }\n</style>\n<table border=\"1\" class=\"dataframe\">\n  <thead>\n    <tr style=\"text-align: right;\">\n      <th></th>\n      <th>web_name</th>\n      <th>id</th>\n    </tr>\n  </thead>\n  <tbody>\n    <tr>\n      <td>121</td>\n      <td>Wan-Bissaka</td>\n      <td>122</td>\n    </tr>\n  </tbody>\n</table>\n</div>",
      "text/plain": "        web_name   id\n121  Wan-Bissaka  122"
     },
     "execution_count": 138,
     "metadata": {},
     "output_type": "execute_result"
    }
   ],
   "source": [
    "draft_ids_df[draft_ids_df['id'] == 122]"
   ]
  },
  {
   "cell_type": "code",
   "execution_count": 137,
   "metadata": {},
   "outputs": [
    {
     "data": {
      "text/html": "<div>\n<style scoped>\n    .dataframe tbody tr th:only-of-type {\n        vertical-align: middle;\n    }\n\n    .dataframe tbody tr th {\n        vertical-align: top;\n    }\n\n    .dataframe thead th {\n        text-align: right;\n    }\n</style>\n<table border=\"1\" class=\"dataframe\">\n  <thead>\n    <tr style=\"text-align: right;\">\n      <th></th>\n      <th>web_name</th>\n      <th>id</th>\n    </tr>\n  </thead>\n  <tbody>\n    <tr>\n      <td>327</td>\n      <td>Wan-Bissaka</td>\n      <td>122</td>\n    </tr>\n  </tbody>\n</table>\n</div>",
      "text/plain": "        web_name   id\n327  Wan-Bissaka  122"
     },
     "execution_count": 137,
     "metadata": {},
     "output_type": "execute_result"
    }
   ],
   "source": [
    "fantasy_ids_df[fantasy_ids_df['id'] == 122]"
   ]
  },
  {
   "cell_type": "code",
   "execution_count": 139,
   "metadata": {},
   "outputs": [
    {
     "name": "stdout",
     "output_type": "stream",
     "text": "<class 'pandas.core.frame.DataFrame'>\nRangeIndex: 623 entries, 0 to 622\nData columns (total 2 columns):\nweb_name    623 non-null object\nid          623 non-null int64\ndtypes: int64(1), object(1)\nmemory usage: 9.9+ KB\n"
    }
   ],
   "source": [
    "fantasy_ids_df.info()"
   ]
  },
  {
   "cell_type": "code",
   "execution_count": 140,
   "metadata": {},
   "outputs": [
    {
     "name": "stdout",
     "output_type": "stream",
     "text": "<class 'pandas.core.frame.DataFrame'>\nRangeIndex: 625 entries, 0 to 624\nData columns (total 2 columns):\nweb_name    625 non-null object\nid          625 non-null int64\ndtypes: int64(1), object(1)\nmemory usage: 9.9+ KB\n"
    }
   ],
   "source": [
    "draft_ids_df.info()"
   ]
  },
  {
   "cell_type": "code",
   "execution_count": 143,
   "metadata": {},
   "outputs": [],
   "source": [
    "difference = []\n",
    "for i in range(len(draft_ids_df)):\n",
    "    if draft_ids_df['id'].iloc[i] not in fantasy_id:\n",
    "        difference.append(draft_ids_df['id'].iloc[i])"
   ]
  },
  {
   "cell_type": "code",
   "execution_count": 144,
   "metadata": {},
   "outputs": [
    {
     "data": {
      "text/plain": "[424, 425, 426]"
     },
     "execution_count": 144,
     "metadata": {},
     "output_type": "execute_result"
    }
   ],
   "source": [
    "difference"
   ]
  },
  {
   "cell_type": "code",
   "execution_count": 149,
   "metadata": {},
   "outputs": [
    {
     "data": {
      "text/html": "<div>\n<style scoped>\n    .dataframe tbody tr th:only-of-type {\n        vertical-align: middle;\n    }\n\n    .dataframe tbody tr th {\n        vertical-align: top;\n    }\n\n    .dataframe thead th {\n        text-align: right;\n    }\n</style>\n<table border=\"1\" class=\"dataframe\">\n  <thead>\n    <tr style=\"text-align: right;\">\n      <th></th>\n      <th>web_name</th>\n      <th>id</th>\n    </tr>\n  </thead>\n  <tbody>\n    <tr>\n      <td>424</td>\n      <td>McGoldrick</td>\n      <td>425</td>\n    </tr>\n  </tbody>\n</table>\n</div>",
      "text/plain": "       web_name   id\n424  McGoldrick  425"
     },
     "execution_count": 149,
     "metadata": {},
     "output_type": "execute_result"
    }
   ],
   "source": [
    "draft_ids_df[draft_ids_df['id'] == 425]"
   ]
  },
  {
   "cell_type": "code",
   "execution_count": 170,
   "metadata": {},
   "outputs": [],
   "source": [
    "difference = {}\n",
    "for i in range(len(draft_ids_df)):\n",
    "    for j in range(len(fantasy_ids_df)):\n",
    "        if draft_ids_df['web_name'].iloc[i] == fantasy_ids_df['web_name'].iloc[j]:\n",
    "            difference[draft_ids_df['web_name'].iloc[i]] = [draft_ids_df['id'].iloc[i]]\n",
    "            difference[draft_ids_df['web_name'].iloc[i]].append(fantasy_ids_df['id'].iloc[j])\n",
    "\n",
    "         "
   ]
  },
  {
   "cell_type": "code",
   "execution_count": 179,
   "metadata": {},
   "outputs": [
    {
     "data": {
      "text/plain": "{'Mustafi': [1, 1],\n 'Bellerín': [2, 2],\n 'Kolasinac': [3, 3],\n 'Maitland-Niles': [4, 4],\n 'Sokratis': [5, 5],\n 'Monreal': [6, 6],\n 'Koscielny': [7, 7],\n 'Mavropanos': [8, 8],\n 'Jenkinson': [9, 9],\n 'Holding': [10, 10],\n 'Aubameyang': [11, 11],\n 'Lacazette': [12, 12],\n 'Nketiah': [13, 13],\n 'Leno': [14, 14],\n 'Özil': [15, 15],\n 'Mkhitaryan': [16, 16],\n 'Iwobi': [17, 17],\n 'Xhaka': [18, 18],\n 'Torreira': [19, 19],\n 'Elneny': [20, 20],\n 'Guendouzi': [21, 21],\n 'El Mohamady': [22, 22],\n 'Chester': [23, 23],\n 'Taylor': [86, 87],\n 'Hause': [25, 25],\n 'Kodjia': [26, 26],\n 'Nyland': [27, 27],\n 'Hourihane': [28, 28],\n 'Grealish': [29, 29],\n 'El Ghazi': [30, 30],\n 'McGinn': [31, 31],\n 'Green': [33, 32],\n 'Bjarnason': [34, 33],\n 'Davis': [35, 34],\n 'Lansbury': [36, 35],\n 'Duffy': [302, 300],\n 'Montoya': [38, 38],\n 'Bernardo': [39, 39],\n 'Balogun': [40, 40],\n 'Bong': [41, 41],\n 'Dunk': [42, 42],\n 'Murray': [43, 44],\n 'Locadia': [44, 45],\n 'Andone': [45, 46],\n 'Ryan': [46, 47],\n 'Button': [47, 48],\n 'Groß': [48, 49],\n 'Jahanbakhsh': [49, 50],\n 'Izquierdo': [50, 51],\n 'Knockaert': [51, 52],\n 'Bissouma': [52, 53],\n 'Pröpper': [53, 54],\n 'March': [54, 55],\n 'Kayal': [55, 56],\n 'Stephens': [309, 308],\n 'Steve Cook': [57, 58],\n 'Aké': [58, 59],\n 'Daniels': [59, 60],\n 'Mepham': [60, 61],\n 'Francis': [61, 62],\n 'Adam Smith': [62, 63],\n 'Kelly': [128, 128],\n 'Rico': [64, 65],\n 'Simpson': [65, 66],\n 'Callum Wilson': [66, 67],\n 'King': [479, 480],\n 'Solanke': [68, 69],\n 'Mousset': [69, 70],\n 'Surridge': [70, 71],\n 'Begovic': [71, 72],\n 'Boruc': [72, 73],\n 'Travers': [73, 74],\n 'Fraser': [74, 75],\n 'Brooks': [75, 76],\n 'Stanislas': [76, 77],\n 'Ibe': [77, 78],\n 'Lewis Cook': [78, 79],\n 'Surman': [79, 80],\n 'Gosling': [80, 81],\n 'Lerma': [81, 82],\n 'Mee': [82, 83],\n 'Tarkowski': [83, 84],\n 'Lowton': [84, 85],\n 'Bardsley': [85, 86],\n 'Long': [316, 315],\n 'Gibson': [609, 610],\n 'Barnes': [173, 172],\n 'Wood': [90, 91],\n 'Vydra': [91, 92],\n 'Pope': [92, 93],\n 'Heaton': [93, 94],\n 'Hart': [94, 95],\n 'Gudmundsson': [95, 96],\n 'McNeil': [96, 97],\n 'Brady': [97, 98],\n 'Defour': [98, 99],\n 'Hendrick': [99, 100],\n 'Westwood': [100, 101],\n 'Cork': [101, 102],\n 'Alonso': [102, 103],\n 'Rüdiger': [103, 104],\n 'Azpilicueta': [104, 105],\n 'David Luiz': [105, 106],\n 'Emerson': [106, 107],\n 'Christensen': [107, 108],\n 'Zappacosta': [108, 109],\n 'Giroud': [109, 110],\n 'Kepa': [110, 111],\n 'Caballero': [111, 112],\n 'Willian': [112, 113],\n 'Pedro': [113, 114],\n 'Loftus-Cheek': [114, 115],\n 'Hudson-Odoi': [115, 116],\n 'Kovacic': [116, 432],\n 'Barkley': [117, 117],\n 'Jorginho': [118, 118],\n 'Kanté': [119, 119],\n 'Drinkwater': [120, 120],\n 'Ampadu': [121, 121],\n 'Wan-Bissaka': [122, 122],\n 'van Aanholt': [123, 123],\n 'Tomkins': [124, 124],\n 'Sakho': [125, 125],\n 'Ward': [171, 170],\n 'Dann': [127, 127],\n 'Benteke': [129, 129],\n 'Ayew': [130, 468],\n 'Wickham': [131, 130],\n 'Guaita': [132, 131],\n 'Hennessey': [133, 132],\n 'Zaha': [134, 133],\n 'Milivojevic': [135, 134],\n 'Townsend': [136, 135],\n 'Meyer': [137, 136],\n 'Schlupp': [138, 137],\n 'McArthur': [139, 138],\n 'Kouyaté': [140, 139],\n 'Dreher': [141, 140],\n 'Digne': [142, 141],\n 'Mina': [143, 142],\n 'Keane': [144, 143],\n 'Coleman': [145, 144],\n 'Baines': [146, 145],\n 'Tosun': [147, 146],\n 'Calvert-Lewin': [148, 147],\n 'Pickford': [149, 148],\n 'Stekelenburg': [150, 149],\n 'Richarlison': [151, 150],\n 'Sigurdsson': [152, 151],\n 'Bernard': [153, 152],\n 'Walcott': [154, 153],\n 'Davies': [330, 329],\n 'Lookman': [156, 155],\n 'Gueye': [157, 156],\n 'McCarthy': [319, 318],\n 'Schneiderlin': [159, 158],\n 'Pereira': [247, 246],\n 'Maguire': [161, 160],\n 'Chilwell': [162, 161],\n 'Evans': [163, 162],\n 'Fuchs': [164, 163],\n 'Söyüncü': [165, 164],\n 'Morgan': [166, 165],\n 'Vardy': [167, 166],\n 'Iheanacho': [168, 167],\n 'Schmeichel': [169, 168],\n 'Jakupovic': [170, 169],\n 'Maddison': [172, 171],\n 'Ghezzal': [174, 173],\n 'Albrighton': [175, 174],\n 'Gray': [365, 364],\n 'Ndidi': [177, 176],\n 'James': [505, 243],\n 'Amartey': [179, 178],\n 'Mendy': [205, 204],\n 'Choudhury': [181, 180],\n 'Robertson': [182, 181],\n 'Alexander-Arnold': [183, 182],\n 'van Dijk': [184, 183],\n 'Gomez': [185, 184],\n 'Matip': [186, 185],\n 'Lovren': [187, 186],\n 'Firmino': [188, 187],\n 'Origi': [189, 188],\n 'Alisson': [190, 189],\n 'Mignolet': [191, 190],\n 'Salah': [192, 191],\n 'Mané': [193, 192],\n 'Chamberlain': [194, 193],\n 'Shaqiri': [195, 194],\n 'Lallana': [196, 195],\n 'Keita': [197, 196],\n 'Fabinho': [198, 197],\n 'Henderson': [555, 471],\n 'Wijnaldum': [200, 199],\n 'Milner': [201, 200],\n 'Camacho': [202, 201],\n 'Laporte': [203, 202],\n 'Walker': [204, 203],\n 'Delph': [206, 205],\n 'Zinchenko': [207, 206],\n 'Stones': [208, 207],\n 'Otamendi': [209, 208],\n 'Danilo': [210, 209],\n 'Agüero': [211, 210],\n 'Jesus': [212, 211],\n 'Ederson': [213, 212],\n 'Bravo': [214, 213],\n 'Sterling': [215, 214],\n 'De Bruyne': [216, 215],\n 'Sané': [217, 216],\n 'Mahrez': [218, 217],\n 'Bernardo Silva': [219, 218],\n 'David Silva': [220, 219],\n 'Foden': [221, 220],\n 'Fernandinho': [222, 221],\n 'Gündogan': [223, 222],\n 'Smalling': [224, 223],\n 'Young': [225, 224],\n 'Lindelöf': [226, 225],\n 'Shaw': [227, 226],\n 'Rojo': [228, 227],\n 'Bailly': [229, 228],\n 'Dalot': [230, 229],\n 'Darmian': [231, 230],\n 'Jones': [571, 231],\n 'Lukaku': [233, 232],\n 'Rashford': [234, 233],\n 'Greenwood': [235, 234],\n 'de Gea': [236, 235],\n 'Romero': [237, 236],\n 'Grant': [238, 237],\n 'Pogba': [239, 238],\n 'Martial': [240, 239],\n 'Sánchez': [334, 333],\n 'Lingard': [242, 241],\n 'Mata': [243, 242],\n 'Fred': [245, 244],\n 'Gomes': [512, 513],\n 'Matic': [248, 247],\n 'McTominay': [249, 248],\n 'Chong': [250, 249],\n 'Garner': [251, 250],\n 'Ritchie': [252, 251],\n 'Schär': [253, 252],\n 'Yedlin': [254, 253],\n 'Fernández': [255, 254],\n 'Dummett': [256, 255],\n 'Manquillo': [257, 256],\n 'Lejeune': [258, 257],\n 'Lascelles': [259, 258],\n 'Clark': [260, 259],\n 'Muto': [262, 260],\n 'Joselu': [263, 261],\n 'Dubravka': [264, 262],\n 'Darlow': [265, 263],\n 'Woodman': [266, 264],\n 'Pérez': [267, 265],\n 'Almirón': [268, 266],\n 'Atsu': [269, 267],\n 'Ki Sung-yueng': [270, 268],\n 'Shelvey': [271, 269],\n 'Longstaff': [272, 270],\n 'Hayden': [273, 271],\n 'Klose': [274, 272],\n 'Godfrey': [275, 273],\n 'Aarons': [498, 274],\n 'Zimmermann': [277, 275],\n 'Lewis': [547, 548],\n 'Hanley': [279, 277],\n 'Pukki': [280, 278],\n 'Srbeny': [281, 279],\n 'Krul': [282, 280],\n 'McGovern': [283, 281],\n 'Vrancic': [284, 282],\n 'Buendía': [285, 283],\n 'Hernández': [286, 284],\n 'Stiepermann': [287, 285],\n 'McLean': [288, 286],\n 'Cantwell': [289, 287],\n 'Leitner': [290, 288],\n 'Tettey': [291, 289],\n 'Trybull': [292, 290],\n 'Stevens': [293, 291],\n 'Freeman': [441, 441],\n \"O'Connell\": [295, 293],\n 'Baldock': [296, 294],\n 'Egan': [297, 295],\n 'Stearman': [298, 296],\n 'Lundstram': [299, 297],\n 'Sharp': [300, 298],\n 'Eastwood': [301, 299],\n 'Fleck': [303, 301],\n 'Norwood': [304, 302],\n 'Vestergaard': [305, 304],\n 'Bertrand': [306, 305],\n 'Valery': [307, 306],\n 'Bednarek': [308, 307],\n 'Targett': [310, 309],\n 'Yoshida': [311, 310],\n 'Ramsay': [312, 311],\n 'Austin': [557, 558],\n 'Ings': [314, 313],\n 'Obafemi': [315, 314],\n 'Gallagher': [317, 316],\n 'Forster': [318, 317],\n 'Gunn': [320, 319],\n 'Redmond': [321, 320],\n 'Ward-Prowse': [322, 321],\n 'Elyounoussi': [323, 322],\n 'Armstrong': [324, 323],\n 'Lemina': [325, 324],\n 'Højbjerg': [326, 325],\n 'Johnson': [385, 384],\n 'Slattery': [328, 327],\n 'Oriol Romeu': [329, 328],\n 'Vertonghen': [331, 330],\n 'Alderweireld': [332, 331],\n 'Rose': [333, 332],\n 'Trippier': [335, 334],\n 'Foyth': [336, 335],\n 'Aurier': [337, 336],\n 'Walker-Peters': [338, 337],\n 'Kane': [339, 338],\n 'Janssen': [340, 339],\n 'Lloris': [341, 340],\n 'Gazzaniga': [342, 341],\n 'Son': [343, 342],\n 'Eriksen': [344, 343],\n 'Alli': [345, 344],\n 'Lucas Moura': [346, 345],\n 'Lamela': [347, 346],\n 'Winks': [348, 347],\n 'Wanyama': [349, 348],\n 'Sissoko': [350, 349],\n 'Dier': [351, 350],\n 'Amos': [352, 351],\n 'Skipp': [353, 352],\n 'Holebas': [354, 353],\n 'Kabasele': [355, 354],\n 'Masina': [356, 355],\n 'Mariappa': [357, 356],\n 'Kiko Femenía': [358, 357],\n 'Cathcart': [359, 358],\n 'Janmaat': [360, 359],\n 'Navarro': [361, 360],\n 'Prödl': [362, 361],\n 'Deeney': [363, 362],\n 'Deulofeu': [364, 363],\n 'Success': [366, 365],\n 'Foster': [367, 366],\n 'Dahlberg': [368, 367],\n 'Doucouré': [369, 368],\n 'Pereyra': [370, 369],\n 'Hughes': [371, 370],\n 'Cleverley': [372, 371],\n 'Sema': [373, 372],\n 'Capoue': [374, 373],\n 'Chalobah': [375, 374],\n 'Quina': [376, 375],\n 'Cresswell': [377, 376],\n 'Ogbonna': [378, 377],\n 'Masuaku': [379, 378],\n 'Zabaleta': [380, 379],\n 'Fredericks': [381, 380],\n 'Diop': [382, 381],\n 'Balbuena': [383, 382],\n 'Reid': [384, 383],\n 'Arnautovic': [386, 385],\n 'Chicharito': [387, 386],\n 'Xande Silva': [388, 387],\n 'Fabianski': [389, 388],\n 'Antonio': [390, 389],\n 'Felipe Anderson': [391, 390],\n 'Lanzini': [392, 391],\n 'Yarmolenko': [393, 392],\n 'Snodgrass': [394, 393],\n 'Wilshere': [395, 394],\n 'Rice': [396, 395],\n 'Noble': [397, 396],\n 'Carlos Sánchez': [398, 397],\n 'Diangana': [399, 398],\n 'Obiang': [400, 400],\n 'Doherty': [401, 401],\n 'Jonny': [402, 402],\n 'Coady': [403, 403],\n 'Bennett': [404, 404],\n 'Boly': [405, 405],\n 'Vinagre': [406, 406],\n 'Saïss': [407, 407],\n 'Kilman': [408, 408],\n 'Jiménez': [409, 409],\n 'Jota': [421, 410],\n 'Patrício': [411, 411],\n 'Ruddy': [412, 412],\n 'Norris': [413, 413],\n 'Neves': [414, 414],\n 'Moutinho': [415, 415],\n 'Gibbs-White': [416, 416],\n 'Traoré': [417, 417],\n 'Costa': [418, 418],\n 'Cavaleiro': [419, 419],\n 'Dendoncker': [420, 420],\n 'Clarke': [546, 547],\n 'Trossard': [423, 421],\n 'André Gomes': [424, 422],\n 'McGoldrick': [425, 303],\n 'Basham': [426, 423],\n 'Fornals': [427, 399],\n 'Martínez': [428, 427],\n 'Wesley': [429, 428],\n 'Steer': [430, 429],\n 'Lennon': [431, 430],\n 'Pulisic': [432, 431],\n 'Justin': [433, 433],\n 'Drmic': [434, 434],\n 'Roberts': [435, 435],\n 'Moore': [436, 436],\n 'Adams': [437, 437],\n 'Djenepo': [438, 438],\n 'Dawson': [439, 439],\n 'Angeliño': [440, 440],\n 'Ndombele': [442, 442],\n 'Rodrigo': [443, 443],\n 'Jagielka': [444, 444],\n 'Mings': [445, 445],\n 'Stacey': [446, 446],\n 'Pieters': [447, 447],\n 'Tielemans': [448, 448],\n 'Fahrmann': [449, 449],\n 'Roberto': [450, 450],\n 'Rodriguez': [451, 451],\n 'Konsa': [452, 452],\n 'Callum Robinson': [453, 453],\n 'Byram': [454, 454],\n 'Engels': [455, 455],\n 'Morrison': [456, 456],\n 'Haller': [457, 457],\n 'Guilbert': [458, 458],\n 'Zouma': [459, 459],\n 'Abraham': [460, 460],\n 'Batshuayi': [461, 461],\n 'Kenedy': [462, 462],\n 'Mount': [463, 463],\n 'Brewster': [464, 464],\n 'Trézéguet': [465, 465],\n 'Joelinton': [466, 466],\n 'Chambers': [467, 467],\n 'Ceballos': [468, 469],\n 'Douglas Luiz': [469, 470],\n 'Osborn': [471, 472],\n 'Vallejo': [472, 473],\n 'Kalinic': [473, 474],\n 'Billing': [474, 476],\n 'Burn': [475, 475],\n 'Holgate': [477, 478],\n 'Lössl': [478, 479],\n 'Tuanzebe': [480, 481],\n 'Colback': [481, 482],\n 'Murphy': [482, 483],\n 'Heise': [483, 484],\n 'Hoedt': [484, 485],\n 'Cédric': [485, 486],\n 'Cutrone': [486, 487],\n 'Pépé': [487, 488],\n 'Nelson': [488, 489],\n 'Willock': [489, 490],\n 'Nakamba': [490, 491],\n 'Danjuma': [491, 492],\n 'Ramsdale': [492, 494],\n 'Webster': [493, 493],\n 'Peacock-Farrell': [494, 495],\n 'Kean': [495, 496],\n 'Gbamin': [496, 497],\n 'Willems': [497, 498],\n 'Saint-Maximin': [499, 500],\n 'McBurnie': [500, 501],\n 'Maupay': [501, 502],\n 'Cahill': [502, 503],\n 'Martinelli': [503, 504],\n 'Harry Wilson': [504, 505],\n 'Amadou': [506, 507],\n 'Boufal': [507, 508],\n 'Parrott': [508, 509],\n 'Camarasa': [509, 510],\n 'Sidibé': [510, 511],\n 'Welbeck': [511, 512],\n 'Ajeti': [513, 514],\n 'Tierney': [514, 515],\n 'Mooy': [515, 516],\n 'Praet': [516, 517],\n 'Cancelo': [517, 518],\n 'Krafth': [518, 519],\n 'Carroll': [519, 520],\n 'Verrips': [520, 521],\n 'Bešić': [521, 522],\n 'Lo Celso': [522, 523],\n 'Sessegnon': [523, 524],\n 'Sarr': [524, 525],\n 'Adrián': [525, 526],\n 'Nkoudou': [526, 527],\n 'Tomori': [527, 529],\n 'Neto': [528, 528],\n 'Lonergan': [529, 530],\n 'Kelleher': [530, 531],\n 'Danso': [531, 532],\n 'Connolly': [532, 534],\n 'Gilmour': [533, 533],\n \"N'Lundulu\": [534, 535],\n 'Baluta': [535, 536],\n 'Alzate': [536, 537],\n 'Riedewald': [537, 539],\n 'Matthew Longstaff': [538, 540],\n 'Idah': [539, 538],\n 'Saka': [540, 541],\n 'Foulquier': [541, 542],\n 'Garcia': [542, 544],\n 'Whiteman': [543, 543],\n 'Schelotto': [544, 546],\n 'Guehi': [545, 545],\n 'Williams': [573, 549],\n 'Elliott': [549, 550],\n 'Mair': [550, 551],\n 'Famewo': [551, 552],\n 'Martin': [552, 553],\n 'Gayle': [553, 554],\n 'Vorm': [554, 555],\n 'Baningime': [556, 557],\n 'Ashley-Seal': [558, 559],\n 'Perry': [559, 560],\n 'Gordon': [560, 561],\n 'Carson': [561, 562],\n 'Dele-Bashiru': [562, 563],\n 'Saydee': [563, 564],\n 'Kilkenny': [564, 565],\n 'Otasowie': [565, 566],\n 'Cundle': [566, 567],\n 'Holland': [567, 568],\n 'Goodridge': [568, 571],\n 'Driscoll-Glennon': [569, 572],\n 'Niasse': [570, 570],\n 'Dobre': [572, 574],\n 'Elliot': [574, 573],\n 'Smith Rowe': [575, 576],\n 'Cuco Martina': [576, 577],\n 'Woods': [577, 578],\n 'Mitchell': [578, 579],\n 'Pierrick': [579, 580],\n 'Daly': [580, 581],\n 'Tanganga': [581, 583],\n 'Anang': [582, 582],\n 'Smallbone': [583, 584],\n 'John-Jules': [584, 585],\n 'Lamptey': [585, 586],\n 'Buur': [586, 587],\n 'Kirby': [587, 588],\n 'Phillips': [588, 589],\n 'Minamino': [589, 590],\n 'Rodwell': [590, 591],\n 'João Pedro': [591, 592],\n 'Ngakia': [592, 593],\n 'Cardoso': [593, 594],\n 'Rosa': [594, 595],\n 'Koiki': [595, 596],\n 'Benkovic': [596, 597],\n 'Allan': [597, 598],\n 'Watts': [598, 599],\n 'Vassilev': [599, 600],\n 'Reina': [600, 603],\n 'Duda': [601, 601],\n 'Rupp': [602, 602],\n 'Fernandes': [618, 605],\n 'Pussetto': [604, 604],\n 'Randolph': [605, 606],\n 'Giles': [606, 607],\n 'McGregor': [607, 608],\n 'Jordao': [608, 609],\n 'Bentaleb': [610, 612],\n 'Jack Robinson': [611, 611],\n 'Samatta': [612, 613],\n 'Lazaro': [613, 614],\n 'Marí': [614, 617],\n 'Bergwijn': [615, 615],\n 'Soucek': [616, 616],\n 'Brownhill': [617, 620],\n 'Berge': [619, 621],\n 'Podence': [620, 619],\n 'Zivkovic': [621, 622],\n 'Bastón': [622, 623],\n 'Ighalo': [623, 624],\n 'Retsos': [624, 625],\n 'Bowen': [625, 626]}"
     },
     "execution_count": 179,
     "metadata": {},
     "output_type": "execute_result"
    }
   ],
   "source": [
    "difference"
   ]
  },
  {
   "cell_type": "code",
   "execution_count": 188,
   "metadata": {},
   "outputs": [],
   "source": [
    "for key,value in difference.items():\n",
    "    if len(value) < 2:\n",
    "        print(key)"
   ]
  },
  {
   "cell_type": "code",
   "execution_count": 166,
   "metadata": {},
   "outputs": [
    {
     "data": {
      "text/plain": "False"
     },
     "execution_count": 166,
     "metadata": {},
     "output_type": "execute_result"
    }
   ],
   "source": [
    "difference['test'][0] == difference['test'][1]"
   ]
  },
  {
   "cell_type": "code",
   "execution_count": null,
   "metadata": {},
   "outputs": [],
   "source": [
    "\n",
    "for name in web_name:\n",
    "    for item in draft_info_json['elements']:\n",
    "        if web_name == item['web_name']:\n",
    "            item['id']"
   ]
  },
  {
   "cell_type": "code",
   "execution_count": null,
   "metadata": {},
   "outputs": [],
   "source": [
    "# strictly I should really be keeping a table with all player scores, player information and team info as three separate tables in my database. To make my life easier later though I will combine all this into one table for my db. Hopefully I don't end up regretting this\n"
   ]
  }
 ]
}